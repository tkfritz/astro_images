{
 "cells": [
  {
   "cell_type": "markdown",
   "id": "bf439999",
   "metadata": {},
   "source": [
    "Neural network to get galaxy type, Here only two types. "
   ]
  },
  {
   "cell_type": "code",
   "execution_count": 1,
   "id": "3dbc7960",
   "metadata": {},
   "outputs": [],
   "source": [
    "#standard libraries\n",
    "import pandas as pd\n",
    "import numpy as np\n",
    "from matplotlib import pyplot as plt\n",
    "from matplotlib.pyplot import figure\n",
    "import matplotlib.cm as cm\n",
    "import sys\n",
    "import os\n",
    "#wcs is incompabible with newest numpy thus below not used \n",
    "#from astropy import wcs\n",
    "#to access astronomical images in fits format\n",
    "from astropy.io import fits\n",
    "#torch functions\n",
    "import torch\n",
    "from torch import nn\n",
    "import torch.nn.functional as F\n",
    "import torch.optim as optim\n",
    "from torch.utils.data import Dataset, DataLoader\n",
    "from tqdm.notebook import tqdm\n",
    "#sklearn helper functions\n",
    "from sklearn.model_selection import train_test_split\n",
    "from sklearn.metrics import confusion_matrix, accuracy_score, precision_score,f1_score, log_loss\n",
    "#xgboost for comparison\n",
    "from xgboost import XGBClassifier\n",
    "#logistic regression for comparison \n",
    "from sklearn.linear_model import LogisticRegression"
   ]
  },
  {
   "cell_type": "markdown",
   "id": "63ef3837",
   "metadata": {},
   "source": [
    "Getting the data. It are currently four fields. "
   ]
  },
  {
   "cell_type": "code",
   "execution_count": 2,
   "id": "b9700cb6",
   "metadata": {},
   "outputs": [
    {
     "name": "stdout",
     "output_type": "stream",
     "text": [
      "(43, 43, 1, 168)\n",
      "Index(['Unnamed: 0', 'index', 'objid', 'ra', 'dec', 'psfMag_u', 'psfMag_g',\n",
      "       'psfMag_r', 'psfMag_i', 'psfMag_z', 'probPSF_u', 'probPSF_g',\n",
      "       'probPSF_r', 'probPSF_i', 'probPSF_z', 'modelMag_u', 'modelMag_g',\n",
      "       'modelMag_r', 'modelMag_i', 'modelMag_z', 'petroRad_g', 'petroRad_r',\n",
      "       'petroRad_i', 'run', 'rerun', 'camcol', 'field', 'type', 'specobjid',\n",
      "       'class', 'subclass', 'redshift', 'plate', 'mjd', 'fiberid', 'nvote',\n",
      "       'p_el', 'p_cw', 'p_acw', 'p_edge', 'p_dk', 'p_mg', 'p_el_debiased',\n",
      "       'p_cs_debiased', 'spiral', 'elliptical', 'uncertain', 'image',\n",
      "       'pixel_x', 'pixel_y', 'off_image'],\n",
      "      dtype='object')\n"
     ]
    }
   ],
   "source": [
    "cutouts1=np.load(\"stripe82_1_ell_spiral_im.npy\")\n",
    "cutouts2=np.load(\"stripe82_2_ell_spiral_im.npy\")\n",
    "cutouts3=np.load(\"stripe82_3_ell_spiral_im.npy\")\n",
    "cutouts4=np.load(\"stripe82_4_ell_spiral_im.npy\")\n",
    "print(cutouts1.shape)\n",
    "df1=pd.read_csv(\"stripe82_1_ell_spiral_table.csv\")\n",
    "df2=pd.read_csv(\"stripe82_2_ell_spiral_table.csv\")\n",
    "df3=pd.read_csv(\"stripe82_3_ell_spiral_table.csv\")\n",
    "df4=pd.read_csv(\"stripe82_4_ell_spiral_table.csv\")\n",
    "print(df1.columns)"
   ]
  },
  {
   "cell_type": "markdown",
   "id": "fd3783f0",
   "metadata": {},
   "source": [
    "Now I built the function to combine the four numpy arrays."
   ]
  },
  {
   "cell_type": "code",
   "execution_count": 3,
   "id": "4c91ccb0",
   "metadata": {},
   "outputs": [],
   "source": [
    "#combines numpy arrays of 4d shape, same shape first 3, last variable\n",
    "def comb_nump_4d(input_list):\n",
    "    l=0\n",
    "    for i in range(len(input_list)):\n",
    "        l+=input_list[i].shape[3]\n",
    "    combined=np.zeros((input_list[0].shape[0],input_list[0].shape[1],input_list[0].shape[2],l))\n",
    "    l=0\n",
    "    for i in range(len(input_list)):\n",
    "        combined[:,:,:,l:l+input_list[i].shape[3]]=input_list[i]\n",
    "        l+=input_list[i].shape[3]  \n",
    "    return combined"
   ]
  },
  {
   "cell_type": "markdown",
   "id": "844f8f83",
   "metadata": {},
   "source": [
    "Combining the images. "
   ]
  },
  {
   "cell_type": "code",
   "execution_count": 4,
   "id": "f73a3ddc",
   "metadata": {},
   "outputs": [],
   "source": [
    "cutout_lists=[cutouts1,cutouts2,cutouts3,cutouts4]\n",
    "cutouts=comb_nump_4d(cutout_lists)"
   ]
  },
  {
   "cell_type": "markdown",
   "id": "2ac6967d",
   "metadata": {},
   "source": [
    "Now combining the data frames with the classfications and more meta data. "
   ]
  },
  {
   "cell_type": "code",
   "execution_count": 5,
   "id": "084280f5",
   "metadata": {},
   "outputs": [
    {
     "name": "stdout",
     "output_type": "stream",
     "text": [
      "   Unnamed: 0  index                objid         ra       dec  psfMag_u  \\\n",
      "0           0      1  1237663237128388701  50.130513 -1.228488  22.01211   \n",
      "1           1    123  1237666299481817102  50.160628 -1.035026  19.01124   \n",
      "2           2    140  1237663237128388949  50.167304 -1.241885  22.36878   \n",
      "3           3    458  1237666300018557091  50.006004 -0.495751  21.98376   \n",
      "4           4    110  1237663238739067202  50.387910  0.198944  21.86834   \n",
      "\n",
      "   psfMag_g  psfMag_r  psfMag_i  psfMag_z  ...   p_mg  p_el_debiased  \\\n",
      "0  20.06700  18.86854  18.35853  17.93478  ...  0.032          0.935   \n",
      "1  17.46116  16.85288  16.54355  16.19304  ...  0.000          0.971   \n",
      "2  20.17246  18.94735  18.44240  17.99196  ...  0.000          0.964   \n",
      "3  19.93291  18.73658  18.31895  17.89719  ...  0.000          0.893   \n",
      "4  19.78908  18.63620  18.16101  17.63892  ...  0.018          0.755   \n",
      "\n",
      "   p_cs_debiased  spiral  elliptical  uncertain  image      pixel_x  \\\n",
      "0          0.000       0           1          0      5  3362.991349   \n",
      "1          0.029       0           1          0      5  3089.338382   \n",
      "2          0.036       0           1          0      5  3028.607250   \n",
      "3          0.000       0           1          0      6  4495.057900   \n",
      "4          0.168       0           1          0      7  1023.284682   \n",
      "\n",
      "       pixel_y  off_image  \n",
      "0   199.840666      False  \n",
      "1  1958.577472      False  \n",
      "2    78.041829      False  \n",
      "3  2315.626917      False  \n",
      "4  4085.577633      False  \n",
      "\n",
      "[5 rows x 51 columns]    Unnamed: 0  index                objid         ra       dec  psfMag_u  \\\n",
      "0           0      1  1237663237128388701  50.130513 -1.228488  22.01211   \n",
      "1           1    123  1237666299481817102  50.160628 -1.035026  19.01124   \n",
      "2           2    140  1237663237128388949  50.167304 -1.241885  22.36878   \n",
      "3           3    458  1237666300018557091  50.006004 -0.495751  21.98376   \n",
      "4           4    110  1237663238739067202  50.387910  0.198944  21.86834   \n",
      "\n",
      "   psfMag_g  psfMag_r  psfMag_i  psfMag_z  ...   p_mg  p_el_debiased  \\\n",
      "0  20.06700  18.86854  18.35853  17.93478  ...  0.032          0.935   \n",
      "1  17.46116  16.85288  16.54355  16.19304  ...  0.000          0.971   \n",
      "2  20.17246  18.94735  18.44240  17.99196  ...  0.000          0.964   \n",
      "3  19.93291  18.73658  18.31895  17.89719  ...  0.000          0.893   \n",
      "4  19.78908  18.63620  18.16101  17.63892  ...  0.018          0.755   \n",
      "\n",
      "   p_cs_debiased  spiral  elliptical  uncertain  image      pixel_x  \\\n",
      "0          0.000       0           1          0      5  3362.991349   \n",
      "1          0.029       0           1          0      5  3089.338382   \n",
      "2          0.036       0           1          0      5  3028.607250   \n",
      "3          0.000       0           1          0      6  4495.057900   \n",
      "4          0.168       0           1          0      7  1023.284682   \n",
      "\n",
      "       pixel_y  off_image  \n",
      "0   199.840666      False  \n",
      "1  1958.577472      False  \n",
      "2    78.041829      False  \n",
      "3  2315.626917      False  \n",
      "4  4085.577633      False  \n",
      "\n",
      "[5 rows x 51 columns]      Unnamed: 0  index                objid         ra       dec  psfMag_u  \\\n",
      "130         132     62  1237678617437470859  44.819196  0.808289  21.83158   \n",
      "131         133    386  1237678437018632283  44.798261  0.977963  21.35310   \n",
      "132         134    176  1237678617437405309  44.745545  0.792307  20.98310   \n",
      "133         135    102  1237678617437339747  44.556297  0.777128  21.42082   \n",
      "134         136    192  1237678617974210788  44.601434  1.138604  20.16281   \n",
      "\n",
      "     psfMag_g  psfMag_r  psfMag_i  psfMag_z  ...  p_mg  p_el_debiased  \\\n",
      "130  20.10588  18.78611  18.27595  17.91708  ...   0.0          0.913   \n",
      "131  19.27308  18.25705  17.83170  17.34455  ...   0.0          0.838   \n",
      "132  19.07507  17.89066  17.32709  16.82939  ...   0.0          0.082   \n",
      "133  19.90794  19.16694  18.76981  18.22978  ...   0.0          0.110   \n",
      "134  18.77133  18.06879  17.64503  17.17350  ...   0.0          0.906   \n",
      "\n",
      "     p_cs_debiased  spiral  elliptical  uncertain  image      pixel_x  \\\n",
      "130          0.000       0           1          0     29  1648.010218   \n",
      "131          0.000       0           1          0     29  1838.328477   \n",
      "132          0.918       1           0          0     29  2317.493942   \n",
      "133          0.890       1           0          0     29  4037.775643   \n",
      "134          0.000       0           1          0     29  3627.329256   \n",
      "\n",
      "         pixel_y  off_image  \n",
      "130   534.170921      False  \n",
      "131  2076.665012      False  \n",
      "132   388.877702      False  \n",
      "133   250.891034      False  \n",
      "134  3537.034422      False  \n",
      "\n",
      "[5 rows x 51 columns]      Unnamed: 0  index                objid         ra       dec  psfMag_u  \\\n",
      "705         132     62  1237678617437470859  44.819196  0.808289  21.83158   \n",
      "706         133    386  1237678437018632283  44.798261  0.977963  21.35310   \n",
      "707         134    176  1237678617437405309  44.745545  0.792307  20.98310   \n",
      "708         135    102  1237678617437339747  44.556297  0.777128  21.42082   \n",
      "709         136    192  1237678617974210788  44.601434  1.138604  20.16281   \n",
      "\n",
      "     psfMag_g  psfMag_r  psfMag_i  psfMag_z  ...  p_mg  p_el_debiased  \\\n",
      "705  20.10588  18.78611  18.27595  17.91708  ...   0.0          0.913   \n",
      "706  19.27308  18.25705  17.83170  17.34455  ...   0.0          0.838   \n",
      "707  19.07507  17.89066  17.32709  16.82939  ...   0.0          0.082   \n",
      "708  19.90794  19.16694  18.76981  18.22978  ...   0.0          0.110   \n",
      "709  18.77133  18.06879  17.64503  17.17350  ...   0.0          0.906   \n",
      "\n",
      "     p_cs_debiased  spiral  elliptical  uncertain  image      pixel_x  \\\n",
      "705          0.000       0           1          0     29  1648.010218   \n",
      "706          0.000       0           1          0     29  1838.328477   \n",
      "707          0.918       1           0          0     29  2317.493942   \n",
      "708          0.890       1           0          0     29  4037.775643   \n",
      "709          0.000       0           1          0     29  3627.329256   \n",
      "\n",
      "         pixel_y  off_image  \n",
      "705   534.170921      False  \n",
      "706  2076.665012      False  \n",
      "707   388.877702      False  \n",
      "708   250.891034      False  \n",
      "709  3537.034422      False  \n",
      "\n",
      "[5 rows x 51 columns]\n"
     ]
    }
   ],
   "source": [
    "df=pd.concat([df1,df2,df3,df4],ignore_index=True)\n",
    "print(df1.head(),df.head(),df4.tail(),df.tail())"
   ]
  },
  {
   "cell_type": "markdown",
   "id": "cbc59889",
   "metadata": {},
   "source": [
    "Has worked, now looking on classes. "
   ]
  },
  {
   "cell_type": "code",
   "execution_count": 6,
   "id": "7f6ceb5c",
   "metadata": {},
   "outputs": [
    {
     "name": "stdout",
     "output_type": "stream",
     "text": [
      "1    504\n",
      "0    206\n",
      "Name: spiral, dtype: int64\n"
     ]
    }
   ],
   "source": [
    "print(df.spiral.value_counts())"
   ]
  },
  {
   "cell_type": "markdown",
   "id": "5c592ad9",
   "metadata": {},
   "source": [
    "Somewhat inbalanced, clearly more spirals than ellipctical galaxies.\n",
    " \n",
    "Now adding columns to data frame that also other algorithms can work on it. "
   ]
  },
  {
   "cell_type": "code",
   "execution_count": 16,
   "id": "8f964449",
   "metadata": {},
   "outputs": [
    {
     "name": "stdout",
     "output_type": "stream",
     "text": [
      "     Unnamed: 0  index                objid         ra       dec  psfMag_u  \\\n",
      "0             0      1  1237663237128388701  50.130513 -1.228488  22.01211   \n",
      "1             1    123  1237666299481817102  50.160628 -1.035026  19.01124   \n",
      "2             2    140  1237663237128388949  50.167304 -1.241885  22.36878   \n",
      "3             3    458  1237666300018557091  50.006004 -0.495751  21.98376   \n",
      "4             4    110  1237663238739067202  50.387910  0.198944  21.86834   \n",
      "..          ...    ...                  ...        ...       ...       ...   \n",
      "705         132     62  1237678617437470859  44.819196  0.808289  21.83158   \n",
      "706         133    386  1237678437018632283  44.798261  0.977963  21.35310   \n",
      "707         134    176  1237678617437405309  44.745545  0.792307  20.98310   \n",
      "708         135    102  1237678617437339747  44.556297  0.777128  21.42082   \n",
      "709         136    192  1237678617974210788  44.601434  1.138604  20.16281   \n",
      "\n",
      "     psfMag_g  psfMag_r  psfMag_i  psfMag_z  ...       1839       1840  \\\n",
      "0    20.06700  18.86854  18.35853  17.93478  ...   1.665458   2.004834   \n",
      "1    17.46116  16.85288  16.54355  16.19304  ...  14.379109  11.666973   \n",
      "2    20.17246  18.94735  18.44240  17.99196  ...   3.076642   2.076246   \n",
      "3    19.93291  18.73658  18.31895  17.89719  ...   1.048036   1.109835   \n",
      "4    19.78908  18.63620  18.16101  17.63892  ...   1.184487   1.598326   \n",
      "..        ...       ...       ...       ...  ...        ...        ...   \n",
      "705  20.10588  18.78611  18.27595  17.91708  ...   0.699043   1.069243   \n",
      "706  19.27308  18.25705  17.83170  17.34455  ...  -0.386675   0.139837   \n",
      "707  19.07507  17.89066  17.32709  16.82939  ...   1.117962   0.100115   \n",
      "708  19.90794  19.16694  18.76981  18.22978  ...   2.062983   1.647509   \n",
      "709  18.77133  18.06879  17.64503  17.17350  ...   4.179069   3.113553   \n",
      "\n",
      "         1841      1842      1843      1844      1845      1846      1847  \\\n",
      "0    2.611588  2.424317  2.474362  1.353987  1.583795  1.774545  1.050895   \n",
      "1    9.821115  7.404263  5.446650  6.966890  5.452247  4.376808  4.169206   \n",
      "2    2.364242  3.476580  2.535928  3.971950  2.529318  2.240578  3.083265   \n",
      "3    0.297769  0.963585 -0.165940  2.337755  1.023438  0.092747  1.560674   \n",
      "4    0.643092  2.063930  2.313514  2.106585  0.594379  1.208244  0.624576   \n",
      "..        ...       ...       ...       ...       ...       ...       ...   \n",
      "705  0.602571 -0.612239 -0.135579 -0.005087  0.121734 -0.172979 -0.194024   \n",
      "706  0.665088  0.129638  0.784092  0.789823  1.094843  0.093038 -0.007842   \n",
      "707  0.172115  1.393273  0.188749  0.256129  2.296255 -0.270516  1.070823   \n",
      "708  2.503876  3.674383  2.221369  1.475156  1.435824  1.745490  0.328999   \n",
      "709  2.782895  4.796104  3.889357  2.689584  3.352882  3.000019  2.227534   \n",
      "\n",
      "         1848  \n",
      "0    1.528546  \n",
      "1    3.645003  \n",
      "2    2.470761  \n",
      "3    0.497436  \n",
      "4    1.390411  \n",
      "..        ...  \n",
      "705  0.747639  \n",
      "706 -0.310202  \n",
      "707  1.080752  \n",
      "708  0.898232  \n",
      "709  0.958604  \n",
      "\n",
      "[710 rows x 1900 columns]\n"
     ]
    }
   ],
   "source": [
    "x=0\n",
    "for i in range(cutouts.shape[0]):\n",
    "    for j in range(cutouts.shape[1]):\n",
    "        df[x]=cutouts[i,j,0,:]\n",
    "        x+=1\n",
    "print(df)        "
   ]
  },
  {
   "cell_type": "code",
   "execution_count": 17,
   "id": "8612b4f2",
   "metadata": {},
   "outputs": [
    {
     "name": "stdout",
     "output_type": "stream",
     "text": [
      "0 1848\n"
     ]
    }
   ],
   "source": [
    "print(df.columns[51],df.columns[1899])"
   ]
  },
  {
   "cell_type": "markdown",
   "id": "99e5e60e",
   "metadata": {},
   "source": [
    "Now starting with torch spefifics. "
   ]
  },
  {
   "cell_type": "code",
   "execution_count": 12,
   "id": "64f1c534",
   "metadata": {},
   "outputs": [
    {
     "name": "stdout",
     "output_type": "stream",
     "text": [
      "Using cpu device\n"
     ]
    }
   ],
   "source": [
    "#adding cpu\n",
    "device = (\n",
    "    \"cuda\"\n",
    "    if torch.cuda.is_available()\n",
    "    else \"mps\"\n",
    "    if torch.backends.mps.is_available()\n",
    "    else \"cpu\"\n",
    ")\n",
    "print(f\"Using {device} device\")\n",
    "\n"
   ]
  },
  {
   "cell_type": "code",
   "execution_count": 13,
   "id": "9fd05437",
   "metadata": {},
   "outputs": [
    {
     "name": "stdout",
     "output_type": "stream",
     "text": [
      "shape of image train data\n",
      "(426, 1, 43, 43)\n",
      "          0          1          2          3          4          5     \\\n",
      "148  22.857271  23.186132  21.000650  19.900263  21.298677  20.219584   \n",
      "436  -0.241629   0.222883  -0.584716  -0.090759   0.607024   0.222375   \n",
      "567   4.398677  10.239453  22.850275  30.558981  24.070894  14.761135   \n",
      "81   23.234787  23.933195  27.649214  29.974419  33.065456  35.521702   \n",
      "333  17.710485  20.157625  21.387987  22.508749  23.975540  24.432495   \n",
      "..         ...        ...        ...        ...        ...        ...   \n",
      "641   0.259337   1.183528   0.083938   1.361195   1.937820   2.993910   \n",
      "260   0.191901   0.139944   2.059280   2.109981   2.407656   1.952813   \n",
      "305   0.308915   0.633578   0.453025  -0.100460   0.572100   0.671352   \n",
      "601   3.684814   3.025433   3.676483   5.609334   6.701320   8.395753   \n",
      "464   0.538566  -0.295727  -0.999383   0.368576   0.022903  -0.097333   \n",
      "\n",
      "          6          7          8          9     ...       1839       1840  \\\n",
      "148  20.799028  21.979174  21.423071  20.515764  ...  12.117475  12.740733   \n",
      "436  -0.763268  -0.421267   0.335250   0.042560  ...   0.223090   1.299259   \n",
      "567   4.677907   1.387571  -0.113324   0.474370  ...   0.124155   0.513284   \n",
      "81   36.223347  40.757488  42.329639  42.783096  ...  35.248531  34.815754   \n",
      "333  25.701296  27.536432  28.093779  29.488997  ...  29.015259  27.590263   \n",
      "..         ...        ...        ...        ...  ...        ...        ...   \n",
      "641   1.852454   3.372604   2.968318   3.851680  ...   4.433188   2.695431   \n",
      "260   2.087965   2.228985   2.220510   3.374795  ...   1.822334   1.874333   \n",
      "305   1.456654   1.598517   1.135806   0.550165  ...   0.188992   0.018600   \n",
      "601  11.301394  15.059066  16.860886  22.549500  ...  15.892386  13.578343   \n",
      "464   0.232069  -0.723848  -0.360394   1.438287  ...   0.172234  -1.308350   \n",
      "\n",
      "          1841       1842       1843       1844       1845       1846  \\\n",
      "148  11.565319  11.590774  10.957355  10.025468   9.679508   7.726723   \n",
      "436  -0.258937   1.219896  -0.935202  -1.536704  -0.783295   0.106909   \n",
      "567   0.826605  -1.178521   1.260977   0.482886  -1.357374  -0.594985   \n",
      "81   34.172455  33.036587  29.837662  25.898214  22.884583  21.032133   \n",
      "333  26.354269  25.902384  25.239792  22.300825  21.312502  21.272491   \n",
      "..         ...        ...        ...        ...        ...        ...   \n",
      "641   2.638655   1.883507   3.847658   3.190096   1.285491   1.999025   \n",
      "260   1.877211   1.595446   0.929470  -0.486752   0.489258   1.621645   \n",
      "305   0.973846   1.586125   0.149633  -0.434651   0.010377   0.351641   \n",
      "601  10.755397   9.861102   7.003746   5.778953   5.331086   4.100292   \n",
      "464   0.397884  -0.153534  -0.562064   0.162458  -0.633724  -0.162381   \n",
      "\n",
      "          1847       1848  \n",
      "148   6.992190   5.586956  \n",
      "436   0.086262  -0.161240  \n",
      "567   0.582981  -0.777961  \n",
      "81   18.381632  16.758471  \n",
      "333  19.263090  18.911516  \n",
      "..         ...        ...  \n",
      "641   0.240608   2.183105  \n",
      "260  -0.561310   1.147590  \n",
      "305   1.030891   0.457133  \n",
      "601   3.485199   3.980394  \n",
      "464   0.404501  -0.349491  \n",
      "\n",
      "[284 rows x 1849 columns]\n"
     ]
    }
   ],
   "source": [
    "feature_train, feature_test, target_train, target_test,image_train,image_test,df_train,df_test= train_test_split(df.iloc[:,51:1900],df.loc[:,\"spiral\"],cutouts.T,df,train_size=0.60, shuffle=True, random_state=1)\n",
    "print(\"shape of image train data\")\n",
    "print(image_train.shape)\n",
    "print(feature_test)"
   ]
  },
  {
   "cell_type": "code",
   "execution_count": 19,
   "id": "7c110c70",
   "metadata": {},
   "outputs": [],
   "source": [
    "def pred_torch(model,data):\n",
    "    y_pred_list_c = []\n",
    "    with torch.no_grad():\n",
    "        model.eval()\n",
    "        for X_batch, _ in data:\n",
    "            X_batch = X_batch.to(device)\n",
    "            y_test_pred = model(X_batch)\n",
    "            y_pred_list_c.append(y_test_pred.cpu().numpy())\n",
    "    y_pred_list_c = [a.squeeze().tolist() for a in y_pred_list_c]\n",
    "    return y_pred_list_c  "
   ]
  },
  {
   "cell_type": "code",
   "execution_count": 20,
   "id": "ce2603da",
   "metadata": {},
   "outputs": [],
   "source": [
    "class ClassificationDataset(Dataset):\n",
    "    \n",
    "    def __init__(self, X_data, y_data):\n",
    "        self.X_data = X_data\n",
    "        self.y_data = y_data\n",
    "        \n",
    "    def __getitem__(self, index):\n",
    "        return self.X_data[index], self.y_data[index]\n",
    "        \n",
    "    def __len__ (self):\n",
    "        return len(self.X_data)"
   ]
  },
  {
   "cell_type": "code",
   "execution_count": 21,
   "id": "cfafe815",
   "metadata": {},
   "outputs": [],
   "source": [
    "target_train, target_test = np.array(target_train), np.array(target_test)\n",
    "feature_train, feature_test = np.array(feature_train), np.array(feature_test)\n"
   ]
  },
  {
   "cell_type": "code",
   "execution_count": 22,
   "id": "9b6cd967",
   "metadata": {},
   "outputs": [],
   "source": [
    "BATCH_SIZE=32"
   ]
  },
  {
   "cell_type": "code",
   "execution_count": 23,
   "id": "1b64b0e9",
   "metadata": {},
   "outputs": [],
   "source": [
    "train_im_dataset = ClassificationDataset(torch.from_numpy(image_train).float(), torch.from_numpy(target_train).float())\n",
    "test_im_dataset = ClassificationDataset(torch.from_numpy(image_test).float(), torch.from_numpy(target_test).float())\n",
    "train_dataset = ClassificationDataset(torch.from_numpy(feature_train).float(), torch.from_numpy(target_train).float())\n",
    "test_dataset = ClassificationDataset(torch.from_numpy(feature_test).float(), torch.from_numpy(target_test).float())\n"
   ]
  },
  {
   "cell_type": "code",
   "execution_count": 24,
   "id": "48612e8a",
   "metadata": {},
   "outputs": [],
   "source": [
    "train_im_loader = DataLoader(dataset=train_im_dataset, batch_size=BATCH_SIZE, shuffle=True)\n",
    "test_im_loader = DataLoader(dataset=test_im_dataset, batch_size=1)\n",
    "train_im_loader_pred = DataLoader(dataset=train_im_dataset, batch_size=1)\n",
    "train_loader = DataLoader(dataset=train_dataset, batch_size=BATCH_SIZE, shuffle=True)\n",
    "test_loader = DataLoader(dataset=test_dataset, batch_size=1)\n",
    "train_loader_pred = DataLoader(dataset=train_dataset, batch_size=1)"
   ]
  },
  {
   "cell_type": "markdown",
   "id": "cc94d46b",
   "metadata": {},
   "source": [
    "Perceptron network. 4 layers tried. "
   ]
  },
  {
   "cell_type": "code",
   "execution_count": 49,
   "id": "16c54b31",
   "metadata": {},
   "outputs": [],
   "source": [
    "#now 4 layers \n",
    "#two output options only \n",
    "class BinaryClassification4(nn.Module):\n",
    "    def __init__(self, num_features):\n",
    "        super(BinaryClassification4, self).__init__()\n",
    "        self.fc1 = nn.Linear(num_features, 300)\n",
    "        self.fc2 = nn.Linear(300, 100)  \n",
    "        self.fc3 = nn.Linear(100, 30)        \n",
    "        self.fc4 = nn.Linear(30, 10)   \n",
    "        self.fc5 = nn.Linear(10, 1)          \n",
    "    def forward(self, x):\n",
    "        x = torch.relu(self.fc1(x))\n",
    "        x = torch.relu(self.fc2(x))\n",
    "        x = torch.relu(self.fc3(x))\n",
    "        x = torch.relu(self.fc4(x))        \n",
    "        x = torch.sigmoid(self.fc5(x))\n",
    "        return (x)"
   ]
  },
  {
   "cell_type": "code",
   "execution_count": 79,
   "id": "3b9ba445",
   "metadata": {},
   "outputs": [],
   "source": [
    "EPOCHS = 40\n",
    "BATCH_SIZE = 32\n",
    "LEARNING_RATE = 0.001\n",
    "NUM_FEATURES = 1849"
   ]
  },
  {
   "cell_type": "code",
   "execution_count": 80,
   "id": "4f3c7a21",
   "metadata": {},
   "outputs": [
    {
     "name": "stdout",
     "output_type": "stream",
     "text": [
      "BinaryClassification4(\n",
      "  (fc1): Linear(in_features=1849, out_features=300, bias=True)\n",
      "  (fc2): Linear(in_features=300, out_features=100, bias=True)\n",
      "  (fc3): Linear(in_features=100, out_features=30, bias=True)\n",
      "  (fc4): Linear(in_features=30, out_features=10, bias=True)\n",
      "  (fc5): Linear(in_features=10, out_features=1, bias=True)\n",
      ")\n"
     ]
    }
   ],
   "source": [
    "model0 =BinaryClassification4(NUM_FEATURES)\n",
    "model0.to(device)\n",
    "print(model0)\n",
    "criterion = nn.BCELoss()\n",
    "optimizer = optim.Adam(model0.parameters(), lr=LEARNING_RATE)\n",
    "#in loss_stats the statistic is collected \n",
    "loss_stats = {\n",
    "    'train': [], 'test': []\n",
    "}\n"
   ]
  },
  {
   "cell_type": "code",
   "execution_count": 81,
   "id": "011c6f0a",
   "metadata": {},
   "outputs": [
    {
     "name": "stdout",
     "output_type": "stream",
     "text": [
      "Begin training.\n"
     ]
    },
    {
     "data": {
      "application/vnd.jupyter.widget-view+json": {
       "model_id": "a8f4df673f57404bbd23429c0298d796",
       "version_major": 2,
       "version_minor": 0
      },
      "text/plain": [
       "  0%|          | 0/40 [00:00<?, ?it/s]"
      ]
     },
     "metadata": {},
     "output_type": "display_data"
    },
    {
     "name": "stdout",
     "output_type": "stream",
     "text": [
      "Epoch 001: | Train Loss: 0.72657 | Test Loss: 0.93684\n",
      "Epoch 002: | Train Loss: 0.99005 | Test Loss: 0.58949\n",
      "Epoch 003: | Train Loss: 0.59587 | Test Loss: 0.53983\n",
      "Epoch 004: | Train Loss: 0.55751 | Test Loss: 0.68695\n",
      "Epoch 005: | Train Loss: 0.61705 | Test Loss: 1.72669\n",
      "Epoch 006: | Train Loss: 0.55111 | Test Loss: 0.51348\n",
      "Epoch 007: | Train Loss: 0.53577 | Test Loss: 0.66705\n",
      "Epoch 008: | Train Loss: 0.52671 | Test Loss: 0.47260\n",
      "Epoch 009: | Train Loss: 0.53486 | Test Loss: 0.46686\n",
      "Epoch 010: | Train Loss: 0.47412 | Test Loss: 0.51813\n",
      "Epoch 011: | Train Loss: 0.41466 | Test Loss: 0.40076\n",
      "Epoch 012: | Train Loss: 0.36292 | Test Loss: 0.55358\n",
      "Epoch 013: | Train Loss: 0.40927 | Test Loss: 2.34312\n",
      "Epoch 014: | Train Loss: 0.61862 | Test Loss: 0.46884\n",
      "Epoch 015: | Train Loss: 0.33032 | Test Loss: 0.93554\n",
      "Epoch 016: | Train Loss: 0.70765 | Test Loss: 0.77979\n",
      "Epoch 017: | Train Loss: 0.42383 | Test Loss: 0.71800\n",
      "Epoch 018: | Train Loss: 0.49797 | Test Loss: 0.87574\n",
      "Epoch 019: | Train Loss: 0.38168 | Test Loss: 0.40922\n",
      "Epoch 020: | Train Loss: 0.26133 | Test Loss: 1.14796\n",
      "Epoch 021: | Train Loss: 0.25463 | Test Loss: 0.75497\n",
      "Epoch 022: | Train Loss: 0.25526 | Test Loss: 0.66602\n",
      "Epoch 023: | Train Loss: 0.23596 | Test Loss: 0.68583\n",
      "Epoch 024: | Train Loss: 0.21742 | Test Loss: 0.65395\n",
      "Epoch 025: | Train Loss: 0.18695 | Test Loss: 0.79714\n",
      "Epoch 026: | Train Loss: 0.22239 | Test Loss: 0.68284\n",
      "Epoch 027: | Train Loss: 0.26758 | Test Loss: 0.65738\n",
      "Epoch 028: | Train Loss: 0.25399 | Test Loss: 0.43380\n",
      "Epoch 029: | Train Loss: 0.21087 | Test Loss: 0.65540\n",
      "Epoch 030: | Train Loss: 0.15867 | Test Loss: 0.64307\n",
      "Epoch 031: | Train Loss: 0.15034 | Test Loss: 0.70537\n",
      "Epoch 032: | Train Loss: 0.19603 | Test Loss: 0.75092\n",
      "Epoch 033: | Train Loss: 0.59250 | Test Loss: 2.62646\n",
      "Epoch 034: | Train Loss: 0.35700 | Test Loss: 0.40283\n",
      "Epoch 035: | Train Loss: 0.24739 | Test Loss: 0.56712\n",
      "Epoch 036: | Train Loss: 0.29168 | Test Loss: 0.73508\n",
      "Epoch 037: | Train Loss: 0.28457 | Test Loss: 0.74692\n",
      "Epoch 038: | Train Loss: 0.21163 | Test Loss: 0.73678\n",
      "Epoch 039: | Train Loss: 0.17509 | Test Loss: 0.96664\n",
      "Epoch 040: | Train Loss: 0.15257 | Test Loss: 1.02529\n"
     ]
    }
   ],
   "source": [
    "\n",
    "print(\"Begin training.\")\n",
    "for e in tqdm(range(1, EPOCHS+1)):\n",
    "    \n",
    "    # TRAINING\n",
    "    train_epoch_loss = 0\n",
    "    model0.train()\n",
    "    for X_train_batch, y_train_batch in train_loader:\n",
    "        X_train_batch, y_train_batch = X_train_batch.to(device), y_train_batch.to(device)\n",
    "        optimizer.zero_grad()\n",
    "        \n",
    "        y_train_pred = model0(X_train_batch)\n",
    "        \n",
    "        train_loss = criterion(y_train_pred, y_train_batch.unsqueeze(1))\n",
    "        \n",
    "        train_loss.backward()\n",
    "        optimizer.step()\n",
    "        \n",
    "        train_epoch_loss += train_loss.item()\n",
    "        \n",
    "        \n",
    "    # VALIDATION    \n",
    "    with torch.no_grad():\n",
    "        \n",
    "        test_epoch_loss = 0\n",
    "        \n",
    "        model0.eval()\n",
    "        for X_test_batch, y_test_batch in test_loader:\n",
    "            X_test_batch, y_test_batch = X_test_batch.to(device), y_test_batch.to(device)\n",
    "            \n",
    "            y_test_pred = model0(X_test_batch)\n",
    "                        \n",
    "            test_loss = criterion(y_test_pred, y_test_batch.unsqueeze(1))\n",
    "            \n",
    "            test_epoch_loss += test_loss.item()\n",
    "    loss_stats['train'].append(train_epoch_loss/len(train_loader))\n",
    "    loss_stats['test'].append(test_epoch_loss/len(test_loader))                              \n",
    "    \n",
    "    print(f'Epoch {e+0:03}: | Train Loss: {train_epoch_loss/len(train_loader):.5f} | Test Loss: {test_epoch_loss/len(test_loader):.5f}')"
   ]
  },
  {
   "cell_type": "code",
   "execution_count": 82,
   "id": "bf5ac802",
   "metadata": {},
   "outputs": [],
   "source": [
    "m_test=pred_torch(model0,test_loader)\n",
    "m_train=pred_torch(model0,train_loader_pred)"
   ]
  },
  {
   "cell_type": "code",
   "execution_count": 83,
   "id": "9d5718cc",
   "metadata": {},
   "outputs": [
    {
     "data": {
      "text/plain": [
       "Text(0, 0.5, 'BCE loss')"
      ]
     },
     "execution_count": 83,
     "metadata": {},
     "output_type": "execute_result"
    },
    {
     "data": {
      "image/png": "[encoded data removed]",
      "text/plain": [
       "<Figure size 640x480 with 1 Axes>"
      ]
     },
     "metadata": {},
     "output_type": "display_data"
    }
   ],
   "source": [
    "\n",
    "plt.plot(loss_stats['test'],label='test')\n",
    "plt.plot(loss_stats['train'],label='train')\n",
    "plt.legend(loc=\"best\")\n",
    "plt.title('Loss vs Epochs')\n",
    "plt.xlabel('Epochs')\n",
    "plt.ylabel('BCE loss')"
   ]
  },
  {
   "cell_type": "code",
   "execution_count": 84,
   "id": "11d1dfd3",
   "metadata": {},
   "outputs": [],
   "source": [
    "def conf_for_torch(predict,target):\n",
    "    #round prediction\n",
    "    round_pred=np.round(np.array(predict))\n",
    "    conf_matrix = confusion_matrix(target, round_pred)\n",
    "    return conf_matrix"
   ]
  },
  {
   "cell_type": "code",
   "execution_count": 85,
   "id": "9db83a76",
   "metadata": {},
   "outputs": [
    {
     "name": "stdout",
     "output_type": "stream",
     "text": [
      "4 layer perceptron\n",
      "train\n",
      "[[124   4]\n",
      " [ 18 280]]\n",
      "test\n",
      "[[ 70   8]\n",
      " [ 32 174]]\n"
     ]
    }
   ],
   "source": [
    "# 2 116 12 | 116 182 test 71 71 | 76 130 \n",
    "# 4  46 82 | 21 277 test  30 48 | 18 188\n",
    "# seems to restart at each trail \n",
    "conf_test_m=conf_for_torch(m_test,target_test)\n",
    "conf_train_m=conf_for_torch(m_train,target_train)\n",
    "print(\"4 layer perceptron\")\n",
    "print(\"train\")\n",
    "print(conf_train_m)\n",
    "print(\"test\")\n",
    "print(conf_test_m)\n",
    "#some have 124 4 18 280 in train, test: 70 8 32 174"
   ]
  },
  {
   "cell_type": "markdown",
   "id": "ef093cff",
   "metadata": {},
   "source": [
    "Does not work relaible, but sometimes works at least in train. "
   ]
  },
  {
   "cell_type": "code",
   "execution_count": 45,
   "id": "e5cd48ab",
   "metadata": {},
   "outputs": [],
   "source": [
    "xc1=XGBClassifier(max_depth=6).fit(feature_train,target_train)"
   ]
  },
  {
   "cell_type": "code",
   "execution_count": 46,
   "id": "2358813e",
   "metadata": {},
   "outputs": [
    {
     "name": "stdout",
     "output_type": "stream",
     "text": [
      "confusion matrix xgboost train\n",
      "[[127   1]\n",
      " [  0 298]]\n",
      "confusion matrix xgboost test\n",
      "[[ 60  18]\n",
      " [ 28 178]]\n"
     ]
    }
   ],
   "source": [
    "train_pred=xc1.predict(feature_train)\n",
    "test_pred=xc1.predict(feature_test)\n",
    "train_pred_prob=xc1.predict_proba(feature_train)\n",
    "test_pred_prob=xc1.predict_proba(feature_test)\n",
    "conf_train = confusion_matrix(target_train, train_pred)\n",
    "conf_test = confusion_matrix(target_test, test_pred)\n",
    "print(\"confusion matrix xgboost train\")\n",
    "print(conf_train)\n",
    "print(\"confusion matrix xgboost test\")\n",
    "print(conf_test)"
   ]
  },
  {
   "cell_type": "markdown",
   "id": "f98d2589",
   "metadata": {},
   "source": [
    "Xgboost works at least approximate, while all networks do not yet work. "
   ]
  },
  {
   "cell_type": "code",
   "execution_count": 47,
   "id": "08add617",
   "metadata": {},
   "outputs": [],
   "source": [
    "lc1=LogisticRegression(max_iter=3000,penalty='none').fit(feature_train,target_train)"
   ]
  },
  {
   "cell_type": "code",
   "execution_count": 48,
   "id": "59f57fb1",
   "metadata": {},
   "outputs": [
    {
     "name": "stdout",
     "output_type": "stream",
     "text": [
      "confusion matrix logistic regression train\n",
      "[[128   0]\n",
      " [  0 298]]\n",
      "confusion matrix logistic regression test\n",
      "[[ 49  29]\n",
      " [ 91 115]]\n"
     ]
    }
   ],
   "source": [
    "l_train_pred=lc1.predict(feature_train)\n",
    "l_test_pred=lc1.predict(feature_test)\n",
    "l_train_pred_prob=lc1.predict_proba(feature_train)\n",
    "l_test_pred_prob=lc1.predict_proba(feature_test)\n",
    "l_conf_train = confusion_matrix(target_train, l_train_pred)\n",
    "l_conf_test = confusion_matrix(target_test, l_test_pred)\n",
    "print(\"confusion matrix logistic regression train\")\n",
    "print(l_conf_train)\n",
    "print(\"confusion matrix logistic regression test\")\n",
    "print(l_conf_test)"
   ]
  },
  {
   "cell_type": "markdown",
   "id": "5e64dcb6",
   "metadata": {},
   "source": [
    "Logistic works less good as xgboost but still better than neural networks. "
   ]
  },
  {
   "cell_type": "markdown",
   "id": "6dd54b66",
   "metadata": {},
   "source": [
    "Test input outputs relations for convolutional network of 3 convolutional layers, it is still 3 *3 convolutional and 2 *2 maximuma."
   ]
  },
  {
   "cell_type": "code",
   "execution_count": 86,
   "id": "bd3e904e",
   "metadata": {},
   "outputs": [
    {
     "name": "stdout",
     "output_type": "stream",
     "text": [
      "first conv layer input: torch.Size([1, 1, 43, 43]) output: torch.Size([1, 16, 41, 41])\n",
      "max pool input:torch.Size([1, 16, 41, 41]) output:torch.Size([1, 16, 20, 20])\n",
      "second conv layer input: torch.Size([1, 16, 20, 20]) output: torch.Size([1, 32, 18, 18])\n",
      "second max pool layer input: torch.Size([1, 32, 18, 18]) output: torch.Size([1, 32, 9, 9])\n",
      "third conv layer input: torch.Size([1, 32, 9, 9]) output: torch.Size([1, 64, 7, 7])\n",
      "third max pool layer input: torch.Size([1, 64, 7, 7]) output: torch.Size([1, 64, 3, 3])\n"
     ]
    }
   ],
   "source": [
    "input0 = torch.randn(1, 1, 43, 43)\n",
    "b=torch.nn.Conv2d(1, 16, kernel_size=3, stride=1, padding=0)\n",
    "output0=b(input0)\n",
    "print(f\"first conv layer input: {input0.shape} output: {output0.shape}\")\n",
    "\n",
    "m = nn.MaxPool2d((2, 2), stride=(2, 2))\n",
    "#standard drops but can be changed, can also use pooling and co get better number \n",
    "output1 = m(output0)\n",
    "print(f\"max pool input:{output0.shape} output:{output1.shape}\")\n",
    "#input format (Batch, Number Channels, height, width)\n",
    "b2=torch.nn.Conv2d(16, 32, kernel_size=3, stride=1, padding=0)\n",
    "\n",
    "output2=b2(output1)\n",
    "print(f\"second conv layer input: {output1.shape} output: {output2.shape}\")\n",
    "output3 = m(output2)\n",
    "print(f\"second max pool layer input: {output2.shape} output: {output3.shape}\")\n",
    "\n",
    "b3=torch.nn.Conv2d(32, 64, kernel_size=3, stride=1, padding=0)\n",
    "\n",
    "output4=b3(output3)\n",
    "print(f\"third conv layer input: {output3.shape} output: {output4.shape}\")\n",
    "output5 = m(output4)\n",
    "print(f\"third max pool layer input: {output4.shape} output: {output5.shape}\")"
   ]
  },
  {
   "cell_type": "code",
   "execution_count": 107,
   "id": "c6af116c",
   "metadata": {},
   "outputs": [],
   "source": [
    "class CNNBinary4(torch.nn.Module):\n",
    "    #no padding because image does not really end when the data ends. \n",
    "    def __init__(self):\n",
    "        super(CNNBinary4, self).__init__()\n",
    "        # L1 ImgIn shape=(?, 43, 43, 1)\n",
    "        # Conv -> (?, 41, 41, 16)\n",
    "        # Pool -> (?, 20, 20, 16)\n",
    "        self.layer1 = torch.nn.Sequential(\n",
    "            torch.nn.Conv2d(1, 16, kernel_size=3, stride=1, padding=0),\n",
    "            torch.nn.ReLU(),\n",
    "            torch.nn.MaxPool2d(kernel_size=2, stride=2),\n",
    "            torch.nn.Dropout(p=1 - keep_prob))\n",
    "        # L2 ImgIn shape=(?, 20, 20, 16)\n",
    "        # Conv      ->(?, 18, 18, 32)\n",
    "        # Pool      ->(?, 9, 9, 32)\n",
    "        self.layer2 = torch.nn.Sequential(\n",
    "            torch.nn.Conv2d(16, 32, kernel_size=3, stride=1, padding=0),\n",
    "            torch.nn.ReLU(),\n",
    "            torch.nn.MaxPool2d(kernel_size=2, stride=2),\n",
    "            torch.nn.Dropout(p=1 - keep_prob))\n",
    "        # L3 ImgIn shape=(?, 9, 9, 32)\n",
    "        # Conv      ->(?, 7, 7, 64)\n",
    "        # Pool      ->(?, 3, 3, 64)\n",
    "        self.layer3 = torch.nn.Sequential(\n",
    "            torch.nn.Conv2d(32, 64, kernel_size=3, stride=1, padding=0),\n",
    "            torch.nn.ReLU(),\n",
    "            torch.nn.MaxPool2d(kernel_size=2, stride=2),\n",
    "            torch.nn.Dropout(p=1 - keep_prob))        \n",
    "        # L3 FC 3x3x64 inputs -> 128 outputs\n",
    "        self.fc1 = torch.nn.Linear(3 * 3 * 64, 128, bias=True)\n",
    "        torch.nn.init.xavier_uniform(self.fc1.weight)\n",
    "        self.layer4 = torch.nn.Sequential(\n",
    "            self.fc1,\n",
    "            torch.nn.ReLU(),\n",
    "            torch.nn.Dropout(p=1 - keep_prob))\n",
    "        # L4 Final FC 128 inputs -> 1 output\n",
    "        self.fc2 = torch.nn.Linear(128, 1, bias=True) #\n",
    "        torch.nn.init.xavier_uniform_(self.fc2.weight) # initialize parameters\n",
    "\n",
    "    def forward(self, x):\n",
    "        out = self.layer1(x)\n",
    "        out = self.layer2(out)\n",
    "        out = self.layer3(out) #dont forget to add/omit layer here\n",
    "        out = out.view(out.size(0), -1)   # Flatten them for FC\n",
    "        out = self.fc1(out)\n",
    "        out = torch.sigmoid(self.fc2(out))\n",
    "        return out"
   ]
  },
  {
   "cell_type": "code",
   "execution_count": 108,
   "id": "18c57640",
   "metadata": {},
   "outputs": [
    {
     "name": "stdout",
     "output_type": "stream",
     "text": [
      "CNNBinary4(\n",
      "  (layer1): Sequential(\n",
      "    (0): Conv2d(1, 16, kernel_size=(3, 3), stride=(1, 1))\n",
      "    (1): ReLU()\n",
      "    (2): MaxPool2d(kernel_size=2, stride=2, padding=0, dilation=1, ceil_mode=False)\n",
      "    (3): Dropout(p=0, inplace=False)\n",
      "  )\n",
      "  (layer2): Sequential(\n",
      "    (0): Conv2d(16, 32, kernel_size=(3, 3), stride=(1, 1))\n",
      "    (1): ReLU()\n",
      "    (2): MaxPool2d(kernel_size=2, stride=2, padding=0, dilation=1, ceil_mode=False)\n",
      "    (3): Dropout(p=0, inplace=False)\n",
      "  )\n",
      "  (layer3): Sequential(\n",
      "    (0): Conv2d(32, 64, kernel_size=(3, 3), stride=(1, 1))\n",
      "    (1): ReLU()\n",
      "    (2): MaxPool2d(kernel_size=2, stride=2, padding=0, dilation=1, ceil_mode=False)\n",
      "    (3): Dropout(p=0, inplace=False)\n",
      "  )\n",
      "  (fc1): Linear(in_features=576, out_features=128, bias=True)\n",
      "  (layer4): Sequential(\n",
      "    (0): Linear(in_features=576, out_features=128, bias=True)\n",
      "    (1): ReLU()\n",
      "    (2): Dropout(p=0, inplace=False)\n",
      "  )\n",
      "  (fc2): Linear(in_features=128, out_features=1, bias=True)\n",
      ")\n"
     ]
    },
    {
     "name": "stderr",
     "output_type": "stream",
     "text": [
      "/tmp/ipykernel_11915/994019738.py:31: UserWarning: nn.init.xavier_uniform is now deprecated in favor of nn.init.xavier_uniform_.\n",
      "  torch.nn.init.xavier_uniform(self.fc1.weight)\n"
     ]
    }
   ],
   "source": [
    "keep_prob=1\n",
    "model1 =CNNBinary4()\n",
    "model1.to(device)\n",
    "print(model1)\n",
    "criterion = nn.BCELoss()\n",
    "#once better when model0 parameters are used here \n",
    "optimizer = optim.Adam(model0.parameters(), lr=LEARNING_RATE)\n",
    "#in loss_stats the statistic is collected \n",
    "loss_stats2 = {\n",
    "    'train': [], 'test': []\n",
    "}"
   ]
  },
  {
   "cell_type": "code",
   "execution_count": 109,
   "id": "5f113839",
   "metadata": {},
   "outputs": [
    {
     "name": "stdout",
     "output_type": "stream",
     "text": [
      "Begin training.\n"
     ]
    },
    {
     "data": {
      "application/vnd.jupyter.widget-view+json": {
       "model_id": "2f7b28aa2eee4695a51e95706c5bb82a",
       "version_major": 2,
       "version_minor": 0
      },
      "text/plain": [
       "  0%|          | 0/40 [00:00<?, ?it/s]"
      ]
     },
     "metadata": {},
     "output_type": "display_data"
    },
    {
     "name": "stdout",
     "output_type": "stream",
     "text": [
      "Epoch 001: | Train Loss: 20.10609 | Test Loss: 14.42451\n",
      "Epoch 002: | Train Loss: 19.19175 | Test Loss: 14.42451\n",
      "Epoch 003: | Train Loss: 19.12191 | Test Loss: 14.42451\n",
      "Epoch 004: | Train Loss: 19.07690 | Test Loss: 14.42451\n",
      "Epoch 005: | Train Loss: 20.05906 | Test Loss: 14.42451\n",
      "Epoch 006: | Train Loss: 20.71314 | Test Loss: 14.42451\n",
      "Epoch 007: | Train Loss: 20.55008 | Test Loss: 14.42451\n",
      "Epoch 008: | Train Loss: 19.68283 | Test Loss: 14.42451\n",
      "Epoch 009: | Train Loss: 20.12651 | Test Loss: 14.42451\n",
      "Epoch 010: | Train Loss: 19.63548 | Test Loss: 14.42451\n",
      "Epoch 011: | Train Loss: 19.14027 | Test Loss: 14.42451\n",
      "Epoch 012: | Train Loss: 19.22609 | Test Loss: 14.42451\n",
      "Epoch 013: | Train Loss: 19.21640 | Test Loss: 14.42451\n",
      "Epoch 014: | Train Loss: 18.71940 | Test Loss: 14.42451\n",
      "Epoch 015: | Train Loss: 19.14049 | Test Loss: 14.42451\n",
      "Epoch 016: | Train Loss: 18.58583 | Test Loss: 14.42451\n",
      "Epoch 017: | Train Loss: 19.18065 | Test Loss: 14.42451\n",
      "Epoch 018: | Train Loss: 20.61997 | Test Loss: 14.42451\n",
      "Epoch 019: | Train Loss: 20.05901 | Test Loss: 14.42451\n",
      "Epoch 020: | Train Loss: 19.75700 | Test Loss: 14.42451\n",
      "Epoch 021: | Train Loss: 19.56797 | Test Loss: 14.42451\n",
      "Epoch 022: | Train Loss: 20.05906 | Test Loss: 14.42451\n",
      "Epoch 023: | Train Loss: 19.68623 | Test Loss: 14.42451\n",
      "Epoch 024: | Train Loss: 19.67687 | Test Loss: 14.42451\n",
      "Epoch 025: | Train Loss: 19.74483 | Test Loss: 14.42451\n",
      "Epoch 026: | Train Loss: 19.22399 | Test Loss: 14.42451\n",
      "Epoch 027: | Train Loss: 20.10675 | Test Loss: 14.42451\n",
      "Epoch 028: | Train Loss: 19.67173 | Test Loss: 14.42451\n",
      "Epoch 029: | Train Loss: 19.07687 | Test Loss: 14.42451\n",
      "Epoch 030: | Train Loss: 20.12652 | Test Loss: 14.42451\n",
      "Epoch 031: | Train Loss: 19.61001 | Test Loss: 14.42451\n",
      "Epoch 032: | Train Loss: 18.75460 | Test Loss: 14.42451\n",
      "Epoch 033: | Train Loss: 19.60720 | Test Loss: 14.42451\n",
      "Epoch 034: | Train Loss: 20.66018 | Test Loss: 14.42451\n",
      "Epoch 035: | Train Loss: 18.64848 | Test Loss: 14.42451\n",
      "Epoch 036: | Train Loss: 18.62788 | Test Loss: 14.42451\n",
      "Epoch 037: | Train Loss: 20.55015 | Test Loss: 14.42451\n",
      "Epoch 038: | Train Loss: 19.07702 | Test Loss: 14.42451\n",
      "Epoch 039: | Train Loss: 20.55012 | Test Loss: 14.42451\n",
      "Epoch 040: | Train Loss: 20.16581 | Test Loss: 14.42451\n"
     ]
    }
   ],
   "source": [
    "\n",
    "print(\"Begin training.\")\n",
    "for e in tqdm(range(1, EPOCHS+1)):\n",
    "    \n",
    "    # TRAINING\n",
    "    train_epoch_loss = 0\n",
    "    model1.train()\n",
    "    for X_train_batch, y_train_batch in train_im_loader:\n",
    "        X_train_batch, y_train_batch = X_train_batch.to(device), y_train_batch.to(device)\n",
    "        optimizer.zero_grad()\n",
    "        \n",
    "        y_train_pred = model1(X_train_batch)\n",
    "        \n",
    "        train_loss = criterion(y_train_pred, y_train_batch.unsqueeze(1))\n",
    "        \n",
    "        train_loss.backward()\n",
    "        optimizer.step()\n",
    "        \n",
    "        train_epoch_loss += train_loss.item()\n",
    "        \n",
    "        \n",
    "    # VALIDATION    \n",
    "    with torch.no_grad():\n",
    "        \n",
    "        test_epoch_loss = 0\n",
    "        \n",
    "        model1.eval()\n",
    "        for X_test_batch, y_test_batch in test_im_loader:\n",
    "            X_test_batch, y_test_batch = X_test_batch.to(device), y_test_batch.to(device)\n",
    "            \n",
    "            y_test_pred = model1(X_test_batch)\n",
    "                        \n",
    "            test_loss = criterion(y_test_pred, y_test_batch.unsqueeze(1))\n",
    "            \n",
    "            test_epoch_loss += test_loss.item()\n",
    "    loss_stats2['train'].append(train_epoch_loss/len(train_im_loader))\n",
    "    loss_stats2['test'].append(test_epoch_loss/len(test_im_loader))                              \n",
    "    \n",
    "    print(f'Epoch {e+0:03}: | Train Loss: {train_epoch_loss/len(train_im_loader):.5f} | Test Loss: {test_epoch_loss/len(test_im_loader):.5f}')"
   ]
  },
  {
   "cell_type": "code",
   "execution_count": 110,
   "id": "963da276",
   "metadata": {},
   "outputs": [
    {
     "name": "stdout",
     "output_type": "stream",
     "text": [
      "[0.9999719858169556, 0.9999911785125732, 1.0, 0.9999891519546509, 1.0, 0.9960888624191284, 0.9998372793197632, 1.0, 0.9987459182739258, 0.9999995231628418, 1.0, 1.0, 1.0, 0.9888305068016052, 0.9993904829025269, 0.9993915557861328, 1.0, 0.9999935626983643, 1.0, 0.9999803304672241, 0.9962537288665771, 0.9999942779541016, 0.9999924898147583, 0.9999727010726929, 1.0, 0.9999325275421143, 1.0, 1.0, 0.9999998807907104, 1.0, 0.9999871253967285, 0.9999970197677612, 0.9999992847442627, 1.0, 0.999947190284729, 0.9996308088302612, 1.0, 1.0, 0.999998927116394, 1.0, 1.0, 0.9999252557754517, 0.9996778964996338, 0.9999985694885254, 0.9896050691604614, 1.0, 1.0, 0.9999978542327881, 1.0, 1.0, 0.9995545744895935, 0.9996615648269653, 0.9994612336158752, 0.999876856803894, 0.9999986886978149, 0.9999954700469971, 0.9998409748077393, 1.0, 0.999998927116394, 0.9999072551727295, 0.9999996423721313, 0.9999510049819946, 0.9999814033508301, 1.0, 1.0, 1.0, 0.9986453652381897, 1.0, 0.9999910593032837, 0.9999998807907104, 0.9999581575393677, 0.9997705817222595, 0.9532558917999268, 0.9999994039535522, 1.0, 0.9890716075897217, 0.9998840093612671, 0.9999864101409912, 0.9999997615814209, 0.9997013211250305, 0.9972296357154846, 0.9998929500579834, 0.9986566305160522, 0.9999914169311523, 0.9999995231628418, 1.0, 0.9999287128448486, 0.9999998807907104, 0.9692426323890686, 0.9963099360466003, 0.9718706011772156, 0.9999938011169434, 0.9904661178588867, 0.9944978356361389, 0.9999654293060303, 1.0, 0.9988985061645508, 0.9974187612533569, 0.999998927116394, 0.9999988079071045, 0.9969483017921448, 1.0, 0.9999942779541016, 1.0, 0.9999474287033081, 1.0, 0.9998186230659485, 0.9999994039535522, 0.9999986886978149, 1.0, 1.0, 1.0, 0.9983837604522705, 1.0, 0.9996199607849121, 1.0, 0.9995519518852234, 1.0, 0.9927505254745483, 0.9999998807907104, 0.9999176263809204, 0.9999983310699463, 1.0, 1.0, 0.9996267557144165, 0.9999974966049194, 0.9999986886978149, 1.0, 0.9999988079071045, 0.9999871253967285, 0.9999979734420776, 0.9999974966049194, 0.9978452920913696, 0.9999949932098389, 1.0, 1.0, 0.9999969005584717, 1.0, 1.0, 0.9999997615814209, 0.9999997615814209, 0.9937973618507385, 0.9999997615814209, 0.9979210495948792, 1.0, 0.9996377229690552, 0.9999988079071045, 1.0, 1.0, 0.9999970197677612, 1.0, 0.9996201992034912, 1.0, 1.0, 0.9999270439147949, 1.0, 1.0, 1.0, 0.9999998807907104, 1.0, 1.0, 0.9999994039535522, 0.9998233914375305, 1.0, 1.0, 0.9983512163162231, 0.9973822236061096, 1.0, 1.0, 1.0, 0.9999995231628418, 1.0, 0.9999991655349731, 0.9999997615814209, 0.9978316426277161, 0.9999192953109741, 0.9999998807907104, 1.0, 0.9999606609344482, 0.9999983310699463, 1.0, 0.9997292160987854, 0.999997615814209, 0.9999982118606567, 1.0, 1.0, 0.999896764755249, 0.9999014139175415, 0.994703471660614, 0.9999994039535522, 1.0, 0.9999920129776001, 0.9999911785125732, 0.9994556307792664, 1.0, 0.9998427629470825, 1.0, 0.9999961853027344, 0.9999994039535522, 1.0, 0.9983476400375366, 1.0, 0.9973391890525818, 0.9999973773956299, 0.9999557733535767, 1.0, 0.9999998807907104, 0.999996542930603, 1.0, 0.9993182420730591, 0.9987432360649109, 1.0, 0.9999133348464966, 1.0, 1.0, 1.0, 1.0, 0.9182954430580139, 0.9989500641822815, 1.0, 0.9999134540557861, 0.9999998807907104, 1.0, 0.9989160299301147, 1.0, 1.0, 0.9976473450660706, 1.0, 0.9996032118797302, 0.9999990463256836, 1.0, 1.0, 0.9999954700469971, 0.9999997615814209, 1.0, 0.9998915195465088, 0.9999948740005493, 1.0, 1.0, 1.0, 1.0, 1.0, 0.9999959468841553, 0.999904990196228, 0.9998096823692322, 1.0, 1.0, 1.0, 1.0, 0.9998362064361572, 0.999992847442627, 0.9998677968978882, 1.0, 0.9999867677688599, 0.9998457431793213, 0.999895453453064, 0.9999998807907104, 1.0, 1.0, 1.0, 0.9998810291290283, 1.0, 0.9998075366020203, 0.9998202919960022, 0.9999129772186279, 1.0, 1.0, 0.9982607960700989, 1.0, 0.9998140931129456, 1.0, 0.9993991851806641, 1.0, 1.0, 0.9999892711639404, 1.0, 0.9999425411224365, 0.9999738931655884, 1.0, 1.0, 0.9963597655296326, 0.998908519744873, 0.9999024868011475, 0.9996305704116821, 0.9998144507408142, 0.9999991655349731, 1.0, 0.9999948740005493, 0.9999998807907104, 1.0, 0.9999924898147583, 0.9968998432159424, 0.9999938011169434, 1.0, 0.9997501969337463, 0.9998645782470703, 0.999998927116394, 0.9998549222946167, 1.0, 0.999845027923584, 1.0, 1.0, 0.9999992847442627, 1.7437752353188785e-09, 0.9999994039535522, 0.9999971389770508, 0.9999935626983643, 1.0, 0.999997615814209, 0.999990701675415, 1.0, 0.9999958276748657, 1.0, 1.0, 0.9998555183410645, 0.9999997615814209, 0.9990471005439758, 0.9999971389770508, 0.9999399185180664, 9.319672358287789e-07, 0.9999876022338867, 0.9935954213142395, 0.9999991655349731, 0.9999985694885254, 1.0, 1.0, 0.9999889135360718, 0.9999980926513672, 0.9918391108512878, 0.9999991655349731, 1.0, 0.9999997615814209, 0.9998966455459595, 1.0, 0.9986394047737122, 1.0, 1.0, 1.0, 1.0, 0.9999991655349731, 0.9999996423721313, 0.9912340044975281, 0.9999905824661255, 0.9999626874923706, 1.0, 1.0, 1.0, 1.0, 0.9327659010887146, 1.0, 0.9982873797416687, 0.9999998807907104, 0.9992658495903015, 1.0, 0.99045729637146, 0.9998379945755005, 0.9999927282333374, 1.0, 0.9999974966049194, 1.0, 0.9877819418907166, 0.9999704360961914, 0.999880313873291, 0.9996298551559448, 0.9999953508377075, 0.998626708984375, 0.9999969005584717, 0.9997679591178894, 1.0, 0.9999077320098877, 1.0, 0.9999971389770508, 0.9913472533226013, 0.9989670515060425, 1.0, 0.99998939037323, 0.9993089437484741, 0.9995393753051758, 0.9999809265136719, 1.0, 1.0, 0.9999979734420776, 0.999852180480957, 1.0, 1.0, 1.0, 0.999997615814209, 0.9999945163726807, 1.0, 0.9868484139442444, 0.999099850654602, 1.0, 0.9991822838783264, 0.999789297580719, 0.9997127652168274, 0.9999957084655762, 0.9999997615814209, 0.999998927116394, 0.9999996423721313, 0.9986516833305359, 0.9999563694000244, 1.0, 0.9946600794792175, 0.9999995231628418, 1.0, 1.0, 1.0, 0.999981164932251, 1.0, 0.9990646243095398, 0.9999995231628418, 0.9998101592063904, 0.9999313354492188, 1.0, 1.0, 0.9999983310699463, 1.0, 1.0, 1.0, 1.0, 0.9999971389770508, 0.9994232654571533, 0.999406099319458, 0.9992170333862305, 1.0, 1.0]\n"
     ]
    }
   ],
   "source": [
    "c_test=pred_torch(model1,test_im_loader)\n",
    "c_train=pred_torch(model1,train_im_loader_pred)\n",
    "print(c_train)"
   ]
  },
  {
   "cell_type": "code",
   "execution_count": 111,
   "id": "ac93cdb0",
   "metadata": {},
   "outputs": [
    {
     "name": "stdout",
     "output_type": "stream",
     "text": [
      "3 layer convolutional\n",
      "train\n",
      "[[  0 128]\n",
      " [  2 296]]\n",
      "test\n",
      "[[  0  78]\n",
      " [  0 206]]\n"
     ]
    }
   ],
   "source": [
    "conf_test_c=conf_for_torch(c_test,target_test)\n",
    "conf_train_c=conf_for_torch(c_train,target_train)\n",
    "print(\"3 layer convolutional\")\n",
    "print(\"train\")\n",
    "print(conf_train_c)\n",
    "print(\"test\")\n",
    "print(conf_test_c)"
   ]
  },
  {
   "cell_type": "markdown",
   "id": "a2615a8b",
   "metadata": {},
   "source": [
    "Now not all the same prediction, but still no change in rediction during run. "
   ]
  },
  {
   "cell_type": "code",
   "execution_count": 89,
   "id": "7f3c2e62",
   "metadata": {},
   "outputs": [],
   "source": [
    "#define the function to fit it\n",
    "#parameters: model used, train_data, test_data, epchs, batch_size, learning_rate, file to collect sats, \n",
    "#optional regularization \n",
    "def torch_fit(model,train_loader,test_loader,epochs,batch_size,learning_rate,loss_stats,l2reg=0):\n",
    "    learning_rate = learning_rate\n",
    "    criterion = torch.nn.BCELoss()    # Softmax is internally computed.\n",
    "    #if no regularization\n",
    "    if l2reg==0:\n",
    "        optimizer = torch.optim.Adam(params=model.parameters(), lr=learning_rate)\n",
    "    #l2 regularization is added in optimizer as weight_decay=1e-5 or nsimilar \n",
    "    else:\n",
    "        optimizer = torch.optim.Adam(params=model.parameters(), lr=learning_rate,weight_decay=l2reg)        \n",
    "    print(\"Begin training.\")\n",
    "    for e in tqdm(range(1, epochs+1)):\n",
    "    \n",
    "        # TRAINING\n",
    "        train_epoch_loss = 0\n",
    "        model.train()\n",
    "        for X_train_batch, y_train_batch in train_loader:\n",
    "            X_train_batch, y_train_batch = X_train_batch.to(device), y_train_batch.to(device)\n",
    "            optimizer.zero_grad()\n",
    "        \n",
    "            y_train_pred = model(X_train_batch)\n",
    "        \n",
    "            train_loss = criterion(y_train_pred, y_train_batch.unsqueeze(1))\n",
    "        \n",
    "            train_loss.backward()\n",
    "            optimizer.step()\n",
    "        \n",
    "            train_epoch_loss += train_loss.item()\n",
    "        \n",
    "        \n",
    "        # VALIDATION    \n",
    "        with torch.no_grad():\n",
    "        \n",
    "            test_epoch_loss = 0\n",
    "        \n",
    "            model.eval()\n",
    "            for X_test_batch, y_test_batch in test_loader:\n",
    "                X_test_batch, y_test_batch = X_test_batch.to(device), y_test_batch.to(device)\n",
    "            \n",
    "                y_test_pred = model(X_test_batch)\n",
    "                        \n",
    "                test_loss = criterion(y_test_pred, y_test_batch.unsqueeze(1))\n",
    "            \n",
    "                test_epoch_loss += test_loss.item()\n",
    "        loss_stats['train'].append(train_epoch_loss/len(train_loader))\n",
    "        loss_stats['test'].append(test_epoch_loss/len(test_loader))                              \n",
    "    \n",
    "        print(f'Epoch {e+0:03}: | Train Loss: {train_epoch_loss/len(train_loader):.5f} | Test Loss: {test_epoch_loss/len(test_loader):.5f}')    "
   ]
  },
  {
   "cell_type": "code",
   "execution_count": 90,
   "id": "1d09738a",
   "metadata": {},
   "outputs": [
    {
     "name": "stdout",
     "output_type": "stream",
     "text": [
      "Begin training.\n"
     ]
    },
    {
     "data": {
      "application/vnd.jupyter.widget-view+json": {
       "model_id": "7f32cbacc5da47cab5f1c69897fe7678",
       "version_major": 2,
       "version_minor": 0
      },
      "text/plain": [
       "  0%|          | 0/3 [00:00<?, ?it/s]"
      ]
     },
     "metadata": {},
     "output_type": "display_data"
    },
    {
     "name": "stdout",
     "output_type": "stream",
     "text": [
      "Epoch 001: | Train Loss: 66.69819 | Test Loss: 72.53521\n",
      "Epoch 002: | Train Loss: 70.93750 | Test Loss: 72.53521\n",
      "Epoch 003: | Train Loss: 70.44643 | Test Loss: 72.53521\n"
     ]
    }
   ],
   "source": [
    "#somehow nothing improves like sometimes, unclear what is reason mistake in setup or real chance ? \n",
    "loss_stats_test = {\n",
    "    'train': [], 'test': []\n",
    "}\n",
    "torch_fit(model1,train_im_loader,test_im_loader,3,32,0.01,loss_stats_test)"
   ]
  },
  {
   "cell_type": "code",
   "execution_count": 91,
   "id": "ab1f2a89",
   "metadata": {},
   "outputs": [
    {
     "name": "stdout",
     "output_type": "stream",
     "text": [
      "[1 1 1 1 1 0 0 1 0 0 1 1 1 1 1 1 1 0 1 1 0 1 1 1 1 1 1 1 1 0 0 0 0 0 1 1 0\n",
      " 1 0 1 1 1 1 1 1 1 1 1 1 1 0 1 1 0 1 1 0 1 1 1 1 1 1 0 1 1 1 1 1 1 1 0 0 0\n",
      " 1 0 0 1 1 0 0 1 1 0 1 0 1 1 0 1 1 1 1 0 1 1 0 1 1 1 0 1 1 0 0 1 1 1 1 1 1\n",
      " 1 1 0 1 1 1 1 1 1 1 1 1 0 1 0 1 1 1 1 1 1 1 0 0 1 1 1 1 0 0 1 0 0 1 0 0 0\n",
      " 1 0 1 0 1 1 0 1 1 1 0 0 1 1 1 1 1 1 1 1 1 0 1 1 0 1 1 0 1 1 1 1 1 0 1 1 0\n",
      " 1 1 1 1 0 0 1 0 1 1 0 1 1 1 0 1 1 1 0 0 1 1 1 1 1 1 1 1 1 1 1 0 1 1 1 0 1\n",
      " 1 0 1 1 1 1 1 0 0 1 1 1 1 1 1 1 1 1 0 1 1 1 0 1 0 1 1 1 0 1 1 1 1 1 1 1 0\n",
      " 1 1 0 1 1 1 0 1 1 0 1 1 0 1 1 1 0 1 0 1 1 0 1 1 1] (426,)\n"
     ]
    }
   ],
   "source": [
    "print(target_test,target_train.shape)"
   ]
  },
  {
   "cell_type": "code",
   "execution_count": 92,
   "id": "f9753a79",
   "metadata": {},
   "outputs": [],
   "source": [
    "c_test=pred_torch(model1,test_im_loader)\n",
    "c_train=pred_torch(model1,train_im_loader_pred)"
   ]
  },
  {
   "cell_type": "code",
   "execution_count": 93,
   "id": "a89bec36",
   "metadata": {},
   "outputs": [
    {
     "name": "stdout",
     "output_type": "stream",
     "text": [
      "[0.0, 0.0, 0.0, 0.0, 0.0, 0.0, 0.0, 0.0, 0.0, 0.0, 0.0, 0.0, 0.0, 0.0, 0.0, 0.0, 0.0, 0.0, 0.0, 0.0, 0.0, 0.0, 0.0, 0.0, 0.0, 0.0, 0.0, 0.0, 0.0, 0.0, 0.0, 0.0, 0.0, 0.0, 0.0, 0.0, 0.0, 0.0, 0.0, 0.0, 0.0, 0.0, 0.0, 0.0, 0.0, 0.0, 0.0, 0.0, 0.0, 0.0, 0.0, 0.0, 0.0, 0.0, 0.0, 0.0, 0.0, 0.0, 0.0, 0.0, 0.0, 0.0, 0.0, 0.0, 0.0, 0.0, 0.0, 0.0, 0.0, 0.0, 0.0, 0.0, 0.0, 0.0, 0.0, 0.0, 0.0, 0.0, 0.0, 0.0, 0.0, 0.0, 0.0, 0.0, 0.0, 0.0, 0.0, 0.0, 0.0, 0.0, 0.0, 0.0, 0.0, 0.0, 0.0, 0.0, 0.0, 0.0, 0.0, 0.0, 0.0, 0.0, 0.0, 0.0, 0.0, 0.0, 0.0, 0.0, 0.0, 0.0, 0.0, 0.0, 0.0, 0.0, 0.0, 0.0, 0.0, 0.0, 0.0, 0.0, 0.0, 0.0, 0.0, 0.0, 0.0, 0.0, 0.0, 0.0, 0.0, 0.0, 0.0, 0.0, 0.0, 0.0, 0.0, 0.0, 0.0, 0.0, 0.0, 0.0, 0.0, 0.0, 0.0, 0.0, 0.0, 0.0, 0.0, 0.0, 0.0, 0.0, 0.0, 0.0, 0.0, 0.0, 0.0, 0.0, 0.0, 0.0, 0.0, 0.0, 0.0, 0.0, 0.0, 0.0, 0.0, 0.0, 0.0, 0.0, 0.0, 0.0, 0.0, 0.0, 0.0, 0.0, 0.0, 0.0, 0.0, 0.0, 0.0, 0.0, 0.0, 0.0, 0.0, 0.0, 0.0, 0.0, 0.0, 0.0, 0.0, 0.0, 0.0, 0.0, 0.0, 0.0, 0.0, 0.0, 0.0, 0.0, 0.0, 0.0, 0.0, 0.0, 0.0, 0.0, 0.0, 0.0, 0.0, 0.0, 0.0, 0.0, 0.0, 0.0, 0.0, 0.0, 0.0, 0.0, 0.0, 0.0, 0.0, 0.0, 0.0, 0.0, 0.0, 0.0, 0.0, 0.0, 0.0, 0.0, 0.0, 0.0, 0.0, 0.0, 0.0, 0.0, 0.0, 0.0, 0.0, 0.0, 0.0, 0.0, 0.0, 0.0, 0.0, 0.0, 0.0, 0.0, 0.0, 0.0, 0.0, 0.0, 0.0, 0.0, 0.0, 0.0, 0.0, 0.0, 0.0, 0.0, 0.0, 0.0, 0.0, 0.0, 0.0, 0.0, 0.0, 0.0, 0.0, 0.0, 0.0, 0.0, 0.0, 0.0, 0.0, 0.0, 0.0, 0.0, 0.0, 0.0, 0.0, 0.0, 0.0, 0.0, 0.0, 0.0, 0.0, 0.0, 0.0, 0.0, 0.0, 0.0, 0.0, 0.0, 0.0, 0.0, 0.0, 0.0, 0.0, 0.0, 0.0, 0.0, 0.0, 0.0, 0.0, 0.0, 0.0, 0.0, 0.0, 0.0, 0.0, 0.0, 0.0, 0.0, 0.0, 0.0, 0.0, 0.0, 0.0, 0.0, 0.0, 0.0, 0.0, 0.0, 0.0, 0.0, 0.0, 0.0, 0.0, 0.0, 0.0, 0.0, 0.0, 0.0, 0.0, 0.0, 0.0, 0.0, 0.0, 0.0, 0.0, 0.0, 0.0, 0.0, 0.0, 0.0, 0.0, 0.0, 0.0, 0.0, 0.0, 0.0, 0.0, 0.0, 0.0, 0.0, 0.0, 0.0, 0.0, 0.0, 0.0, 0.0, 0.0, 0.0, 0.0, 0.0, 0.0, 0.0, 0.0, 0.0, 0.0, 0.0, 0.0, 0.0, 0.0, 0.0, 0.0, 0.0, 0.0, 0.0, 0.0, 0.0, 0.0, 0.0, 0.0, 0.0, 0.0, 0.0, 0.0, 0.0, 0.0, 0.0, 0.0, 0.0, 0.0, 0.0, 0.0, 0.0, 0.0, 0.0, 0.0, 0.0, 0.0, 0.0, 0.0, 0.0, 0.0, 0.0, 0.0, 0.0, 0.0, 0.0, 0.0, 0.0, 0.0, 0.0, 0.0, 0.0, 0.0, 0.0, 0.0, 0.0, 0.0, 0.0, 0.0, 0.0, 0.0, 0.0]\n"
     ]
    }
   ],
   "source": [
    "print(c_train)"
   ]
  },
  {
   "cell_type": "code",
   "execution_count": null,
   "id": "235f8bce",
   "metadata": {},
   "outputs": [],
   "source": []
  }
 ],
 "metadata": {
  "kernelspec": {
   "display_name": "Python 3 (ipykernel)",
   "language": "python",
   "name": "python3"
  },
  "language_info": {
   "codemirror_mode": {
    "name": "ipython",
    "version": 3
   },
   "file_extension": ".py",
   "mimetype": "text/x-python",
   "name": "python",
   "nbconvert_exporter": "python",
   "pygments_lexer": "ipython3",
   "version": "3.8.15"
  }
 },
 "nbformat": 4,
 "nbformat_minor": 5
}
