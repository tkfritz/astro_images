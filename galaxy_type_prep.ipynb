{
 "cells": [
  {
   "cell_type": "markdown",
   "id": "dd0ea53a",
   "metadata": {},
   "source": [
    "In this notebook galaxies of different types atre distinguished. "
   ]
  },
  {
   "cell_type": "code",
   "execution_count": 2,
   "id": "e60d3cd0",
   "metadata": {},
   "outputs": [],
   "source": [
    "#standard libraries\n",
    "import pandas as pd\n",
    "import numpy as np\n",
    "from matplotlib import pyplot as plt\n",
    "from matplotlib.pyplot import figure\n",
    "import matplotlib.cm as cm\n",
    "import sys\n",
    "import os\n",
    "#wcs is incompabible with newest numpy thus below not used \n",
    "#from astropy import wcs\n",
    "#to access astronomical images in fits format\n",
    "from astropy.io import fits\n",
    "#torch functions\n",
    "import torch\n",
    "from torch import nn\n",
    "import torch.nn.functional as F\n",
    "import torch.optim as optim\n",
    "from torch.utils.data import Dataset, DataLoader\n",
    "from tqdm.notebook import tqdm\n",
    "#sklearn helper functions\n",
    "from sklearn.model_selection import train_test_split\n",
    "from sklearn.metrics import confusion_matrix, accuracy_score, precision_score,f1_score, log_loss\n",
    "#xgboost for comparison\n",
    "from xgboost import XGBClassifier\n",
    "#logistic regression for comparison \n",
    "from sklearn.linear_model import LogisticRegression\n"
   ]
  },
  {
   "cell_type": "markdown",
   "id": "9a3ff0ab",
   "metadata": {},
   "source": [
    "Now loading the data on the classification and other properties of the objects to be classified. "
   ]
  },
  {
   "cell_type": "code",
   "execution_count": 4,
   "id": "98805c75",
   "metadata": {},
   "outputs": [
    {
     "name": "stdout",
     "output_type": "stream",
     "text": [
      "Index(['objid', 'ra', 'dec', 'u', 'g', 'r', 'i', 'z', 'run', 'rerun', 'camcol',\n",
      "       'field', 'specobjid', 'class', 'subclass', 'redshift', 'plate', 'mjd',\n",
      "       'fiberid', 'nvote', 'p_el', 'p_cw', 'p_acw', 'p_edge', 'p_dk', 'p_mg',\n",
      "       'p_el_debiased', 'p_cs_debiased'],\n",
      "      dtype='object')\n"
     ]
    }
   ],
   "source": [
    "df=pd.read_csv('Stripe82_1_zoo1.csv',sep=',')\n",
    "print(df.columns)"
   ]
  },
  {
   "cell_type": "code",
   "execution_count": 5,
   "id": "f81565cf",
   "metadata": {},
   "outputs": [
    {
     "name": "stdout",
     "output_type": "stream",
     "text": [
      "GALAXY    461\n",
      "QSO         5\n",
      "Name: class, dtype: int64\n"
     ]
    }
   ],
   "source": [
    "print(df['class'].value_counts())"
   ]
  },
  {
   "cell_type": "code",
   "execution_count": 7,
   "id": "c4ec588a",
   "metadata": {},
   "outputs": [
    {
     "name": "stdout",
     "output_type": "stream",
     "text": [
      "STARFORMING              143\n",
      "STARBURST                 21\n",
      "AGN                       18\n",
      "BROADLINE                  8\n",
      "STARFORMING BROADLINE      2\n",
      "STARBURST BROADLINE        1\n",
      "AGN BROADLINE              1\n",
      "Name: subclass, dtype: int64\n"
     ]
    }
   ],
   "source": [
    "print(df['subclass'].value_counts())"
   ]
  },
  {
   "cell_type": "code",
   "execution_count": 6,
   "id": "0c8d870b",
   "metadata": {},
   "outputs": [
    {
     "name": "stdout",
     "output_type": "stream",
     "text": [
      "28    34\n",
      "30    31\n",
      "33    27\n",
      "32    27\n",
      "31    20\n",
      "27    20\n",
      "35    19\n",
      "59    18\n",
      "29    16\n",
      "26    13\n",
      "37    13\n",
      "34    12\n",
      "25    11\n",
      "23    11\n",
      "36    10\n",
      "22     8\n",
      "42     8\n",
      "38     8\n",
      "24     7\n",
      "47     7\n",
      "52     7\n",
      "51     7\n",
      "58     7\n",
      "65     7\n",
      "55     7\n",
      "56     6\n",
      "46     6\n",
      "40     6\n",
      "54     6\n",
      "57     5\n",
      "43     5\n",
      "20     5\n",
      "62     5\n",
      "61     5\n",
      "45     4\n",
      "41     4\n",
      "53     4\n",
      "69     4\n",
      "44     4\n",
      "66     4\n",
      "21     3\n",
      "49     3\n",
      "73     3\n",
      "70     3\n",
      "39     3\n",
      "64     3\n",
      "50     2\n",
      "17     2\n",
      "19     2\n",
      "67     2\n",
      "68     2\n",
      "63     2\n",
      "60     2\n",
      "16     1\n",
      "74     1\n",
      "75     1\n",
      "79     1\n",
      "72     1\n",
      "18     1\n",
      "Name: nvote, dtype: int64\n"
     ]
    }
   ],
   "source": [
    "print(df['nvote'].value_counts())"
   ]
  },
  {
   "cell_type": "code",
   "execution_count": 8,
   "id": "ebdc61bc",
   "metadata": {},
   "outputs": [
    {
     "name": "stdout",
     "output_type": "stream",
     "text": [
      "count    466.000000\n",
      "mean       0.105482\n",
      "std        0.068600\n",
      "min        0.020425\n",
      "25%        0.049426\n",
      "50%        0.102624\n",
      "75%        0.140850\n",
      "max        0.748432\n",
      "Name: redshift, dtype: float64\n"
     ]
    }
   ],
   "source": [
    "print(df['redshift'].describe())"
   ]
  },
  {
   "cell_type": "code",
   "execution_count": 16,
   "id": "1486f54d",
   "metadata": {},
   "outputs": [
    {
     "name": "stdout",
     "output_type": "stream",
     "text": [
      "Index(['p_el', 'p_cw', 'p_acw', 'p_edge', 'p_dk', 'p_mg', 'p_el_debiased',\n",
      "       'p_cs_debiased'],\n",
      "      dtype='object')\n"
     ]
    }
   ],
   "source": [
    "print(df.iloc[:,20:29].columns)"
   ]
  },
  {
   "cell_type": "code",
   "execution_count": 19,
   "id": "c68e7841",
   "metadata": {},
   "outputs": [
    {
     "name": "stdout",
     "output_type": "stream",
     "text": [
      "count    466.000000\n",
      "mean       0.555440\n",
      "std        0.279177\n",
      "min        0.000000\n",
      "25%        0.321000\n",
      "50%        0.600000\n",
      "75%        0.795250\n",
      "max        1.000000\n",
      "Name: p_el, dtype: float64\n",
      "count    466.000000\n",
      "mean       0.068227\n",
      "std        0.164644\n",
      "min        0.000000\n",
      "25%        0.000000\n",
      "50%        0.007000\n",
      "75%        0.043000\n",
      "max        1.000000\n",
      "Name: p_cw, dtype: float64\n",
      "count    466.000000\n",
      "mean       0.076116\n",
      "std        0.160698\n",
      "min        0.000000\n",
      "25%        0.000000\n",
      "50%        0.020000\n",
      "75%        0.069000\n",
      "max        0.971000\n",
      "Name: p_acw, dtype: float64\n",
      "count    466.000000\n",
      "mean       0.196697\n",
      "std        0.206639\n",
      "min        0.000000\n",
      "25%        0.043500\n",
      "50%        0.126000\n",
      "75%        0.267000\n",
      "max        1.000000\n",
      "Name: p_edge, dtype: float64\n",
      "count    466.000000\n",
      "mean       0.077376\n",
      "std        0.082146\n",
      "min        0.000000\n",
      "25%        0.019000\n",
      "50%        0.058500\n",
      "75%        0.108000\n",
      "max        0.606000\n",
      "Name: p_dk, dtype: float64\n",
      "count    466.000000\n",
      "mean       0.026034\n",
      "std        0.082431\n",
      "min        0.000000\n",
      "25%        0.000000\n",
      "50%        0.000000\n",
      "75%        0.000000\n",
      "max        0.733000\n",
      "Name: p_mg, dtype: float64\n",
      "count    466.000000\n",
      "mean       0.439298\n",
      "std        0.306144\n",
      "min        0.000000\n",
      "25%        0.138500\n",
      "50%        0.438500\n",
      "75%        0.708000\n",
      "max        1.000000\n",
      "Name: p_el_debiased, dtype: float64\n",
      "count    466.000000\n",
      "mean       0.443105\n",
      "std        0.318124\n",
      "min        0.000000\n",
      "25%        0.163500\n",
      "50%        0.383000\n",
      "75%        0.743500\n",
      "max        1.000000\n",
      "Name: p_cs_debiased, dtype: float64\n"
     ]
    }
   ],
   "source": [
    "for i in range(20, 28):\n",
    "    print(df.iloc[:,i].describe())"
   ]
  },
  {
   "cell_type": "markdown",
   "id": "5bdec949",
   "metadata": {},
   "source": [
    "Clearly not all well classified, thus need further cleaningb as input. Also need to read paper more. "
   ]
  },
  {
   "cell_type": "code",
   "execution_count": 24,
   "id": "b7cba985",
   "metadata": {},
   "outputs": [
    {
     "name": "stdout",
     "output_type": "stream",
     "text": [
      "(287, 28)\n",
      "(466, 28)\n"
     ]
    }
   ],
   "source": [
    "df2=df[(df.p_el_debiased>2/3) | (df.p_cs_debiased>2/3) ]\n",
    "print(df2.shape)\n",
    "print(df.shape)"
   ]
  },
  {
   "cell_type": "code",
   "execution_count": null,
   "id": "690ec501",
   "metadata": {},
   "outputs": [],
   "source": []
  }
 ],
 "metadata": {
  "kernelspec": {
   "display_name": "Python 3 (ipykernel)",
   "language": "python",
   "name": "python3"
  },
  "language_info": {
   "codemirror_mode": {
    "name": "ipython",
    "version": 3
   },
   "file_extension": ".py",
   "mimetype": "text/x-python",
   "name": "python",
   "nbconvert_exporter": "python",
   "pygments_lexer": "ipython3",
   "version": "3.8.15"
  }
 },
 "nbformat": 4,
 "nbformat_minor": 5
}
