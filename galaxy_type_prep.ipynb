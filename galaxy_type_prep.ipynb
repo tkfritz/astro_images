{
 "cells": [
  {
   "cell_type": "markdown",
   "id": "dd0ea53a",
   "metadata": {},
   "source": [
    "In this notebook galaxies of different types atre distinguished. "
   ]
  },
  {
   "cell_type": "code",
   "execution_count": 115,
   "id": "e60d3cd0",
   "metadata": {},
   "outputs": [],
   "source": [
    "#standard libraries\n",
    "import pandas as pd\n",
    "import numpy as np\n",
    "from matplotlib import pyplot as plt\n",
    "from matplotlib.pyplot import figure\n",
    "import matplotlib.cm as cm\n",
    "import sys\n",
    "import os\n",
    "#wcs is incompabible with newest numpy thus below not used \n",
    "#from astropy import wcs\n",
    "#to access astronomical images in fits format\n",
    "from astropy.io import fits\n",
    "#torch functions\n",
    "import torch\n",
    "from torch import nn\n",
    "import torch.nn.functional as F\n",
    "import torch.optim as optim\n",
    "from torch.utils.data import Dataset, DataLoader\n",
    "from tqdm.notebook import tqdm\n",
    "#sklearn helper functions\n",
    "from sklearn.model_selection import train_test_split\n",
    "from sklearn.metrics import confusion_matrix, accuracy_score, precision_score,f1_score, log_loss\n",
    "#xgboost for comparison\n",
    "from xgboost import XGBClassifier\n",
    "#logistic regression for comparison \n",
    "from sklearn.linear_model import LogisticRegression\n"
   ]
  },
  {
   "cell_type": "markdown",
   "id": "9a3ff0ab",
   "metadata": {},
   "source": [
    "Now loading the data on the classification and other properties of the objects to be classified. "
   ]
  },
  {
   "cell_type": "code",
   "execution_count": 116,
   "id": "98805c75",
   "metadata": {},
   "outputs": [
    {
     "name": "stdout",
     "output_type": "stream",
     "text": [
      "Index(['objid', 'ra', 'dec', 'psfMag_u', 'psfMag_g', 'psfMag_r', 'psfMag_i',\n",
      "       'psfMag_z', 'probPSF_u', 'probPSF_g', 'probPSF_r', 'probPSF_i',\n",
      "       'probPSF_z', 'modelMag_u', 'modelMag_g', 'modelMag_r', 'modelMag_i',\n",
      "       'modelMag_z', 'petroRad_g', 'petroRad_r', 'petroRad_i', 'run', 'rerun',\n",
      "       'camcol', 'field', 'type', 'specobjid', 'class', 'subclass', 'redshift',\n",
      "       'plate', 'mjd', 'fiberid', 'nvote', 'p_el', 'p_cw', 'p_acw', 'p_edge',\n",
      "       'p_dk', 'p_mg', 'p_el_debiased', 'p_cs_debiased', 'spiral',\n",
      "       'elliptical', 'uncertain'],\n",
      "      dtype='object')\n"
     ]
    }
   ],
   "source": [
    "df=pd.read_csv('Stripe82_1_zoo1b.csv',sep=',')\n",
    "print(df.columns)"
   ]
  },
  {
   "cell_type": "code",
   "execution_count": 3,
   "id": "f81565cf",
   "metadata": {},
   "outputs": [
    {
     "name": "stdout",
     "output_type": "stream",
     "text": [
      "GALAXY    461\n",
      "QSO         5\n",
      "Name: class, dtype: int64\n"
     ]
    }
   ],
   "source": [
    "print(df['class'].value_counts())"
   ]
  },
  {
   "cell_type": "code",
   "execution_count": 4,
   "id": "c4ec588a",
   "metadata": {},
   "outputs": [
    {
     "name": "stdout",
     "output_type": "stream",
     "text": [
      "STARFORMING              143\n",
      "STARBURST                 21\n",
      "AGN                       18\n",
      "BROADLINE                  8\n",
      "STARFORMING BROADLINE      2\n",
      "STARBURST BROADLINE        1\n",
      "AGN BROADLINE              1\n",
      "Name: subclass, dtype: int64\n"
     ]
    }
   ],
   "source": [
    "print(df['subclass'].value_counts())"
   ]
  },
  {
   "cell_type": "code",
   "execution_count": 7,
   "id": "0c8d870b",
   "metadata": {},
   "outputs": [
    {
     "name": "stdout",
     "output_type": "stream",
     "text": [
      "16     1\n",
      "17     2\n",
      "18     1\n",
      "19     2\n",
      "20     5\n",
      "21     3\n",
      "22     8\n",
      "23    11\n",
      "24     7\n",
      "25    11\n",
      "26    13\n",
      "27    20\n",
      "28    34\n",
      "29    16\n",
      "30    31\n",
      "31    20\n",
      "32    27\n",
      "33    27\n",
      "34    12\n",
      "35    19\n",
      "36    10\n",
      "37    13\n",
      "38     8\n",
      "39     3\n",
      "40     6\n",
      "41     4\n",
      "42     8\n",
      "43     5\n",
      "44     4\n",
      "45     4\n",
      "46     6\n",
      "47     7\n",
      "49     3\n",
      "50     2\n",
      "51     7\n",
      "52     7\n",
      "53     4\n",
      "54     6\n",
      "55     7\n",
      "56     6\n",
      "57     5\n",
      "58     7\n",
      "59    18\n",
      "60     2\n",
      "61     5\n",
      "62     5\n",
      "63     2\n",
      "64     3\n",
      "65     7\n",
      "66     4\n",
      "67     2\n",
      "68     2\n",
      "69     4\n",
      "70     3\n",
      "72     1\n",
      "73     3\n",
      "74     1\n",
      "75     1\n",
      "79     1\n",
      "Name: nvote, dtype: int64\n"
     ]
    }
   ],
   "source": [
    "print(df['nvote'].value_counts().sort_index())"
   ]
  },
  {
   "cell_type": "code",
   "execution_count": 8,
   "id": "ebdc61bc",
   "metadata": {},
   "outputs": [
    {
     "name": "stdout",
     "output_type": "stream",
     "text": [
      "count    466.000000\n",
      "mean       0.105482\n",
      "std        0.068600\n",
      "min        0.020425\n",
      "25%        0.049426\n",
      "50%        0.102624\n",
      "75%        0.140850\n",
      "max        0.748432\n",
      "Name: redshift, dtype: float64\n"
     ]
    }
   ],
   "source": [
    "print(df['redshift'].describe())"
   ]
  },
  {
   "cell_type": "code",
   "execution_count": 12,
   "id": "1486f54d",
   "metadata": {},
   "outputs": [
    {
     "name": "stdout",
     "output_type": "stream",
     "text": [
      "Index(['p_el', 'p_cw', 'p_acw', 'p_edge', 'p_dk', 'p_mg', 'p_el_debiased',\n",
      "       'p_cs_debiased'],\n",
      "      dtype='object')\n"
     ]
    }
   ],
   "source": [
    "print(df.iloc[:,34:42].columns)"
   ]
  },
  {
   "cell_type": "code",
   "execution_count": 13,
   "id": "c68e7841",
   "metadata": {},
   "outputs": [
    {
     "name": "stdout",
     "output_type": "stream",
     "text": [
      "count    466.000000\n",
      "mean       0.555440\n",
      "std        0.279177\n",
      "min        0.000000\n",
      "25%        0.321000\n",
      "50%        0.600000\n",
      "75%        0.795250\n",
      "max        1.000000\n",
      "Name: p_el, dtype: float64\n",
      "count    466.000000\n",
      "mean       0.068227\n",
      "std        0.164644\n",
      "min        0.000000\n",
      "25%        0.000000\n",
      "50%        0.007000\n",
      "75%        0.043000\n",
      "max        1.000000\n",
      "Name: p_cw, dtype: float64\n",
      "count    466.000000\n",
      "mean       0.076116\n",
      "std        0.160698\n",
      "min        0.000000\n",
      "25%        0.000000\n",
      "50%        0.020000\n",
      "75%        0.069000\n",
      "max        0.971000\n",
      "Name: p_acw, dtype: float64\n",
      "count    466.000000\n",
      "mean       0.196697\n",
      "std        0.206639\n",
      "min        0.000000\n",
      "25%        0.043500\n",
      "50%        0.126000\n",
      "75%        0.267000\n",
      "max        1.000000\n",
      "Name: p_edge, dtype: float64\n",
      "count    466.000000\n",
      "mean       0.077376\n",
      "std        0.082146\n",
      "min        0.000000\n",
      "25%        0.019000\n",
      "50%        0.058500\n",
      "75%        0.108000\n",
      "max        0.606000\n",
      "Name: p_dk, dtype: float64\n",
      "count    466.000000\n",
      "mean       0.026034\n",
      "std        0.082431\n",
      "min        0.000000\n",
      "25%        0.000000\n",
      "50%        0.000000\n",
      "75%        0.000000\n",
      "max        0.733000\n",
      "Name: p_mg, dtype: float64\n",
      "count    466.000000\n",
      "mean       0.439298\n",
      "std        0.306144\n",
      "min        0.000000\n",
      "25%        0.138500\n",
      "50%        0.438500\n",
      "75%        0.708000\n",
      "max        1.000000\n",
      "Name: p_el_debiased, dtype: float64\n",
      "count    466.000000\n",
      "mean       0.443105\n",
      "std        0.318124\n",
      "min        0.000000\n",
      "25%        0.163500\n",
      "50%        0.383000\n",
      "75%        0.743500\n",
      "max        1.000000\n",
      "Name: p_cs_debiased, dtype: float64\n",
      "count    466.000000\n",
      "mean       0.240343\n",
      "std        0.427751\n",
      "min        0.000000\n",
      "25%        0.000000\n",
      "50%        0.000000\n",
      "75%        0.000000\n",
      "max        1.000000\n",
      "Name: spiral, dtype: float64\n"
     ]
    }
   ],
   "source": [
    "for i in range(34, 43):\n",
    "    print(df.iloc[:,i].describe())"
   ]
  },
  {
   "cell_type": "markdown",
   "id": "5bdec949",
   "metadata": {},
   "source": [
    "In the numbers above clearly not all well classified, thus need further cleaning needed as input. I use the marker of elliptical, spiral for it. Other types like merger have not enough good classifications. That are two classes, a thord can be added when adding stars. "
   ]
  },
  {
   "cell_type": "code",
   "execution_count": 28,
   "id": "b7cba985",
   "metadata": {},
   "outputs": [
    {
     "name": "stdout",
     "output_type": "stream",
     "text": [
      "(171, 48)\n",
      "(466, 48)\n",
      "59\n",
      "112\n"
     ]
    }
   ],
   "source": [
    "df2=df[(df.spiral==1) | (df.elliptical==1) ]\n",
    "print(df2.shape)\n",
    "print(df.shape)\n",
    "print(df2.elliptical.sum())\n",
    "print(df2.spiral.sum())"
   ]
  },
  {
   "cell_type": "markdown",
   "id": "12c4578f",
   "metadata": {},
   "source": [
    "There are 112 spiral and 59 elliptical in this data set. Likely not enough. For Now I figure out the sizez, get and save cutouts and later repeat with other data sets. "
   ]
  },
  {
   "cell_type": "code",
   "execution_count": 17,
   "id": "98c16c24",
   "metadata": {},
   "outputs": [],
   "source": [
    "def image_area(dat):\n",
    "    ra_ref=dat[0].header['CRVAL1']\n",
    "    ra_center=dat[0].header['CRPIX1']\n",
    "    ra_scale=dat[0].header['CD1_1']\n",
    "    dec_ref=dat[0].header['CRVAL2']\n",
    "    dec_center=dat[0].header['CRPIX2']\n",
    "    dec_scale=dat[0].header['CD2_2'] \n",
    "    image=dat[0].data\n",
    "    res=np.array([[ra_ref+(1-ra_center)*ra_scale,ra_ref+(image.shape[0]-ra_center)*ra_scale],[dec_ref+(1-dec_center)*dec_scale,dec_ref+(image.shape[1]-dec_center)*dec_scale]])\n",
    "    return res"
   ]
  },
  {
   "cell_type": "code",
   "execution_count": 18,
   "id": "2862db7f",
   "metadata": {},
   "outputs": [],
   "source": [
    "def image_par(dat):\n",
    "    ra_ref=dat[0].header['CRVAL1']\n",
    "    ra_center=dat[0].header['CRPIX1']\n",
    "    ra_scale=dat[0].header['CD1_1']\n",
    "    dec_ref=dat[0].header['CRVAL2']\n",
    "    dec_center=dat[0].header['CRPIX2']\n",
    "    dec_scale=dat[0].header['CD2_2'] \n",
    "    par=np.array([ra_ref,ra_center,ra_scale,dec_ref,dec_center,dec_scale])\n",
    "    return par"
   ]
  },
  {
   "cell_type": "code",
   "execution_count": 19,
   "id": "5d812967",
   "metadata": {},
   "outputs": [],
   "source": [
    "def image_xy(ra,dec,dat=0,par=0,image=True):\n",
    "    #image is used input and the parameters are used\n",
    "    if image==True:\n",
    "        ra_ref=dat[0].header['CRVAL1']\n",
    "        ra_center=dat[0].header['CRPIX1']\n",
    "        ra_scale=dat[0].header['CD1_1']\n",
    "        dec_ref=dat[0].header['CRVAL2']\n",
    "        dec_center=dat[0].header['CRPIX2']\n",
    "        dec_scale=dat[0].header['CD2_2'] \n",
    "    #paramter input    \n",
    "    else:   \n",
    "        ra_ref=par[0]\n",
    "        ra_center=par[1]\n",
    "        ra_scale=par[2]\n",
    "        dec_ref=par[3]\n",
    "        dec_center=par[4]\n",
    "        dec_scale=par[5]\n",
    "    #get the positions (pixels on image) \n",
    "    # the cosine part is only important if the image not close to the euqator \n",
    "    x=ra_center+(ra-ra_ref)/ra_scale*np.cos(dec/180*np.pi)\n",
    "    y=dec_center+(dec-dec_ref)/dec_scale\n",
    "    pixels=np.array([x,y])\n",
    "    return pixels"
   ]
  },
  {
   "cell_type": "code",
   "execution_count": 20,
   "id": "48753413",
   "metadata": {},
   "outputs": [
    {
     "name": "stdout",
     "output_type": "stream",
     "text": [
      "['f2001_rdeep.fits.gz', 'f2002_rdeep.fits.gz', 'f2003_rdeep.fits.gz', 'f2004_rdeep.fits.gz', 'f2005_rdeep.fits.gz', 'f2011_rdeep.fits.gz', 'f2012_rdeep.fits.gz', 'f2013_rdeep.fits.gz', 'f2014_rdeep.fits.gz', 'f2015_rdeep.fits.gz', 'f2021_rdeep.fits.gz', 'f2022_rdeep.fits.gz', 'f2023_rdeep.fits.gz', 'f2024_rdeep.fits.gz', 'f2025_rdeep.fits.gz', 'f2031_rdeep.fits.gz', 'f2032_rdeep.fits.gz', 'f2033_rdeep.fits.gz', 'f2034_rdeep.fits.gz', 'f2035_rdeep.fits.gz', 'f2041_rdeep.fits.gz', 'f2042_rdeep.fits.gz', 'f2043_rdeep.fits.gz', 'f2044_rdeep.fits.gz', 'f2045_rdeep.fits.gz', 'f2051_rdeep.fits.gz', 'f2052_rdeep.fits.gz', 'f2053_rdeep.fits.gz', 'f2054_rdeep.fits.gz', 'f2055_rdeep.fits.gz', 'f2061_rdeep.fits.gz', 'f2062_rdeep.fits.gz', 'f2063_rdeep.fits.gz', 'f2064_rdeep.fits.gz', 'f2065_rdeep.fits.gz']\n"
     ]
    }
   ],
   "source": [
    "path='/home/tobias/ml-testing/astr-images/'\n",
    "list_input_files=[f for f in os.listdir(path) \n",
    "    if f.endswith('_rdeep.fits.gz') and os.path.isfile(os.path.join(path, f))]\n",
    "list_input_files.sort()\n",
    "print(list_input_files)"
   ]
  },
  {
   "cell_type": "code",
   "execution_count": 21,
   "id": "be371390",
   "metadata": {},
   "outputs": [
    {
     "name": "stdout",
     "output_type": "stream",
     "text": [
      "0\n",
      "1\n",
      "2\n",
      "3\n",
      "4\n",
      "5\n",
      "6\n",
      "7\n",
      "8\n",
      "9\n",
      "10\n",
      "11\n",
      "12\n",
      "13\n",
      "14\n",
      "15\n",
      "16\n",
      "17\n",
      "18\n",
      "19\n",
      "20\n",
      "21\n",
      "22\n",
      "23\n",
      "24\n",
      "25\n",
      "26\n",
      "27\n",
      "28\n",
      "29\n",
      "30\n",
      "31\n",
      "32\n",
      "33\n",
      "34\n",
      "[[ 4.97500000e+01  4.97500000e+01  4.97500000e+01  4.97500000e+01\n",
      "   4.97500000e+01  5.02500000e+01  5.02500000e+01  5.02500000e+01\n",
      "   5.02500000e+01  5.02500000e+01  5.07500000e+01  5.07500000e+01\n",
      "   5.07500000e+01  5.07500000e+01  5.07500000e+01  5.12500000e+01\n",
      "   5.12500000e+01  5.12500000e+01  5.12500000e+01  5.12500000e+01\n",
      "   5.17500000e+01  5.17500000e+01  5.17500000e+01  5.17500000e+01\n",
      "   5.17500000e+01  5.22500000e+01  5.22500000e+01  5.22500000e+01\n",
      "   5.22500000e+01  5.22500000e+01  5.27500000e+01  5.27500000e+01\n",
      "   5.27500000e+01  5.27500000e+01  5.27500000e+01]\n",
      " [-1.00000000e+00 -5.00000000e-01 -1.08246745e-15  5.00000000e-01\n",
      "   1.00000000e+00 -1.00000000e+00 -5.00000000e-01 -1.08246745e-15\n",
      "   5.00000000e-01  1.00000000e+00 -1.00000000e+00 -5.00000000e-01\n",
      "  -1.08246745e-15  5.00000000e-01  1.00000000e+00 -1.00000000e+00\n",
      "  -5.00000000e-01 -1.08246745e-15  5.00000000e-01  1.00000000e+00\n",
      "  -1.00000000e+00 -5.00000000e-01 -1.08246745e-15  5.00000000e-01\n",
      "   1.00000000e+00 -1.00000000e+00 -5.00000000e-01 -1.08246745e-15\n",
      "   5.00000000e-01  1.00000000e+00 -1.00000000e+00 -5.00000000e-01\n",
      "  -1.08246745e-15  5.00000000e-01  1.00000000e+00]]\n"
     ]
    }
   ],
   "source": [
    "centers=np.zeros((2,len(list_input_files)))\n",
    "wcs_par=np.zeros((6,len(list_input_files)))\n",
    "for i in range(len(list_input_files)):\n",
    "    print(i)\n",
    "    #get images\n",
    "    hbin=fits.open(path+list_input_files[i],memmap=True)\n",
    "    #get parameters wanted \n",
    "    res=image_area(hbin)\n",
    "    par=image_par(hbin)\n",
    "    hbin.close()\n",
    "    centers[0,i]=(res[0,0]+res[0,1])/2  #center is avarage of extension in both dimensions\n",
    "    centers[1,i]=(res[1,0]+res[1,1])/2\n",
    "    #parameters to find objects on images\n",
    "    wcs_par[:,i]=par\n",
    "print(centers)  \n"
   ]
  },
  {
   "cell_type": "code",
   "execution_count": 38,
   "id": "d786413d",
   "metadata": {},
   "outputs": [
    {
     "name": "stdout",
     "output_type": "stream",
     "text": [
      "Index(['objid', 'ra', 'dec', 'psfMag_u', 'psfMag_g', 'psfMag_r', 'psfMag_i',\n",
      "       'psfMag_z', 'probPSF_u', 'probPSF_g', 'probPSF_r', 'probPSF_i',\n",
      "       'probPSF_z', 'modelMag_u', 'modelMag_g', 'modelMag_r', 'modelMag_i',\n",
      "       'modelMag_z', 'petroRad_g', 'petroRad_r', 'petroRad_i', 'run', 'rerun',\n",
      "       'camcol', 'field', 'type', 'specobjid', 'class', 'subclass', 'redshift',\n",
      "       'plate', 'mjd', 'fiberid', 'nvote', 'p_el', 'p_cw', 'p_acw', 'p_edge',\n",
      "       'p_dk', 'p_mg', 'p_el_debiased', 'p_cs_debiased', 'spiral',\n",
      "       'elliptical', 'uncertain', 'image', 'pixel_x', 'pixel_y'],\n",
      "      dtype='object')\n"
     ]
    },
    {
     "name": "stderr",
     "output_type": "stream",
     "text": [
      "/tmp/ipykernel_14412/1108359313.py:2: SettingWithCopyWarning: \n",
      "A value is trying to be set on a copy of a slice from a DataFrame.\n",
      "Try using .loc[row_indexer,col_indexer] = value instead\n",
      "\n",
      "See the caveats in the documentation: https://pandas.pydata.org/pandas-docs/stable/user_guide/indexing.html#returning-a-view-versus-a-copy\n",
      "  df2['image']=-1\n",
      "/tmp/ipykernel_14412/1108359313.py:3: SettingWithCopyWarning: \n",
      "A value is trying to be set on a copy of a slice from a DataFrame.\n",
      "Try using .loc[row_indexer,col_indexer] = value instead\n",
      "\n",
      "See the caveats in the documentation: https://pandas.pydata.org/pandas-docs/stable/user_guide/indexing.html#returning-a-view-versus-a-copy\n",
      "  df2['pixel_x']=-1.0\n",
      "/tmp/ipykernel_14412/1108359313.py:4: SettingWithCopyWarning: \n",
      "A value is trying to be set on a copy of a slice from a DataFrame.\n",
      "Try using .loc[row_indexer,col_indexer] = value instead\n",
      "\n",
      "See the caveats in the documentation: https://pandas.pydata.org/pandas-docs/stable/user_guide/indexing.html#returning-a-view-versus-a-copy\n",
      "  df2['pixel_y']=-1.0\n"
     ]
    }
   ],
   "source": [
    "\n",
    "# I add dummy columns which are later filter with the image and the pixels positions on it for all onbjects\n",
    "df2['image']=-1\n",
    "df2['pixel_x']=-1.0\n",
    "df2['pixel_y']=-1.0\n",
    "print(df2.columns)"
   ]
  },
  {
   "cell_type": "code",
   "execution_count": 117,
   "id": "9f9352e6",
   "metadata": {},
   "outputs": [
    {
     "ename": "SyntaxError",
     "evalue": "expression cannot contain assignment, perhaps you meant \"==\"? (2209389875.py, line 7)",
     "output_type": "error",
     "traceback": [
      "\u001b[0;36m  Cell \u001b[0;32mIn[117], line 7\u001b[0;36m\u001b[0m\n\u001b[0;31m    coor=image_xy(df2['ra'].iloc[i],df2['dec'].iloc[i]=wcs_par[:,df2['image'].iloc[i]],image=False)\u001b[0m\n\u001b[0m                                    ^\u001b[0m\n\u001b[0;31mSyntaxError\u001b[0m\u001b[0;31m:\u001b[0m expression cannot contain assignment, perhaps you meant \"==\"?\n"
     ]
    }
   ],
   "source": [
    "for i in range(df2.shape[0]):\n",
    "    #distances to all images ceneters\n",
    "    r=np.sqrt((df2['ra'].iloc[i]-centers[0])**2+(df2['dec'].iloc[i]-centers[1])**2)\n",
    "    #id of the image\n",
    "    df2['image'].iloc[i]=np.argmin(r)\n",
    "    #get pixel coordinates of image \n",
    "    coor=image_xy(df2['ra'].iloc[i],df2['dec'].iloc[i],par=wcs_par[:,df2['image'].iloc[i]],image=False)\n",
    "    df2['pixel_x'].iloc[i]=coor[0]\n",
    "    df2['pixel_y'].iloc[i]=coor[1]"
   ]
  },
  {
   "cell_type": "code",
   "execution_count": 42,
   "id": "71cbc715",
   "metadata": {},
   "outputs": [
    {
     "name": "stdout",
     "output_type": "stream",
     "text": [
      "5     12\n",
      "6      5\n",
      "7     21\n",
      "8     14\n",
      "9     16\n",
      "10    15\n",
      "11    18\n",
      "12    22\n",
      "13    30\n",
      "14    16\n",
      "15    13\n",
      "16    27\n",
      "17    27\n",
      "18     7\n",
      "19    12\n",
      "20    25\n",
      "21    35\n",
      "22    15\n",
      "23    14\n",
      "24     8\n",
      "25    26\n",
      "26    41\n",
      "27    16\n",
      "28    19\n",
      "29    12\n",
      "Name: image, dtype: int64\n",
      "count     466.000000\n",
      "mean     2272.185116\n",
      "std      1313.327255\n",
      "min         8.482406\n",
      "25%      1025.809866\n",
      "50%      2242.541470\n",
      "75%      3364.450051\n",
      "max      4536.568744\n",
      "Name: pixel_x, dtype: float64\n",
      "count     466.000000\n",
      "mean     2147.574934\n",
      "std      1279.945887\n",
      "min        10.193603\n",
      "25%      1077.989496\n",
      "50%      2020.252412\n",
      "75%      3235.390737\n",
      "max      4570.496224\n",
      "Name: pixel_y, dtype: float64\n"
     ]
    },
    {
     "name": "stderr",
     "output_type": "stream",
     "text": [
      "/tmp/ipykernel_14412/1747985613.py:1: FutureWarning: In a future version of pandas all arguments of Series.sort_index will be keyword-only.\n",
      "  print(df.image.value_counts().sort_index(0))\n"
     ]
    }
   ],
   "source": [
    "print(df.image.value_counts().sort_index(0))\n",
    "print(df.pixel_x.describe())\n",
    "print(df.pixel_y.describe())"
   ]
  },
  {
   "cell_type": "code",
   "execution_count": 43,
   "id": "ca64483c",
   "metadata": {},
   "outputs": [
    {
     "name": "stdout",
     "output_type": "stream",
     "text": [
      "<bound method NDFrame.head of      index                objid         ra       dec  psfMag_u  psfMag_g  \\\n",
      "0        1  1237663237128388701  50.130513 -1.228488  22.01211  20.06700   \n",
      "1      123  1237666299481817102  50.160628 -1.035026  19.01124  17.46116   \n",
      "2      140  1237663237128388949  50.167304 -1.241885  22.36878  20.17246   \n",
      "3      458  1237666300018557091  50.006004 -0.495751  21.98376  19.93291   \n",
      "4      110  1237663238739067202  50.387910  0.198944  21.86834  19.78908   \n",
      "..     ...                  ...        ...       ...       ...       ...   \n",
      "166    435  1237660241925374126  52.442772  0.981833  20.40372  18.25091   \n",
      "167    171  1237660241925242993  52.138302  1.006711  20.15088  18.13022   \n",
      "168    138  1237666301630087349  52.010896  0.750651  20.99527  19.11591   \n",
      "169    355  1237666301630152896  52.116443  0.782111  23.48243  20.96860   \n",
      "170    108  1237666301630087374  52.057037  0.808168  22.29056  20.49410   \n",
      "\n",
      "     psfMag_r  psfMag_i  psfMag_z  probPSF_u  ...   p_dk   p_mg  \\\n",
      "0    18.86854  18.35853  17.93478          0  ...  0.032  0.032   \n",
      "1    16.85288  16.54355  16.19304          0  ...  0.000  0.000   \n",
      "2    18.94735  18.44240  17.99196          0  ...  0.000  0.000   \n",
      "3    18.73658  18.31895  17.89719          0  ...  0.107  0.000   \n",
      "4    18.63620  18.16101  17.63892          0  ...  0.053  0.018   \n",
      "..        ...       ...       ...        ...  ...    ...    ...   \n",
      "166  17.33762  16.81151  16.39220          0  ...  0.030  0.000   \n",
      "167  17.18663  16.71245  16.24861          0  ...  0.000  0.000   \n",
      "168  18.22268  17.87641  17.55599          0  ...  0.000  0.000   \n",
      "169  20.09314  19.67825  19.11968          0  ...  0.000  0.033   \n",
      "170  19.78652  19.46783  18.90996          0  ...  0.000  0.000   \n",
      "\n",
      "     p_el_debiased  p_cs_debiased  spiral  elliptical  uncertain  image  \\\n",
      "0            0.935          0.000       0           1          0      5   \n",
      "1            0.971          0.029       0           1          0      5   \n",
      "2            0.964          0.036       0           1          0      5   \n",
      "3            0.893          0.000       0           1          0      6   \n",
      "4            0.755          0.168       0           1          0      7   \n",
      "..             ...            ...     ...         ...        ...    ...   \n",
      "166          0.970          0.000       0           1          0     29   \n",
      "167          1.000          0.000       0           1          0     29   \n",
      "168          1.000          0.000       0           1          0     29   \n",
      "169          0.010          0.955       1           0          0     29   \n",
      "170          0.169          0.831       1           0          0     29   \n",
      "\n",
      "         pixel_x      pixel_y  \n",
      "0    3362.991349   199.840666  \n",
      "1    3089.338382  1958.577472  \n",
      "2    3028.607250    78.041829  \n",
      "3    4495.057900  2315.626917  \n",
      "4    1023.284682  4085.577633  \n",
      "..           ...          ...  \n",
      "166   524.787184  2111.847375  \n",
      "167  3292.283889  2338.005333  \n",
      "168  4450.486875    10.193603  \n",
      "169  3491.037615   296.186493  \n",
      "170  4031.032066   533.073281  \n",
      "\n",
      "[171 rows x 49 columns]>\n"
     ]
    }
   ],
   "source": [
    "df2=df2.sort_values(by='image')\n",
    "#reset index since the previous row is not wanted \n",
    "df2=df2.reset_index()\n",
    "print(df2.head)"
   ]
  },
  {
   "cell_type": "code",
   "execution_count": 47,
   "id": "63da20fc",
   "metadata": {},
   "outputs": [],
   "source": [
    "def get_cutouts(df,delta):\n",
    "    #collected array\n",
    "    c=0\n",
    "    cut_outs=np.zeros((2*delta+1,2*delta+1,df.shape[0]))\n",
    "    #parameter to indicate whether an image exist. \n",
    "    df['off_image']=False\n",
    "    for i in range(df.shape[0]):\n",
    "        #image loaded if first image\n",
    "        if i==0:\n",
    "            #load file\n",
    "            hbin=fits.open(path+list_input_files[df.image.iloc[i]])\n",
    "            #get image, need to be transposed because of difefrent definitions in astronomy and numpy on what is the first axis\n",
    "            image=hbin[0].data.T\n",
    "        else:\n",
    "            #or if new image\n",
    "            if df.image.iloc[i]!=df.image.iloc[i-1]:\n",
    "                hbin=fits.open(path+list_input_files[df.image.iloc[i]])\n",
    "                #need to be transposed because of difefrent definitions in astronomy and numpy on what is the first axis\n",
    "                image=hbin[0].data.T  \n",
    "        #gfigure out if within image borders  then cut out image is collected       \n",
    "        if round(df.pixel_x.iloc[i])>delta and round(df.pixel_x.iloc[i])<image.shape[0]-delta and  round(df.pixel_y.iloc[i])>delta and round(df.pixel_y.iloc[i])<image.shape[1]-delta:\n",
    "            cut_outs[:,:,i]=image[round(df.pixel_x.iloc[i])-delta:round(df.pixel_x.iloc[i])+delta+1,round(df.pixel_y.iloc[i])-delta:round(df.pixel_y.iloc[i])+delta+1]\n",
    "        else:\n",
    "            #if not marker column set to true\n",
    "            print(f\"row {i} is off the image\")\n",
    "            df['off_image'].iloc[i]=True\n",
    "            c+=1\n",
    "    print(f\"{c} objects are off the image\")        \n",
    "    return df, cut_outs       "
   ]
  },
  {
   "cell_type": "code",
   "execution_count": 57,
   "id": "9687edd6",
   "metadata": {},
   "outputs": [
    {
     "name": "stdout",
     "output_type": "stream",
     "text": [
      "row 26 is off the image\n"
     ]
    },
    {
     "name": "stderr",
     "output_type": "stream",
     "text": [
      "/tmp/ipykernel_14412/1042212200.py:26: SettingWithCopyWarning: \n",
      "A value is trying to be set on a copy of a slice from a DataFrame\n",
      "\n",
      "See the caveats in the documentation: https://pandas.pydata.org/pandas-docs/stable/user_guide/indexing.html#returning-a-view-versus-a-copy\n",
      "  df['off_image'].iloc[i]=True\n"
     ]
    },
    {
     "name": "stdout",
     "output_type": "stream",
     "text": [
      "row 135 is off the image\n",
      "row 168 is off the image\n",
      "3 objects are off the image\n"
     ]
    }
   ],
   "source": [
    "df2,cut_out=get_cutouts(df2,21)"
   ]
  },
  {
   "cell_type": "code",
   "execution_count": 58,
   "id": "e7cbc7bd",
   "metadata": {},
   "outputs": [
    {
     "name": "stdout",
     "output_type": "stream",
     "text": [
      "112 0      0\n",
      "1      0\n",
      "2      0\n",
      "3      0\n",
      "4      0\n",
      "      ..\n",
      "166    0\n",
      "167    0\n",
      "168    0\n",
      "169    1\n",
      "170    1\n",
      "Name: spiral, Length: 171, dtype: int64\n"
     ]
    }
   ],
   "source": [
    "print(df2.spiral.sum(),df2.spiral)"
   ]
  },
  {
   "cell_type": "code",
   "execution_count": 56,
   "id": "c02c5566",
   "metadata": {},
   "outputs": [
    {
     "name": "stdout",
     "output_type": "stream",
     "text": [
      "count    431.818182\n",
      "mean      18.713942\n",
      "std       14.905279\n",
      "min        6.393654\n",
      "25%       11.897563\n",
      "50%       15.543955\n",
      "75%       20.852159\n",
      "max      172.496768\n",
      "Name: petroRad_r, dtype: float64\n"
     ]
    }
   ],
   "source": [
    "print(df2.petroRad_r.describe()/0.396)"
   ]
  },
  {
   "cell_type": "markdown",
   "id": "77c3098d",
   "metadata": {},
   "source": [
    "Using 75% of the Petrosian radius as estimate of needed size. "
   ]
  },
  {
   "cell_type": "code",
   "execution_count": 61,
   "id": "1fce31a3",
   "metadata": {},
   "outputs": [
    {
     "data": {
      "text/plain": [
       "<matplotlib.image.AxesImage at 0x7f12da5d7fd0>"
      ]
     },
     "execution_count": 61,
     "metadata": {},
     "output_type": "execute_result"
    },
    {
     "data": {
      "image/png": "[encoded data removed]",
      "text/plain": [
       "<Figure size 640x480 with 1 Axes>"
      ]
     },
     "metadata": {},
     "output_type": "display_data"
    }
   ],
   "source": [
    "plt.axis('off')\n",
    "plt.title(\"spiral\")\n",
    "plt.imshow(1-cut_out[:,:,170].T,cmap=cm.gray, interpolation='nearest')"
   ]
  },
  {
   "cell_type": "code",
   "execution_count": 62,
   "id": "7361dea9",
   "metadata": {},
   "outputs": [
    {
     "data": {
      "text/plain": [
       "<matplotlib.image.AxesImage at 0x7f12da5f61c0>"
      ]
     },
     "execution_count": 62,
     "metadata": {},
     "output_type": "execute_result"
    },
    {
     "data": {
      "image/png": "[encoded data removed]",
      "text/plain": [
       "<Figure size 640x480 with 1 Axes>"
      ]
     },
     "metadata": {},
     "output_type": "display_data"
    }
   ],
   "source": [
    "plt.axis('off')\n",
    "plt.title(\"elliptical\")\n",
    "plt.imshow(1-cut_out[:,:,0].T,cmap=cm.gray, interpolation='nearest')"
   ]
  },
  {
   "cell_type": "code",
   "execution_count": 63,
   "id": "e382681b",
   "metadata": {},
   "outputs": [
    {
     "data": {
      "text/plain": [
       "<matplotlib.image.AxesImage at 0x7f12da5ac7f0>"
      ]
     },
     "execution_count": 63,
     "metadata": {},
     "output_type": "execute_result"
    },
    {
     "data": {
      "image/png": "[encoded data removed]",
      "text/plain": [
       "<Figure size 640x480 with 1 Axes>"
      ]
     },
     "metadata": {},
     "output_type": "display_data"
    }
   ],
   "source": [
    "plt.axis('off')\n",
    "plt.title(\"spiral\")\n",
    "plt.imshow(1-cut_out[:,:,169].T,cmap=cm.gray, interpolation='nearest')"
   ]
  },
  {
   "cell_type": "code",
   "execution_count": 64,
   "id": "ec8e77f7",
   "metadata": {},
   "outputs": [
    {
     "data": {
      "text/plain": [
       "<matplotlib.image.AxesImage at 0x7f12da563f10>"
      ]
     },
     "execution_count": 64,
     "metadata": {},
     "output_type": "execute_result"
    },
    {
     "data": {
      "image/png": "[encoded data removed]",
      "text/plain": [
       "<Figure size 640x480 with 1 Axes>"
      ]
     },
     "metadata": {},
     "output_type": "display_data"
    }
   ],
   "source": [
    "plt.axis('off')\n",
    "plt.title(\"elliptical\")\n",
    "plt.imshow(1-cut_out[:,:,1].T,cmap=cm.gray, interpolation='nearest')"
   ]
  },
  {
   "cell_type": "markdown",
   "id": "5ec14cd8",
   "metadata": {},
   "source": [
    "Now looking on the most extreme cases, whether they look o.k. per eye. "
   ]
  },
  {
   "cell_type": "code",
   "execution_count": 80,
   "id": "abc46955",
   "metadata": {},
   "outputs": [
    {
     "name": "stdout",
     "output_type": "stream",
     "text": [
      "79\n",
      "68.30872 0\n",
      "39\n",
      "25.19113 1\n",
      "86\n",
      "19.36722 1\n",
      "167\n",
      "17.54918 0\n",
      "52\n",
      "17.13827 1\n",
      "69\n",
      "16.60319 1\n",
      "82\n",
      "16.38569 1\n",
      "106\n",
      "16.36477 1\n",
      "8\n",
      "16.35131 1\n",
      "157\n",
      "14.50623 1\n"
     ]
    }
   ],
   "source": [
    "maxr=np.argsort(-df2.petroRad_r)\n",
    "for i in range(10):\n",
    "    print(maxr[i])\n",
    "    print(df2.petroRad_r[maxr[i]],df2.spiral[maxr[i]])"
   ]
  },
  {
   "cell_type": "code",
   "execution_count": 81,
   "id": "4c90dba2",
   "metadata": {},
   "outputs": [
    {
     "data": {
      "text/plain": [
       "<matplotlib.image.AxesImage at 0x7f12da4f0c40>"
      ]
     },
     "execution_count": 81,
     "metadata": {},
     "output_type": "execute_result"
    },
    {
     "data": {
      "image/png": "[encoded data removed]",
      "text/plain": [
       "<Figure size 640x480 with 1 Axes>"
      ]
     },
     "metadata": {},
     "output_type": "display_data"
    }
   ],
   "source": [
    "#can be seen, problem is neighbor \n",
    "plt.axis('off')\n",
    "plt.title(\"elliptical\")\n",
    "plt.imshow(1-cut_out[:,:,79].T,cmap=cm.gray, interpolation='nearest')"
   ]
  },
  {
   "cell_type": "code",
   "execution_count": 82,
   "id": "c39b5dd7",
   "metadata": {},
   "outputs": [
    {
     "data": {
      "text/plain": [
       "<matplotlib.image.AxesImage at 0x7f12da501eb0>"
      ]
     },
     "execution_count": 82,
     "metadata": {},
     "output_type": "execute_result"
    },
    {
     "data": {
      "image/png": "[encoded data removed]",
      "text/plain": [
       "<Figure size 640x480 with 1 Axes>"
      ]
     },
     "metadata": {},
     "output_type": "display_data"
    }
   ],
   "source": [
    "#can be seen\n",
    "plt.axis('off')\n",
    "plt.title(\"spiral\")\n",
    "plt.imshow(1-cut_out[:,:,39].T,cmap=cm.gray, interpolation='nearest')"
   ]
  },
  {
   "cell_type": "code",
   "execution_count": 83,
   "id": "d9d5d268",
   "metadata": {},
   "outputs": [
    {
     "data": {
      "text/plain": [
       "<matplotlib.image.AxesImage at 0x7f12da440ac0>"
      ]
     },
     "execution_count": 83,
     "metadata": {},
     "output_type": "execute_result"
    },
    {
     "data": {
      "image/png": "[encoded data removed]",
      "text/plain": [
       "<Figure size 640x480 with 1 Axes>"
      ]
     },
     "metadata": {},
     "output_type": "display_data"
    }
   ],
   "source": [
    "plt.axis('off')\n",
    "plt.title(\"elliptical\")\n",
    "plt.imshow(1-cut_out[:,:,167].T,cmap=cm.gray, interpolation='nearest')"
   ]
  },
  {
   "cell_type": "code",
   "execution_count": 84,
   "id": "80b57390",
   "metadata": {},
   "outputs": [
    {
     "data": {
      "text/plain": [
       "<matplotlib.image.AxesImage at 0x7f12da3c10d0>"
      ]
     },
     "execution_count": 84,
     "metadata": {},
     "output_type": "execute_result"
    },
    {
     "data": {
      "image/png": "[encoded data removed]",
      "text/plain": [
       "<Figure size 640x480 with 1 Axes>"
      ]
     },
     "metadata": {},
     "output_type": "display_data"
    }
   ],
   "source": [
    "plt.axis('off')\n",
    "plt.title(\"spiral\")\n",
    "plt.imshow(1-cut_out[:,:,86].T,cmap=cm.gray, interpolation='nearest')"
   ]
  },
  {
   "cell_type": "code",
   "execution_count": 85,
   "id": "1f2fadd1",
   "metadata": {},
   "outputs": [
    {
     "data": {
      "text/plain": [
       "<matplotlib.image.AxesImage at 0x7f12da354af0>"
      ]
     },
     "execution_count": 85,
     "metadata": {},
     "output_type": "execute_result"
    },
    {
     "data": {
      "image/png": "[encoded data removed]",
      "text/plain": [
       "<Figure size 640x480 with 1 Axes>"
      ]
     },
     "metadata": {},
     "output_type": "display_data"
    }
   ],
   "source": [
    "plt.axis('off')\n",
    "plt.title(\"spiral\")\n",
    "plt.imshow(1-cut_out[:,:,52].T,cmap=cm.gray, interpolation='nearest')"
   ]
  },
  {
   "cell_type": "code",
   "execution_count": 86,
   "id": "fce39251",
   "metadata": {},
   "outputs": [
    {
     "data": {
      "text/plain": [
       "<matplotlib.image.AxesImage at 0x7f12da3192b0>"
      ]
     },
     "execution_count": 86,
     "metadata": {},
     "output_type": "execute_result"
    },
    {
     "data": {
      "image/png": "[encoded data removed]",
      "text/plain": [
       "<Figure size 640x480 with 1 Axes>"
      ]
     },
     "metadata": {},
     "output_type": "display_data"
    }
   ],
   "source": [
    "#likely not all on but rather clear spiral \n",
    "plt.axis('off')\n",
    "plt.title(\"spiral\")\n",
    "plt.imshow(1-cut_out[:,:,69].T,cmap=cm.gray, interpolation='nearest')"
   ]
  },
  {
   "cell_type": "code",
   "execution_count": 87,
   "id": "5af2f7e9",
   "metadata": {},
   "outputs": [
    {
     "data": {
      "text/plain": [
       "<matplotlib.image.AxesImage at 0x7f12da2bf490>"
      ]
     },
     "execution_count": 87,
     "metadata": {},
     "output_type": "execute_result"
    },
    {
     "data": {
      "image/png": "[encoded data removed]",
      "text/plain": [
       "<Figure size 640x480 with 1 Axes>"
      ]
     },
     "metadata": {},
     "output_type": "display_data"
    }
   ],
   "source": [
    "plt.axis('off')\n",
    "plt.title(\"spiral\")\n",
    "plt.imshow(1-cut_out[:,:,82].T,cmap=cm.gray, interpolation='nearest')"
   ]
  },
  {
   "cell_type": "code",
   "execution_count": 93,
   "id": "5e9f75c4",
   "metadata": {},
   "outputs": [
    {
     "data": {
      "text/plain": [
       "<matplotlib.image.AxesImage at 0x7f12da0fd7f0>"
      ]
     },
     "execution_count": 93,
     "metadata": {},
     "output_type": "execute_result"
    },
    {
     "data": {
      "image/png": "[encoded data removed]",
      "text/plain": [
       "<Figure size 640x480 with 1 Axes>"
      ]
     },
     "metadata": {},
     "output_type": "display_data"
    }
   ],
   "source": [
    "#needed scaling to see the structure \n",
    "plt.axis('off')\n",
    "plt.title(\"spiral\")\n",
    "plt.imshow(-np.sqrt(cut_out[:,:,106]).T,cmap=cm.gray, interpolation='nearest')"
   ]
  },
  {
   "cell_type": "code",
   "execution_count": 89,
   "id": "2ec4c9c3",
   "metadata": {},
   "outputs": [
    {
     "data": {
      "text/plain": [
       "<matplotlib.image.AxesImage at 0x7f12da277f10>"
      ]
     },
     "execution_count": 89,
     "metadata": {},
     "output_type": "execute_result"
    },
    {
     "data": {
      "image/png": "[encoded data removed]",
      "text/plain": [
       "<Figure size 640x480 with 1 Axes>"
      ]
     },
     "metadata": {},
     "output_type": "display_data"
    }
   ],
   "source": [
    "#not fully on it, but clear \n",
    "plt.axis('off')\n",
    "plt.title(\"spiral\")\n",
    "plt.imshow(1-cut_out[:,:,8].T,cmap=cm.gray, interpolation='nearest')"
   ]
  },
  {
   "cell_type": "code",
   "execution_count": 90,
   "id": "42c9321c",
   "metadata": {},
   "outputs": [
    {
     "data": {
      "text/plain": [
       "<matplotlib.image.AxesImage at 0x7f12da141910>"
      ]
     },
     "execution_count": 90,
     "metadata": {},
     "output_type": "execute_result"
    },
    {
     "data": {
      "image/png": "[encoded data removed]",
      "text/plain": [
       "<Figure size 640x480 with 1 Axes>"
      ]
     },
     "metadata": {},
     "output_type": "display_data"
    }
   ],
   "source": [
    "plt.axis('off')\n",
    "plt.title(\"spiral\")\n",
    "plt.imshow(1-cut_out[:,:,157].T,cmap=cm.gray, interpolation='nearest')"
   ]
  },
  {
   "cell_type": "markdown",
   "id": "0b757ce4",
   "metadata": {},
   "source": [
    "Look good in general, there more structure visible for the spiral as it should be, while elliptical are smooth.\n"
   ]
  },
  {
   "cell_type": "code",
   "execution_count": null,
   "id": "2a7f57b8",
   "metadata": {},
   "outputs": [],
   "source": []
  },
  {
   "cell_type": "code",
   "execution_count": 101,
   "id": "1bf1fdda",
   "metadata": {},
   "outputs": [],
   "source": [
    "df3=df2[df2.off_image==False]\n",
    "#new image array, to which also a 4 dimension of zero size is added \n",
    "cut_out2=np.zeros((cut_out.shape[0],cut_out.shape[1],1,df3.shape[0]))\n",
    "counter=0\n",
    "for i in range(df2.shape[0]):\n",
    "    if df2.off_image.iloc[i]==False:\n",
    "        #adding the cut outs not of image\n",
    "        cut_out2[:,:,0,counter]=cut_out[:,:,i]\n",
    "        counter+=1\n",
    "np.save(\"stripe82_1_ell_spiral_im.npy\",cut_out2)    \n",
    "df3.to_csv('stripe82_1_ell_spiral_table.csv') "
   ]
  },
  {
   "cell_type": "code",
   "execution_count": 114,
   "id": "71f1d68c",
   "metadata": {},
   "outputs": [
    {
     "name": "stdout",
     "output_type": "stream",
     "text": [
      "3    168\n",
      "Name: type, dtype: int64\n"
     ]
    },
    {
     "data": {
      "image/png": "[encoded data removed]",
      "text/plain": [
       "<Figure size 640x480 with 1 Axes>"
      ]
     },
     "metadata": {},
     "output_type": "display_data"
    }
   ],
   "source": [
    "plt.plot(df3['modelMag_g']-df3['modelMag_i'],df3['modelMag_r'],'o',ms=2,color='red',label='galaxies') \n",
    "plt.legend(loc=\"best\")\n",
    "plt.xlabel(\"g-i\")\n",
    "plt.ylabel(\"r\")\n",
    "plt.ylim(18,14)\n",
    "#plt.yscale(\"log\")\n",
    "print(df3['type'].value_counts())"
   ]
  },
  {
   "cell_type": "code",
   "execution_count": 103,
   "id": "15aaf244",
   "metadata": {},
   "outputs": [
    {
     "name": "stdout",
     "output_type": "stream",
     "text": [
      "(43, 43, 1, 168)\n",
      "Index(['Unnamed: 0', 'index', 'objid', 'ra', 'dec', 'psfMag_u', 'psfMag_g',\n",
      "       'psfMag_r', 'psfMag_i', 'psfMag_z', 'probPSF_u', 'probPSF_g',\n",
      "       'probPSF_r', 'probPSF_i', 'probPSF_z', 'modelMag_u', 'modelMag_g',\n",
      "       'modelMag_r', 'modelMag_i', 'modelMag_z', 'petroRad_g', 'petroRad_r',\n",
      "       'petroRad_i', 'run', 'rerun', 'camcol', 'field', 'type', 'specobjid',\n",
      "       'class', 'subclass', 'redshift', 'plate', 'mjd', 'fiberid', 'nvote',\n",
      "       'p_el', 'p_cw', 'p_acw', 'p_edge', 'p_dk', 'p_mg', 'p_el_debiased',\n",
      "       'p_cs_debiased', 'spiral', 'elliptical', 'uncertain', 'image',\n",
      "       'pixel_x', 'pixel_y', 'off_image'],\n",
      "      dtype='object')\n"
     ]
    }
   ],
   "source": [
    "test=np.load('stripe82_1_ell_spiral_im.npy')\n",
    "print(test.shape)\n",
    "df4=pd.read_csv('stripe82_1_ell_spiral_table.csv')\n",
    "print(df4.columns)"
   ]
  },
  {
   "cell_type": "code",
   "execution_count": 105,
   "id": "01ba3892",
   "metadata": {},
   "outputs": [
    {
     "name": "stdout",
     "output_type": "stream",
     "text": [
      "     index                objid         ra       dec  psfMag_u  psfMag_g  \\\n",
      "0        1  1237663237128388701  50.130513 -1.228488  22.01211  20.06700   \n",
      "1      123  1237666299481817102  50.160628 -1.035026  19.01124  17.46116   \n",
      "2      140  1237663237128388949  50.167304 -1.241885  22.36878  20.17246   \n",
      "3      458  1237666300018557091  50.006004 -0.495751  21.98376  19.93291   \n",
      "4      110  1237663238739067202  50.387910  0.198944  21.86834  19.78908   \n",
      "..     ...                  ...        ...       ...       ...       ...   \n",
      "165    228  1237660241388306584  52.065544  0.492483  22.05364  19.92814   \n",
      "166    435  1237660241925374126  52.442772  0.981833  20.40372  18.25091   \n",
      "167    171  1237660241925242993  52.138302  1.006711  20.15088  18.13022   \n",
      "169    355  1237666301630152896  52.116443  0.782111  23.48243  20.96860   \n",
      "170    108  1237666301630087374  52.057037  0.808168  22.29056  20.49410   \n",
      "\n",
      "     psfMag_r  psfMag_i  psfMag_z  probPSF_u  ...   p_mg  p_el_debiased  \\\n",
      "0    18.86854  18.35853  17.93478          0  ...  0.032          0.935   \n",
      "1    16.85288  16.54355  16.19304          0  ...  0.000          0.971   \n",
      "2    18.94735  18.44240  17.99196          0  ...  0.000          0.964   \n",
      "3    18.73658  18.31895  17.89719          0  ...  0.000          0.893   \n",
      "4    18.63620  18.16101  17.63892          0  ...  0.018          0.755   \n",
      "..        ...       ...       ...        ...  ...    ...            ...   \n",
      "165  18.57362  17.97679  17.50860          0  ...  0.000          0.808   \n",
      "166  17.33762  16.81151  16.39220          0  ...  0.000          0.970   \n",
      "167  17.18663  16.71245  16.24861          0  ...  0.000          1.000   \n",
      "169  20.09314  19.67825  19.11968          0  ...  0.033          0.010   \n",
      "170  19.78652  19.46783  18.90996          0  ...  0.000          0.169   \n",
      "\n",
      "     p_cs_debiased  spiral  elliptical  uncertain  image      pixel_x  \\\n",
      "0            0.000       0           1          0      5  3362.991349   \n",
      "1            0.029       0           1          0      5  3089.338382   \n",
      "2            0.036       0           1          0      5  3028.607250   \n",
      "3            0.000       0           1          0      6  4495.057900   \n",
      "4            0.168       0           1          0      7  1023.284682   \n",
      "..             ...     ...         ...        ...    ...          ...   \n",
      "165          0.055       0           1          0     28  3953.807569   \n",
      "166          0.000       0           1          0     29   524.787184   \n",
      "167          0.000       0           1          0     29  3292.283889   \n",
      "169          0.955       1           0          0     29  3491.037615   \n",
      "170          0.831       1           0          0     29  4031.032066   \n",
      "\n",
      "         pixel_y  off_image  \n",
      "0     199.840666      False  \n",
      "1    1958.577472      False  \n",
      "2      78.041829      False  \n",
      "3    2315.626917      False  \n",
      "4    4085.577633      False  \n",
      "..           ...        ...  \n",
      "165  2208.663435      False  \n",
      "166  2111.847375      False  \n",
      "167  2338.005333      False  \n",
      "169   296.186493      False  \n",
      "170   533.073281      False  \n",
      "\n",
      "[168 rows x 50 columns]\n"
     ]
    }
   ],
   "source": []
  },
  {
   "cell_type": "code",
   "execution_count": null,
   "id": "2453e784",
   "metadata": {},
   "outputs": [],
   "source": []
  }
 ],
 "metadata": {
  "kernelspec": {
   "display_name": "Python 3 (ipykernel)",
   "language": "python",
   "name": "python3"
  },
  "language_info": {
   "codemirror_mode": {
    "name": "ipython",
    "version": 3
   },
   "file_extension": ".py",
   "mimetype": "text/x-python",
   "name": "python",
   "nbconvert_exporter": "python",
   "pygments_lexer": "ipython3",
   "version": "3.8.15"
  }
 },
 "nbformat": 4,
 "nbformat_minor": 5
}
