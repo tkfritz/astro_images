{
 "cells": [
  {
   "cell_type": "markdown",
   "id": "ed949e94",
   "metadata": {},
   "source": [
    "Presenting the results from the galaxy type classification. \n",
    "First I load the data. "
   ]
  },
  {
   "cell_type": "code",
   "execution_count": 4,
   "id": "dbde3f05",
   "metadata": {},
   "outputs": [],
   "source": [
    "#standard libraries\n",
    "import pandas as pd\n",
    "import numpy as np\n",
    "from matplotlib import pyplot as plt\n",
    "from matplotlib.pyplot import figure\n",
    "import matplotlib.cm as cm\n",
    "import sys\n",
    "import os\n",
    "import time\n",
    "import random as random\n",
    "from astropy.io import fits\n",
    "#torch functions\n",
    "import torch\n",
    "from torch import nn\n",
    "import torch.nn.functional as F\n",
    "import torch.optim as optim\n",
    "from torch.utils.data import Dataset, DataLoader\n",
    "from tqdm.notebook import tqdm\n",
    "#sklearn helper functions\n",
    "from sklearn.model_selection import train_test_split\n",
    "from sklearn.metrics import confusion_matrix, accuracy_score, precision_score,f1_score, log_loss\n",
    "#xgboost for comparison\n",
    "from xgboost import XGBClassifier\n",
    "#logistic regression for comparison \n",
    "from sklearn.linear_model import LogisticRegression\n",
    "from functions_ml import *"
   ]
  },
  {
   "cell_type": "markdown",
   "id": "990d3bd8",
   "metadata": {},
   "source": [
    "Below I get the data, which is produced by the program get_zoo_galaxies.py.  The is applied  43 times and thus gets data from 43 fields. This fields cover the area from 310 (-50) degree to 60 degree in right ascension with a height from -1.26 to +1.26  degree in Declination. \n",
    "\n",
    "The data consist of two pieces, firstly the images, which were saved as 4 dimensions (1 dimension x of image, second y of image, third channels, forth image in order or batch on torch language) numpy arrays, because torch needs 4d arrays, even when as here only a single channel exist. The image are rdeep images from http://research.iac.es/proyecto/stripe82/pages/data.php\n",
    "This channel is the channel combination with the highest snr. Secondly information on each iamges is loaded as data frame, that are in particular the calseses spiral and elliptical which are bollean and exclusive here. There are citizen zoo classifications from the zoo projects. Only rather certain ones I included here, but there is no 100% certainty. "
   ]
  },
  {
   "cell_type": "code",
   "execution_count": 9,
   "id": "e307a3c0",
   "metadata": {},
   "outputs": [],
   "source": [
    "#getting the list of images\n",
    "myPath='/home/tobias/ml-testing/astr-images'\n",
    "list_images=[f for f in os.listdir(myPath) \n",
    "    if f.endswith('_ell_spiral_im.npy') ]\n",
    "list_images.sort()\n",
    "#getting the list of tables \n",
    "list_tables=[f for f in os.listdir(myPath) \n",
    "    if f.endswith('_ell_spiral_table.csv')]\n",
    "list_tables.sort()"
   ]
  },
  {
   "cell_type": "markdown",
   "id": "bbd61118",
   "metadata": {},
   "source": [
    "I combine the images and the data frames, with the classifications and more meta data. "
   ]
  },
  {
   "cell_type": "code",
   "execution_count": 11,
   "id": "41f86e23",
   "metadata": {},
   "outputs": [
    {
     "name": "stdout",
     "output_type": "stream",
     "text": [
      "number of tables is 43\n",
      "shape of combined data frame (7875, 51)\n",
      "shape of image file is (43, 43, 1, 7875)\n"
     ]
    }
   ],
   "source": [
    "#images\n",
    "cutouts=comb_nump_4d(list_images)\n",
    "#dataframes \n",
    "list_df=[]\n",
    "for i in range(len(list_tables)):\n",
    "    i=pd.read_csv(list_tables[i])\n",
    "    list_df.append(i)  \n",
    "print(f\"number of tables is {len(list_df)}\") \n",
    "df=pd.concat(list_df,ignore_index=True)\n",
    "print(f\"shape of combined data frame {df.shape}\")\n",
    "print(f\"shape of image file is {cutouts.shape}\")"
   ]
  },
  {
   "cell_type": "markdown",
   "id": "165bed3e",
   "metadata": {},
   "source": [
    "The images and the classification data has the same lengths. Now I am looking on classes."
   ]
  },
  {
   "cell_type": "code",
   "execution_count": 12,
   "id": "269b396a",
   "metadata": {},
   "outputs": [
    {
     "name": "stdout",
     "output_type": "stream",
     "text": [
      "1    5766\n",
      "0    2109\n",
      "Name: spiral, dtype: int64\n"
     ]
    }
   ],
   "source": [
    "print(df.spiral.value_counts())"
   ]
  },
  {
   "cell_type": "markdown",
   "id": "dba26560",
   "metadata": {},
   "source": [
    "Next I display some examples. There arer two classes of galaxies, elliptical and Spiral."
   ]
  },
  {
   "cell_type": "code",
   "execution_count": 26,
   "id": "794cd58a",
   "metadata": {},
   "outputs": [
    {
     "data": {
      "text/plain": [
       "<matplotlib.image.AxesImage at 0x7f93dd624ac0>"
      ]
     },
     "execution_count": 26,
     "metadata": {},
     "output_type": "execute_result"
    },
    {
     "data": {
      "image/png": "[encoded data removed]",
      "text/plain": [
       "<Figure size 640x480 with 1 Axes>"
      ]
     },
     "metadata": {},
     "output_type": "display_data"
    }
   ],
   "source": [
    "x=0\n",
    "plt.axis('off')\n",
    "plt.title(f\"Elliptical\")\n",
    "plt.imshow(abs(cutouts[:,:,0,x])**0.25,cmap=cm.gray, interpolation='nearest')"
   ]
  },
  {
   "cell_type": "markdown",
   "id": "742e102c",
   "metadata": {},
   "source": [
    "This elliptical is rather round, but others are more elongated but never exteremly. \n",
    "\n",
    "Spiral look rather different dependent on the angle, they are viwed on. "
   ]
  },
  {
   "cell_type": "code",
   "execution_count": 61,
   "id": "9d3700d4",
   "metadata": {},
   "outputs": [
    {
     "data": {
      "text/plain": [
       "<matplotlib.image.AxesImage at 0x7f93dd4f6730>"
      ]
     },
     "execution_count": 61,
     "metadata": {},
     "output_type": "execute_result"
    },
    {
     "data": {
      "image/png": "[encoded data removed]",
      "text/plain": [
       "<Figure size 640x480 with 1 Axes>"
      ]
     },
     "metadata": {},
     "output_type": "display_data"
    }
   ],
   "source": [
    "x=7870\n",
    "plt.axis('off')\n",
    "plt.title(f\"edge on Spiral\")\n",
    "plt.imshow(abs(cutouts[:,:,0,x])**0.25,cmap=cm.gray, interpolation='nearest')"
   ]
  },
  {
   "cell_type": "markdown",
   "id": "1901d5a6",
   "metadata": {},
   "source": [
    "The dark strip in the center is not always visible in practice. \n",
    "\n",
    "The name giving spiral structure is visible face on. "
   ]
  },
  {
   "cell_type": "code",
   "execution_count": 58,
   "id": "4539cbce",
   "metadata": {},
   "outputs": [
    {
     "data": {
      "text/plain": [
       "<matplotlib.image.AxesImage at 0x7f93dcea00a0>"
      ]
     },
     "execution_count": 58,
     "metadata": {},
     "output_type": "execute_result"
    },
    {
     "data": {
      "image/png": "[encoded data removed]",
      "text/plain": [
       "<Figure size 640x480 with 1 Axes>"
      ]
     },
     "metadata": {},
     "output_type": "display_data"
    }
   ],
   "source": [
    "x=18\n",
    "plt.axis('off')\n",
    "plt.title(f\"face on on Spiral\")\n",
    "plt.imshow(abs(cutouts[:,:,0,x])**0.125,cmap=cm.gray, interpolation='nearest')"
   ]
  },
  {
   "cell_type": "markdown",
   "id": "818cfc4c",
   "metadata": {},
   "source": [
    "However, some spirals only display other deviations from the simple structures of ellipticals, like rings.  "
   ]
  },
  {
   "cell_type": "code",
   "execution_count": 60,
   "id": "3e656562",
   "metadata": {},
   "outputs": [
    {
     "data": {
      "text/plain": [
       "<matplotlib.image.AxesImage at 0x7f93dd68b400>"
      ]
     },
     "execution_count": 60,
     "metadata": {},
     "output_type": "execute_result"
    },
    {
     "data": {
      "image/png": "[encoded data removed]",
      "text/plain": [
       "<Figure size 640x480 with 1 Axes>"
      ]
     },
     "metadata": {},
     "output_type": "display_data"
    }
   ],
   "source": [
    "x=7874\n",
    "plt.axis('off')\n",
    "plt.title(f\"face on on Spiral\")\n",
    "plt.imshow(abs(cutouts[:,:,0,x])**0.15,cmap=cm.gray, interpolation='nearest')"
   ]
  },
  {
   "cell_type": "markdown",
   "id": "c6254e74",
   "metadata": {},
   "source": [
    "Thus, it is clear that there is a variation in structure between different examples of the same class. \n",
    "\n"
   ]
  },
  {
   "cell_type": "code",
   "execution_count": null,
   "id": "fe972e84",
   "metadata": {},
   "outputs": [],
   "source": []
  }
 ],
 "metadata": {
  "kernelspec": {
   "display_name": "Python 3 (ipykernel)",
   "language": "python",
   "name": "python3"
  },
  "language_info": {
   "codemirror_mode": {
    "name": "ipython",
    "version": 3
   },
   "file_extension": ".py",
   "mimetype": "text/x-python",
   "name": "python",
   "nbconvert_exporter": "python",
   "pygments_lexer": "ipython3",
   "version": "3.8.15"
  }
 },
 "nbformat": 4,
 "nbformat_minor": 5
}
