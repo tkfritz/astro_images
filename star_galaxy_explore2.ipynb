{
 "cells": [
  {
   "cell_type": "markdown",
   "id": "206c4356",
   "metadata": {},
   "source": [
    "In this directory I use astronomical images to train neural network. In this notebook I use the case of stars versus galaxies. That should be relatively simple, at least with sufficient signal to noise. \n",
    "\n",
    "This notebook user stricter criteria to better separate the classes."
   ]
  },
  {
   "cell_type": "code",
   "execution_count": 2,
   "id": "971cc0d3",
   "metadata": {},
   "outputs": [],
   "source": [
    "#standard libraries\n",
    "import pandas as pd\n",
    "import numpy as np\n",
    "from matplotlib import pyplot as plt\n",
    "from matplotlib.pyplot import figure\n",
    "import matplotlib.cm as cm\n",
    "import sys\n",
    "import os\n",
    "#wcs is incompabible with newest numpy thus below not used \n",
    "#from astropy import wcs\n",
    "#to access astronomical images in fits format\n",
    "from astropy.io import fits\n",
    "#torch functions\n",
    "import torch\n",
    "from torch import nn\n",
    "import torch.nn.functional as F\n",
    "import torch.optim as optim\n",
    "from torch.utils.data import Dataset, DataLoader\n",
    "from tqdm.notebook import tqdm\n",
    "#sklearn helper functions\n",
    "from sklearn.model_selection import train_test_split\n",
    "from sklearn.metrics import confusion_matrix, accuracy_score, precision_score,f1_score, log_loss\n",
    "#xgboost for comparison\n",
    "from xgboost import XGBClassifier\n",
    "#logistic regression for comparison \n",
    "from sklearn.linear_model import LogisticRegression\n"
   ]
  },
  {
   "cell_type": "markdown",
   "id": "ddbb32da",
   "metadata": {},
   "source": [
    "In this version the saved data is loaded. "
   ]
  },
  {
   "cell_type": "code",
   "execution_count": 3,
   "id": "24d63dea",
   "metadata": {},
   "outputs": [],
   "source": [
    "cut_outs2=np.load(\"stripe82_1_small_im.npy\")    \n",
    "df2=pd.read_csv('stripe82_1_small_table.csv',sep=',')"
   ]
  },
  {
   "cell_type": "markdown",
   "id": "61db14a4",
   "metadata": {},
   "source": [
    "Now torch specific preparation.\n",
    "\n"
   ]
  },
  {
   "cell_type": "markdown",
   "id": "636dcb24",
   "metadata": {},
   "source": [
    "First I do basic setup tasks relevant for for all torch networks. For now that these are two, firstly a fully connected multilayer network as perceptron. Secondly, a network which uses twodiemnsionalk convolutional layer whoch should be optimized for images. \n",
    "\n",
    "First adding the cpu. "
   ]
  },
  {
   "cell_type": "code",
   "execution_count": 4,
   "id": "6a9b75d7",
   "metadata": {},
   "outputs": [
    {
     "name": "stdout",
     "output_type": "stream",
     "text": [
      "Using cpu device\n"
     ]
    }
   ],
   "source": [
    "#adding cpu\n",
    "device = (\n",
    "    \"cuda\"\n",
    "    if torch.cuda.is_available()\n",
    "    else \"mps\"\n",
    "    if torch.backends.mps.is_available()\n",
    "    else \"cpu\"\n",
    ")\n",
    "print(f\"Using {device} device\")\n",
    "\n"
   ]
  },
  {
   "cell_type": "code",
   "execution_count": 7,
   "id": "431ca039",
   "metadata": {},
   "outputs": [
    {
     "name": "stdout",
     "output_type": "stream",
     "text": [
      "shape of image train data\n",
      "(3283, 1, 11, 11)\n"
     ]
    }
   ],
   "source": [
    "#need to be transposed to get into torch format of batch, channels, x, y\n",
    "#splitting, feature_mlp, targets, feature_images, df properties\n",
    "feature_train,feature_test,target_train, target_test,image_train,image_test,df_train,df_test= train_test_split(df2.loc[:,'0':'120'],                                                                                                               df2.loc[:,\"galaxy\"],cut_outs2.T,df2,train_size=0.70, shuffle=True, random_state=1)\n",
    "print(\"shape of image train data\")\n",
    "print(image_train.shape)"
   ]
  },
  {
   "cell_type": "markdown",
   "id": "0cae0776",
   "metadata": {},
   "source": [
    "Now I change the target data type to numpy array where that is not yet the case. "
   ]
  },
  {
   "cell_type": "code",
   "execution_count": 8,
   "id": "52ac4d56",
   "metadata": {},
   "outputs": [
    {
     "name": "stdout",
     "output_type": "stream",
     "text": [
      "<class 'numpy.ndarray'> <class 'numpy.ndarray'>\n"
     ]
    }
   ],
   "source": [
    " \n",
    "feature_train, target_train = np.array(feature_train), np.array(target_train)\n",
    "feature_test, target_test = np.array(feature_test), np.array(target_test)\n",
    "print(type(target_train),type(image_test))"
   ]
  },
  {
   "cell_type": "markdown",
   "id": "1fb5214c",
   "metadata": {},
   "source": [
    "Now I create a class which creates the classification data sets as needed for torch. "
   ]
  },
  {
   "cell_type": "code",
   "execution_count": 9,
   "id": "99db43aa",
   "metadata": {},
   "outputs": [],
   "source": [
    "class ClassificationDataset(Dataset):\n",
    "    \n",
    "    def __init__(self, X_data, y_data):\n",
    "        self.X_data = X_data\n",
    "        self.y_data = y_data\n",
    "        \n",
    "    def __getitem__(self, index):\n",
    "        return self.X_data[index], self.y_data[index]\n",
    "        \n",
    "    def __len__ (self):\n",
    "        return len(self.X_data)"
   ]
  },
  {
   "cell_type": "markdown",
   "id": "a8d006f6",
   "metadata": {},
   "source": [
    "Now I create the data sets as needed for both neural network types. "
   ]
  },
  {
   "cell_type": "code",
   "execution_count": 10,
   "id": "520fd1a5",
   "metadata": {},
   "outputs": [
    {
     "name": "stdout",
     "output_type": "stream",
     "text": [
      "<class 'torch.Tensor'>\n",
      "<class '__main__.ClassificationDataset'>\n"
     ]
    }
   ],
   "source": [
    "train_dataset = ClassificationDataset(torch.from_numpy(feature_train).float(), torch.from_numpy(target_train).float())\n",
    "test_dataset = ClassificationDataset(torch.from_numpy(feature_test).float(), torch.from_numpy(target_test).float())\n",
    "train_im_dataset = ClassificationDataset(torch.from_numpy(image_train).float(), torch.from_numpy(target_train).float())\n",
    "test_im_dataset = ClassificationDataset(torch.from_numpy(image_test).float(), torch.from_numpy(target_test).float())\n",
    "#print type as test \n",
    "print(type(torch.from_numpy(image_test).float()))\n",
    "print(type(test_im_dataset))\n"
   ]
  },
  {
   "cell_type": "markdown",
   "id": "b875b89d",
   "metadata": {},
   "source": [
    "Now create the class of the perceptron layer. "
   ]
  },
  {
   "cell_type": "code",
   "execution_count": 11,
   "id": "f7f03797",
   "metadata": {},
   "outputs": [],
   "source": [
    "#now 3 layers \n",
    "#two options only \n",
    "class BinaryClassification3(nn.Module):\n",
    "    def __init__(self, num_features):\n",
    "        super(BinaryClassification3, self).__init__()\n",
    "        self.fc1 = nn.Linear(num_features, 60)\n",
    "        self.fc2 = nn.Linear(60, 20)  \n",
    "        self.fc3 = nn.Linear(20, 8)        \n",
    "        self.fc4 = nn.Linear(8, 1)   \n",
    "    def forward(self, x):\n",
    "        x = torch.relu(self.fc1(x))\n",
    "        x = torch.relu(self.fc2(x))\n",
    "        x = torch.relu(self.fc3(x))\n",
    "        x = torch.sigmoid(self.fc4(x))\n",
    "        return (x)"
   ]
  },
  {
   "cell_type": "markdown",
   "id": "82861c31",
   "metadata": {},
   "source": [
    "Now I define the parameters needed. "
   ]
  },
  {
   "cell_type": "code",
   "execution_count": 21,
   "id": "88d42328",
   "metadata": {},
   "outputs": [],
   "source": [
    "NUM_FEATURES=121\n",
    "LEARNING_RATE=0.001\n",
    "EPOCHS=20\n",
    "BATCH_SIZE = 32\n",
    "train_loader = DataLoader(dataset=train_dataset, batch_size=BATCH_SIZE, shuffle=True)\n",
    "train_loader_pred = DataLoader(dataset=train_dataset, batch_size=1)\n",
    "test_loader = DataLoader(dataset=test_dataset, batch_size=1)"
   ]
  },
  {
   "cell_type": "markdown",
   "id": "30243723",
   "metadata": {},
   "source": [
    "Finally I define the model plus the final parameters. "
   ]
  },
  {
   "cell_type": "code",
   "execution_count": 17,
   "id": "49cc7a9a",
   "metadata": {},
   "outputs": [
    {
     "name": "stdout",
     "output_type": "stream",
     "text": [
      "BinaryClassification3(\n",
      "  (fc1): Linear(in_features=121, out_features=60, bias=True)\n",
      "  (fc2): Linear(in_features=60, out_features=20, bias=True)\n",
      "  (fc3): Linear(in_features=20, out_features=8, bias=True)\n",
      "  (fc4): Linear(in_features=8, out_features=1, bias=True)\n",
      ")\n"
     ]
    }
   ],
   "source": [
    "model =BinaryClassification3(NUM_FEATURES)\n",
    "model.to(device)\n",
    "print(model)\n",
    "criterion = nn.BCELoss()\n",
    "optimizer = optim.Adam(model.parameters(), lr=LEARNING_RATE)\n",
    "#in loss_stats the statistic is collected \n",
    "loss_stats = {\n",
    "    'train': [], 'test': []\n",
    "}\n"
   ]
  },
  {
   "cell_type": "markdown",
   "id": "b08695bf",
   "metadata": {},
   "source": [
    "Now I run the fit. "
   ]
  },
  {
   "cell_type": "code",
   "execution_count": 18,
   "id": "25c27976",
   "metadata": {},
   "outputs": [
    {
     "name": "stdout",
     "output_type": "stream",
     "text": [
      "Begin training.\n"
     ]
    },
    {
     "data": {
      "application/vnd.jupyter.widget-view+json": {
       "model_id": "760babf2ad834848ad64eb9e4b5dad49",
       "version_major": 2,
       "version_minor": 0
      },
      "text/plain": [
       "  0%|          | 0/20 [00:00<?, ?it/s]"
      ]
     },
     "metadata": {},
     "output_type": "display_data"
    },
    {
     "name": "stdout",
     "output_type": "stream",
     "text": [
      "Epoch 001: | Train Loss: 0.41846 | Test Loss: 0.24269\n",
      "Epoch 002: | Train Loss: 0.33365 | Test Loss: 0.28741\n",
      "Epoch 003: | Train Loss: 0.25996 | Test Loss: 0.26838\n",
      "Epoch 004: | Train Loss: 0.24976 | Test Loss: 0.25407\n",
      "Epoch 005: | Train Loss: 0.28973 | Test Loss: 0.33674\n",
      "Epoch 006: | Train Loss: 0.26763 | Test Loss: 0.32293\n",
      "Epoch 007: | Train Loss: 0.14688 | Test Loss: 0.25955\n",
      "Epoch 008: | Train Loss: 0.09846 | Test Loss: 0.15472\n",
      "Epoch 009: | Train Loss: 0.08608 | Test Loss: 0.32970\n",
      "Epoch 010: | Train Loss: 0.08084 | Test Loss: 0.26217\n",
      "Epoch 011: | Train Loss: 0.07731 | Test Loss: 0.32751\n",
      "Epoch 012: | Train Loss: 0.07643 | Test Loss: 0.18870\n",
      "Epoch 013: | Train Loss: 0.07577 | Test Loss: 0.23716\n",
      "Epoch 014: | Train Loss: 0.07309 | Test Loss: 0.23706\n",
      "Epoch 015: | Train Loss: 0.07252 | Test Loss: 0.23660\n",
      "Epoch 016: | Train Loss: 0.24043 | Test Loss: 0.18297\n",
      "Epoch 017: | Train Loss: 0.06201 | Test Loss: 0.17273\n",
      "Epoch 018: | Train Loss: 0.04982 | Test Loss: 0.16801\n",
      "Epoch 019: | Train Loss: 0.04583 | Test Loss: 0.16527\n",
      "Epoch 020: | Train Loss: 0.02988 | Test Loss: 0.09363\n"
     ]
    }
   ],
   "source": [
    "\n",
    "print(\"Begin training.\")\n",
    "for e in tqdm(range(1, EPOCHS+1)):\n",
    "    \n",
    "    # TRAINING\n",
    "    train_epoch_loss = 0\n",
    "    model.train()\n",
    "    for X_train_batch, y_train_batch in train_loader:\n",
    "        X_train_batch, y_train_batch = X_train_batch.to(device), y_train_batch.to(device)\n",
    "        optimizer.zero_grad()\n",
    "        \n",
    "        y_train_pred = model(X_train_batch)\n",
    "        \n",
    "        train_loss = criterion(y_train_pred, y_train_batch.unsqueeze(1))\n",
    "        \n",
    "        train_loss.backward()\n",
    "        optimizer.step()\n",
    "        \n",
    "        train_epoch_loss += train_loss.item()\n",
    "        \n",
    "        \n",
    "    # VALIDATION    \n",
    "    with torch.no_grad():\n",
    "        \n",
    "        test_epoch_loss = 0\n",
    "        \n",
    "        model.eval()\n",
    "        for X_test_batch, y_test_batch in test_loader:\n",
    "            X_test_batch, y_test_batch = X_test_batch.to(device), y_test_batch.to(device)\n",
    "            \n",
    "            y_test_pred = model(X_test_batch)\n",
    "                        \n",
    "            test_loss = criterion(y_test_pred, y_test_batch.unsqueeze(1))\n",
    "            \n",
    "            test_epoch_loss += test_loss.item()\n",
    "    loss_stats['train'].append(train_epoch_loss/len(train_loader))\n",
    "    loss_stats['test'].append(test_epoch_loss/len(test_loader))                              \n",
    "    \n",
    "    print(f'Epoch {e+0:03}: | Train Loss: {train_epoch_loss/len(train_loader):.5f} | Test Loss: {test_epoch_loss/len(test_loader):.5f}')"
   ]
  },
  {
   "cell_type": "markdown",
   "id": "77416213",
   "metadata": {},
   "source": [
    "Now I define a function which predicts the values (probablities) for all samples. "
   ]
  },
  {
   "cell_type": "code",
   "execution_count": 19,
   "id": "074ba159",
   "metadata": {},
   "outputs": [],
   "source": [
    "def pred_torch(model,data):\n",
    "    y_pred_list_c = []\n",
    "    with torch.no_grad():\n",
    "        model.eval()\n",
    "        for X_batch, _ in data:\n",
    "            X_batch = X_batch.to(device)\n",
    "            y_test_pred = model(X_batch)\n",
    "            y_pred_list_c.append(y_test_pred.cpu().numpy())\n",
    "    y_pred_list_c = [a.squeeze().tolist() for a in y_pred_list_c]\n",
    "    return y_pred_list_c  "
   ]
  },
  {
   "cell_type": "markdown",
   "id": "c5f5d8dc",
   "metadata": {},
   "source": [
    "That is then applied on all data. "
   ]
  },
  {
   "cell_type": "code",
   "execution_count": 22,
   "id": "f4294377",
   "metadata": {},
   "outputs": [],
   "source": [
    "m_test=pred_torch(model,test_loader)\n",
    "m_train=pred_torch(model,train_loader_pred)"
   ]
  },
  {
   "cell_type": "markdown",
   "id": "1f3a9adc",
   "metadata": {},
   "source": [
    "I now plot the loss against the epoch. "
   ]
  },
  {
   "cell_type": "code",
   "execution_count": 23,
   "id": "0976c888",
   "metadata": {},
   "outputs": [
    {
     "data": {
      "text/plain": [
       "Text(0, 0.5, 'BCE loss')"
      ]
     },
     "execution_count": 23,
     "metadata": {},
     "output_type": "execute_result"
    },
    {
     "data": {
      "image/png": "[encoded data removed]",
      "text/plain": [
       "<Figure size 640x480 with 1 Axes>"
      ]
     },
     "metadata": {},
     "output_type": "display_data"
    }
   ],
   "source": [
    "\n",
    "plt.plot(loss_stats['test'],label='test')\n",
    "plt.plot(loss_stats['train'],label='train')\n",
    "plt.legend(loc=\"best\")\n",
    "plt.title('Loss vs Epochs')\n",
    "plt.xlabel('Epochs')\n",
    "plt.ylabel('BCE loss')"
   ]
  },
  {
   "cell_type": "markdown",
   "id": "901b76cb",
   "metadata": {},
   "source": [
    "There is likely overfitting, at least the loss of test improves less at the end.\n",
    "\n",
    "Now I am building a first convolutional network. First loading the data again.  "
   ]
  },
  {
   "cell_type": "code",
   "execution_count": 24,
   "id": "419f85db",
   "metadata": {},
   "outputs": [],
   "source": [
    "train_im_loader = DataLoader(dataset=train_im_dataset, batch_size=BATCH_SIZE, shuffle=True)\n",
    "test_im_loader = DataLoader(dataset=test_im_dataset, batch_size=1)\n",
    "train_im_loader_pred = DataLoader(dataset=train_im_dataset, batch_size=1)"
   ]
  },
  {
   "cell_type": "markdown",
   "id": "77be03a6",
   "metadata": {},
   "source": [
    "Now I build the network. "
   ]
  },
  {
   "cell_type": "code",
   "execution_count": 25,
   "id": "27d0076a",
   "metadata": {},
   "outputs": [],
   "source": [
    "class CNNBinary3(torch.nn.Module):\n",
    "    #no padding because image does not really end when the data ends. \n",
    "    def __init__(self):\n",
    "        super(CNNBinary3, self).__init__()\n",
    "        # L1 ImgIn shape=(?, 11, 11, 1)\n",
    "        # Conv -> (?, 9, 9, 12)\n",
    "        # Pool -> (?, 4, 4, 32)\n",
    "        self.layer1 = torch.nn.Sequential(\n",
    "            torch.nn.Conv2d(1, 16, kernel_size=3, stride=1, padding=0),\n",
    "            torch.nn.ReLU(),\n",
    "            torch.nn.MaxPool2d(kernel_size=2, stride=2),\n",
    "            torch.nn.Dropout(p=1 - keep_prob))\n",
    "        # L2 ImgIn shape=(?, 4, 4, 32)\n",
    "        # Conv      ->(?, 2, 2, 32)\n",
    "        # Pool      ->(?, 1, 1, 32)\n",
    "        self.layer2 = torch.nn.Sequential(\n",
    "            torch.nn.Conv2d(16, 32, kernel_size=3, stride=1, padding=0),\n",
    "            torch.nn.ReLU(),\n",
    "            torch.nn.MaxPool2d(kernel_size=2, stride=2),\n",
    "            torch.nn.Dropout(p=1 - keep_prob))\n",
    "        # L3 FC 1x1x32 inputs -> 16 outputs\n",
    "        self.fc1 = torch.nn.Linear(1 * 1 * 32, 64, bias=True)\n",
    "        torch.nn.init.xavier_uniform(self.fc1.weight)\n",
    "        self.layer3 = torch.nn.Sequential(\n",
    "            self.fc1,\n",
    "            torch.nn.ReLU(),\n",
    "            torch.nn.Dropout(p=1 - keep_prob))\n",
    "        # L4 Final FC 64 inputs -> 1 output\n",
    "        self.fc2 = torch.nn.Linear(64, 1, bias=True) #\n",
    "        torch.nn.init.xavier_uniform_(self.fc2.weight) # initialize parameters\n",
    "\n",
    "    def forward(self, x):\n",
    "        out = self.layer1(x)\n",
    "        out = self.layer2(out)\n",
    "        out = out.view(out.size(0), -1)   # Flatten them for FC\n",
    "        out = self.fc1(out)\n",
    "        out = torch.sigmoid(self.fc2(out))\n",
    "        return out"
   ]
  },
  {
   "cell_type": "markdown",
   "id": "85f17f14",
   "metadata": {},
   "source": [
    "Define the model. "
   ]
  },
  {
   "cell_type": "code",
   "execution_count": 29,
   "id": "891891b5",
   "metadata": {},
   "outputs": [
    {
     "name": "stdout",
     "output_type": "stream",
     "text": [
      "CNNBinary3(\n",
      "  (layer1): Sequential(\n",
      "    (0): Conv2d(1, 16, kernel_size=(3, 3), stride=(1, 1))\n",
      "    (1): ReLU()\n",
      "    (2): MaxPool2d(kernel_size=2, stride=2, padding=0, dilation=1, ceil_mode=False)\n",
      "    (3): Dropout(p=0, inplace=False)\n",
      "  )\n",
      "  (layer2): Sequential(\n",
      "    (0): Conv2d(16, 32, kernel_size=(3, 3), stride=(1, 1))\n",
      "    (1): ReLU()\n",
      "    (2): MaxPool2d(kernel_size=2, stride=2, padding=0, dilation=1, ceil_mode=False)\n",
      "    (3): Dropout(p=0, inplace=False)\n",
      "  )\n",
      "  (fc1): Linear(in_features=32, out_features=64, bias=True)\n",
      "  (layer3): Sequential(\n",
      "    (0): Linear(in_features=32, out_features=64, bias=True)\n",
      "    (1): ReLU()\n",
      "    (2): Dropout(p=0, inplace=False)\n",
      "  )\n",
      "  (fc2): Linear(in_features=64, out_features=1, bias=True)\n",
      ")\n"
     ]
    },
    {
     "name": "stderr",
     "output_type": "stream",
     "text": [
      "/tmp/ipykernel_7913/3977962575.py:23: UserWarning: nn.init.xavier_uniform is now deprecated in favor of nn.init.xavier_uniform_.\n",
      "  torch.nn.init.xavier_uniform(self.fc1.weight)\n"
     ]
    }
   ],
   "source": [
    "keep_prob=1\n",
    "model2 =CNNBinary3()\n",
    "model2.to(device)\n",
    "print(model2)"
   ]
  },
  {
   "cell_type": "code",
   "execution_count": 30,
   "id": "4e5c0aa9",
   "metadata": {},
   "outputs": [],
   "source": [
    "#define the function to fit it\n",
    "#parameters: model used, train_data, test_data, epchs, batch_size, learning_rate, file to collect sats, \n",
    "#optional regularization \n",
    "def torch_fit(model,train_loader,test_loader,epochs,batch_size,learning_rate,loss_stats,l2reg=0):\n",
    "    learning_rate = learning_rate\n",
    "    criterion = torch.nn.BCELoss()    # Softmax is internally computed.\n",
    "    #if no regularization\n",
    "    if l2reg==0:\n",
    "        optimizer = torch.optim.Adam(params=model.parameters(), lr=learning_rate)\n",
    "    #l2 regularization is added in optimizer as weight_decay=1e-5 or nsimilar \n",
    "    else:\n",
    "        optimizer = torch.optim.Adam(params=model.parameters(), lr=learning_rate,weight_decay=l2reg)        \n",
    "    print(\"Begin training.\")\n",
    "    for e in tqdm(range(1, epochs+1)):\n",
    "    \n",
    "        # TRAINING\n",
    "        train_epoch_loss = 0\n",
    "        model.train()\n",
    "        for X_train_batch, y_train_batch in train_loader:\n",
    "            X_train_batch, y_train_batch = X_train_batch.to(device), y_train_batch.to(device)\n",
    "            optimizer.zero_grad()\n",
    "        \n",
    "            y_train_pred = model(X_train_batch)\n",
    "        \n",
    "            train_loss = criterion(y_train_pred, y_train_batch.unsqueeze(1))\n",
    "        \n",
    "            train_loss.backward()\n",
    "            optimizer.step()\n",
    "        \n",
    "            train_epoch_loss += train_loss.item()\n",
    "        \n",
    "        \n",
    "        # VALIDATION    \n",
    "        with torch.no_grad():\n",
    "        \n",
    "            test_epoch_loss = 0\n",
    "        \n",
    "            model.eval()\n",
    "            for X_test_batch, y_test_batch in test_loader:\n",
    "                X_test_batch, y_test_batch = X_test_batch.to(device), y_test_batch.to(device)\n",
    "            \n",
    "                y_test_pred = model(X_test_batch)\n",
    "                        \n",
    "                test_loss = criterion(y_test_pred, y_test_batch.unsqueeze(1))\n",
    "            \n",
    "                test_epoch_loss += test_loss.item()\n",
    "        loss_stats['train'].append(train_epoch_loss/len(train_loader))\n",
    "        loss_stats['test'].append(test_epoch_loss/len(test_loader))                              \n",
    "    \n",
    "        print(f'Epoch {e+0:03}: | Train Loss: {train_epoch_loss/len(train_loader):.5f} | Test Loss: {test_epoch_loss/len(test_loader):.5f}')    "
   ]
  },
  {
   "cell_type": "markdown",
   "id": "1492edb8",
   "metadata": {},
   "source": [
    "Now define the array for data collection and then fit the data. "
   ]
  },
  {
   "cell_type": "code",
   "execution_count": 31,
   "id": "c3ffb147",
   "metadata": {},
   "outputs": [
    {
     "name": "stdout",
     "output_type": "stream",
     "text": [
      "Begin training.\n"
     ]
    },
    {
     "data": {
      "application/vnd.jupyter.widget-view+json": {
       "model_id": "69236551fde247e48eaebaf7f391d5ff",
       "version_major": 2,
       "version_minor": 0
      },
      "text/plain": [
       "  0%|          | 0/20 [00:00<?, ?it/s]"
      ]
     },
     "metadata": {},
     "output_type": "display_data"
    },
    {
     "name": "stdout",
     "output_type": "stream",
     "text": [
      "Epoch 001: | Train Loss: 33.93268 | Test Loss: 34.37500\n",
      "Epoch 002: | Train Loss: 33.93268 | Test Loss: 34.37500\n",
      "Epoch 003: | Train Loss: 33.93268 | Test Loss: 34.37500\n",
      "Epoch 004: | Train Loss: 33.93268 | Test Loss: 34.37500\n",
      "Epoch 005: | Train Loss: 33.99495 | Test Loss: 34.37500\n",
      "Epoch 006: | Train Loss: 33.95344 | Test Loss: 34.37500\n",
      "Epoch 007: | Train Loss: 33.95344 | Test Loss: 34.37500\n",
      "Epoch 008: | Train Loss: 33.99495 | Test Loss: 34.37500\n",
      "Epoch 009: | Train Loss: 33.95344 | Test Loss: 34.37500\n",
      "Epoch 010: | Train Loss: 33.95344 | Test Loss: 34.37500\n",
      "Epoch 011: | Train Loss: 33.97420 | Test Loss: 34.37500\n",
      "Epoch 012: | Train Loss: 33.93268 | Test Loss: 34.37500\n",
      "Epoch 013: | Train Loss: 33.89116 | Test Loss: 34.37500\n",
      "Epoch 014: | Train Loss: 33.91192 | Test Loss: 34.37500\n",
      "Epoch 015: | Train Loss: 33.97420 | Test Loss: 34.37500\n",
      "Epoch 016: | Train Loss: 33.93268 | Test Loss: 34.37500\n",
      "Epoch 017: | Train Loss: 33.91192 | Test Loss: 34.37500\n",
      "Epoch 018: | Train Loss: 33.91192 | Test Loss: 34.37500\n",
      "Epoch 019: | Train Loss: 33.97420 | Test Loss: 34.37500\n",
      "Epoch 020: | Train Loss: 33.97420 | Test Loss: 34.37500\n"
     ]
    }
   ],
   "source": [
    "#something here wrong but only here, regularized below works \n",
    "loss_stats_test = {\n",
    "    'train': [], 'test': []\n",
    "}\n",
    "torch_fit(model2,train_im_loader,test_im_loader,20,64,0.1,loss_stats_test)"
   ]
  },
  {
   "cell_type": "markdown",
   "id": "918e7f48",
   "metadata": {},
   "source": [
    "Below I plot both neural network results. "
   ]
  },
  {
   "cell_type": "code",
   "execution_count": 32,
   "id": "92f6d109",
   "metadata": {},
   "outputs": [
    {
     "data": {
      "text/plain": [
       "(0.0, 2.0)"
      ]
     },
     "execution_count": 32,
     "metadata": {},
     "output_type": "execute_result"
    },
    {
     "data": {
      "image/png": "[encoded data removed]",
      "text/plain": [
       "<Figure size 640x480 with 1 Axes>"
      ]
     },
     "metadata": {},
     "output_type": "display_data"
    }
   ],
   "source": [
    "plt.plot(loss_stats['test'],label='MLP test')\n",
    "plt.plot(loss_stats['train'],label='MLP train')\n",
    "plt.plot(loss_stats_test['test'],label='conv2D test')\n",
    "plt.plot(loss_stats_test['train'],label='conv2D train')\n",
    "plt.legend(loc=\"best\")\n",
    "plt.title('Loss vs Epochs')\n",
    "plt.xlabel('Epochs')\n",
    "plt.ylabel('BCE loss')\n",
    "plt.ylim(0,2)"
   ]
  },
  {
   "cell_type": "markdown",
   "id": "4ad2f179",
   "metadata": {},
   "source": [
    "Convolutional looks better, less overfitting, but it also not look perfect and the final loss is not  the best one. There are wiggles in test seem like that there is overfitting also there. Results change every fit slightly. \n",
    "\n",
    "Now I do some other algorithms with standard settings. First xgboost. "
   ]
  },
  {
   "cell_type": "markdown",
   "id": "52c65508",
   "metadata": {},
   "source": [
    "Define function to get confusion matrix. "
   ]
  },
  {
   "cell_type": "code",
   "execution_count": 33,
   "id": "bc5178b8",
   "metadata": {},
   "outputs": [],
   "source": [
    "def conf_for_torch(predict,target):\n",
    "    #round prediction\n",
    "    round_pred=np.round(np.array(predict))\n",
    "    conf_matrix = confusion_matrix(target, round_pred)\n",
    "    return conf_matrix"
   ]
  },
  {
   "cell_type": "code",
   "execution_count": 34,
   "id": "d66852af",
   "metadata": {},
   "outputs": [
    {
     "name": "stdout",
     "output_type": "stream",
     "text": [
      "3 layer perceptron\n",
      "train\n",
      "[[1109    6]\n",
      " [   9 2159]]\n",
      "test\n",
      "[[481   3]\n",
      " [  9 915]]\n"
     ]
    }
   ],
   "source": [
    "conf_test_m=conf_for_torch(m_test,target_test)\n",
    "conf_train_m=conf_for_torch(m_train,target_train)\n",
    "print(\"3 layer perceptron\")\n",
    "print(\"train\")\n",
    "print(conf_train_m)\n",
    "print(\"test\")\n",
    "print(conf_test_m)"
   ]
  },
  {
   "cell_type": "markdown",
   "id": "c4879ea3",
   "metadata": {},
   "source": [
    "Also overfitting. Is better than both before. Number of cases is somewhat low for reliable testing.\n",
    "\n",
    "Now convolutional network. "
   ]
  },
  {
   "cell_type": "code",
   "execution_count": 37,
   "id": "328761c9",
   "metadata": {},
   "outputs": [
    {
     "name": "stdout",
     "output_type": "stream",
     "text": [
      "2 conv2D layers conv2D one other\n",
      "train\n",
      "[[   0 1115]\n",
      " [   0 2168]]\n",
      "test\n",
      "[[  0 484]\n",
      " [  0 924]]\n"
     ]
    }
   ],
   "source": [
    "c_test=pred_torch(model2,test_im_loader)\n",
    "c_train=pred_torch(model2,train_im_loader_pred)\n",
    "conf_test_c=conf_for_torch(c_test,target_test)\n",
    "conf_train_c=conf_for_torch(c_train,target_train)\n",
    "print(\"2 conv2D layers conv2D one other\")\n",
    "print(\"train\")\n",
    "print(conf_train_c)\n",
    "print(\"test\")\n",
    "print(conf_test_c)"
   ]
  },
  {
   "cell_type": "markdown",
   "id": "b539d897",
   "metadata": {},
   "source": [
    "Even better in test and again overfitting in train. Now I am calculating f1-scores for all. "
   ]
  },
  {
   "cell_type": "code",
   "execution_count": 38,
   "id": "19c19502",
   "metadata": {},
   "outputs": [
    {
     "name": "stdout",
     "output_type": "stream",
     "text": [
      "F1-scores\n",
      "perceptron train 0.99654\n",
      "perceptron test 0.99349\n",
      "conv2d train 0.79545\n",
      "conv2d test 0.79245\n"
     ]
    }
   ],
   "source": [
    "print(\"F1-scores\")\n",
    "print(f\"perceptron train {np.round(f1_score(target_train,np.round(m_train)),5)}\")\n",
    "print(f\"perceptron test {np.round(f1_score(target_test,np.round(m_test)),5)}\")\n",
    "print(f\"conv2d train {np.round(f1_score(target_train,np.round(c_train)),5)}\")\n",
    "print(f\"conv2d test {np.round(f1_score(target_test,np.round(c_test)),5)}\")"
   ]
  },
  {
   "cell_type": "markdown",
   "id": "ba296b8d",
   "metadata": {},
   "source": [
    "All rather good, the differences are small, Convolutional network is best, then perceptron, the xgboost then logistic regression.\n",
    "\n",
    "\n",
    "Now I do convoltional network with regularization. "
   ]
  },
  {
   "cell_type": "markdown",
   "id": "55899f6c",
   "metadata": {},
   "source": [
    "Now I define a function to execute several l2 regularization of the same model after each other"
   ]
  },
  {
   "cell_type": "code",
   "execution_count": 39,
   "id": "8633c46c",
   "metadata": {},
   "outputs": [],
   "source": [
    "#loop on regularization \n",
    "#model used, train set, test set, train set for predict, train_target, test_target\n",
    "#epochs, batch?size, alpha of fit, list of regularization, optional number of features needed for perceptron \n",
    "def run_loop_torch(model,train,test,train_for_pred,train_target,test_target,epochs,batch,alpha,regs,num_features=0):\n",
    "    stats=np.zeros((5,len(regs)))\n",
    "    for i in range(len(regs)):\n",
    "        print(f\"running reg of {regs[i]}\")\n",
    "        keep_prob=1\n",
    "        if num_features==0:\n",
    "            model3 =model()\n",
    "        else:\n",
    "            #num_features partlz needed\n",
    "            model3 =model(num_features)            \n",
    "        model3.to(device)\n",
    "        loss_stats_test3 = {\n",
    "        'train': [], 'test': []\n",
    "        }\n",
    "        torch_fit(model3,train,test,epochs,batch,alpha,loss_stats_test3,l2reg=regs[i])\n",
    "        test_pred=pred_torch(model3,test)\n",
    "        train_pred=pred_torch(model3,train_for_pred)\n",
    "        stats[0,i]=regs[i]\n",
    "        stats[1,i]=f1_score(train_target,np.round(train_pred))\n",
    "        stats[2,i]=f1_score(test_target,np.round(test_pred))\n",
    "        stats[3,i]=log_loss(train_target,(train_pred))\n",
    "        stats[4,i]=log_loss(test_target,(test_pred))   \n",
    "        print(f\"stats of l2reg of  {regs[i]} are {np.round(stats[1:5,i],5)}\")\n",
    "    print(f\"full stats are {np.round(stats[:,:].T,5)}\")\n",
    "    return stats"
   ]
  },
  {
   "cell_type": "markdown",
   "id": "5c854515",
   "metadata": {},
   "source": [
    "I  now run  convoltional network for several regularization. I choose 200 epochs that convergence is possible when no overfitting occurs. With overfitting is will still change but since the aim here is to find the regularization which has not that problem, it is not a problem. "
   ]
  },
  {
   "cell_type": "markdown",
   "id": "278efe57",
   "metadata": {},
   "source": [
    "Now running best regularizations below. "
   ]
  },
  {
   "cell_type": "code",
   "execution_count": 40,
   "id": "22fc22c7",
   "metadata": {},
   "outputs": [
    {
     "name": "stdout",
     "output_type": "stream",
     "text": [
      "Begin training.\n"
     ]
    },
    {
     "data": {
      "application/vnd.jupyter.widget-view+json": {
       "model_id": "dc67c7973d9a409fa26bbd0416cf333f",
       "version_major": 2,
       "version_minor": 0
      },
      "text/plain": [
       "  0%|          | 0/20 [00:00<?, ?it/s]"
      ]
     },
     "metadata": {},
     "output_type": "display_data"
    },
    {
     "name": "stdout",
     "output_type": "stream",
     "text": [
      "Epoch 001: | Train Loss: 0.37674 | Test Loss: 0.21595\n",
      "Epoch 002: | Train Loss: 0.30501 | Test Loss: 0.22803\n",
      "Epoch 003: | Train Loss: 0.30790 | Test Loss: 0.28975\n",
      "Epoch 004: | Train Loss: 0.20315 | Test Loss: 0.37559\n",
      "Epoch 005: | Train Loss: 0.16509 | Test Loss: 0.25942\n",
      "Epoch 006: | Train Loss: 0.10599 | Test Loss: 0.25603\n",
      "Epoch 007: | Train Loss: 0.13159 | Test Loss: 0.19019\n",
      "Epoch 008: | Train Loss: 0.10294 | Test Loss: 0.25641\n",
      "Epoch 009: | Train Loss: 0.09020 | Test Loss: 0.24564\n",
      "Epoch 010: | Train Loss: 0.11970 | Test Loss: 0.59341\n",
      "Epoch 011: | Train Loss: 0.26391 | Test Loss: 0.20042\n",
      "Epoch 012: | Train Loss: 0.16746 | Test Loss: 0.18363\n",
      "Epoch 013: | Train Loss: 0.08667 | Test Loss: 0.19865\n",
      "Epoch 014: | Train Loss: 0.07305 | Test Loss: 0.17410\n",
      "Epoch 015: | Train Loss: 0.09576 | Test Loss: 0.13358\n",
      "Epoch 016: | Train Loss: 0.06446 | Test Loss: 0.11314\n",
      "Epoch 017: | Train Loss: 0.08930 | Test Loss: 0.17468\n",
      "Epoch 018: | Train Loss: 0.09336 | Test Loss: 0.11756\n",
      "Epoch 019: | Train Loss: 0.11992 | Test Loss: 0.11190\n",
      "Epoch 020: | Train Loss: 0.08776 | Test Loss: 0.12178\n"
     ]
    }
   ],
   "source": [
    "num_features=121\n",
    "keep_prob=1\n",
    "modelp =BinaryClassification3(num_features)            \n",
    "modelp.to(device)\n",
    "loss_stats_test3 = {\n",
    "        'train': [], 'test': []\n",
    "        }\n",
    "torch_fit(modelp,train_loader,test_loader,20,64,0.001,loss_stats_test3,l2reg=0.03)\n",
    "p2_test_pred=pred_torch(modelp,test_loader)\n",
    "p2_train_pred=pred_torch(modelp,train_loader_pred)"
   ]
  },
  {
   "cell_type": "code",
   "execution_count": 41,
   "id": "42f1b641",
   "metadata": {},
   "outputs": [
    {
     "name": "stdout",
     "output_type": "stream",
     "text": [
      "Begin training.\n"
     ]
    },
    {
     "name": "stderr",
     "output_type": "stream",
     "text": [
      "/tmp/ipykernel_7913/3977962575.py:23: UserWarning: nn.init.xavier_uniform is now deprecated in favor of nn.init.xavier_uniform_.\n",
      "  torch.nn.init.xavier_uniform(self.fc1.weight)\n"
     ]
    },
    {
     "data": {
      "application/vnd.jupyter.widget-view+json": {
       "model_id": "d1268071cbb4442aae95a3a6079c106b",
       "version_major": 2,
       "version_minor": 0
      },
      "text/plain": [
       "  0%|          | 0/20 [00:00<?, ?it/s]"
      ]
     },
     "metadata": {},
     "output_type": "display_data"
    },
    {
     "name": "stdout",
     "output_type": "stream",
     "text": [
      "Epoch 001: | Train Loss: 0.98840 | Test Loss: 0.19716\n",
      "Epoch 002: | Train Loss: 0.28031 | Test Loss: 0.02844\n",
      "Epoch 003: | Train Loss: 1.48283 | Test Loss: 0.08422\n",
      "Epoch 004: | Train Loss: 0.18048 | Test Loss: 0.04607\n",
      "Epoch 005: | Train Loss: 0.18659 | Test Loss: 0.45790\n",
      "Epoch 006: | Train Loss: 0.34222 | Test Loss: 0.11361\n",
      "Epoch 007: | Train Loss: 0.11279 | Test Loss: 0.46837\n",
      "Epoch 008: | Train Loss: 0.11316 | Test Loss: 0.03552\n",
      "Epoch 009: | Train Loss: 0.05009 | Test Loss: 0.03041\n",
      "Epoch 010: | Train Loss: 0.05019 | Test Loss: 0.10142\n",
      "Epoch 011: | Train Loss: 0.04563 | Test Loss: 0.03802\n",
      "Epoch 012: | Train Loss: 0.04928 | Test Loss: 0.11071\n",
      "Epoch 013: | Train Loss: 0.04658 | Test Loss: 0.03994\n",
      "Epoch 014: | Train Loss: 0.04647 | Test Loss: 0.02880\n",
      "Epoch 015: | Train Loss: 0.04592 | Test Loss: 0.02580\n",
      "Epoch 016: | Train Loss: 0.13579 | Test Loss: 0.02948\n",
      "Epoch 017: | Train Loss: 0.11750 | Test Loss: 0.02461\n",
      "Epoch 018: | Train Loss: 0.05703 | Test Loss: 0.02992\n",
      "Epoch 019: | Train Loss: 0.04727 | Test Loss: 0.02281\n",
      "Epoch 020: | Train Loss: 0.04722 | Test Loss: 0.10020\n"
     ]
    }
   ],
   "source": [
    "#slower than perceptron but not much \n",
    "keep_prob=1\n",
    "modelc =CNNBinary3()            \n",
    "modelc.to(device)\n",
    "loss_stats_test_c = {\n",
    "        'train': [], 'test': []\n",
    "        }\n",
    "torch_fit(modelc,train_im_loader,test_im_loader,20,64,0.001,loss_stats_test_c,l2reg=0.03)\n",
    "c2_test_pred=pred_torch(modelc,test_im_loader)\n",
    "c2_train_pred=pred_torch(modelc,train_im_loader_pred)"
   ]
  },
  {
   "cell_type": "markdown",
   "id": "a3e29e82",
   "metadata": {},
   "source": [
    "Convolutional works better with regularization. "
   ]
  },
  {
   "cell_type": "code",
   "execution_count": 44,
   "id": "dc31934b",
   "metadata": {},
   "outputs": [
    {
     "data": {
      "text/plain": [
       "(0.0, 2.0)"
      ]
     },
     "execution_count": 44,
     "metadata": {},
     "output_type": "execute_result"
    },
    {
     "data": {
      "image/png": "[encoded data removed]",
      "text/plain": [
       "<Figure size 640x480 with 1 Axes>"
      ]
     },
     "metadata": {},
     "output_type": "display_data"
    }
   ],
   "source": [
    "plt.plot(loss_stats_test3['test'],label='MLP test')\n",
    "plt.plot(loss_stats_test3['train'],label='MLP train')\n",
    "plt.plot(loss_stats_test_c['test'],label='conv2D test')\n",
    "plt.plot(loss_stats_test_c['train'],label='conv2D train')\n",
    "plt.legend(loc=\"best\")\n",
    "plt.title('Loss vs Epochs')\n",
    "plt.xlabel('Epochs')\n",
    "plt.ylabel('BCE loss')\n",
    "plt.ylim(0,2)"
   ]
  }
 ],
 "metadata": {
  "kernelspec": {
   "display_name": "Python 3 (ipykernel)",
   "language": "python",
   "name": "python3"
  },
  "language_info": {
   "codemirror_mode": {
    "name": "ipython",
    "version": 3
   },
   "file_extension": ".py",
   "mimetype": "text/x-python",
   "name": "python",
   "nbconvert_exporter": "python",
   "pygments_lexer": "ipython3",
   "version": "3.8.15"
  }
 },
 "nbformat": 4,
 "nbformat_minor": 5
}
