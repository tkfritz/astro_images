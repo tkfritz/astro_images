{
 "cells": [
  {
   "cell_type": "markdown",
   "id": "206c4356",
   "metadata": {},
   "source": [
    "# Star galaxy separation \n",
    "\n",
    "Here seperate images of stars and galaxies from each other. This is my first attempt on image data. I choose this problem because it is relatively simple, at least with sufficient signal to noise star and galaxy should be relatively easy to separate because stars are homogenous class and while galaxies are less simple, they should be all larger than stars. \n",
    "\n",
    "This notebook is the last of several and applies many steps learned before. \n",
    "First I load the needed libraries. "
   ]
  },
  {
   "cell_type": "code",
   "execution_count": 1,
   "id": "971cc0d3",
   "metadata": {},
   "outputs": [],
   "source": [
    "#standard libraries\n",
    "import pandas as pd\n",
    "import numpy as np\n",
    "from matplotlib import pyplot as plt\n",
    "from matplotlib.pyplot import figure\n",
    "import matplotlib.cm as cm\n",
    "import sys\n",
    "import os\n",
    "#to access astronomical images in fits format\n",
    "from astropy.io import fits\n",
    "#torch functions\n",
    "import torch\n",
    "from torch import nn\n",
    "import torch.nn.functional as F\n",
    "import torch.optim as optim\n",
    "from torch.utils.data import Dataset, DataLoader\n",
    "from tqdm.notebook import tqdm\n",
    "#sklearn helper functions\n",
    "from sklearn.model_selection import train_test_split\n",
    "from sklearn.metrics import confusion_matrix, accuracy_score, precision_score,f1_score, log_loss, ConfusionMatrixDisplay\n",
    "#xgboost for comparison\n",
    "from xgboost import XGBClassifier\n",
    "#logistic regression for comparison \n",
    "from sklearn.linear_model import LogisticRegression\n",
    "#own functions\n",
    "from functions_ml import *\n",
    "from functions_wcs import *\n",
    "#for accesing saved models  \n",
    "#import pickle\n",
    "#supresses warnings, which dont matter\n",
    "#import warnings\n",
    "#warnings.filterwarnings('ignore')"
   ]
  },
  {
   "cell_type": "markdown",
   "id": "7810887a",
   "metadata": {},
   "source": [
    "## Data introduction and preparation\n",
    "\n",
    "Now I am loading the table and associated images on the classification and other properties of the objects to be classified. \n",
    "\n",
    "This is done in get_small_objects.py  Afyer exploration of other options I use several criteria to ensure clean samples of stars and galaxies. I ignore QSO (quasi stellar objkects) because while they usually close to stars it is not 100% the case. In addition I combine spectral class (star versus galaxy) classfications with shape based criteria. In detail I requiore that the shape is star like in the iamges in all three filters with highest signal to noise ration. These are images in g, r and i. \n",
    "I choose as size of the cutout image a box radius of 11. That is relatively because stars should be clear with this window size and a larger one would be only a waste. It is not clear that this is the optimal size. \n",
    "\n",
    "These images are now loaded and the classes statistic is  shown. "
   ]
  },
  {
   "cell_type": "markdown",
   "id": "5a0c547e",
   "metadata": {},
   "source": [
    "Now I check how many rows are off the images."
   ]
  },
  {
   "cell_type": "code",
   "execution_count": 2,
   "id": "b1cf9aab",
   "metadata": {},
   "outputs": [
    {
     "name": "stdout",
     "output_type": "stream",
     "text": [
      "GALAXY    3092\n",
      "STAR      1599\n",
      "Name: class, dtype: int64\n"
     ]
    }
   ],
   "source": [
    "df2=pd.read_csv('stripe82_1_small_table.csv')\n",
    "cut_outs2=np.load('stripe82_1_small_im.npy')\n",
    "print(df2['class'].value_counts())"
   ]
  },
  {
   "cell_type": "markdown",
   "id": "a293d64c",
   "metadata": {},
   "source": [
    "There are about twice as much galaxies as star. This imbalance is probably small enough that it can be ignored.\n",
    "\n",
    "Now I display two galaxies first. "
   ]
  },
  {
   "cell_type": "code",
   "execution_count": 3,
   "id": "2d94ceae",
   "metadata": {},
   "outputs": [
    {
     "data": {
      "text/plain": [
       "<matplotlib.image.AxesImage at 0x7f4f3e927550>"
      ]
     },
     "execution_count": 3,
     "metadata": {},
     "output_type": "execute_result"
    },
    {
     "data": {
      "image/png": "[encoded data removed]",
      "text/plain": [
       "<Figure size 640x480 with 1 Axes>"
      ]
     },
     "metadata": {},
     "output_type": "display_data"
    }
   ],
   "source": [
    "plt.axis('off')\n",
    "plt.title(\"Galaxy\")\n",
    "plt.imshow(1-cut_outs2[:,:,0,0].T,cmap=cm.gray, interpolation='nearest')"
   ]
  },
  {
   "cell_type": "code",
   "execution_count": 4,
   "id": "c02bef48",
   "metadata": {},
   "outputs": [
    {
     "data": {
      "text/plain": [
       "<matplotlib.image.AxesImage at 0x7f4f3da38100>"
      ]
     },
     "execution_count": 4,
     "metadata": {},
     "output_type": "execute_result"
    },
    {
     "data": {
      "image/png": "[encoded data removed]",
      "text/plain": [
       "<Figure size 640x480 with 1 Axes>"
      ]
     },
     "metadata": {},
     "output_type": "display_data"
    }
   ],
   "source": [
    "fg=df2['class'][df2['class']=='GALAXY']\n",
    "plt.axis('off')\n",
    "plt.title(\"Galaxy\")\n",
    "plt.imshow(1-cut_outs2[:,:,0,fg.index[1]].T,cmap=cm.gray, interpolation='nearest')"
   ]
  },
  {
   "cell_type": "markdown",
   "id": "888a13fc",
   "metadata": {},
   "source": [
    "It is visible that there is variation in galaxy shape. Now two stars. "
   ]
  },
  {
   "cell_type": "code",
   "execution_count": 5,
   "id": "53193e88",
   "metadata": {},
   "outputs": [
    {
     "data": {
      "text/plain": [
       "<matplotlib.image.AxesImage at 0x7f4f3d9f4be0>"
      ]
     },
     "execution_count": 5,
     "metadata": {},
     "output_type": "execute_result"
    },
    {
     "data": {
      "image/png": "[encoded data removed]",
      "text/plain": [
       "<Figure size 640x480 with 1 Axes>"
      ]
     },
     "metadata": {},
     "output_type": "display_data"
    }
   ],
   "source": [
    "#finding star for display\n",
    "fs=df2['class'][df2['class']=='STAR']\n",
    "plt.axis('off')\n",
    "plt.title(\"Star\")\n",
    "plt.imshow(1-cut_outs2[:,:,0,fs.index[0]].T,cmap=cm.gray, interpolation='nearest')"
   ]
  },
  {
   "cell_type": "code",
   "execution_count": 6,
   "id": "2637c5cd",
   "metadata": {},
   "outputs": [
    {
     "data": {
      "text/plain": [
       "<matplotlib.image.AxesImage at 0x7f4f3d9b5e80>"
      ]
     },
     "execution_count": 6,
     "metadata": {},
     "output_type": "execute_result"
    },
    {
     "data": {
      "image/png": "[encoded data removed]",
      "text/plain": [
       "<Figure size 640x480 with 1 Axes>"
      ]
     },
     "metadata": {},
     "output_type": "display_data"
    }
   ],
   "source": [
    "plt.axis('off')\n",
    "plt.title(\"Star\")\n",
    "plt.imshow(1-cut_outs2[:,:,0,fs.index[1]].T,cmap=cm.gray, interpolation='nearest')"
   ]
  },
  {
   "cell_type": "markdown",
   "id": "def48122",
   "metadata": {},
   "source": [
    "In contrast different stars look very similar when scaled to their maximum. As it should be the galaxies are less concentrated than the stars. \n",
    "\n",
    "Because of the relevant noise on astronomical images I do not rescale the cut out images, since rescaling can cause that noise level is very different between different images, while it should be rather similar in this data set.   "
   ]
  },
  {
   "cell_type": "markdown",
   "id": "636dcb24",
   "metadata": {},
   "source": [
    "The next step are general setup tasks needed for torch neural networks. For now that these are two, firstly a fully connected multilayer network as perceptron. Secondly, a network which uses twodiemnsionalk convolutional layer whoch should be optimized for images. \n",
    "\n",
    "First I add the cpu. "
   ]
  },
  {
   "cell_type": "code",
   "execution_count": 7,
   "id": "6a9b75d7",
   "metadata": {},
   "outputs": [
    {
     "name": "stdout",
     "output_type": "stream",
     "text": [
      "Using cpu device\n"
     ]
    }
   ],
   "source": [
    "#adding cpu\n",
    "device = (\n",
    "    \"cuda\"\n",
    "    if torch.cuda.is_available()\n",
    "    else \"mps\"\n",
    "    if torch.backends.mps.is_available()\n",
    "    else \"cpu\"\n",
    ")\n",
    "print(f\"Using {device} device\")\n",
    "\n"
   ]
  },
  {
   "cell_type": "code",
   "execution_count": 8,
   "id": "1044f77d",
   "metadata": {},
   "outputs": [
    {
     "ename": "SyntaxError",
     "evalue": "invalid syntax (4051886940.py, line 1)",
     "output_type": "error",
     "traceback": [
      "\u001b[0;36m  Cell \u001b[0;32mIn[8], line 1\u001b[0;36m\u001b[0m\n\u001b[0;31m    Now adding the image columns to the neural network.\u001b[0m\n\u001b[0m        ^\u001b[0m\n\u001b[0;31mSyntaxError\u001b[0m\u001b[0;31m:\u001b[0m invalid syntax\n"
     ]
    }
   ],
   "source": [
    "Now adding the image columns to the neural network. "
   ]
  },
  {
   "cell_type": "code",
   "execution_count": 9,
   "id": "09e9e6bf",
   "metadata": {},
   "outputs": [
    {
     "name": "stdout",
     "output_type": "stream",
     "text": [
      "Index(['Unnamed: 0',      'index',      'objid',         'ra',        'dec',\n",
      "         'psfMag_u',   'psfMag_g',   'psfMag_r',   'psfMag_i',   'psfMag_z',\n",
      "       ...\n",
      "                111,          112,          113,          114,          115,\n",
      "                116,          117,          118,          119,          120],\n",
      "      dtype='object', length=292)\n"
     ]
    },
    {
     "name": "stderr",
     "output_type": "stream",
     "text": [
      "/tmp/ipykernel_13191/1636207740.py:4: PerformanceWarning: DataFrame is highly fragmented.  This is usually the result of calling `frame.insert` many times, which has poor performance.  Consider joining all columns at once using pd.concat(axis=1) instead. To get a de-fragmented frame, use `newframe = frame.copy()`\n",
      "  df2[x]=cut_outs2[i,j,0,:]\n",
      "/tmp/ipykernel_13191/1636207740.py:4: PerformanceWarning: DataFrame is highly fragmented.  This is usually the result of calling `frame.insert` many times, which has poor performance.  Consider joining all columns at once using pd.concat(axis=1) instead. To get a de-fragmented frame, use `newframe = frame.copy()`\n",
      "  df2[x]=cut_outs2[i,j,0,:]\n",
      "/tmp/ipykernel_13191/1636207740.py:4: PerformanceWarning: DataFrame is highly fragmented.  This is usually the result of calling `frame.insert` many times, which has poor performance.  Consider joining all columns at once using pd.concat(axis=1) instead. To get a de-fragmented frame, use `newframe = frame.copy()`\n",
      "  df2[x]=cut_outs2[i,j,0,:]\n",
      "/tmp/ipykernel_13191/1636207740.py:4: PerformanceWarning: DataFrame is highly fragmented.  This is usually the result of calling `frame.insert` many times, which has poor performance.  Consider joining all columns at once using pd.concat(axis=1) instead. To get a de-fragmented frame, use `newframe = frame.copy()`\n",
      "  df2[x]=cut_outs2[i,j,0,:]\n",
      "/tmp/ipykernel_13191/1636207740.py:4: PerformanceWarning: DataFrame is highly fragmented.  This is usually the result of calling `frame.insert` many times, which has poor performance.  Consider joining all columns at once using pd.concat(axis=1) instead. To get a de-fragmented frame, use `newframe = frame.copy()`\n",
      "  df2[x]=cut_outs2[i,j,0,:]\n",
      "/tmp/ipykernel_13191/1636207740.py:4: PerformanceWarning: DataFrame is highly fragmented.  This is usually the result of calling `frame.insert` many times, which has poor performance.  Consider joining all columns at once using pd.concat(axis=1) instead. To get a de-fragmented frame, use `newframe = frame.copy()`\n",
      "  df2[x]=cut_outs2[i,j,0,:]\n",
      "/tmp/ipykernel_13191/1636207740.py:4: PerformanceWarning: DataFrame is highly fragmented.  This is usually the result of calling `frame.insert` many times, which has poor performance.  Consider joining all columns at once using pd.concat(axis=1) instead. To get a de-fragmented frame, use `newframe = frame.copy()`\n",
      "  df2[x]=cut_outs2[i,j,0,:]\n",
      "/tmp/ipykernel_13191/1636207740.py:4: PerformanceWarning: DataFrame is highly fragmented.  This is usually the result of calling `frame.insert` many times, which has poor performance.  Consider joining all columns at once using pd.concat(axis=1) instead. To get a de-fragmented frame, use `newframe = frame.copy()`\n",
      "  df2[x]=cut_outs2[i,j,0,:]\n",
      "/tmp/ipykernel_13191/1636207740.py:4: PerformanceWarning: DataFrame is highly fragmented.  This is usually the result of calling `frame.insert` many times, which has poor performance.  Consider joining all columns at once using pd.concat(axis=1) instead. To get a de-fragmented frame, use `newframe = frame.copy()`\n",
      "  df2[x]=cut_outs2[i,j,0,:]\n",
      "/tmp/ipykernel_13191/1636207740.py:4: PerformanceWarning: DataFrame is highly fragmented.  This is usually the result of calling `frame.insert` many times, which has poor performance.  Consider joining all columns at once using pd.concat(axis=1) instead. To get a de-fragmented frame, use `newframe = frame.copy()`\n",
      "  df2[x]=cut_outs2[i,j,0,:]\n",
      "/tmp/ipykernel_13191/1636207740.py:4: PerformanceWarning: DataFrame is highly fragmented.  This is usually the result of calling `frame.insert` many times, which has poor performance.  Consider joining all columns at once using pd.concat(axis=1) instead. To get a de-fragmented frame, use `newframe = frame.copy()`\n",
      "  df2[x]=cut_outs2[i,j,0,:]\n",
      "/tmp/ipykernel_13191/1636207740.py:4: PerformanceWarning: DataFrame is highly fragmented.  This is usually the result of calling `frame.insert` many times, which has poor performance.  Consider joining all columns at once using pd.concat(axis=1) instead. To get a de-fragmented frame, use `newframe = frame.copy()`\n",
      "  df2[x]=cut_outs2[i,j,0,:]\n",
      "/tmp/ipykernel_13191/1636207740.py:4: PerformanceWarning: DataFrame is highly fragmented.  This is usually the result of calling `frame.insert` many times, which has poor performance.  Consider joining all columns at once using pd.concat(axis=1) instead. To get a de-fragmented frame, use `newframe = frame.copy()`\n",
      "  df2[x]=cut_outs2[i,j,0,:]\n",
      "/tmp/ipykernel_13191/1636207740.py:4: PerformanceWarning: DataFrame is highly fragmented.  This is usually the result of calling `frame.insert` many times, which has poor performance.  Consider joining all columns at once using pd.concat(axis=1) instead. To get a de-fragmented frame, use `newframe = frame.copy()`\n",
      "  df2[x]=cut_outs2[i,j,0,:]\n",
      "/tmp/ipykernel_13191/1636207740.py:4: PerformanceWarning: DataFrame is highly fragmented.  This is usually the result of calling `frame.insert` many times, which has poor performance.  Consider joining all columns at once using pd.concat(axis=1) instead. To get a de-fragmented frame, use `newframe = frame.copy()`\n",
      "  df2[x]=cut_outs2[i,j,0,:]\n",
      "/tmp/ipykernel_13191/1636207740.py:4: PerformanceWarning: DataFrame is highly fragmented.  This is usually the result of calling `frame.insert` many times, which has poor performance.  Consider joining all columns at once using pd.concat(axis=1) instead. To get a de-fragmented frame, use `newframe = frame.copy()`\n",
      "  df2[x]=cut_outs2[i,j,0,:]\n",
      "/tmp/ipykernel_13191/1636207740.py:4: PerformanceWarning: DataFrame is highly fragmented.  This is usually the result of calling `frame.insert` many times, which has poor performance.  Consider joining all columns at once using pd.concat(axis=1) instead. To get a de-fragmented frame, use `newframe = frame.copy()`\n",
      "  df2[x]=cut_outs2[i,j,0,:]\n",
      "/tmp/ipykernel_13191/1636207740.py:4: PerformanceWarning: DataFrame is highly fragmented.  This is usually the result of calling `frame.insert` many times, which has poor performance.  Consider joining all columns at once using pd.concat(axis=1) instead. To get a de-fragmented frame, use `newframe = frame.copy()`\n",
      "  df2[x]=cut_outs2[i,j,0,:]\n",
      "/tmp/ipykernel_13191/1636207740.py:4: PerformanceWarning: DataFrame is highly fragmented.  This is usually the result of calling `frame.insert` many times, which has poor performance.  Consider joining all columns at once using pd.concat(axis=1) instead. To get a de-fragmented frame, use `newframe = frame.copy()`\n",
      "  df2[x]=cut_outs2[i,j,0,:]\n",
      "/tmp/ipykernel_13191/1636207740.py:4: PerformanceWarning: DataFrame is highly fragmented.  This is usually the result of calling `frame.insert` many times, which has poor performance.  Consider joining all columns at once using pd.concat(axis=1) instead. To get a de-fragmented frame, use `newframe = frame.copy()`\n",
      "  df2[x]=cut_outs2[i,j,0,:]\n",
      "/tmp/ipykernel_13191/1636207740.py:4: PerformanceWarning: DataFrame is highly fragmented.  This is usually the result of calling `frame.insert` many times, which has poor performance.  Consider joining all columns at once using pd.concat(axis=1) instead. To get a de-fragmented frame, use `newframe = frame.copy()`\n",
      "  df2[x]=cut_outs2[i,j,0,:]\n",
      "/tmp/ipykernel_13191/1636207740.py:4: PerformanceWarning: DataFrame is highly fragmented.  This is usually the result of calling `frame.insert` many times, which has poor performance.  Consider joining all columns at once using pd.concat(axis=1) instead. To get a de-fragmented frame, use `newframe = frame.copy()`\n",
      "  df2[x]=cut_outs2[i,j,0,:]\n",
      "/tmp/ipykernel_13191/1636207740.py:4: PerformanceWarning: DataFrame is highly fragmented.  This is usually the result of calling `frame.insert` many times, which has poor performance.  Consider joining all columns at once using pd.concat(axis=1) instead. To get a de-fragmented frame, use `newframe = frame.copy()`\n",
      "  df2[x]=cut_outs2[i,j,0,:]\n",
      "/tmp/ipykernel_13191/1636207740.py:4: PerformanceWarning: DataFrame is highly fragmented.  This is usually the result of calling `frame.insert` many times, which has poor performance.  Consider joining all columns at once using pd.concat(axis=1) instead. To get a de-fragmented frame, use `newframe = frame.copy()`\n",
      "  df2[x]=cut_outs2[i,j,0,:]\n",
      "/tmp/ipykernel_13191/1636207740.py:4: PerformanceWarning: DataFrame is highly fragmented.  This is usually the result of calling `frame.insert` many times, which has poor performance.  Consider joining all columns at once using pd.concat(axis=1) instead. To get a de-fragmented frame, use `newframe = frame.copy()`\n",
      "  df2[x]=cut_outs2[i,j,0,:]\n"
     ]
    }
   ],
   "source": [
    "x=0\n",
    "for i in range(cut_outs2.shape[0]):\n",
    "    for j in range(cut_outs2.shape[1]):\n",
    "        df2[x]=cut_outs2[i,j,0,:]\n",
    "        x+=1\n",
    "print(df2.columns)   "
   ]
  },
  {
   "cell_type": "markdown",
   "id": "c1808e73",
   "metadata": {},
   "source": [
    "Next I split into test and train. "
   ]
  },
  {
   "cell_type": "code",
   "execution_count": 10,
   "id": "431ca039",
   "metadata": {},
   "outputs": [
    {
     "name": "stdout",
     "output_type": "stream",
     "text": [
      "shape of image train data\n",
      "(3283, 1, 11, 11)\n"
     ]
    }
   ],
   "source": [
    "#need to be transposed to get into torch format of batch, channels, x, y\n",
    "#splitting, feature_mlp, targets, feature_images, df properties\n",
    "feature_train,feature_test,target_train, target_test,image_train,image_test,df_train,df_test= train_test_split(df2.loc[:,0:120],df2.loc[:,\"galaxy\"],cut_outs2.T,df2,train_size=0.70, shuffle=True, random_state=1)\n",
    "print(\"shape of image train data\")\n",
    "print(image_train.shape)"
   ]
  },
  {
   "cell_type": "markdown",
   "id": "0cae0776",
   "metadata": {},
   "source": [
    "Now I change the target data type to numpy array where that is not yet the case. "
   ]
  },
  {
   "cell_type": "code",
   "execution_count": 11,
   "id": "52ac4d56",
   "metadata": {},
   "outputs": [
    {
     "name": "stdout",
     "output_type": "stream",
     "text": [
      "<class 'numpy.ndarray'> <class 'numpy.ndarray'>\n"
     ]
    }
   ],
   "source": [
    " \n",
    "feature_train, target_train = np.array(feature_train), np.array(target_train)\n",
    "feature_test, target_test = np.array(feature_test), np.array(target_test)\n",
    "print(type(target_train),type(image_test))"
   ]
  },
  {
   "cell_type": "markdown",
   "id": "a8d006f6",
   "metadata": {},
   "source": [
    "Now I create the data sets as needed for both neural network types. "
   ]
  },
  {
   "cell_type": "code",
   "execution_count": 12,
   "id": "520fd1a5",
   "metadata": {},
   "outputs": [
    {
     "name": "stdout",
     "output_type": "stream",
     "text": [
      "<class 'torch.Tensor'>\n",
      "<class 'functions_ml.ClassificationDataset'>\n"
     ]
    }
   ],
   "source": [
    "train_dataset = ClassificationDataset(torch.from_numpy(feature_train).float(), torch.from_numpy(target_train).float())\n",
    "test_dataset = ClassificationDataset(torch.from_numpy(feature_test).float(), torch.from_numpy(target_test).float())\n",
    "train_im_dataset = ClassificationDataset(torch.from_numpy(image_train).float(), torch.from_numpy(target_train).float())\n",
    "test_im_dataset = ClassificationDataset(torch.from_numpy(image_test).float(), torch.from_numpy(target_test).float())\n",
    "#print type as test \n",
    "print(type(torch.from_numpy(image_test).float()))\n",
    "print(type(test_im_dataset))\n"
   ]
  },
  {
   "cell_type": "markdown",
   "id": "82861c31",
   "metadata": {},
   "source": [
    "Now I define the parameters needed for a first exploratory fit. "
   ]
  },
  {
   "cell_type": "code",
   "execution_count": 13,
   "id": "88d42328",
   "metadata": {},
   "outputs": [],
   "source": [
    "NUM_FEATURES=121\n",
    "LEARNING_RATE=0.001\n",
    "EPOCHS=20\n",
    "BATCH_SIZE = 32\n",
    "train_loader = DataLoader(dataset=train_dataset, batch_size=BATCH_SIZE, shuffle=True)\n",
    "train_loader_pred = DataLoader(dataset=train_dataset, batch_size=1)\n",
    "test_loader = DataLoader(dataset=test_dataset, batch_size=1)"
   ]
  },
  {
   "cell_type": "markdown",
   "id": "30243723",
   "metadata": {},
   "source": [
    "Finally I define the model plus the final parameters. "
   ]
  },
  {
   "cell_type": "code",
   "execution_count": 14,
   "id": "49cc7a9a",
   "metadata": {},
   "outputs": [
    {
     "name": "stdout",
     "output_type": "stream",
     "text": [
      "BinaryClassification3(\n",
      "  (fc1): Linear(in_features=121, out_features=60, bias=True)\n",
      "  (fc2): Linear(in_features=60, out_features=20, bias=True)\n",
      "  (fc3): Linear(in_features=20, out_features=8, bias=True)\n",
      "  (fc4): Linear(in_features=8, out_features=1, bias=True)\n",
      ")\n"
     ]
    }
   ],
   "source": [
    "model =BinaryClassification3(NUM_FEATURES)\n",
    "model.to(device)\n",
    "print(model)\n",
    "criterion = nn.BCELoss()\n",
    "optimizer = optim.Adam(model.parameters(), lr=LEARNING_RATE)\n",
    "#in loss_stats the statistic is collected \n",
    "loss_stats = {\n",
    "    'train': [], 'test': []\n",
    "}\n"
   ]
  },
  {
   "cell_type": "markdown",
   "id": "b08695bf",
   "metadata": {},
   "source": [
    "Now I run the fit. "
   ]
  },
  {
   "cell_type": "code",
   "execution_count": 15,
   "id": "25c27976",
   "metadata": {},
   "outputs": [
    {
     "name": "stdout",
     "output_type": "stream",
     "text": [
      "Begin training.\n"
     ]
    },
    {
     "data": {
      "application/vnd.jupyter.widget-view+json": {
       "model_id": "547d7fdcb7834424830ce2ead1a7f6cc",
       "version_major": 2,
       "version_minor": 0
      },
      "text/plain": [
       "  0%|          | 0/20 [00:00<?, ?it/s]"
      ]
     },
     "metadata": {},
     "output_type": "display_data"
    },
    {
     "name": "stdout",
     "output_type": "stream",
     "text": [
      "Epoch 001: | Train Loss: 0.57502 | Test Loss: 0.44321\n",
      "Epoch 002: | Train Loss: 0.42451 | Test Loss: 0.34746\n",
      "Epoch 003: | Train Loss: 0.35013 | Test Loss: 0.34076\n",
      "Epoch 004: | Train Loss: 0.24590 | Test Loss: 0.52309\n",
      "Epoch 005: | Train Loss: 0.24205 | Test Loss: 0.33461\n",
      "Epoch 006: | Train Loss: 0.17827 | Test Loss: 0.40116\n",
      "Epoch 007: | Train Loss: 0.18320 | Test Loss: 0.40460\n",
      "Epoch 008: | Train Loss: 0.23973 | Test Loss: 0.40704\n",
      "Epoch 009: | Train Loss: 0.17510 | Test Loss: 0.33821\n",
      "Epoch 010: | Train Loss: 0.13856 | Test Loss: 0.33149\n",
      "Epoch 011: | Train Loss: 0.11256 | Test Loss: 0.17275\n",
      "Epoch 012: | Train Loss: 0.10593 | Test Loss: 0.18206\n",
      "Epoch 013: | Train Loss: 0.18741 | Test Loss: 0.47686\n",
      "Epoch 014: | Train Loss: 0.17373 | Test Loss: 0.18705\n",
      "Epoch 015: | Train Loss: 0.10662 | Test Loss: 0.18590\n",
      "Epoch 016: | Train Loss: 0.10440 | Test Loss: 0.18938\n",
      "Epoch 017: | Train Loss: 0.10256 | Test Loss: 0.18842\n",
      "Epoch 018: | Train Loss: 0.10152 | Test Loss: 0.16907\n",
      "Epoch 019: | Train Loss: 0.07957 | Test Loss: 0.54046\n",
      "Epoch 020: | Train Loss: 0.10881 | Test Loss: 0.17315\n"
     ]
    }
   ],
   "source": [
    "\n",
    "print(\"Begin training.\")\n",
    "for e in tqdm(range(1, EPOCHS+1)):\n",
    "    \n",
    "    # TRAINING\n",
    "    train_epoch_loss = 0\n",
    "    model.train()\n",
    "    for X_train_batch, y_train_batch in train_loader:\n",
    "        X_train_batch, y_train_batch = X_train_batch.to(device), y_train_batch.to(device)\n",
    "        optimizer.zero_grad()\n",
    "        \n",
    "        y_train_pred = model(X_train_batch)\n",
    "        \n",
    "        train_loss = criterion(y_train_pred, y_train_batch.unsqueeze(1))\n",
    "        \n",
    "        train_loss.backward()\n",
    "        optimizer.step()\n",
    "        \n",
    "        train_epoch_loss += train_loss.item()\n",
    "        \n",
    "        \n",
    "    # VALIDATION    \n",
    "    with torch.no_grad():\n",
    "        \n",
    "        test_epoch_loss = 0\n",
    "        \n",
    "        model.eval()\n",
    "        for X_test_batch, y_test_batch in test_loader:\n",
    "            X_test_batch, y_test_batch = X_test_batch.to(device), y_test_batch.to(device)\n",
    "            \n",
    "            y_test_pred = model(X_test_batch)\n",
    "                        \n",
    "            test_loss = criterion(y_test_pred, y_test_batch.unsqueeze(1))\n",
    "            \n",
    "            test_epoch_loss += test_loss.item()\n",
    "    loss_stats['train'].append(train_epoch_loss/len(train_loader))\n",
    "    loss_stats['test'].append(test_epoch_loss/len(test_loader))                              \n",
    "    \n",
    "    print(f'Epoch {e+0:03}: | Train Loss: {train_epoch_loss/len(train_loader):.5f} | Test Loss: {test_epoch_loss/len(test_loader):.5f}')"
   ]
  },
  {
   "cell_type": "markdown",
   "id": "77416213",
   "metadata": {},
   "source": [
    "Now I define a function which predicts the values (probablities) for all samples. "
   ]
  },
  {
   "cell_type": "code",
   "execution_count": 16,
   "id": "074ba159",
   "metadata": {},
   "outputs": [],
   "source": [
    "def pred_torch(model,data):\n",
    "    y_pred_list_c = []\n",
    "    with torch.no_grad():\n",
    "        model.eval()\n",
    "        for X_batch, _ in data:\n",
    "            X_batch = X_batch.to(device)\n",
    "            y_test_pred = model(X_batch)\n",
    "            y_pred_list_c.append(y_test_pred.cpu().numpy())\n",
    "    y_pred_list_c = [a.squeeze().tolist() for a in y_pred_list_c]\n",
    "    return y_pred_list_c  "
   ]
  },
  {
   "cell_type": "markdown",
   "id": "c5f5d8dc",
   "metadata": {},
   "source": [
    "That is then applied on all data. "
   ]
  },
  {
   "cell_type": "code",
   "execution_count": 17,
   "id": "f4294377",
   "metadata": {},
   "outputs": [],
   "source": [
    "m_test=pred_torch(model,test_loader)\n",
    "m_train=pred_torch(model,train_loader_pred)"
   ]
  },
  {
   "cell_type": "markdown",
   "id": "1f3a9adc",
   "metadata": {},
   "source": [
    "I now plot the loss against the epoch. "
   ]
  },
  {
   "cell_type": "code",
   "execution_count": 18,
   "id": "0976c888",
   "metadata": {},
   "outputs": [
    {
     "data": {
      "text/plain": [
       "Text(0, 0.5, 'BCE loss')"
      ]
     },
     "execution_count": 18,
     "metadata": {},
     "output_type": "execute_result"
    },
    {
     "data": {
      "image/png": "[encoded data removed]",
      "text/plain": [
       "<Figure size 640x480 with 1 Axes>"
      ]
     },
     "metadata": {},
     "output_type": "display_data"
    }
   ],
   "source": [
    "\n",
    "plt.plot(loss_stats['test'],label='test')\n",
    "plt.plot(loss_stats['train'],label='train')\n",
    "plt.legend(loc=\"best\")\n",
    "plt.title('Loss vs Epochs')\n",
    "plt.xlabel('Epochs')\n",
    "plt.ylabel('BCE loss')"
   ]
  },
  {
   "cell_type": "markdown",
   "id": "901b76cb",
   "metadata": {},
   "source": [
    "There is likely overfitting, at least the loss of test improves less at the end.\n",
    "\n",
    "Now I am  loading the image data.  "
   ]
  },
  {
   "cell_type": "code",
   "execution_count": 19,
   "id": "419f85db",
   "metadata": {},
   "outputs": [],
   "source": [
    "train_im_loader = DataLoader(dataset=train_im_dataset, batch_size=BATCH_SIZE, shuffle=True)\n",
    "test_im_loader = DataLoader(dataset=test_im_dataset, batch_size=1)\n",
    "train_im_loader_pred = DataLoader(dataset=train_im_dataset, batch_size=1)"
   ]
  },
  {
   "cell_type": "markdown",
   "id": "85f17f14",
   "metadata": {},
   "source": [
    "I now load the convoltional neural network. "
   ]
  },
  {
   "cell_type": "code",
   "execution_count": 20,
   "id": "891891b5",
   "metadata": {},
   "outputs": [
    {
     "name": "stdout",
     "output_type": "stream",
     "text": [
      "CNNBinary3(\n",
      "  (layer1): Sequential(\n",
      "    (0): Conv2d(1, 16, kernel_size=(3, 3), stride=(1, 1))\n",
      "    (1): ReLU()\n",
      "    (2): MaxPool2d(kernel_size=2, stride=2, padding=0, dilation=1, ceil_mode=False)\n",
      "    (3): Dropout(p=0, inplace=False)\n",
      "  )\n",
      "  (layer2): Sequential(\n",
      "    (0): Conv2d(16, 32, kernel_size=(3, 3), stride=(1, 1))\n",
      "    (1): ReLU()\n",
      "    (2): MaxPool2d(kernel_size=2, stride=2, padding=0, dilation=1, ceil_mode=False)\n",
      "    (3): Dropout(p=0, inplace=False)\n",
      "  )\n",
      "  (fc1): Linear(in_features=32, out_features=64, bias=True)\n",
      "  (layer3): Sequential(\n",
      "    (0): Linear(in_features=32, out_features=64, bias=True)\n",
      "    (1): ReLU()\n",
      "    (2): Dropout(p=0, inplace=False)\n",
      "  )\n",
      "  (fc2): Linear(in_features=64, out_features=1, bias=True)\n",
      ")\n"
     ]
    },
    {
     "name": "stderr",
     "output_type": "stream",
     "text": [
      "/home/tobias/ml-testing/astr-images/functions_ml.py:133: UserWarning: nn.init.xavier_uniform is now deprecated in favor of nn.init.xavier_uniform_.\n",
      "  torch.nn.init.xavier_uniform(self.fc1.weight)\n"
     ]
    }
   ],
   "source": [
    "keep_prob=1\n",
    "model2 =CNNBinary3(keep_prob)\n",
    "model2.to(device)\n",
    "print(model2)"
   ]
  },
  {
   "cell_type": "markdown",
   "id": "1492edb8",
   "metadata": {},
   "source": [
    "Now define the array for data collection and then fit the data. "
   ]
  },
  {
   "cell_type": "code",
   "execution_count": 21,
   "id": "c3ffb147",
   "metadata": {},
   "outputs": [
    {
     "name": "stdout",
     "output_type": "stream",
     "text": [
      "Begin training.\n"
     ]
    },
    {
     "data": {
      "application/vnd.jupyter.widget-view+json": {
       "model_id": "4038fa94fe0e47b496630c16805dfc32",
       "version_major": 2,
       "version_minor": 0
      },
      "text/plain": [
       "  0%|          | 0/20 [00:00<?, ?it/s]"
      ]
     },
     "metadata": {},
     "output_type": "display_data"
    },
    {
     "name": "stdout",
     "output_type": "stream",
     "text": [
      "Epoch 001: | Train Loss: 33.65292 | Test Loss: 34.37500\n",
      "Epoch 002: | Train Loss: 33.97420 | Test Loss: 34.37500\n",
      "Epoch 003: | Train Loss: 34.01571 | Test Loss: 34.37500\n",
      "Epoch 004: | Train Loss: 33.97420 | Test Loss: 34.37500\n",
      "Epoch 005: | Train Loss: 34.07799 | Test Loss: 34.37500\n",
      "Epoch 006: | Train Loss: 34.01571 | Test Loss: 34.37500\n",
      "Epoch 007: | Train Loss: 33.95344 | Test Loss: 34.37500\n",
      "Epoch 008: | Train Loss: 33.95344 | Test Loss: 34.37500\n",
      "Epoch 009: | Train Loss: 33.89116 | Test Loss: 34.37500\n",
      "Epoch 010: | Train Loss: 33.97420 | Test Loss: 34.37500\n",
      "Epoch 011: | Train Loss: 33.93268 | Test Loss: 34.37500\n",
      "Epoch 012: | Train Loss: 33.97420 | Test Loss: 34.37500\n",
      "Epoch 013: | Train Loss: 33.95344 | Test Loss: 34.37500\n",
      "Epoch 014: | Train Loss: 33.95344 | Test Loss: 34.37500\n",
      "Epoch 015: | Train Loss: 33.99495 | Test Loss: 34.37500\n",
      "Epoch 016: | Train Loss: 33.97420 | Test Loss: 34.37500\n",
      "Epoch 017: | Train Loss: 33.95344 | Test Loss: 34.37500\n",
      "Epoch 018: | Train Loss: 34.05723 | Test Loss: 34.37500\n",
      "Epoch 019: | Train Loss: 33.99495 | Test Loss: 34.37500\n",
      "Epoch 020: | Train Loss: 33.99495 | Test Loss: 34.37500\n"
     ]
    }
   ],
   "source": [
    "#something here wrong but only here, regularized below works \n",
    "loss_stats_test = {\n",
    "    'train': [], 'test': []\n",
    "}\n",
    "torch_fit(model2,train_im_loader,test_im_loader,20,64,0.1,loss_stats_test)"
   ]
  },
  {
   "cell_type": "markdown",
   "id": "918e7f48",
   "metadata": {},
   "source": [
    "Below I plot both neural network results. "
   ]
  },
  {
   "cell_type": "code",
   "execution_count": 22,
   "id": "92f6d109",
   "metadata": {},
   "outputs": [
    {
     "data": {
      "text/plain": [
       "(0.0, 2.0)"
      ]
     },
     "execution_count": 22,
     "metadata": {},
     "output_type": "execute_result"
    },
    {
     "data": {
      "image/png": "[encoded data removed]",
      "text/plain": [
       "<Figure size 640x480 with 1 Axes>"
      ]
     },
     "metadata": {},
     "output_type": "display_data"
    }
   ],
   "source": [
    "plt.plot(loss_stats['test'],label='MLP test')\n",
    "plt.plot(loss_stats['train'],label='MLP train')\n",
    "plt.plot(loss_stats_test['test'],label='conv2D test')\n",
    "plt.plot(loss_stats_test['train'],label='conv2D train')\n",
    "plt.legend(loc=\"best\")\n",
    "plt.title('Loss vs Epochs')\n",
    "plt.xlabel('Epochs')\n",
    "plt.ylabel('BCE loss')\n",
    "plt.ylim(0,2)\n",
    "#start"
   ]
  },
  {
   "cell_type": "markdown",
   "id": "4ad2f179",
   "metadata": {},
   "source": [
    "Convolutional looks better, less overfitting, but it also not look perfect and the final loss is not  the best one. There are wiggles in test seem like that there is overfitting also there. Results change every fit slightly. \n",
    "\n",
    "Now I do some other algorithms with standard settings. First xgboost. "
   ]
  },
  {
   "cell_type": "code",
   "execution_count": 47,
   "id": "6285c249",
   "metadata": {},
   "outputs": [],
   "source": [
    "xc1=XGBClassifier(max_depth=6).fit(feature_train,target_train)"
   ]
  },
  {
   "cell_type": "markdown",
   "id": "0180e289",
   "metadata": {},
   "source": [
    "Now predicting the results and getting the confusing matrixes. "
   ]
  },
  {
   "cell_type": "code",
   "execution_count": 48,
   "id": "0c7aeb88",
   "metadata": {},
   "outputs": [
    {
     "name": "stdout",
     "output_type": "stream",
     "text": [
      "confusion matrix xgboost train\n",
      "[[1115    0]\n",
      " [   0 2168]]\n",
      "confusion matrix xgboost test\n",
      "[[478   6]\n",
      " [  6 918]]\n"
     ]
    }
   ],
   "source": [
    "train_pred=xc1.predict(feature_train)\n",
    "test_pred=xc1.predict(feature_test)\n",
    "train_pred_prob=xc1.predict_proba(feature_train)\n",
    "test_pred_prob=xc1.predict_proba(feature_test)\n",
    "conf_train = confusion_matrix(target_train, train_pred)\n",
    "conf_test = confusion_matrix(target_test, test_pred)\n",
    "print(\"confusion matrix xgboost train\")\n",
    "print(conf_train)\n",
    "print(\"confusion matrix xgboost test\")\n",
    "print(conf_test)"
   ]
  },
  {
   "cell_type": "markdown",
   "id": "1482a1a9",
   "metadata": {},
   "source": [
    "Looks rather good now, only 6 wrong each. All right in train is obverfitting. \n",
    "\n",
    "Now logistic regression "
   ]
  },
  {
   "cell_type": "code",
   "execution_count": 49,
   "id": "81a315bb",
   "metadata": {},
   "outputs": [],
   "source": [
    "#2000 in train 91 56,  test 65 45  not converged warning\n",
    "#now converged same numbers\n",
    "lc1=LogisticRegression(max_iter=3000,penalty='none').fit(feature_train,target_train)"
   ]
  },
  {
   "cell_type": "code",
   "execution_count": 50,
   "id": "b1bd942b",
   "metadata": {},
   "outputs": [
    {
     "name": "stdout",
     "output_type": "stream",
     "text": [
      "confusion matrix logistic regression train\n",
      "[[1115    0]\n",
      " [   0 2168]]\n",
      "confusion matrix logistic regression test\n",
      "[[475   9]\n",
      " [  8 916]]\n"
     ]
    }
   ],
   "source": [
    "l_train_pred=lc1.predict(feature_train)\n",
    "l_test_pred=lc1.predict(feature_test)\n",
    "l_train_pred_prob=lc1.predict_proba(feature_train)\n",
    "l_test_pred_prob=lc1.predict_proba(feature_test)\n",
    "l_conf_train = confusion_matrix(target_train, l_train_pred)\n",
    "l_conf_test = confusion_matrix(target_test, l_test_pred)\n",
    "print(\"confusion matrix logistic regression train\")\n",
    "print(l_conf_train)\n",
    "print(\"confusion matrix logistic regression test\")\n",
    "print(l_conf_test)"
   ]
  },
  {
   "cell_type": "markdown",
   "id": "f1f14024",
   "metadata": {},
   "source": [
    "Also not so bad, but a little worse. Again overfitting in train.\n",
    "\n",
    "Now prediction for neural network. "
   ]
  },
  {
   "cell_type": "code",
   "execution_count": 51,
   "id": "76551072",
   "metadata": {},
   "outputs": [],
   "source": [
    "c_test=pred_torch(model2,test_im_loader)\n",
    "c_train=pred_torch(model2,train_im_loader_pred)"
   ]
  },
  {
   "cell_type": "markdown",
   "id": "52c65508",
   "metadata": {},
   "source": [
    "Define function to get confusion matrix. "
   ]
  },
  {
   "cell_type": "code",
   "execution_count": 52,
   "id": "bc5178b8",
   "metadata": {},
   "outputs": [],
   "source": [
    "def conf_for_torch(predict,target):\n",
    "    #round prediction\n",
    "    round_pred=np.round(np.array(predict))\n",
    "    conf_matrix = confusion_matrix(target, round_pred)\n",
    "    return conf_matrix"
   ]
  },
  {
   "cell_type": "code",
   "execution_count": 53,
   "id": "d66852af",
   "metadata": {},
   "outputs": [
    {
     "name": "stdout",
     "output_type": "stream",
     "text": [
      "3 layer perceptron\n",
      "train\n",
      "[[1115    0]\n",
      " [   0 2168]]\n",
      "test\n",
      "[[480   4]\n",
      " [  3 921]]\n"
     ]
    }
   ],
   "source": [
    "conf_test_m=conf_for_torch(m_test,target_test)\n",
    "conf_train_m=conf_for_torch(m_train,target_train)\n",
    "print(\"3 layer perceptron\")\n",
    "print(\"train\")\n",
    "print(conf_train_m)\n",
    "print(\"test\")\n",
    "print(conf_test_m)"
   ]
  },
  {
   "cell_type": "markdown",
   "id": "c4879ea3",
   "metadata": {},
   "source": [
    "Also overfitting. Is better than both before. Number of cases is somewhat low for reliable testing.\n",
    "\n",
    "Now convolutional network. "
   ]
  },
  {
   "cell_type": "code",
   "execution_count": 54,
   "id": "328761c9",
   "metadata": {},
   "outputs": [
    {
     "name": "stdout",
     "output_type": "stream",
     "text": [
      "2 conv2D layers conv2D one other\n",
      "train\n",
      "[[1115    0]\n",
      " [   0 2168]]\n",
      "test\n",
      "[[482   2]\n",
      " [  3 921]]\n"
     ]
    }
   ],
   "source": [
    "conf_test_c=conf_for_torch(c_test,target_test)\n",
    "conf_train_c=conf_for_torch(c_train,target_train)\n",
    "print(\"2 conv2D layers conv2D one other\")\n",
    "print(\"train\")\n",
    "print(conf_train_c)\n",
    "print(\"test\")\n",
    "print(conf_test_c)"
   ]
  },
  {
   "cell_type": "markdown",
   "id": "b539d897",
   "metadata": {},
   "source": [
    "Even better in test and again overfitting in train. Now I am calculating f1-scores for all. "
   ]
  },
  {
   "cell_type": "code",
   "execution_count": 57,
   "id": "19c19502",
   "metadata": {},
   "outputs": [
    {
     "name": "stdout",
     "output_type": "stream",
     "text": [
      "F1-scores\n",
      "Logistic train 1.0\n",
      "Logistic test 0.99081\n",
      "xgboost train 1.0\n",
      "xgboost test 0.99351\n",
      "perceptron train 1.0\n",
      "perceptron test 0.99621\n",
      "conv2d train 1.0\n",
      "conv2d test 0.99729\n"
     ]
    }
   ],
   "source": [
    "print(\"F1-scores\")\n",
    "print(f\"Logistic train {np.round(f1_score(target_train,l_train_pred),5)}\")\n",
    "print(f\"Logistic test {np.round(f1_score(target_test,l_test_pred),5)}\")\n",
    "print(f\"xgboost train {np.round(f1_score(target_train,train_pred),5)}\")\n",
    "print(f\"xgboost test {np.round(f1_score(target_test,test_pred),5)}\")\n",
    "print(f\"perceptron train {np.round(f1_score(target_train,np.round(m_train)),5)}\")\n",
    "print(f\"perceptron test {np.round(f1_score(target_test,np.round(m_test)),5)}\")\n",
    "print(f\"conv2d train {np.round(f1_score(target_train,np.round(c_train)),5)}\")\n",
    "print(f\"conv2d test {np.round(f1_score(target_test,np.round(c_test)),5)}\")"
   ]
  },
  {
   "cell_type": "markdown",
   "id": "ba296b8d",
   "metadata": {},
   "source": [
    "All rather good, the differences are small, Convolutional network is best, then perceptron, the xgboost then logistic regression.\n",
    "\n",
    "\n",
    "Now I do convoltional network with regularization. "
   ]
  },
  {
   "cell_type": "markdown",
   "id": "55899f6c",
   "metadata": {},
   "source": [
    "Now I define a function to execute several l2 regularization of the same model after each other"
   ]
  },
  {
   "cell_type": "code",
   "execution_count": 60,
   "id": "8633c46c",
   "metadata": {},
   "outputs": [],
   "source": [
    "#loop on regularization \n",
    "#model used, train set, test set, train set for predict, train_target, test_target\n",
    "#epochs, batch?size, alpha of fit, list of regularization, optional number of features needed for perceptron \n",
    "def run_loop_torch(model,train,test,train_for_pred,train_target,test_target,epochs,batch,alpha,regs,num_features=0):\n",
    "    stats=np.zeros((5,len(regs)))\n",
    "    for i in range(len(regs)):\n",
    "        print(f\"running reg of {regs[i]}\")\n",
    "        keep_prob=1\n",
    "        if num_features==0:\n",
    "            model3 =model()\n",
    "        else:\n",
    "            #num_features partlz needed\n",
    "            model3 =model(num_features)            \n",
    "        model3.to(device)\n",
    "        loss_stats_test3 = {\n",
    "        'train': [], 'test': []\n",
    "        }\n",
    "        torch_fit(model3,train,test,epochs,batch,alpha,loss_stats_test3,l2reg=regs[i])\n",
    "        test_pred=pred_torch(model3,test)\n",
    "        train_pred=pred_torch(model3,train_for_pred)\n",
    "        stats[0,i]=regs[i]\n",
    "        stats[1,i]=f1_score(train_target,np.round(train_pred))\n",
    "        stats[2,i]=f1_score(test_target,np.round(test_pred))\n",
    "        stats[3,i]=log_loss(train_target,(train_pred))\n",
    "        stats[4,i]=log_loss(test_target,(test_pred))   \n",
    "        print(f\"stats of l2reg of  {regs[i]} are {np.round(stats[1:5,i],5)}\")\n",
    "    print(f\"full stats are {np.round(stats[:,:].T,5)}\")\n",
    "    return stats"
   ]
  },
  {
   "cell_type": "markdown",
   "id": "5c854515",
   "metadata": {},
   "source": [
    "I  now run  convoltional network for several regularization. I choose 200 epochs that convergence is possible when no overfitting occurs. With overfitting is will still change but since the aim here is to find the regularization which has not that problem, it is not a problem. "
   ]
  },
  {
   "cell_type": "code",
   "execution_count": 61,
   "id": "5365a990",
   "metadata": {},
   "outputs": [
    {
     "name": "stdout",
     "output_type": "stream",
     "text": [
      "running reg of 0.0001\n",
      "Begin training.\n"
     ]
    },
    {
     "name": "stderr",
     "output_type": "stream",
     "text": [
      "/tmp/ipykernel_4316/3977962575.py:23: UserWarning: nn.init.xavier_uniform is now deprecated in favor of nn.init.xavier_uniform_.\n",
      "  torch.nn.init.xavier_uniform(self.fc1.weight)\n"
     ]
    },
    {
     "data": {
      "application/vnd.jupyter.widget-view+json": {
       "model_id": "ecc00f9ea5e94bf8a05c25a87b2fad22",
       "version_major": 2,
       "version_minor": 0
      },
      "text/plain": [
       "  0%|          | 0/10 [00:00<?, ?it/s]"
      ]
     },
     "metadata": {},
     "output_type": "display_data"
    },
    {
     "name": "stdout",
     "output_type": "stream",
     "text": [
      "Epoch 001: | Train Loss: 1.76825 | Test Loss: 0.57931\n",
      "Epoch 002: | Train Loss: 0.37685 | Test Loss: 0.20561\n",
      "Epoch 003: | Train Loss: 0.83524 | Test Loss: 0.12240\n",
      "Epoch 004: | Train Loss: 0.38647 | Test Loss: 0.10425\n",
      "Epoch 005: | Train Loss: 0.09402 | Test Loss: 0.06174\n",
      "Epoch 006: | Train Loss: 0.06024 | Test Loss: 0.10835\n",
      "Epoch 007: | Train Loss: 0.06497 | Test Loss: 0.05484\n",
      "Epoch 008: | Train Loss: 0.10240 | Test Loss: 0.02515\n",
      "Epoch 009: | Train Loss: 0.01764 | Test Loss: 0.03410\n",
      "Epoch 010: | Train Loss: 0.04753 | Test Loss: 0.02621\n",
      "stats of l2reg of  0.0001 are [0.99769 0.99457 0.01237 0.02621]\n",
      "running reg of 0.0003\n",
      "Begin training.\n"
     ]
    },
    {
     "name": "stderr",
     "output_type": "stream",
     "text": [
      "/tmp/ipykernel_4316/3977962575.py:23: UserWarning: nn.init.xavier_uniform is now deprecated in favor of nn.init.xavier_uniform_.\n",
      "  torch.nn.init.xavier_uniform(self.fc1.weight)\n"
     ]
    },
    {
     "data": {
      "application/vnd.jupyter.widget-view+json": {
       "model_id": "3c13277df8884d7988d183af071771cb",
       "version_major": 2,
       "version_minor": 0
      },
      "text/plain": [
       "  0%|          | 0/10 [00:00<?, ?it/s]"
      ]
     },
     "metadata": {},
     "output_type": "display_data"
    },
    {
     "name": "stdout",
     "output_type": "stream",
     "text": [
      "Epoch 001: | Train Loss: 0.45699 | Test Loss: 0.05036\n",
      "Epoch 002: | Train Loss: 0.25307 | Test Loss: 0.10302\n",
      "Epoch 003: | Train Loss: 0.16129 | Test Loss: 0.09525\n",
      "Epoch 004: | Train Loss: 0.17332 | Test Loss: 0.02276\n",
      "Epoch 005: | Train Loss: 0.11250 | Test Loss: 0.02242\n",
      "Epoch 006: | Train Loss: 0.05852 | Test Loss: 0.01955\n",
      "Epoch 007: | Train Loss: 0.06905 | Test Loss: 0.17477\n",
      "Epoch 008: | Train Loss: 0.07322 | Test Loss: 0.02046\n",
      "Epoch 009: | Train Loss: 0.04589 | Test Loss: 0.02066\n",
      "Epoch 010: | Train Loss: 0.05083 | Test Loss: 0.02895\n",
      "stats of l2reg of  0.0003 are [0.99426 0.99354 0.03943 0.02895]\n",
      "running reg of 0.001\n",
      "Begin training.\n"
     ]
    },
    {
     "name": "stderr",
     "output_type": "stream",
     "text": [
      "/tmp/ipykernel_4316/3977962575.py:23: UserWarning: nn.init.xavier_uniform is now deprecated in favor of nn.init.xavier_uniform_.\n",
      "  torch.nn.init.xavier_uniform(self.fc1.weight)\n"
     ]
    },
    {
     "data": {
      "application/vnd.jupyter.widget-view+json": {
       "model_id": "6b188676326846b08f27fda15de94754",
       "version_major": 2,
       "version_minor": 0
      },
      "text/plain": [
       "  0%|          | 0/10 [00:00<?, ?it/s]"
      ]
     },
     "metadata": {},
     "output_type": "display_data"
    },
    {
     "name": "stdout",
     "output_type": "stream",
     "text": [
      "Epoch 001: | Train Loss: 7.61951 | Test Loss: 1.12389\n",
      "Epoch 002: | Train Loss: 0.33554 | Test Loss: 0.10710\n",
      "Epoch 003: | Train Loss: 0.34105 | Test Loss: 0.25123\n",
      "Epoch 004: | Train Loss: 0.13768 | Test Loss: 0.09776\n",
      "Epoch 005: | Train Loss: 0.27493 | Test Loss: 0.15915\n",
      "Epoch 006: | Train Loss: 0.13063 | Test Loss: 0.23092\n",
      "Epoch 007: | Train Loss: 0.23687 | Test Loss: 0.09623\n",
      "Epoch 008: | Train Loss: 0.07129 | Test Loss: 0.09529\n",
      "Epoch 009: | Train Loss: 0.13653 | Test Loss: 0.08692\n",
      "Epoch 010: | Train Loss: 0.07479 | Test Loss: 0.08565\n",
      "stats of l2reg of  0.001 are [0.99747 0.99568 0.03248 0.03915]\n",
      "running reg of 0.003\n",
      "Begin training.\n"
     ]
    },
    {
     "name": "stderr",
     "output_type": "stream",
     "text": [
      "/tmp/ipykernel_4316/3977962575.py:23: UserWarning: nn.init.xavier_uniform is now deprecated in favor of nn.init.xavier_uniform_.\n",
      "  torch.nn.init.xavier_uniform(self.fc1.weight)\n"
     ]
    },
    {
     "data": {
      "application/vnd.jupyter.widget-view+json": {
       "model_id": "0a63b75b8f47457eb54acbe772d5a9f7",
       "version_major": 2,
       "version_minor": 0
      },
      "text/plain": [
       "  0%|          | 0/10 [00:00<?, ?it/s]"
      ]
     },
     "metadata": {},
     "output_type": "display_data"
    },
    {
     "name": "stdout",
     "output_type": "stream",
     "text": [
      "Epoch 001: | Train Loss: 33.22250 | Test Loss: 33.94284\n",
      "Epoch 002: | Train Loss: 4.69687 | Test Loss: 0.04582\n",
      "Epoch 003: | Train Loss: 0.36506 | Test Loss: 0.28996\n",
      "Epoch 004: | Train Loss: 0.27909 | Test Loss: 0.09383\n",
      "Epoch 005: | Train Loss: 0.28116 | Test Loss: 0.10355\n",
      "Epoch 006: | Train Loss: 0.28026 | Test Loss: 0.10962\n",
      "Epoch 007: | Train Loss: 0.51603 | Test Loss: 0.11126\n",
      "Epoch 008: | Train Loss: 0.27801 | Test Loss: 0.11321\n",
      "Epoch 009: | Train Loss: 0.28989 | Test Loss: 0.15788\n",
      "Epoch 010: | Train Loss: 0.28634 | Test Loss: 0.03137\n",
      "stats of l2reg of  0.003 are [0.99468 0.99457 0.05073 0.03137]\n",
      "running reg of 0.01\n",
      "Begin training.\n"
     ]
    },
    {
     "name": "stderr",
     "output_type": "stream",
     "text": [
      "/tmp/ipykernel_4316/3977962575.py:23: UserWarning: nn.init.xavier_uniform is now deprecated in favor of nn.init.xavier_uniform_.\n",
      "  torch.nn.init.xavier_uniform(self.fc1.weight)\n"
     ]
    },
    {
     "data": {
      "application/vnd.jupyter.widget-view+json": {
       "model_id": "d0ef43f072bc4f2487d32fae09ddd872",
       "version_major": 2,
       "version_minor": 0
      },
      "text/plain": [
       "  0%|          | 0/10 [00:00<?, ?it/s]"
      ]
     },
     "metadata": {},
     "output_type": "display_data"
    },
    {
     "name": "stdout",
     "output_type": "stream",
     "text": [
      "Epoch 001: | Train Loss: 2.34192 | Test Loss: 0.25306\n",
      "Epoch 002: | Train Loss: 0.33737 | Test Loss: 0.21719\n",
      "Epoch 003: | Train Loss: 0.29214 | Test Loss: 0.23970\n",
      "Epoch 004: | Train Loss: 0.19510 | Test Loss: 0.50942\n",
      "Epoch 005: | Train Loss: 0.46811 | Test Loss: 0.17881\n",
      "Epoch 006: | Train Loss: 0.11019 | Test Loss: 0.23274\n",
      "Epoch 007: | Train Loss: 0.08264 | Test Loss: 0.16767\n",
      "Epoch 008: | Train Loss: 0.08068 | Test Loss: 0.43408\n",
      "Epoch 009: | Train Loss: 0.17393 | Test Loss: 0.15944\n",
      "Epoch 010: | Train Loss: 0.08624 | Test Loss: 0.16797\n",
      "stats of l2reg of  0.01 are [0.99514 0.99403 0.04212 0.07498]\n",
      "running reg of 0.03\n",
      "Begin training.\n"
     ]
    },
    {
     "name": "stderr",
     "output_type": "stream",
     "text": [
      "/tmp/ipykernel_4316/3977962575.py:23: UserWarning: nn.init.xavier_uniform is now deprecated in favor of nn.init.xavier_uniform_.\n",
      "  torch.nn.init.xavier_uniform(self.fc1.weight)\n"
     ]
    },
    {
     "data": {
      "application/vnd.jupyter.widget-view+json": {
       "model_id": "02dc8c8d1de840aea1a97833d6569246",
       "version_major": 2,
       "version_minor": 0
      },
      "text/plain": [
       "  0%|          | 0/10 [00:00<?, ?it/s]"
      ]
     },
     "metadata": {},
     "output_type": "display_data"
    },
    {
     "name": "stdout",
     "output_type": "stream",
     "text": [
      "Epoch 001: | Train Loss: 2.00192 | Test Loss: 2.87367\n",
      "Epoch 002: | Train Loss: 0.46095 | Test Loss: 0.08747\n",
      "Epoch 003: | Train Loss: 0.09094 | Test Loss: 0.03798\n",
      "Epoch 004: | Train Loss: 0.05365 | Test Loss: 0.39905\n",
      "Epoch 005: | Train Loss: 0.05769 | Test Loss: 0.03728\n",
      "Epoch 006: | Train Loss: 0.22239 | Test Loss: 0.08457\n",
      "Epoch 007: | Train Loss: 0.05736 | Test Loss: 0.24174\n",
      "Epoch 008: | Train Loss: 0.08043 | Test Loss: 0.10171\n",
      "Epoch 009: | Train Loss: 0.04944 | Test Loss: 0.10107\n",
      "Epoch 010: | Train Loss: 0.05318 | Test Loss: 0.02896\n",
      "stats of l2reg of  0.03 are [0.997   0.99295 0.02683 0.02896]\n",
      "running reg of 0.1\n",
      "Begin training.\n"
     ]
    },
    {
     "name": "stderr",
     "output_type": "stream",
     "text": [
      "/tmp/ipykernel_4316/3977962575.py:23: UserWarning: nn.init.xavier_uniform is now deprecated in favor of nn.init.xavier_uniform_.\n",
      "  torch.nn.init.xavier_uniform(self.fc1.weight)\n"
     ]
    },
    {
     "data": {
      "application/vnd.jupyter.widget-view+json": {
       "model_id": "d00d9ecff4864203950935f5a199156f",
       "version_major": 2,
       "version_minor": 0
      },
      "text/plain": [
       "  0%|          | 0/10 [00:00<?, ?it/s]"
      ]
     },
     "metadata": {},
     "output_type": "display_data"
    },
    {
     "name": "stdout",
     "output_type": "stream",
     "text": [
      "Epoch 001: | Train Loss: 7.24154 | Test Loss: 0.17556\n",
      "Epoch 002: | Train Loss: 0.76139 | Test Loss: 0.31214\n",
      "Epoch 003: | Train Loss: 0.19646 | Test Loss: 0.04444\n",
      "Epoch 004: | Train Loss: 0.09045 | Test Loss: 0.05015\n",
      "Epoch 005: | Train Loss: 0.09656 | Test Loss: 0.30897\n",
      "Epoch 006: | Train Loss: 0.14886 | Test Loss: 0.12917\n",
      "Epoch 007: | Train Loss: 0.04611 | Test Loss: 0.04953\n",
      "Epoch 008: | Train Loss: 0.02932 | Test Loss: 0.04506\n",
      "Epoch 009: | Train Loss: 0.02901 | Test Loss: 0.11396\n",
      "Epoch 010: | Train Loss: 0.03736 | Test Loss: 0.03219\n",
      "stats of l2reg of  0.1 are [0.99769 0.99729 0.0253  0.03219]\n",
      "running reg of 0.3\n",
      "Begin training.\n"
     ]
    },
    {
     "name": "stderr",
     "output_type": "stream",
     "text": [
      "/tmp/ipykernel_4316/3977962575.py:23: UserWarning: nn.init.xavier_uniform is now deprecated in favor of nn.init.xavier_uniform_.\n",
      "  torch.nn.init.xavier_uniform(self.fc1.weight)\n"
     ]
    },
    {
     "data": {
      "application/vnd.jupyter.widget-view+json": {
       "model_id": "c56d1e88c98048c28b5be2daffc6614e",
       "version_major": 2,
       "version_minor": 0
      },
      "text/plain": [
       "  0%|          | 0/10 [00:00<?, ?it/s]"
      ]
     },
     "metadata": {},
     "output_type": "display_data"
    },
    {
     "name": "stdout",
     "output_type": "stream",
     "text": [
      "Epoch 001: | Train Loss: 1.66513 | Test Loss: 0.26209\n",
      "Epoch 002: | Train Loss: 0.71173 | Test Loss: 0.70503\n",
      "Epoch 003: | Train Loss: 0.81225 | Test Loss: 0.12893\n",
      "Epoch 004: | Train Loss: 0.37693 | Test Loss: 0.86873\n",
      "Epoch 005: | Train Loss: 0.49457 | Test Loss: 0.03791\n",
      "Epoch 006: | Train Loss: 0.14964 | Test Loss: 0.03396\n",
      "Epoch 007: | Train Loss: 0.13818 | Test Loss: 0.51044\n",
      "Epoch 008: | Train Loss: 0.26913 | Test Loss: 0.11190\n",
      "Epoch 009: | Train Loss: 0.12174 | Test Loss: 0.06326\n",
      "Epoch 010: | Train Loss: 0.22475 | Test Loss: 0.13623\n",
      "stats of l2reg of  0.3 are [0.99267 0.99139 0.07047 0.08974]\n",
      "running reg of 1\n",
      "Begin training.\n"
     ]
    },
    {
     "name": "stderr",
     "output_type": "stream",
     "text": [
      "/tmp/ipykernel_4316/3977962575.py:23: UserWarning: nn.init.xavier_uniform is now deprecated in favor of nn.init.xavier_uniform_.\n",
      "  torch.nn.init.xavier_uniform(self.fc1.weight)\n"
     ]
    },
    {
     "data": {
      "application/vnd.jupyter.widget-view+json": {
       "model_id": "58eb0c0e12c8460d8a6b2b4962d4957b",
       "version_major": 2,
       "version_minor": 0
      },
      "text/plain": [
       "  0%|          | 0/10 [00:00<?, ?it/s]"
      ]
     },
     "metadata": {},
     "output_type": "display_data"
    },
    {
     "name": "stdout",
     "output_type": "stream",
     "text": [
      "Epoch 001: | Train Loss: 1.96475 | Test Loss: 0.05270\n",
      "Epoch 002: | Train Loss: 0.64635 | Test Loss: 0.12157\n",
      "Epoch 003: | Train Loss: 0.25836 | Test Loss: 0.05029\n",
      "Epoch 004: | Train Loss: 0.36675 | Test Loss: 0.29302\n",
      "Epoch 005: | Train Loss: 0.27411 | Test Loss: 0.07556\n",
      "Epoch 006: | Train Loss: 0.30083 | Test Loss: 0.15571\n",
      "Epoch 007: | Train Loss: 0.26577 | Test Loss: 0.11457\n",
      "Epoch 008: | Train Loss: 0.32276 | Test Loss: 0.14746\n",
      "Epoch 009: | Train Loss: 0.27701 | Test Loss: 0.19648\n",
      "Epoch 010: | Train Loss: 0.31634 | Test Loss: 0.20074\n",
      "stats of l2reg of  1 are [0.99013 0.99245 0.19772 0.15424]\n",
      "full stats are [[1.0000e-04 9.9769e-01 9.9457e-01 1.2370e-02 2.6210e-02]\n",
      " [3.0000e-04 9.9426e-01 9.9354e-01 3.9430e-02 2.8950e-02]\n",
      " [1.0000e-03 9.9747e-01 9.9568e-01 3.2480e-02 3.9150e-02]\n",
      " [3.0000e-03 9.9468e-01 9.9457e-01 5.0730e-02 3.1370e-02]\n",
      " [1.0000e-02 9.9514e-01 9.9403e-01 4.2120e-02 7.4980e-02]\n",
      " [3.0000e-02 9.9700e-01 9.9295e-01 2.6830e-02 2.8960e-02]\n",
      " [1.0000e-01 9.9769e-01 9.9729e-01 2.5300e-02 3.2190e-02]\n",
      " [3.0000e-01 9.9267e-01 9.9139e-01 7.0470e-02 8.9740e-02]\n",
      " [1.0000e+00 9.9013e-01 9.9245e-01 1.9772e-01 1.5424e-01]]\n"
     ]
    }
   ],
   "source": [
    "regs=[0.0001,0.0003,0.001,0.003,0.01,0.03,0.1,0.3,1]\n",
    "conv2d_stats=run_loop_torch(CNNBinary3,train_im_loader,test_im_loader,train_im_loader_pred,target_train,target_test,10,64,0.001,regs)\n",
    "np.savetxt(\"conv2d_b_reg1_10.txt\",conv2d_stats)\n",
    "#loading past run with more iterations\n",
    "con2d_stats=np.loadtxt(\"conv2d_b_reg1_200.txt\")"
   ]
  },
  {
   "cell_type": "markdown",
   "id": "5df23253",
   "metadata": {},
   "source": [
    "Now running also the multi layer perceptron with different regularizations."
   ]
  },
  {
   "cell_type": "code",
   "execution_count": 62,
   "id": "8c362087",
   "metadata": {},
   "outputs": [
    {
     "name": "stdout",
     "output_type": "stream",
     "text": [
      "running reg of 1e-05\n",
      "Begin training.\n"
     ]
    },
    {
     "data": {
      "application/vnd.jupyter.widget-view+json": {
       "model_id": "b741947a8ba54430b643bc85d2eb1bf2",
       "version_major": 2,
       "version_minor": 0
      },
      "text/plain": [
       "  0%|          | 0/200 [00:00<?, ?it/s]"
      ]
     },
     "metadata": {},
     "output_type": "display_data"
    },
    {
     "name": "stdout",
     "output_type": "stream",
     "text": [
      "Epoch 001: | Train Loss: 0.50255 | Test Loss: 0.44887\n",
      "Epoch 002: | Train Loss: 0.42922 | Test Loss: 0.41069\n",
      "Epoch 003: | Train Loss: 0.39695 | Test Loss: 0.38715\n",
      "Epoch 004: | Train Loss: 0.36878 | Test Loss: 0.36268\n",
      "Epoch 005: | Train Loss: 0.34265 | Test Loss: 0.33807\n",
      "Epoch 006: | Train Loss: 0.31933 | Test Loss: 0.31348\n",
      "Epoch 007: | Train Loss: 0.29805 | Test Loss: 0.29456\n",
      "Epoch 008: | Train Loss: 0.27858 | Test Loss: 0.27321\n",
      "Epoch 009: | Train Loss: 0.26097 | Test Loss: 0.26459\n",
      "Epoch 010: | Train Loss: 0.24589 | Test Loss: 0.24575\n",
      "Epoch 011: | Train Loss: 0.24812 | Test Loss: 0.23074\n",
      "Epoch 012: | Train Loss: 0.21797 | Test Loss: 0.22174\n",
      "Epoch 013: | Train Loss: 0.20679 | Test Loss: 0.20767\n",
      "Epoch 014: | Train Loss: 0.19364 | Test Loss: 0.19248\n",
      "Epoch 015: | Train Loss: 0.18299 | Test Loss: 0.18075\n",
      "Epoch 016: | Train Loss: 0.14664 | Test Loss: 0.12738\n",
      "Epoch 017: | Train Loss: 0.06240 | Test Loss: 0.17737\n",
      "Epoch 018: | Train Loss: 0.05058 | Test Loss: 0.17394\n",
      "Epoch 019: | Train Loss: 0.04716 | Test Loss: 0.25243\n",
      "Epoch 020: | Train Loss: 0.04407 | Test Loss: 0.17327\n",
      "Epoch 021: | Train Loss: 0.02153 | Test Loss: 0.06552\n",
      "Epoch 022: | Train Loss: 0.02441 | Test Loss: 0.03189\n",
      "Epoch 023: | Train Loss: 0.01449 | Test Loss: 0.09606\n",
      "Epoch 024: | Train Loss: 0.01152 | Test Loss: 0.09703\n",
      "Epoch 025: | Train Loss: 0.01113 | Test Loss: 0.02490\n",
      "Epoch 026: | Train Loss: 0.01259 | Test Loss: 0.02397\n",
      "Epoch 027: | Train Loss: 0.01486 | Test Loss: 0.07300\n",
      "Epoch 028: | Train Loss: 0.01865 | Test Loss: 0.02324\n",
      "Epoch 029: | Train Loss: 0.00852 | Test Loss: 0.02811\n",
      "Epoch 030: | Train Loss: 0.00852 | Test Loss: 0.16160\n",
      "Epoch 031: | Train Loss: 0.00747 | Test Loss: 0.02314\n",
      "Epoch 032: | Train Loss: 0.00968 | Test Loss: 0.15906\n",
      "Epoch 033: | Train Loss: 0.08981 | Test Loss: 0.03979\n",
      "Epoch 034: | Train Loss: 0.01268 | Test Loss: 0.02080\n",
      "Epoch 035: | Train Loss: 0.00798 | Test Loss: 0.01842\n",
      "Epoch 036: | Train Loss: 0.00710 | Test Loss: 0.02383\n",
      "Epoch 037: | Train Loss: 0.00620 | Test Loss: 0.02364\n",
      "Epoch 038: | Train Loss: 0.00619 | Test Loss: 0.02277\n",
      "Epoch 039: | Train Loss: 0.00553 | Test Loss: 0.09973\n",
      "Epoch 040: | Train Loss: 0.00536 | Test Loss: 0.17383\n",
      "Epoch 041: | Train Loss: 0.02727 | Test Loss: 0.02294\n",
      "Epoch 042: | Train Loss: 0.00933 | Test Loss: 0.02135\n",
      "Epoch 043: | Train Loss: 0.01192 | Test Loss: 0.06475\n",
      "Epoch 044: | Train Loss: 0.01476 | Test Loss: 0.01916\n",
      "Epoch 045: | Train Loss: 0.00715 | Test Loss: 0.01749\n",
      "Epoch 046: | Train Loss: 0.00659 | Test Loss: 0.02877\n",
      "Epoch 047: | Train Loss: 0.00641 | Test Loss: 0.02625\n",
      "Epoch 048: | Train Loss: 0.00557 | Test Loss: 0.02422\n",
      "Epoch 049: | Train Loss: 0.00504 | Test Loss: 0.02981\n",
      "Epoch 050: | Train Loss: 0.00582 | Test Loss: 0.02632\n",
      "Epoch 051: | Train Loss: 0.00522 | Test Loss: 0.02198\n",
      "Epoch 052: | Train Loss: 0.00701 | Test Loss: 0.02033\n",
      "Epoch 053: | Train Loss: 0.00476 | Test Loss: 0.02602\n",
      "Epoch 054: | Train Loss: 0.00442 | Test Loss: 0.09829\n",
      "Epoch 055: | Train Loss: 0.00397 | Test Loss: 0.03001\n",
      "Epoch 056: | Train Loss: 0.00324 | Test Loss: 0.16959\n",
      "Epoch 057: | Train Loss: 0.00382 | Test Loss: 0.03927\n",
      "Epoch 058: | Train Loss: 0.00681 | Test Loss: 0.09603\n",
      "Epoch 059: | Train Loss: 0.00461 | Test Loss: 0.02398\n",
      "Epoch 060: | Train Loss: 0.00433 | Test Loss: 0.16672\n",
      "Epoch 061: | Train Loss: 0.00831 | Test Loss: 0.02868\n",
      "Epoch 062: | Train Loss: 0.03536 | Test Loss: 0.09781\n",
      "Epoch 063: | Train Loss: 0.02068 | Test Loss: 0.03231\n",
      "Epoch 064: | Train Loss: 0.02242 | Test Loss: 0.02150\n",
      "Epoch 065: | Train Loss: 0.02591 | Test Loss: 0.16858\n",
      "Epoch 066: | Train Loss: 0.04804 | Test Loss: 0.01528\n",
      "Epoch 067: | Train Loss: 0.06178 | Test Loss: 0.08605\n",
      "Epoch 068: | Train Loss: 0.00982 | Test Loss: 0.02747\n",
      "Epoch 069: | Train Loss: 0.00584 | Test Loss: 0.08952\n",
      "Epoch 070: | Train Loss: 0.00551 | Test Loss: 0.03004\n",
      "Epoch 071: | Train Loss: 0.00470 | Test Loss: 0.03386\n",
      "Epoch 072: | Train Loss: 0.00419 | Test Loss: 0.03442\n",
      "Epoch 073: | Train Loss: 0.00390 | Test Loss: 0.09602\n",
      "Epoch 074: | Train Loss: 0.00391 | Test Loss: 0.16741\n",
      "Epoch 075: | Train Loss: 0.00475 | Test Loss: 0.10777\n",
      "Epoch 076: | Train Loss: 0.00706 | Test Loss: 0.02659\n",
      "Epoch 077: | Train Loss: 0.00379 | Test Loss: 0.09203\n",
      "Epoch 078: | Train Loss: 0.00321 | Test Loss: 0.03313\n",
      "Epoch 079: | Train Loss: 0.00300 | Test Loss: 0.03933\n",
      "Epoch 080: | Train Loss: 0.00647 | Test Loss: 0.38508\n",
      "Epoch 081: | Train Loss: 0.03688 | Test Loss: 0.02728\n",
      "Epoch 082: | Train Loss: 0.01313 | Test Loss: 0.02291\n",
      "Epoch 083: | Train Loss: 0.00399 | Test Loss: 0.02732\n",
      "Epoch 084: | Train Loss: 0.00337 | Test Loss: 0.02588\n",
      "Epoch 085: | Train Loss: 0.00311 | Test Loss: 0.02988\n",
      "Epoch 086: | Train Loss: 0.00249 | Test Loss: 0.04145\n",
      "Epoch 087: | Train Loss: 0.00253 | Test Loss: 0.16602\n",
      "Epoch 088: | Train Loss: 0.00349 | Test Loss: 0.03017\n",
      "Epoch 089: | Train Loss: 0.00208 | Test Loss: 0.04486\n",
      "Epoch 090: | Train Loss: 0.00188 | Test Loss: 0.03344\n",
      "Epoch 091: | Train Loss: 0.00194 | Test Loss: 0.06347\n",
      "Epoch 092: | Train Loss: 0.00267 | Test Loss: 0.04660\n",
      "Epoch 093: | Train Loss: 0.00145 | Test Loss: 0.13037\n",
      "Epoch 094: | Train Loss: 0.00240 | Test Loss: 0.11510\n",
      "Epoch 095: | Train Loss: 0.00187 | Test Loss: 0.04669\n",
      "Epoch 096: | Train Loss: 0.06528 | Test Loss: 0.10701\n",
      "Epoch 097: | Train Loss: 0.01285 | Test Loss: 0.17336\n",
      "Epoch 098: | Train Loss: 0.10125 | Test Loss: 0.42011\n",
      "Epoch 099: | Train Loss: 0.02658 | Test Loss: 0.03087\n",
      "Epoch 100: | Train Loss: 0.00551 | Test Loss: 0.02989\n",
      "Epoch 101: | Train Loss: 0.00793 | Test Loss: 0.02491\n",
      "Epoch 102: | Train Loss: 0.00430 | Test Loss: 0.02631\n",
      "Epoch 103: | Train Loss: 0.00378 | Test Loss: 0.02797\n",
      "Epoch 104: | Train Loss: 0.00295 | Test Loss: 0.02873\n",
      "Epoch 105: | Train Loss: 0.00362 | Test Loss: 0.04583\n",
      "Epoch 106: | Train Loss: 0.00698 | Test Loss: 0.16492\n",
      "Epoch 107: | Train Loss: 0.00457 | Test Loss: 0.02987\n",
      "Epoch 108: | Train Loss: 0.00365 | Test Loss: 0.16855\n",
      "Epoch 109: | Train Loss: 0.00437 | Test Loss: 0.02830\n",
      "Epoch 110: | Train Loss: 0.00245 | Test Loss: 0.03141\n",
      "Epoch 111: | Train Loss: 0.00247 | Test Loss: 0.04969\n",
      "Epoch 112: | Train Loss: 0.00804 | Test Loss: 0.16365\n",
      "Epoch 113: | Train Loss: 0.00540 | Test Loss: 0.02696\n",
      "Epoch 114: | Train Loss: 0.00311 | Test Loss: 0.02923\n",
      "Epoch 115: | Train Loss: 0.00277 | Test Loss: 0.02785\n",
      "Epoch 116: | Train Loss: 0.00283 | Test Loss: 0.03034\n",
      "Epoch 117: | Train Loss: 0.00204 | Test Loss: 0.03482\n",
      "Epoch 118: | Train Loss: 0.00167 | Test Loss: 0.03761\n",
      "Epoch 119: | Train Loss: 0.00142 | Test Loss: 0.04761\n",
      "Epoch 120: | Train Loss: 0.00249 | Test Loss: 0.10713\n",
      "Epoch 121: | Train Loss: 0.00796 | Test Loss: 0.03865\n",
      "Epoch 122: | Train Loss: 0.00229 | Test Loss: 0.04453\n",
      "Epoch 123: | Train Loss: 0.00203 | Test Loss: 0.03525\n",
      "Epoch 124: | Train Loss: 0.00156 | Test Loss: 0.04068\n",
      "Epoch 125: | Train Loss: 0.00154 | Test Loss: 0.04401\n",
      "Epoch 126: | Train Loss: 0.00186 | Test Loss: 0.04047\n",
      "Epoch 127: | Train Loss: 0.00155 | Test Loss: 0.04483\n",
      "Epoch 128: | Train Loss: 0.00132 | Test Loss: 0.04522\n",
      "Epoch 129: | Train Loss: 0.00113 | Test Loss: 0.04722\n",
      "Epoch 130: | Train Loss: 0.00145 | Test Loss: 0.04345\n",
      "Epoch 131: | Train Loss: 0.00620 | Test Loss: 0.04439\n",
      "Epoch 132: | Train Loss: 0.02968 | Test Loss: 0.01832\n",
      "Epoch 133: | Train Loss: 0.00403 | Test Loss: 0.01620\n",
      "Epoch 134: | Train Loss: 0.00322 | Test Loss: 0.02801\n",
      "Epoch 135: | Train Loss: 0.00256 | Test Loss: 0.09336\n",
      "Epoch 136: | Train Loss: 0.00420 | Test Loss: 0.03026\n",
      "Epoch 137: | Train Loss: 0.00339 | Test Loss: 0.02705\n",
      "Epoch 138: | Train Loss: 0.00244 | Test Loss: 0.15619\n",
      "Epoch 139: | Train Loss: 0.00217 | Test Loss: 0.15816\n",
      "Epoch 140: | Train Loss: 0.00220 | Test Loss: 0.02967\n",
      "Epoch 141: | Train Loss: 0.00141 | Test Loss: 0.03507\n",
      "Epoch 142: | Train Loss: 0.00115 | Test Loss: 0.03635\n",
      "Epoch 143: | Train Loss: 0.00110 | Test Loss: 0.16462\n",
      "Epoch 144: | Train Loss: 0.00176 | Test Loss: 0.16669\n",
      "Epoch 145: | Train Loss: 0.00265 | Test Loss: 0.38169\n",
      "Epoch 146: | Train Loss: 0.00150 | Test Loss: 0.16563\n",
      "Epoch 147: | Train Loss: 0.00112 | Test Loss: 0.11221\n",
      "Epoch 148: | Train Loss: 0.00083 | Test Loss: 0.11165\n",
      "Epoch 149: | Train Loss: 0.00078 | Test Loss: 0.05149\n",
      "Epoch 150: | Train Loss: 0.00073 | Test Loss: 0.17021\n",
      "Epoch 151: | Train Loss: 0.00103 | Test Loss: 0.05249\n",
      "Epoch 152: | Train Loss: 0.00130 | Test Loss: 0.05393\n"
     ]
    },
    {
     "name": "stdout",
     "output_type": "stream",
     "text": [
      "Epoch 153: | Train Loss: 0.00094 | Test Loss: 0.24313\n",
      "Epoch 154: | Train Loss: 0.00399 | Test Loss: 0.04476\n",
      "Epoch 155: | Train Loss: 0.03560 | Test Loss: 0.04471\n",
      "Epoch 156: | Train Loss: 0.00089 | Test Loss: 0.18351\n",
      "Epoch 157: | Train Loss: 0.00113 | Test Loss: 0.04752\n",
      "Epoch 158: | Train Loss: 0.00096 | Test Loss: 0.04856\n",
      "Epoch 159: | Train Loss: 0.00170 | Test Loss: 0.05290\n",
      "Epoch 160: | Train Loss: 0.04370 | Test Loss: 0.15258\n",
      "Epoch 161: | Train Loss: 0.03563 | Test Loss: 0.23046\n",
      "Epoch 162: | Train Loss: 0.02009 | Test Loss: 0.03092\n",
      "Epoch 163: | Train Loss: 0.00880 | Test Loss: 0.02465\n",
      "Epoch 164: | Train Loss: 0.02279 | Test Loss: 0.01695\n",
      "Epoch 165: | Train Loss: 0.00211 | Test Loss: 0.02291\n",
      "Epoch 166: | Train Loss: 0.00176 | Test Loss: 0.02905\n",
      "Epoch 167: | Train Loss: 0.00224 | Test Loss: 0.02344\n",
      "Epoch 168: | Train Loss: 0.00173 | Test Loss: 0.02415\n",
      "Epoch 169: | Train Loss: 0.00193 | Test Loss: 0.03307\n",
      "Epoch 170: | Train Loss: 0.00226 | Test Loss: 0.23097\n",
      "Epoch 171: | Train Loss: 0.01028 | Test Loss: 0.03131\n",
      "Epoch 172: | Train Loss: 0.00313 | Test Loss: 0.01969\n",
      "Epoch 173: | Train Loss: 0.00115 | Test Loss: 0.16900\n",
      "Epoch 174: | Train Loss: 0.07484 | Test Loss: 0.30741\n",
      "Epoch 175: | Train Loss: 0.02252 | Test Loss: 0.01900\n",
      "Epoch 176: | Train Loss: 0.00152 | Test Loss: 0.02003\n",
      "Epoch 177: | Train Loss: 0.00116 | Test Loss: 0.02408\n",
      "Epoch 178: | Train Loss: 0.00103 | Test Loss: 0.02615\n",
      "Epoch 179: | Train Loss: 0.00243 | Test Loss: 0.03014\n",
      "Epoch 180: | Train Loss: 0.00138 | Test Loss: 0.03807\n",
      "Epoch 181: | Train Loss: 0.00098 | Test Loss: 0.09663\n",
      "Epoch 182: | Train Loss: 0.00126 | Test Loss: 0.07001\n",
      "Epoch 183: | Train Loss: 0.05241 | Test Loss: 0.01446\n",
      "Epoch 184: | Train Loss: 0.02184 | Test Loss: 0.02283\n",
      "Epoch 185: | Train Loss: 0.01024 | Test Loss: 0.02506\n",
      "Epoch 186: | Train Loss: 0.00295 | Test Loss: 0.02241\n",
      "Epoch 187: | Train Loss: 0.00256 | Test Loss: 0.03590\n",
      "Epoch 188: | Train Loss: 0.00162 | Test Loss: 0.03903\n",
      "Epoch 189: | Train Loss: 0.00102 | Test Loss: 0.04171\n",
      "Epoch 190: | Train Loss: 0.00103 | Test Loss: 0.04451\n",
      "Epoch 191: | Train Loss: 0.00101 | Test Loss: 0.04863\n",
      "Epoch 192: | Train Loss: 0.00098 | Test Loss: 0.04681\n",
      "Epoch 193: | Train Loss: 0.00112 | Test Loss: 0.05256\n",
      "Epoch 194: | Train Loss: 0.00111 | Test Loss: 0.04929\n",
      "Epoch 195: | Train Loss: 0.00095 | Test Loss: 0.05003\n",
      "Epoch 196: | Train Loss: 0.00079 | Test Loss: 0.05438\n",
      "Epoch 197: | Train Loss: 0.00110 | Test Loss: 0.05634\n",
      "Epoch 198: | Train Loss: 0.00109 | Test Loss: 0.05865\n",
      "Epoch 199: | Train Loss: 0.00097 | Test Loss: 0.12745\n",
      "Epoch 200: | Train Loss: 0.00171 | Test Loss: 0.05167\n",
      "stats of l2reg of  1e-05 are [9.9977e-01 9.9675e-01 9.0000e-04 4.9820e-02]\n",
      "running reg of 3e-05\n",
      "Begin training.\n"
     ]
    },
    {
     "data": {
      "application/vnd.jupyter.widget-view+json": {
       "model_id": "839ad707b1434cd68973da3c3ae78c93",
       "version_major": 2,
       "version_minor": 0
      },
      "text/plain": [
       "  0%|          | 0/200 [00:00<?, ?it/s]"
      ]
     },
     "metadata": {},
     "output_type": "display_data"
    },
    {
     "name": "stdout",
     "output_type": "stream",
     "text": [
      "Epoch 001: | Train Loss: 0.45507 | Test Loss: 0.30288\n",
      "Epoch 002: | Train Loss: 0.20085 | Test Loss: 0.32489\n",
      "Epoch 003: | Train Loss: 0.30059 | Test Loss: 0.36261\n",
      "Epoch 004: | Train Loss: 0.22233 | Test Loss: 0.34084\n",
      "Epoch 005: | Train Loss: 0.19067 | Test Loss: 0.33859\n",
      "Epoch 006: | Train Loss: 0.17967 | Test Loss: 0.32863\n",
      "Epoch 007: | Train Loss: 0.17549 | Test Loss: 0.33665\n",
      "Epoch 008: | Train Loss: 0.17326 | Test Loss: 0.33380\n",
      "Epoch 009: | Train Loss: 0.14186 | Test Loss: 0.32242\n",
      "Epoch 010: | Train Loss: 0.18825 | Test Loss: 0.33156\n",
      "Epoch 011: | Train Loss: 0.17163 | Test Loss: 0.32691\n",
      "Epoch 012: | Train Loss: 0.16794 | Test Loss: 0.32277\n",
      "Epoch 013: | Train Loss: 0.15991 | Test Loss: 0.39620\n",
      "Epoch 014: | Train Loss: 0.13986 | Test Loss: 0.32191\n",
      "Epoch 015: | Train Loss: 0.14575 | Test Loss: 0.38550\n",
      "Epoch 016: | Train Loss: 0.10677 | Test Loss: 0.38794\n",
      "Epoch 017: | Train Loss: 0.10415 | Test Loss: 0.38984\n",
      "Epoch 018: | Train Loss: 0.10266 | Test Loss: 0.38418\n",
      "Epoch 019: | Train Loss: 0.10065 | Test Loss: 0.32693\n",
      "Epoch 020: | Train Loss: 0.13034 | Test Loss: 0.28877\n",
      "Epoch 021: | Train Loss: 0.11360 | Test Loss: 0.38520\n",
      "Epoch 022: | Train Loss: 0.10322 | Test Loss: 0.38257\n",
      "Epoch 023: | Train Loss: 0.10115 | Test Loss: 0.26070\n",
      "Epoch 024: | Train Loss: 0.10044 | Test Loss: 0.25821\n",
      "Epoch 025: | Train Loss: 0.09941 | Test Loss: 0.31842\n",
      "Epoch 026: | Train Loss: 0.12828 | Test Loss: 0.32254\n",
      "Epoch 027: | Train Loss: 0.09824 | Test Loss: 0.38352\n",
      "Epoch 028: | Train Loss: 0.19833 | Test Loss: 0.38321\n",
      "Epoch 029: | Train Loss: 0.09809 | Test Loss: 0.31623\n",
      "Epoch 030: | Train Loss: 0.09742 | Test Loss: 0.31554\n",
      "Epoch 031: | Train Loss: 0.12692 | Test Loss: 0.31665\n",
      "Epoch 032: | Train Loss: 0.09714 | Test Loss: 0.25444\n",
      "Epoch 033: | Train Loss: 0.12846 | Test Loss: 0.31182\n",
      "Epoch 034: | Train Loss: 0.14624 | Test Loss: 0.59632\n",
      "Epoch 035: | Train Loss: 0.23857 | Test Loss: 0.17828\n",
      "Epoch 036: | Train Loss: 0.10113 | Test Loss: 0.17435\n",
      "Epoch 037: | Train Loss: 0.09931 | Test Loss: 0.23853\n",
      "Epoch 038: | Train Loss: 0.09866 | Test Loss: 0.24152\n",
      "Epoch 039: | Train Loss: 0.10007 | Test Loss: 0.23306\n",
      "Epoch 040: | Train Loss: 0.05261 | Test Loss: 0.24044\n",
      "Epoch 041: | Train Loss: 0.09839 | Test Loss: 0.23757\n",
      "Epoch 042: | Train Loss: 0.07576 | Test Loss: 0.17810\n",
      "Epoch 043: | Train Loss: 0.09553 | Test Loss: 0.24246\n",
      "Epoch 044: | Train Loss: 0.07255 | Test Loss: 0.23184\n",
      "Epoch 045: | Train Loss: 0.07184 | Test Loss: 0.16418\n",
      "Epoch 046: | Train Loss: 0.06727 | Test Loss: 0.23087\n",
      "Epoch 047: | Train Loss: 0.07406 | Test Loss: 0.15836\n",
      "Epoch 048: | Train Loss: 0.06703 | Test Loss: 0.16475\n",
      "Epoch 049: | Train Loss: 0.06618 | Test Loss: 0.17253\n",
      "Epoch 050: | Train Loss: 0.06561 | Test Loss: 0.16506\n",
      "Epoch 051: | Train Loss: 0.06555 | Test Loss: 0.16770\n",
      "Epoch 052: | Train Loss: 0.06503 | Test Loss: 0.16790\n",
      "Epoch 053: | Train Loss: 0.06426 | Test Loss: 0.17403\n",
      "Epoch 054: | Train Loss: 0.06437 | Test Loss: 0.24563\n",
      "Epoch 055: | Train Loss: 0.06527 | Test Loss: 0.17155\n",
      "Epoch 056: | Train Loss: 0.06544 | Test Loss: 0.16506\n",
      "Epoch 057: | Train Loss: 0.06455 | Test Loss: 0.16582\n",
      "Epoch 058: | Train Loss: 0.06419 | Test Loss: 0.16882\n",
      "Epoch 059: | Train Loss: 0.07604 | Test Loss: 0.27760\n",
      "Epoch 060: | Train Loss: 0.08443 | Test Loss: 0.31172\n",
      "Epoch 061: | Train Loss: 0.10310 | Test Loss: 0.24667\n",
      "Epoch 062: | Train Loss: 0.07929 | Test Loss: 0.23944\n",
      "Epoch 063: | Train Loss: 0.07071 | Test Loss: 0.23622\n",
      "Epoch 064: | Train Loss: 0.06679 | Test Loss: 0.23882\n",
      "Epoch 065: | Train Loss: 0.06430 | Test Loss: 0.24442\n",
      "Epoch 066: | Train Loss: 0.06755 | Test Loss: 0.23400\n",
      "Epoch 067: | Train Loss: 0.06482 | Test Loss: 0.23684\n",
      "Epoch 068: | Train Loss: 0.06442 | Test Loss: 0.24235\n",
      "Epoch 069: | Train Loss: 0.06509 | Test Loss: 0.24104\n",
      "Epoch 070: | Train Loss: 0.09957 | Test Loss: 0.46046\n",
      "Epoch 071: | Train Loss: 0.06910 | Test Loss: 0.23325\n",
      "Epoch 072: | Train Loss: 0.06805 | Test Loss: 0.24196\n",
      "Epoch 073: | Train Loss: 0.06539 | Test Loss: 0.23910\n",
      "Epoch 074: | Train Loss: 0.06382 | Test Loss: 0.23944\n",
      "Epoch 075: | Train Loss: 0.06334 | Test Loss: 0.24074\n",
      "Epoch 076: | Train Loss: 0.03984 | Test Loss: 0.16769\n",
      "Epoch 077: | Train Loss: 0.03731 | Test Loss: 0.23799\n",
      "Epoch 078: | Train Loss: 0.03381 | Test Loss: 0.16714\n",
      "Epoch 079: | Train Loss: 0.03315 | Test Loss: 0.24160\n",
      "Epoch 080: | Train Loss: 0.03294 | Test Loss: 0.17642\n",
      "Epoch 081: | Train Loss: 0.03699 | Test Loss: 0.23259\n",
      "Epoch 082: | Train Loss: 0.07128 | Test Loss: 0.02894\n",
      "Epoch 083: | Train Loss: 0.03817 | Test Loss: 0.09874\n",
      "Epoch 084: | Train Loss: 0.03542 | Test Loss: 0.29713\n",
      "Epoch 085: | Train Loss: 0.03599 | Test Loss: 0.10203\n",
      "Epoch 086: | Train Loss: 0.03520 | Test Loss: 0.30308\n",
      "Epoch 087: | Train Loss: 0.03506 | Test Loss: 0.16322\n",
      "Epoch 088: | Train Loss: 0.03363 | Test Loss: 0.29981\n",
      "Epoch 089: | Train Loss: 0.03426 | Test Loss: 0.16737\n",
      "Epoch 090: | Train Loss: 0.03338 | Test Loss: 0.23146\n",
      "Epoch 091: | Train Loss: 0.03340 | Test Loss: 0.29256\n",
      "Epoch 092: | Train Loss: 0.03281 | Test Loss: 0.23069\n",
      "Epoch 093: | Train Loss: 0.03347 | Test Loss: 0.23454\n",
      "Epoch 094: | Train Loss: 0.09018 | Test Loss: 0.36359\n",
      "Epoch 095: | Train Loss: 0.13358 | Test Loss: 0.09762\n",
      "Epoch 096: | Train Loss: 0.06599 | Test Loss: 0.10300\n",
      "Epoch 097: | Train Loss: 0.06669 | Test Loss: 0.17311\n",
      "Epoch 098: | Train Loss: 0.08452 | Test Loss: 0.22888\n",
      "Epoch 099: | Train Loss: 0.06307 | Test Loss: 0.31337\n",
      "Epoch 100: | Train Loss: 0.07916 | Test Loss: 0.30842\n",
      "Epoch 101: | Train Loss: 0.10165 | Test Loss: 0.37889\n",
      "Epoch 102: | Train Loss: 0.08111 | Test Loss: 0.44442\n",
      "Epoch 103: | Train Loss: 0.10244 | Test Loss: 0.29835\n",
      "Epoch 104: | Train Loss: 0.06535 | Test Loss: 0.17912\n",
      "Epoch 105: | Train Loss: 0.06416 | Test Loss: 0.30409\n",
      "Epoch 106: | Train Loss: 0.06467 | Test Loss: 0.30419\n",
      "Epoch 107: | Train Loss: 0.06390 | Test Loss: 0.30077\n",
      "Epoch 108: | Train Loss: 0.09103 | Test Loss: 0.15950\n",
      "Epoch 109: | Train Loss: 0.06758 | Test Loss: 0.38425\n",
      "Epoch 110: | Train Loss: 0.03936 | Test Loss: 0.22703\n",
      "Epoch 111: | Train Loss: 0.03450 | Test Loss: 0.16774\n",
      "Epoch 112: | Train Loss: 0.03598 | Test Loss: 0.22734\n",
      "Epoch 113: | Train Loss: 0.03467 | Test Loss: 0.36383\n",
      "Epoch 114: | Train Loss: 0.03292 | Test Loss: 0.37673\n",
      "Epoch 115: | Train Loss: 0.03326 | Test Loss: 0.30310\n",
      "Epoch 116: | Train Loss: 0.03347 | Test Loss: 0.29866\n",
      "Epoch 117: | Train Loss: 0.13732 | Test Loss: 0.36610\n",
      "Epoch 118: | Train Loss: 0.04932 | Test Loss: 0.16927\n",
      "Epoch 119: | Train Loss: 0.03665 | Test Loss: 0.10419\n",
      "Epoch 120: | Train Loss: 0.03434 | Test Loss: 0.17076\n",
      "Epoch 121: | Train Loss: 0.03399 | Test Loss: 0.16930\n",
      "Epoch 122: | Train Loss: 0.03362 | Test Loss: 0.16883\n",
      "Epoch 123: | Train Loss: 0.03286 | Test Loss: 0.17570\n",
      "Epoch 124: | Train Loss: 0.03291 | Test Loss: 0.29172\n",
      "Epoch 125: | Train Loss: 0.06341 | Test Loss: 0.18097\n",
      "Epoch 126: | Train Loss: 0.06281 | Test Loss: 0.18644\n",
      "Epoch 127: | Train Loss: 0.06343 | Test Loss: 0.29570\n",
      "Epoch 128: | Train Loss: 0.06417 | Test Loss: 0.17660\n",
      "Epoch 129: | Train Loss: 0.06444 | Test Loss: 0.29889\n",
      "Epoch 130: | Train Loss: 0.17326 | Test Loss: 0.11433\n",
      "Epoch 131: | Train Loss: 0.03850 | Test Loss: 0.16591\n",
      "Epoch 132: | Train Loss: 0.03550 | Test Loss: 0.16921\n",
      "Epoch 133: | Train Loss: 0.03470 | Test Loss: 0.17325\n",
      "Epoch 134: | Train Loss: 0.03422 | Test Loss: 0.17469\n",
      "Epoch 135: | Train Loss: 0.03404 | Test Loss: 0.30055\n",
      "Epoch 136: | Train Loss: 0.03377 | Test Loss: 0.17763\n",
      "Epoch 137: | Train Loss: 0.03336 | Test Loss: 0.17711\n",
      "Epoch 138: | Train Loss: 0.03275 | Test Loss: 0.30109\n",
      "Epoch 139: | Train Loss: 0.03284 | Test Loss: 0.30340\n",
      "Epoch 140: | Train Loss: 0.03491 | Test Loss: 0.13331\n",
      "Epoch 141: | Train Loss: 0.03786 | Test Loss: 0.11296\n",
      "Epoch 142: | Train Loss: 0.03306 | Test Loss: 0.29732\n",
      "Epoch 143: | Train Loss: 0.03338 | Test Loss: 0.36987\n",
      "Epoch 144: | Train Loss: 0.03339 | Test Loss: 0.11044\n",
      "Epoch 145: | Train Loss: 0.03246 | Test Loss: 0.17133\n",
      "Epoch 146: | Train Loss: 0.03178 | Test Loss: 0.23589\n",
      "Epoch 147: | Train Loss: 0.03180 | Test Loss: 0.23181\n",
      "Epoch 148: | Train Loss: 0.03144 | Test Loss: 0.23468\n",
      "Epoch 149: | Train Loss: 0.03134 | Test Loss: 0.23586\n",
      "Epoch 150: | Train Loss: 0.03127 | Test Loss: 0.17705\n",
      "Epoch 151: | Train Loss: 0.04161 | Test Loss: 0.29613\n",
      "Epoch 152: | Train Loss: 0.03304 | Test Loss: 0.29683\n"
     ]
    },
    {
     "name": "stdout",
     "output_type": "stream",
     "text": [
      "Epoch 153: | Train Loss: 0.03270 | Test Loss: 0.11527\n",
      "Epoch 154: | Train Loss: 0.03221 | Test Loss: 0.23285\n",
      "Epoch 155: | Train Loss: 0.03188 | Test Loss: 0.23952\n",
      "Epoch 156: | Train Loss: 0.03174 | Test Loss: 0.23670\n",
      "Epoch 157: | Train Loss: 0.03499 | Test Loss: 0.30220\n",
      "Epoch 158: | Train Loss: 0.03174 | Test Loss: 0.23516\n",
      "Epoch 159: | Train Loss: 0.03133 | Test Loss: 0.23585\n",
      "Epoch 160: | Train Loss: 0.03124 | Test Loss: 0.24061\n",
      "Epoch 161: | Train Loss: 0.03117 | Test Loss: 0.23873\n",
      "Epoch 162: | Train Loss: 0.03100 | Test Loss: 0.23919\n",
      "Epoch 163: | Train Loss: 0.03094 | Test Loss: 0.24230\n",
      "Epoch 164: | Train Loss: 0.04160 | Test Loss: 0.24520\n",
      "Epoch 165: | Train Loss: 0.03601 | Test Loss: 0.22912\n",
      "Epoch 166: | Train Loss: 0.03258 | Test Loss: 0.22678\n",
      "Epoch 167: | Train Loss: 0.03191 | Test Loss: 0.22623\n",
      "Epoch 168: | Train Loss: 0.03145 | Test Loss: 0.22898\n",
      "Epoch 169: | Train Loss: 0.03138 | Test Loss: 0.23190\n",
      "Epoch 170: | Train Loss: 0.03125 | Test Loss: 0.23378\n",
      "Epoch 171: | Train Loss: 0.03099 | Test Loss: 0.32208\n",
      "Epoch 172: | Train Loss: 0.03087 | Test Loss: 0.23481\n",
      "Epoch 173: | Train Loss: 0.03095 | Test Loss: 0.23616\n",
      "Epoch 174: | Train Loss: 0.03105 | Test Loss: 0.23618\n",
      "Epoch 175: | Train Loss: 0.03079 | Test Loss: 0.23882\n",
      "Epoch 176: | Train Loss: 0.09802 | Test Loss: 0.48759\n",
      "Epoch 177: | Train Loss: 0.11263 | Test Loss: 0.09580\n",
      "Epoch 178: | Train Loss: 0.03475 | Test Loss: 0.09970\n",
      "Epoch 179: | Train Loss: 0.03350 | Test Loss: 0.22194\n",
      "Epoch 180: | Train Loss: 0.03387 | Test Loss: 0.23014\n",
      "Epoch 181: | Train Loss: 0.03235 | Test Loss: 0.23301\n",
      "Epoch 182: | Train Loss: 0.03178 | Test Loss: 0.23973\n",
      "Epoch 183: | Train Loss: 0.03496 | Test Loss: 0.10686\n",
      "Epoch 184: | Train Loss: 0.03261 | Test Loss: 0.31020\n",
      "Epoch 185: | Train Loss: 0.05366 | Test Loss: 0.22769\n",
      "Epoch 186: | Train Loss: 0.03172 | Test Loss: 0.22931\n",
      "Epoch 187: | Train Loss: 0.03140 | Test Loss: 0.23209\n",
      "Epoch 188: | Train Loss: 0.03192 | Test Loss: 0.30614\n",
      "Epoch 189: | Train Loss: 0.03391 | Test Loss: 0.23478\n",
      "Epoch 190: | Train Loss: 0.04770 | Test Loss: 0.02666\n",
      "Epoch 191: | Train Loss: 0.03668 | Test Loss: 0.10195\n",
      "Epoch 192: | Train Loss: 0.03226 | Test Loss: 0.22249\n",
      "Epoch 193: | Train Loss: 0.03172 | Test Loss: 0.22640\n",
      "Epoch 194: | Train Loss: 0.03131 | Test Loss: 0.22759\n",
      "Epoch 195: | Train Loss: 0.03100 | Test Loss: 0.23560\n",
      "Epoch 196: | Train Loss: 0.03124 | Test Loss: 0.22991\n",
      "Epoch 197: | Train Loss: 0.03090 | Test Loss: 0.23143\n",
      "Epoch 198: | Train Loss: 0.03155 | Test Loss: 0.10965\n",
      "Epoch 199: | Train Loss: 0.03192 | Test Loss: 0.22952\n",
      "Epoch 200: | Train Loss: 0.03109 | Test Loss: 0.23610\n",
      "stats of l2reg of  3e-05 are [0.99954 0.99567 0.01117 0.09663]\n",
      "running reg of 0.0001\n",
      "Begin training.\n"
     ]
    },
    {
     "data": {
      "application/vnd.jupyter.widget-view+json": {
       "model_id": "70141f6b12e743998b674e3a84ca8457",
       "version_major": 2,
       "version_minor": 0
      },
      "text/plain": [
       "  0%|          | 0/200 [00:00<?, ?it/s]"
      ]
     },
     "metadata": {},
     "output_type": "display_data"
    },
    {
     "name": "stdout",
     "output_type": "stream",
     "text": [
      "Epoch 001: | Train Loss: 0.45740 | Test Loss: 0.50900\n",
      "Epoch 002: | Train Loss: 0.37475 | Test Loss: 0.42729\n",
      "Epoch 003: | Train Loss: 0.43637 | Test Loss: 0.52282\n",
      "Epoch 004: | Train Loss: 0.33842 | Test Loss: 0.41263\n",
      "Epoch 005: | Train Loss: 0.32626 | Test Loss: 0.47016\n",
      "Epoch 006: | Train Loss: 0.26273 | Test Loss: 0.46849\n",
      "Epoch 007: | Train Loss: 0.28870 | Test Loss: 0.56227\n",
      "Epoch 008: | Train Loss: 0.21734 | Test Loss: 0.53811\n",
      "Epoch 009: | Train Loss: 0.17225 | Test Loss: 0.47503\n",
      "Epoch 010: | Train Loss: 0.19031 | Test Loss: 0.38804\n",
      "Epoch 011: | Train Loss: 0.18355 | Test Loss: 0.38869\n",
      "Epoch 012: | Train Loss: 0.16989 | Test Loss: 0.38543\n",
      "Epoch 013: | Train Loss: 0.16947 | Test Loss: 0.39175\n",
      "Epoch 014: | Train Loss: 0.14742 | Test Loss: 0.38291\n",
      "Epoch 015: | Train Loss: 0.13723 | Test Loss: 0.38220\n",
      "Epoch 016: | Train Loss: 0.13641 | Test Loss: 0.37738\n",
      "Epoch 017: | Train Loss: 0.13336 | Test Loss: 0.37543\n",
      "Epoch 018: | Train Loss: 0.09803 | Test Loss: 0.18317\n",
      "Epoch 019: | Train Loss: 0.09945 | Test Loss: 0.16252\n",
      "Epoch 020: | Train Loss: 0.10392 | Test Loss: 0.16937\n",
      "Epoch 021: | Train Loss: 0.10404 | Test Loss: 0.16333\n",
      "Epoch 022: | Train Loss: 0.10235 | Test Loss: 0.16370\n",
      "Epoch 023: | Train Loss: 0.10150 | Test Loss: 0.16039\n",
      "Epoch 024: | Train Loss: 0.13244 | Test Loss: 0.17812\n",
      "Epoch 025: | Train Loss: 0.13644 | Test Loss: 0.23867\n",
      "Epoch 026: | Train Loss: 0.05132 | Test Loss: 0.25772\n",
      "Epoch 027: | Train Loss: 0.21280 | Test Loss: 0.16717\n",
      "Epoch 028: | Train Loss: 0.08938 | Test Loss: 0.17505\n",
      "Epoch 029: | Train Loss: 0.07656 | Test Loss: 0.16165\n",
      "Epoch 030: | Train Loss: 0.07229 | Test Loss: 0.16199\n",
      "Epoch 031: | Train Loss: 0.07063 | Test Loss: 0.16156\n",
      "Epoch 032: | Train Loss: 0.06943 | Test Loss: 0.17427\n",
      "Epoch 033: | Train Loss: 0.04757 | Test Loss: 0.16458\n",
      "Epoch 034: | Train Loss: 0.04382 | Test Loss: 0.10981\n",
      "Epoch 035: | Train Loss: 0.05788 | Test Loss: 0.37233\n",
      "Epoch 036: | Train Loss: 0.03888 | Test Loss: 0.09843\n",
      "Epoch 037: | Train Loss: 0.03734 | Test Loss: 0.16325\n",
      "Epoch 038: | Train Loss: 0.03597 | Test Loss: 0.09747\n",
      "Epoch 039: | Train Loss: 0.04014 | Test Loss: 0.06846\n",
      "Epoch 040: | Train Loss: 0.11013 | Test Loss: 0.15761\n",
      "Epoch 041: | Train Loss: 0.04330 | Test Loss: 0.15692\n",
      "Epoch 042: | Train Loss: 0.04169 | Test Loss: 0.15936\n",
      "Epoch 043: | Train Loss: 0.04086 | Test Loss: 0.16792\n",
      "Epoch 044: | Train Loss: 0.04087 | Test Loss: 0.23466\n",
      "Epoch 045: | Train Loss: 0.03982 | Test Loss: 0.15379\n",
      "Epoch 046: | Train Loss: 0.06602 | Test Loss: 0.17112\n",
      "Epoch 047: | Train Loss: 0.04040 | Test Loss: 0.16221\n",
      "Epoch 048: | Train Loss: 0.03993 | Test Loss: 0.17220\n",
      "Epoch 049: | Train Loss: 0.03817 | Test Loss: 0.16475\n",
      "Epoch 050: | Train Loss: 0.03775 | Test Loss: 0.16335\n",
      "Epoch 051: | Train Loss: 0.03763 | Test Loss: 0.16309\n",
      "Epoch 052: | Train Loss: 0.03691 | Test Loss: 0.16661\n",
      "Epoch 053: | Train Loss: 0.03722 | Test Loss: 0.16474\n",
      "Epoch 054: | Train Loss: 0.08053 | Test Loss: 0.16505\n",
      "Epoch 055: | Train Loss: 0.03934 | Test Loss: 0.09537\n",
      "Epoch 056: | Train Loss: 0.03803 | Test Loss: 0.17056\n",
      "Epoch 057: | Train Loss: 0.03682 | Test Loss: 0.16774\n",
      "Epoch 058: | Train Loss: 0.03684 | Test Loss: 0.16868\n",
      "Epoch 059: | Train Loss: 0.03585 | Test Loss: 0.23692\n",
      "Epoch 060: | Train Loss: 0.03579 | Test Loss: 0.23672\n",
      "Epoch 061: | Train Loss: 0.03492 | Test Loss: 0.24514\n",
      "Epoch 062: | Train Loss: 0.03504 | Test Loss: 0.18087\n",
      "Epoch 063: | Train Loss: 0.03537 | Test Loss: 0.23812\n",
      "Epoch 064: | Train Loss: 0.03529 | Test Loss: 0.53702\n",
      "Epoch 065: | Train Loss: 0.07424 | Test Loss: 0.17776\n",
      "Epoch 066: | Train Loss: 0.09133 | Test Loss: 0.62866\n",
      "Epoch 067: | Train Loss: 0.07115 | Test Loss: 0.16044\n",
      "Epoch 068: | Train Loss: 0.06688 | Test Loss: 0.16515\n",
      "Epoch 069: | Train Loss: 0.06645 | Test Loss: 0.16352\n",
      "Epoch 070: | Train Loss: 0.06577 | Test Loss: 0.16636\n",
      "Epoch 071: | Train Loss: 0.06529 | Test Loss: 0.16307\n",
      "Epoch 072: | Train Loss: 0.06492 | Test Loss: 0.17943\n",
      "Epoch 073: | Train Loss: 0.06558 | Test Loss: 0.16799\n",
      "Epoch 074: | Train Loss: 0.07195 | Test Loss: 0.16929\n",
      "Epoch 075: | Train Loss: 0.06647 | Test Loss: 0.18200\n",
      "Epoch 076: | Train Loss: 0.06600 | Test Loss: 0.23852\n",
      "Epoch 077: | Train Loss: 0.04585 | Test Loss: 0.22976\n",
      "Epoch 078: | Train Loss: 0.03984 | Test Loss: 0.10760\n",
      "Epoch 079: | Train Loss: 0.03679 | Test Loss: 0.17424\n",
      "Epoch 080: | Train Loss: 0.04008 | Test Loss: 0.22756\n",
      "Epoch 081: | Train Loss: 0.03672 | Test Loss: 0.16537\n",
      "Epoch 082: | Train Loss: 0.03485 | Test Loss: 0.23459\n",
      "Epoch 083: | Train Loss: 0.03400 | Test Loss: 0.29681\n",
      "Epoch 084: | Train Loss: 0.03348 | Test Loss: 0.23946\n",
      "Epoch 085: | Train Loss: 0.03667 | Test Loss: 0.30740\n",
      "Epoch 086: | Train Loss: 0.05950 | Test Loss: 0.09773\n",
      "Epoch 087: | Train Loss: 0.03665 | Test Loss: 0.11266\n",
      "Epoch 088: | Train Loss: 0.07893 | Test Loss: 0.17109\n",
      "Epoch 089: | Train Loss: 0.03947 | Test Loss: 0.10052\n",
      "Epoch 090: | Train Loss: 0.03792 | Test Loss: 0.15991\n",
      "Epoch 091: | Train Loss: 0.03699 | Test Loss: 0.15962\n",
      "Epoch 092: | Train Loss: 0.03635 | Test Loss: 0.16143\n",
      "Epoch 093: | Train Loss: 0.03526 | Test Loss: 0.17301\n",
      "Epoch 094: | Train Loss: 0.03528 | Test Loss: 0.16868\n",
      "Epoch 095: | Train Loss: 0.03439 | Test Loss: 0.16898\n",
      "Epoch 096: | Train Loss: 0.03397 | Test Loss: 0.23646\n",
      "Epoch 097: | Train Loss: 0.03357 | Test Loss: 0.23606\n",
      "Epoch 098: | Train Loss: 0.03353 | Test Loss: 0.29892\n",
      "Epoch 099: | Train Loss: 0.03324 | Test Loss: 0.23810\n",
      "Epoch 100: | Train Loss: 0.03293 | Test Loss: 0.29859\n",
      "Epoch 101: | Train Loss: 0.04843 | Test Loss: 0.10887\n",
      "Epoch 102: | Train Loss: 0.03688 | Test Loss: 0.10081\n",
      "Epoch 103: | Train Loss: 0.14220 | Test Loss: 0.16116\n",
      "Epoch 104: | Train Loss: 0.09733 | Test Loss: 0.16849\n",
      "Epoch 105: | Train Loss: 0.09591 | Test Loss: 0.23386\n",
      "Epoch 106: | Train Loss: 0.06450 | Test Loss: 0.23890\n",
      "Epoch 107: | Train Loss: 0.06407 | Test Loss: 0.16707\n",
      "Epoch 108: | Train Loss: 0.09548 | Test Loss: 0.36682\n",
      "Epoch 109: | Train Loss: 0.08413 | Test Loss: 0.23610\n",
      "Epoch 110: | Train Loss: 0.06715 | Test Loss: 0.16558\n",
      "Epoch 111: | Train Loss: 0.06555 | Test Loss: 0.17047\n",
      "Epoch 112: | Train Loss: 0.06550 | Test Loss: 0.17308\n",
      "Epoch 113: | Train Loss: 0.06427 | Test Loss: 0.23621\n",
      "Epoch 114: | Train Loss: 0.06332 | Test Loss: 0.23686\n",
      "Epoch 115: | Train Loss: 0.06532 | Test Loss: 0.17032\n",
      "Epoch 116: | Train Loss: 0.06494 | Test Loss: 0.23295\n",
      "Epoch 117: | Train Loss: 0.06363 | Test Loss: 0.23668\n",
      "Epoch 118: | Train Loss: 0.06334 | Test Loss: 0.24091\n",
      "Epoch 119: | Train Loss: 0.06373 | Test Loss: 0.23732\n",
      "Epoch 120: | Train Loss: 0.06367 | Test Loss: 0.37768\n",
      "Epoch 121: | Train Loss: 0.06256 | Test Loss: 0.30355\n",
      "Epoch 122: | Train Loss: 0.06267 | Test Loss: 0.37202\n",
      "Epoch 123: | Train Loss: 0.06235 | Test Loss: 0.24794\n",
      "Epoch 124: | Train Loss: 0.09287 | Test Loss: 0.30164\n",
      "Epoch 125: | Train Loss: 0.06803 | Test Loss: 0.16863\n",
      "Epoch 126: | Train Loss: 0.06358 | Test Loss: 0.29858\n",
      "Epoch 127: | Train Loss: 0.04203 | Test Loss: 0.09817\n",
      "Epoch 128: | Train Loss: 0.03353 | Test Loss: 0.36932\n",
      "Epoch 129: | Train Loss: 0.03383 | Test Loss: 0.17298\n",
      "Epoch 130: | Train Loss: 0.03304 | Test Loss: 0.17112\n",
      "Epoch 131: | Train Loss: 0.03257 | Test Loss: 0.16920\n",
      "Epoch 132: | Train Loss: 0.03260 | Test Loss: 0.17305\n",
      "Epoch 133: | Train Loss: 0.03310 | Test Loss: 0.22398\n",
      "Epoch 134: | Train Loss: 0.03237 | Test Loss: 0.16277\n",
      "Epoch 135: | Train Loss: 0.03305 | Test Loss: 0.36429\n",
      "Epoch 136: | Train Loss: 0.03282 | Test Loss: 0.24158\n",
      "Epoch 137: | Train Loss: 0.04624 | Test Loss: 0.16331\n",
      "Epoch 138: | Train Loss: 0.03396 | Test Loss: 0.21936\n",
      "Epoch 139: | Train Loss: 0.03331 | Test Loss: 0.29148\n",
      "Epoch 140: | Train Loss: 0.03246 | Test Loss: 0.29878\n",
      "Epoch 141: | Train Loss: 0.08339 | Test Loss: 0.08737\n",
      "Epoch 142: | Train Loss: 0.09464 | Test Loss: 0.09772\n",
      "Epoch 143: | Train Loss: 0.03340 | Test Loss: 0.16058\n",
      "Epoch 144: | Train Loss: 0.03289 | Test Loss: 0.22246\n",
      "Epoch 145: | Train Loss: 0.03272 | Test Loss: 0.21965\n",
      "Epoch 146: | Train Loss: 0.03306 | Test Loss: 0.30862\n",
      "Epoch 147: | Train Loss: 0.09631 | Test Loss: 0.16487\n",
      "Epoch 148: | Train Loss: 0.03225 | Test Loss: 0.22231\n",
      "Epoch 149: | Train Loss: 0.03167 | Test Loss: 0.22159\n",
      "Epoch 150: | Train Loss: 0.03364 | Test Loss: 0.11088\n",
      "Epoch 151: | Train Loss: 0.13703 | Test Loss: 0.09207\n",
      "Epoch 152: | Train Loss: 0.03438 | Test Loss: 0.15873\n"
     ]
    },
    {
     "name": "stdout",
     "output_type": "stream",
     "text": [
      "Epoch 153: | Train Loss: 0.03249 | Test Loss: 0.22145\n",
      "Epoch 154: | Train Loss: 0.03202 | Test Loss: 0.22662\n",
      "Epoch 155: | Train Loss: 0.06336 | Test Loss: 0.22364\n",
      "Epoch 156: | Train Loss: 0.06166 | Test Loss: 0.37053\n",
      "Epoch 157: | Train Loss: 0.10622 | Test Loss: 0.15643\n",
      "Epoch 158: | Train Loss: 0.12458 | Test Loss: 0.16153\n",
      "Epoch 159: | Train Loss: 0.12313 | Test Loss: 0.21810\n",
      "Epoch 160: | Train Loss: 0.09283 | Test Loss: 0.36863\n",
      "Epoch 161: | Train Loss: 0.15413 | Test Loss: 0.11289\n",
      "Epoch 162: | Train Loss: 0.06071 | Test Loss: 0.11174\n",
      "Epoch 163: | Train Loss: 0.03590 | Test Loss: 0.30555\n",
      "Epoch 164: | Train Loss: 0.07033 | Test Loss: 0.24001\n",
      "Epoch 165: | Train Loss: 0.09839 | Test Loss: 0.18177\n",
      "Epoch 166: | Train Loss: 0.03647 | Test Loss: 0.17638\n",
      "Epoch 167: | Train Loss: 0.03353 | Test Loss: 0.30117\n",
      "Epoch 168: | Train Loss: 0.03198 | Test Loss: 0.30254\n",
      "Epoch 169: | Train Loss: 0.03214 | Test Loss: 0.23720\n",
      "Epoch 170: | Train Loss: 0.03219 | Test Loss: 0.30453\n",
      "Epoch 171: | Train Loss: 0.03152 | Test Loss: 0.30669\n",
      "Epoch 172: | Train Loss: 0.03165 | Test Loss: 0.23619\n",
      "Epoch 173: | Train Loss: 0.03116 | Test Loss: 0.31290\n",
      "Epoch 174: | Train Loss: 0.03172 | Test Loss: 0.23859\n",
      "Epoch 175: | Train Loss: 0.03157 | Test Loss: 0.30905\n",
      "Epoch 176: | Train Loss: 0.03097 | Test Loss: 0.31269\n",
      "Epoch 177: | Train Loss: 0.03148 | Test Loss: 0.23868\n",
      "Epoch 178: | Train Loss: 0.03099 | Test Loss: 0.23982\n",
      "Epoch 179: | Train Loss: 0.03086 | Test Loss: 0.23790\n",
      "Epoch 180: | Train Loss: 0.06137 | Test Loss: 0.30487\n",
      "Epoch 181: | Train Loss: 0.11064 | Test Loss: 0.31947\n",
      "Epoch 182: | Train Loss: 0.03714 | Test Loss: 0.17192\n",
      "Epoch 183: | Train Loss: 0.03393 | Test Loss: 0.30172\n",
      "Epoch 184: | Train Loss: 0.03241 | Test Loss: 0.30488\n",
      "Epoch 185: | Train Loss: 0.03179 | Test Loss: 0.30816\n",
      "Epoch 186: | Train Loss: 0.03203 | Test Loss: 0.30493\n",
      "Epoch 187: | Train Loss: 0.03331 | Test Loss: 0.37525\n",
      "Epoch 188: | Train Loss: 0.03361 | Test Loss: 0.23335\n",
      "Epoch 189: | Train Loss: 0.03163 | Test Loss: 0.37376\n",
      "Epoch 190: | Train Loss: 0.03156 | Test Loss: 0.37638\n",
      "Epoch 191: | Train Loss: 0.03120 | Test Loss: 0.37696\n",
      "Epoch 192: | Train Loss: 0.03100 | Test Loss: 0.38166\n",
      "Epoch 193: | Train Loss: 0.03169 | Test Loss: 0.44531\n",
      "Epoch 194: | Train Loss: 0.03848 | Test Loss: 0.10756\n",
      "Epoch 195: | Train Loss: 0.03271 | Test Loss: 0.23402\n",
      "Epoch 196: | Train Loss: 0.03182 | Test Loss: 0.23781\n",
      "Epoch 197: | Train Loss: 0.03159 | Test Loss: 0.31239\n",
      "Epoch 198: | Train Loss: 0.03140 | Test Loss: 0.31485\n",
      "Epoch 199: | Train Loss: 0.03124 | Test Loss: 0.30580\n",
      "Epoch 200: | Train Loss: 0.03118 | Test Loss: 0.30665\n",
      "stats of l2reg of  0.0001 are [0.99954 0.99568 0.01122 0.12068]\n",
      "running reg of 0.0003\n",
      "Begin training.\n"
     ]
    },
    {
     "data": {
      "application/vnd.jupyter.widget-view+json": {
       "model_id": "31b3789559954ddd90b1f1078830d111",
       "version_major": 2,
       "version_minor": 0
      },
      "text/plain": [
       "  0%|          | 0/200 [00:00<?, ?it/s]"
      ]
     },
     "metadata": {},
     "output_type": "display_data"
    },
    {
     "name": "stdout",
     "output_type": "stream",
     "text": [
      "Epoch 001: | Train Loss: 0.47160 | Test Loss: 0.35937\n",
      "Epoch 002: | Train Loss: 0.36481 | Test Loss: 0.36341\n",
      "Epoch 003: | Train Loss: 0.30655 | Test Loss: 0.35259\n",
      "Epoch 004: | Train Loss: 0.23368 | Test Loss: 0.34938\n",
      "Epoch 005: | Train Loss: 0.22932 | Test Loss: 0.34792\n",
      "Epoch 006: | Train Loss: 0.25351 | Test Loss: 0.26732\n",
      "Epoch 007: | Train Loss: 0.24402 | Test Loss: 0.19793\n",
      "Epoch 008: | Train Loss: 0.22544 | Test Loss: 0.19886\n",
      "Epoch 009: | Train Loss: 0.21722 | Test Loss: 0.33656\n",
      "Epoch 010: | Train Loss: 0.17403 | Test Loss: 0.32373\n",
      "Epoch 011: | Train Loss: 0.13039 | Test Loss: 0.21208\n",
      "Epoch 012: | Train Loss: 0.21500 | Test Loss: 0.18864\n",
      "Epoch 013: | Train Loss: 0.08909 | Test Loss: 0.19845\n",
      "Epoch 014: | Train Loss: 0.08856 | Test Loss: 0.18729\n",
      "Epoch 015: | Train Loss: 0.07940 | Test Loss: 0.18087\n",
      "Epoch 016: | Train Loss: 0.05074 | Test Loss: 0.17065\n",
      "Epoch 017: | Train Loss: 0.05770 | Test Loss: 0.32817\n",
      "Epoch 018: | Train Loss: 0.08448 | Test Loss: 0.24765\n",
      "Epoch 019: | Train Loss: 0.04594 | Test Loss: 0.11509\n",
      "Epoch 020: | Train Loss: 0.04545 | Test Loss: 0.17472\n",
      "Epoch 021: | Train Loss: 0.04182 | Test Loss: 0.11953\n",
      "Epoch 022: | Train Loss: 0.04182 | Test Loss: 0.17293\n",
      "Epoch 023: | Train Loss: 0.03991 | Test Loss: 0.11065\n",
      "Epoch 024: | Train Loss: 0.05679 | Test Loss: 0.38576\n",
      "Epoch 025: | Train Loss: 0.08421 | Test Loss: 0.18660\n",
      "Epoch 026: | Train Loss: 0.07694 | Test Loss: 0.18791\n",
      "Epoch 027: | Train Loss: 0.08913 | Test Loss: 0.11092\n",
      "Epoch 028: | Train Loss: 0.04756 | Test Loss: 0.02973\n",
      "Epoch 029: | Train Loss: 0.04440 | Test Loss: 0.02757\n",
      "Epoch 030: | Train Loss: 0.02374 | Test Loss: 0.03849\n",
      "Epoch 031: | Train Loss: 0.01531 | Test Loss: 0.02567\n",
      "Epoch 032: | Train Loss: 0.01167 | Test Loss: 0.02790\n",
      "Epoch 033: | Train Loss: 0.01030 | Test Loss: 0.03912\n",
      "Epoch 034: | Train Loss: 0.00972 | Test Loss: 0.03339\n",
      "Epoch 035: | Train Loss: 0.00897 | Test Loss: 0.10016\n",
      "Epoch 036: | Train Loss: 0.00828 | Test Loss: 0.10532\n",
      "Epoch 037: | Train Loss: 0.00842 | Test Loss: 0.09892\n",
      "Epoch 038: | Train Loss: 0.00788 | Test Loss: 0.10362\n",
      "Epoch 039: | Train Loss: 0.00742 | Test Loss: 0.10214\n",
      "Epoch 040: | Train Loss: 0.00672 | Test Loss: 0.10212\n",
      "Epoch 041: | Train Loss: 0.00649 | Test Loss: 0.10504\n",
      "Epoch 042: | Train Loss: 0.00591 | Test Loss: 0.10515\n",
      "Epoch 043: | Train Loss: 0.00690 | Test Loss: 0.10728\n",
      "Epoch 044: | Train Loss: 0.00642 | Test Loss: 0.10461\n",
      "Epoch 045: | Train Loss: 0.00612 | Test Loss: 0.11432\n",
      "Epoch 046: | Train Loss: 0.00620 | Test Loss: 0.11032\n",
      "Epoch 047: | Train Loss: 0.00970 | Test Loss: 0.54272\n",
      "Epoch 048: | Train Loss: 0.01828 | Test Loss: 0.11068\n",
      "Epoch 049: | Train Loss: 0.00791 | Test Loss: 0.09834\n",
      "Epoch 050: | Train Loss: 0.00618 | Test Loss: 0.40130\n",
      "Epoch 051: | Train Loss: 0.00675 | Test Loss: 0.03804\n",
      "Epoch 052: | Train Loss: 0.01434 | Test Loss: 0.02993\n",
      "Epoch 053: | Train Loss: 0.01055 | Test Loss: 0.15438\n",
      "Epoch 054: | Train Loss: 0.10464 | Test Loss: 0.17168\n",
      "Epoch 055: | Train Loss: 0.07335 | Test Loss: 0.16208\n",
      "Epoch 056: | Train Loss: 0.06679 | Test Loss: 0.16187\n",
      "Epoch 057: | Train Loss: 0.04392 | Test Loss: 0.16016\n",
      "Epoch 058: | Train Loss: 0.03587 | Test Loss: 0.16085\n",
      "Epoch 059: | Train Loss: 0.03456 | Test Loss: 0.16295\n",
      "Epoch 060: | Train Loss: 0.03445 | Test Loss: 0.16398\n",
      "Epoch 061: | Train Loss: 0.04772 | Test Loss: 0.31407\n",
      "Epoch 062: | Train Loss: 0.01598 | Test Loss: 0.17155\n",
      "Epoch 063: | Train Loss: 0.01375 | Test Loss: 0.33133\n",
      "Epoch 064: | Train Loss: 0.06924 | Test Loss: 0.01836\n",
      "Epoch 065: | Train Loss: 0.01122 | Test Loss: 0.02757\n",
      "Epoch 066: | Train Loss: 0.00701 | Test Loss: 0.17125\n",
      "Epoch 067: | Train Loss: 0.00671 | Test Loss: 0.08978\n",
      "Epoch 068: | Train Loss: 0.00529 | Test Loss: 0.09266\n",
      "Epoch 069: | Train Loss: 0.00844 | Test Loss: 0.09142\n",
      "Epoch 070: | Train Loss: 0.00447 | Test Loss: 0.09065\n",
      "Epoch 071: | Train Loss: 0.00582 | Test Loss: 0.23300\n",
      "Epoch 072: | Train Loss: 0.00534 | Test Loss: 0.09089\n",
      "Epoch 073: | Train Loss: 0.00418 | Test Loss: 0.38498\n",
      "Epoch 074: | Train Loss: 0.04241 | Test Loss: 0.10516\n",
      "Epoch 075: | Train Loss: 0.01160 | Test Loss: 0.02090\n",
      "Epoch 076: | Train Loss: 0.00705 | Test Loss: 0.01486\n",
      "Epoch 077: | Train Loss: 0.00606 | Test Loss: 0.01500\n",
      "Epoch 078: | Train Loss: 0.00568 | Test Loss: 0.01613\n",
      "Epoch 079: | Train Loss: 0.00509 | Test Loss: 0.01693\n",
      "Epoch 080: | Train Loss: 0.00564 | Test Loss: 0.09460\n",
      "Epoch 081: | Train Loss: 0.00601 | Test Loss: 0.08775\n",
      "Epoch 082: | Train Loss: 0.09359 | Test Loss: 0.23780\n",
      "Epoch 083: | Train Loss: 0.01350 | Test Loss: 0.02610\n",
      "Epoch 084: | Train Loss: 0.00753 | Test Loss: 0.01837\n",
      "Epoch 085: | Train Loss: 0.00598 | Test Loss: 0.01924\n",
      "Epoch 086: | Train Loss: 0.00573 | Test Loss: 0.02107\n",
      "Epoch 087: | Train Loss: 0.00503 | Test Loss: 0.01808\n",
      "Epoch 088: | Train Loss: 0.00440 | Test Loss: 0.01883\n",
      "Epoch 089: | Train Loss: 0.00388 | Test Loss: 0.02180\n",
      "Epoch 090: | Train Loss: 0.00442 | Test Loss: 0.02029\n",
      "Epoch 091: | Train Loss: 0.00439 | Test Loss: 0.02060\n",
      "Epoch 092: | Train Loss: 0.00386 | Test Loss: 0.01968\n",
      "Epoch 093: | Train Loss: 0.05521 | Test Loss: 0.16331\n",
      "Epoch 094: | Train Loss: 0.03890 | Test Loss: 0.16411\n",
      "Epoch 095: | Train Loss: 0.03699 | Test Loss: 0.04242\n",
      "Epoch 096: | Train Loss: 0.03532 | Test Loss: 0.16071\n",
      "Epoch 097: | Train Loss: 0.03576 | Test Loss: 0.03968\n",
      "Epoch 098: | Train Loss: 0.07468 | Test Loss: 0.10664\n",
      "Epoch 099: | Train Loss: 0.03807 | Test Loss: 0.11244\n",
      "Epoch 100: | Train Loss: 0.03578 | Test Loss: 0.22661\n",
      "Epoch 101: | Train Loss: 0.03486 | Test Loss: 0.22986\n",
      "Epoch 102: | Train Loss: 0.03454 | Test Loss: 0.22498\n",
      "Epoch 103: | Train Loss: 0.03354 | Test Loss: 0.16831\n",
      "Epoch 104: | Train Loss: 0.03322 | Test Loss: 0.22733\n",
      "Epoch 105: | Train Loss: 0.03457 | Test Loss: 0.22693\n",
      "Epoch 106: | Train Loss: 0.03277 | Test Loss: 0.22693\n",
      "Epoch 107: | Train Loss: 0.03394 | Test Loss: 0.22820\n",
      "Epoch 108: | Train Loss: 0.03346 | Test Loss: 0.22220\n",
      "Epoch 109: | Train Loss: 0.04619 | Test Loss: 0.10194\n",
      "Epoch 110: | Train Loss: 0.06849 | Test Loss: 0.30070\n",
      "Epoch 111: | Train Loss: 0.07437 | Test Loss: 0.16292\n",
      "Epoch 112: | Train Loss: 0.02867 | Test Loss: 0.03575\n",
      "Epoch 113: | Train Loss: 0.04378 | Test Loss: 0.02584\n",
      "Epoch 114: | Train Loss: 0.00605 | Test Loss: 0.02529\n",
      "Epoch 115: | Train Loss: 0.00420 | Test Loss: 0.03193\n",
      "Epoch 116: | Train Loss: 0.00488 | Test Loss: 0.02752\n",
      "Epoch 117: | Train Loss: 0.00465 | Test Loss: 0.03961\n",
      "Epoch 118: | Train Loss: 0.00450 | Test Loss: 0.16204\n",
      "Epoch 119: | Train Loss: 0.00349 | Test Loss: 0.15893\n",
      "Epoch 120: | Train Loss: 0.00246 | Test Loss: 0.08781\n",
      "Epoch 121: | Train Loss: 0.00224 | Test Loss: 0.16554\n",
      "Epoch 122: | Train Loss: 0.00232 | Test Loss: 0.08943\n",
      "Epoch 123: | Train Loss: 0.02238 | Test Loss: 0.06422\n",
      "Epoch 124: | Train Loss: 0.07839 | Test Loss: 0.02713\n",
      "Epoch 125: | Train Loss: 0.00746 | Test Loss: 0.04359\n",
      "Epoch 126: | Train Loss: 0.00656 | Test Loss: 0.08167\n",
      "Epoch 127: | Train Loss: 0.00397 | Test Loss: 0.08704\n",
      "Epoch 128: | Train Loss: 0.00378 | Test Loss: 0.08296\n",
      "Epoch 129: | Train Loss: 0.00309 | Test Loss: 0.08255\n",
      "Epoch 130: | Train Loss: 0.00317 | Test Loss: 0.08598\n",
      "Epoch 131: | Train Loss: 0.00236 | Test Loss: 0.08890\n",
      "Epoch 132: | Train Loss: 0.00248 | Test Loss: 0.09514\n",
      "Epoch 133: | Train Loss: 0.00804 | Test Loss: 0.16121\n",
      "Epoch 134: | Train Loss: 0.00349 | Test Loss: 0.09513\n",
      "Epoch 135: | Train Loss: 0.00244 | Test Loss: 0.08970\n",
      "Epoch 136: | Train Loss: 0.00232 | Test Loss: 0.09314\n",
      "Epoch 137: | Train Loss: 0.00559 | Test Loss: 0.09020\n",
      "Epoch 138: | Train Loss: 0.00234 | Test Loss: 0.16518\n",
      "Epoch 139: | Train Loss: 0.00206 | Test Loss: 0.10215\n",
      "Epoch 140: | Train Loss: 0.00320 | Test Loss: 0.17185\n",
      "Epoch 141: | Train Loss: 0.00153 | Test Loss: 0.10018\n",
      "Epoch 142: | Train Loss: 0.00520 | Test Loss: 0.09618\n",
      "Epoch 143: | Train Loss: 0.00355 | Test Loss: 0.08803\n",
      "Epoch 144: | Train Loss: 0.00266 | Test Loss: 0.09157\n",
      "Epoch 145: | Train Loss: 0.00184 | Test Loss: 0.09035\n",
      "Epoch 146: | Train Loss: 0.00142 | Test Loss: 0.09273\n",
      "Epoch 147: | Train Loss: 0.00309 | Test Loss: 0.23192\n",
      "Epoch 148: | Train Loss: 0.00207 | Test Loss: 0.09338\n",
      "Epoch 149: | Train Loss: 0.00354 | Test Loss: 0.89546\n",
      "Epoch 150: | Train Loss: 0.03886 | Test Loss: 0.05570\n",
      "Epoch 151: | Train Loss: 0.03055 | Test Loss: 0.09019\n",
      "Epoch 152: | Train Loss: 0.00401 | Test Loss: 0.22934\n"
     ]
    },
    {
     "name": "stdout",
     "output_type": "stream",
     "text": [
      "Epoch 153: | Train Loss: 0.03431 | Test Loss: 0.22862\n",
      "Epoch 154: | Train Loss: 0.03275 | Test Loss: 0.74902\n",
      "Epoch 155: | Train Loss: 0.02167 | Test Loss: 0.03339\n",
      "Epoch 156: | Train Loss: 0.00598 | Test Loss: 0.02491\n",
      "Epoch 157: | Train Loss: 0.00384 | Test Loss: 0.02679\n",
      "Epoch 158: | Train Loss: 0.00242 | Test Loss: 0.08424\n",
      "Epoch 159: | Train Loss: 0.00193 | Test Loss: 0.08489\n",
      "Epoch 160: | Train Loss: 0.00168 | Test Loss: 0.08499\n",
      "Epoch 161: | Train Loss: 0.00152 | Test Loss: 0.08649\n",
      "Epoch 162: | Train Loss: 0.03631 | Test Loss: 0.11274\n",
      "Epoch 163: | Train Loss: 0.00591 | Test Loss: 0.02536\n",
      "Epoch 164: | Train Loss: 0.00441 | Test Loss: 0.02632\n",
      "Epoch 165: | Train Loss: 0.00319 | Test Loss: 0.08693\n",
      "Epoch 166: | Train Loss: 0.00262 | Test Loss: 0.15062\n",
      "Epoch 167: | Train Loss: 0.00216 | Test Loss: 0.09355\n",
      "Epoch 168: | Train Loss: 0.00188 | Test Loss: 0.09486\n",
      "Epoch 169: | Train Loss: 0.00141 | Test Loss: 0.09448\n",
      "Epoch 170: | Train Loss: 0.00176 | Test Loss: 0.15807\n",
      "Epoch 171: | Train Loss: 0.00162 | Test Loss: 0.10176\n",
      "Epoch 172: | Train Loss: 0.00166 | Test Loss: 0.16551\n",
      "Epoch 173: | Train Loss: 0.00236 | Test Loss: 0.46531\n",
      "Epoch 174: | Train Loss: 0.00331 | Test Loss: 0.45009\n",
      "Epoch 175: | Train Loss: 0.00316 | Test Loss: 0.37959\n",
      "Epoch 176: | Train Loss: 0.00376 | Test Loss: 0.44361\n",
      "Epoch 177: | Train Loss: 0.01056 | Test Loss: 0.11013\n",
      "Epoch 178: | Train Loss: 0.07207 | Test Loss: 0.23259\n",
      "Epoch 179: | Train Loss: 0.00522 | Test Loss: 0.03933\n",
      "Epoch 180: | Train Loss: 0.09558 | Test Loss: 0.05486\n",
      "Epoch 181: | Train Loss: 0.05382 | Test Loss: 0.17500\n",
      "Epoch 182: | Train Loss: 0.00674 | Test Loss: 0.09037\n",
      "Epoch 183: | Train Loss: 0.00537 | Test Loss: 0.24575\n",
      "Epoch 184: | Train Loss: 0.00185 | Test Loss: 0.17080\n",
      "Epoch 185: | Train Loss: 0.00195 | Test Loss: 0.44687\n",
      "Epoch 186: | Train Loss: 0.00310 | Test Loss: 0.09636\n",
      "Epoch 187: | Train Loss: 0.00223 | Test Loss: 0.16603\n",
      "Epoch 188: | Train Loss: 0.00138 | Test Loss: 0.17178\n",
      "Epoch 189: | Train Loss: 0.00135 | Test Loss: 0.31015\n",
      "Epoch 190: | Train Loss: 0.00136 | Test Loss: 0.23937\n",
      "Epoch 191: | Train Loss: 0.00140 | Test Loss: 0.17264\n",
      "Epoch 192: | Train Loss: 0.00111 | Test Loss: 0.17362\n",
      "Epoch 193: | Train Loss: 0.03267 | Test Loss: 0.05515\n",
      "Epoch 194: | Train Loss: 0.00191 | Test Loss: 0.23264\n",
      "Epoch 195: | Train Loss: 0.03288 | Test Loss: 0.16959\n",
      "Epoch 196: | Train Loss: 0.00235 | Test Loss: 0.16857\n",
      "Epoch 197: | Train Loss: 0.00135 | Test Loss: 0.17438\n",
      "Epoch 198: | Train Loss: 0.00133 | Test Loss: 0.30371\n",
      "Epoch 199: | Train Loss: 0.00151 | Test Loss: 0.23906\n",
      "Epoch 200: | Train Loss: 0.00102 | Test Loss: 0.17570\n",
      "stats of l2reg of  0.0003 are [0.99954 0.99513 0.00106 0.08272]\n",
      "running reg of 0.001\n",
      "Begin training.\n"
     ]
    },
    {
     "data": {
      "application/vnd.jupyter.widget-view+json": {
       "model_id": "ba9dc011aeb541dfabc93de994d41cba",
       "version_major": 2,
       "version_minor": 0
      },
      "text/plain": [
       "  0%|          | 0/200 [00:00<?, ?it/s]"
      ]
     },
     "metadata": {},
     "output_type": "display_data"
    },
    {
     "name": "stdout",
     "output_type": "stream",
     "text": [
      "Epoch 001: | Train Loss: 0.46133 | Test Loss: 0.41110\n",
      "Epoch 002: | Train Loss: 0.40142 | Test Loss: 0.44183\n",
      "Epoch 003: | Train Loss: 0.34980 | Test Loss: 0.44247\n",
      "Epoch 004: | Train Loss: 0.34552 | Test Loss: 0.42113\n",
      "Epoch 005: | Train Loss: 0.30432 | Test Loss: 0.40879\n",
      "Epoch 006: | Train Loss: 0.36451 | Test Loss: 0.41792\n",
      "Epoch 007: | Train Loss: 0.30485 | Test Loss: 0.41116\n",
      "Epoch 008: | Train Loss: 0.22325 | Test Loss: 0.34414\n",
      "Epoch 009: | Train Loss: 0.20321 | Test Loss: 0.40162\n",
      "Epoch 010: | Train Loss: 0.12048 | Test Loss: 0.38724\n",
      "Epoch 011: | Train Loss: 0.18892 | Test Loss: 0.39503\n",
      "Epoch 012: | Train Loss: 0.16554 | Test Loss: 0.25979\n",
      "Epoch 013: | Train Loss: 0.16165 | Test Loss: 0.32931\n",
      "Epoch 014: | Train Loss: 0.11727 | Test Loss: 0.63285\n",
      "Epoch 015: | Train Loss: 0.14516 | Test Loss: 0.17930\n",
      "Epoch 016: | Train Loss: 0.11567 | Test Loss: 0.18712\n",
      "Epoch 017: | Train Loss: 0.11110 | Test Loss: 0.18582\n",
      "Epoch 018: | Train Loss: 0.10564 | Test Loss: 0.19262\n",
      "Epoch 019: | Train Loss: 0.07397 | Test Loss: 0.18702\n",
      "Epoch 020: | Train Loss: 0.12000 | Test Loss: 0.17125\n",
      "Epoch 021: | Train Loss: 0.10408 | Test Loss: 0.17069\n",
      "Epoch 022: | Train Loss: 0.10246 | Test Loss: 0.17180\n",
      "Epoch 023: | Train Loss: 0.10257 | Test Loss: 0.17568\n",
      "Epoch 024: | Train Loss: 0.10272 | Test Loss: 0.17348\n",
      "Epoch 025: | Train Loss: 0.10237 | Test Loss: 0.17272\n",
      "Epoch 026: | Train Loss: 0.07251 | Test Loss: 0.17123\n",
      "Epoch 027: | Train Loss: 0.07209 | Test Loss: 0.17440\n",
      "Epoch 028: | Train Loss: 0.06984 | Test Loss: 0.16991\n",
      "Epoch 029: | Train Loss: 0.07185 | Test Loss: 0.31149\n",
      "Epoch 030: | Train Loss: 0.09333 | Test Loss: 0.17656\n",
      "Epoch 031: | Train Loss: 0.07254 | Test Loss: 0.17595\n",
      "Epoch 032: | Train Loss: 0.07100 | Test Loss: 0.17230\n",
      "Epoch 033: | Train Loss: 0.06888 | Test Loss: 0.17411\n",
      "Epoch 034: | Train Loss: 0.06883 | Test Loss: 0.17345\n",
      "Epoch 035: | Train Loss: 0.06803 | Test Loss: 0.17428\n",
      "Epoch 036: | Train Loss: 0.04879 | Test Loss: 0.16377\n",
      "Epoch 037: | Train Loss: 0.04013 | Test Loss: 0.11090\n",
      "Epoch 038: | Train Loss: 0.05322 | Test Loss: 0.08979\n",
      "Epoch 039: | Train Loss: 0.07046 | Test Loss: 0.10507\n",
      "Epoch 040: | Train Loss: 0.03971 | Test Loss: 0.09825\n",
      "Epoch 041: | Train Loss: 0.06821 | Test Loss: 0.11178\n",
      "Epoch 042: | Train Loss: 0.08564 | Test Loss: 0.17155\n",
      "Epoch 043: | Train Loss: 0.18613 | Test Loss: 0.25677\n",
      "Epoch 044: | Train Loss: 0.19750 | Test Loss: 0.23085\n",
      "Epoch 045: | Train Loss: 0.16164 | Test Loss: 0.23816\n",
      "Epoch 046: | Train Loss: 0.18512 | Test Loss: 0.24374\n",
      "Epoch 047: | Train Loss: 0.16275 | Test Loss: 0.16362\n",
      "Epoch 048: | Train Loss: 0.16158 | Test Loss: 0.15977\n",
      "Epoch 049: | Train Loss: 0.18093 | Test Loss: 0.16079\n",
      "Epoch 050: | Train Loss: 0.10277 | Test Loss: 0.16778\n",
      "Epoch 051: | Train Loss: 0.08384 | Test Loss: 0.16070\n",
      "Epoch 052: | Train Loss: 0.04455 | Test Loss: 0.16057\n",
      "Epoch 053: | Train Loss: 0.04046 | Test Loss: 0.16323\n",
      "Epoch 054: | Train Loss: 0.07181 | Test Loss: 0.18763\n",
      "Epoch 055: | Train Loss: 0.14159 | Test Loss: 0.16534\n",
      "Epoch 056: | Train Loss: 0.04387 | Test Loss: 0.23871\n",
      "Epoch 057: | Train Loss: 0.04376 | Test Loss: 0.25560\n",
      "Epoch 058: | Train Loss: 0.04010 | Test Loss: 0.16138\n",
      "Epoch 059: | Train Loss: 0.04048 | Test Loss: 0.16044\n",
      "Epoch 060: | Train Loss: 0.04277 | Test Loss: 0.16175\n",
      "Epoch 061: | Train Loss: 0.03938 | Test Loss: 0.16198\n",
      "Epoch 062: | Train Loss: 0.04043 | Test Loss: 0.16253\n",
      "Epoch 063: | Train Loss: 0.03823 | Test Loss: 0.10637\n",
      "Epoch 064: | Train Loss: 0.04382 | Test Loss: 0.16287\n",
      "Epoch 065: | Train Loss: 0.03785 | Test Loss: 0.17787\n",
      "Epoch 066: | Train Loss: 0.04077 | Test Loss: 0.16170\n",
      "Epoch 067: | Train Loss: 0.03720 | Test Loss: 0.30417\n",
      "Epoch 068: | Train Loss: 0.03883 | Test Loss: 0.16367\n",
      "Epoch 069: | Train Loss: 0.05267 | Test Loss: 0.22273\n",
      "Epoch 070: | Train Loss: 0.03887 | Test Loss: 0.10078\n",
      "Epoch 071: | Train Loss: 0.03760 | Test Loss: 0.16421\n",
      "Epoch 072: | Train Loss: 0.06646 | Test Loss: 0.30442\n",
      "Epoch 073: | Train Loss: 0.03721 | Test Loss: 0.29740\n",
      "Epoch 074: | Train Loss: 0.04433 | Test Loss: 0.09333\n",
      "Epoch 075: | Train Loss: 0.03674 | Test Loss: 0.15277\n",
      "Epoch 076: | Train Loss: 0.03620 | Test Loss: 0.15325\n",
      "Epoch 077: | Train Loss: 0.03695 | Test Loss: 0.09686\n",
      "Epoch 078: | Train Loss: 0.03638 | Test Loss: 0.23766\n",
      "Epoch 079: | Train Loss: 0.03708 | Test Loss: 0.06462\n",
      "Epoch 080: | Train Loss: 0.03812 | Test Loss: 0.15260\n",
      "Epoch 081: | Train Loss: 0.03582 | Test Loss: 0.16537\n",
      "Epoch 082: | Train Loss: 0.03537 | Test Loss: 0.15267\n",
      "Epoch 083: | Train Loss: 0.03484 | Test Loss: 0.15277\n",
      "Epoch 084: | Train Loss: 0.03553 | Test Loss: 0.29850\n",
      "Epoch 085: | Train Loss: 0.03531 | Test Loss: 0.29953\n",
      "Epoch 086: | Train Loss: 0.03402 | Test Loss: 0.30196\n",
      "Epoch 087: | Train Loss: 0.03785 | Test Loss: 0.06433\n",
      "Epoch 088: | Train Loss: 0.17053 | Test Loss: 0.15674\n",
      "Epoch 089: | Train Loss: 0.03640 | Test Loss: 0.22362\n",
      "Epoch 090: | Train Loss: 0.03559 | Test Loss: 0.08802\n",
      "Epoch 091: | Train Loss: 0.07542 | Test Loss: 0.16009\n",
      "Epoch 092: | Train Loss: 0.03763 | Test Loss: 0.16844\n",
      "Epoch 093: | Train Loss: 0.03851 | Test Loss: 0.23075\n",
      "Epoch 094: | Train Loss: 0.03559 | Test Loss: 0.22522\n",
      "Epoch 095: | Train Loss: 0.03555 | Test Loss: 0.16674\n",
      "Epoch 096: | Train Loss: 0.03618 | Test Loss: 0.16378\n",
      "Epoch 097: | Train Loss: 0.03489 | Test Loss: 0.15994\n",
      "Epoch 098: | Train Loss: 0.04144 | Test Loss: 0.15667\n",
      "Epoch 099: | Train Loss: 0.06603 | Test Loss: 0.22199\n",
      "Epoch 100: | Train Loss: 0.03534 | Test Loss: 0.29526\n",
      "Epoch 101: | Train Loss: 0.06477 | Test Loss: 0.29768\n",
      "Epoch 102: | Train Loss: 0.08018 | Test Loss: 0.09783\n",
      "Epoch 103: | Train Loss: 0.03767 | Test Loss: 0.16431\n",
      "Epoch 104: | Train Loss: 0.03528 | Test Loss: 0.16642\n",
      "Epoch 105: | Train Loss: 0.03507 | Test Loss: 0.16622\n",
      "Epoch 106: | Train Loss: 0.03529 | Test Loss: 0.16776\n",
      "Epoch 107: | Train Loss: 0.06509 | Test Loss: 0.16944\n",
      "Epoch 108: | Train Loss: 0.10540 | Test Loss: 0.16821\n",
      "Epoch 109: | Train Loss: 0.10435 | Test Loss: 0.22248\n",
      "Epoch 110: | Train Loss: 0.09990 | Test Loss: 0.10073\n",
      "Epoch 111: | Train Loss: 0.09582 | Test Loss: 0.22362\n",
      "Epoch 112: | Train Loss: 0.09681 | Test Loss: 0.09341\n",
      "Epoch 113: | Train Loss: 0.12602 | Test Loss: 0.37815\n",
      "Epoch 114: | Train Loss: 0.09777 | Test Loss: 0.09410\n",
      "Epoch 115: | Train Loss: 0.06543 | Test Loss: 0.13244\n",
      "Epoch 116: | Train Loss: 0.06625 | Test Loss: 0.22270\n",
      "Epoch 117: | Train Loss: 0.07284 | Test Loss: 0.23832\n",
      "Epoch 118: | Train Loss: 0.12752 | Test Loss: 0.22671\n",
      "Epoch 119: | Train Loss: 0.09910 | Test Loss: 0.15523\n",
      "Epoch 120: | Train Loss: 0.34264 | Test Loss: 0.02851\n",
      "Epoch 121: | Train Loss: 0.06828 | Test Loss: 0.02368\n",
      "Epoch 122: | Train Loss: 0.09711 | Test Loss: 0.03577\n",
      "Epoch 123: | Train Loss: 0.10109 | Test Loss: 0.45804\n",
      "Epoch 124: | Train Loss: 0.06798 | Test Loss: 0.15556\n",
      "Epoch 125: | Train Loss: 0.02167 | Test Loss: 0.09384\n",
      "Epoch 126: | Train Loss: 0.03631 | Test Loss: 0.15436\n",
      "Epoch 127: | Train Loss: 0.06499 | Test Loss: 0.15420\n",
      "Epoch 128: | Train Loss: 0.03633 | Test Loss: 0.15213\n",
      "Epoch 129: | Train Loss: 0.03429 | Test Loss: 0.22390\n",
      "Epoch 130: | Train Loss: 0.06504 | Test Loss: 0.29783\n",
      "Epoch 131: | Train Loss: 0.03520 | Test Loss: 0.22822\n",
      "Epoch 132: | Train Loss: 0.09479 | Test Loss: 0.22444\n",
      "Epoch 133: | Train Loss: 0.06999 | Test Loss: 0.22290\n",
      "Epoch 134: | Train Loss: 0.08663 | Test Loss: 0.15125\n",
      "Epoch 135: | Train Loss: 0.03508 | Test Loss: 0.15811\n",
      "Epoch 136: | Train Loss: 0.03460 | Test Loss: 0.09707\n",
      "Epoch 137: | Train Loss: 0.06455 | Test Loss: 0.09618\n",
      "Epoch 138: | Train Loss: 0.06550 | Test Loss: 0.09678\n",
      "Epoch 139: | Train Loss: 0.09552 | Test Loss: 0.15225\n",
      "Epoch 140: | Train Loss: 0.06413 | Test Loss: 0.09636\n",
      "Epoch 141: | Train Loss: 0.09760 | Test Loss: 0.22049\n",
      "Epoch 142: | Train Loss: 0.08518 | Test Loss: 0.03116\n",
      "Epoch 143: | Train Loss: 0.09688 | Test Loss: 0.23008\n",
      "Epoch 144: | Train Loss: 0.09895 | Test Loss: 0.03219\n",
      "Epoch 145: | Train Loss: 0.02190 | Test Loss: 0.15631\n",
      "Epoch 146: | Train Loss: 0.00622 | Test Loss: 0.23271\n",
      "Epoch 147: | Train Loss: 0.00542 | Test Loss: 0.22971\n",
      "Epoch 148: | Train Loss: 0.00565 | Test Loss: 0.22417\n",
      "Epoch 149: | Train Loss: 0.00449 | Test Loss: 0.22605\n",
      "Epoch 150: | Train Loss: 0.06157 | Test Loss: 0.02803\n",
      "Epoch 151: | Train Loss: 0.00949 | Test Loss: 0.09503\n",
      "Epoch 152: | Train Loss: 0.00676 | Test Loss: 0.09896\n"
     ]
    },
    {
     "name": "stdout",
     "output_type": "stream",
     "text": [
      "Epoch 153: | Train Loss: 0.04840 | Test Loss: 0.10213\n",
      "Epoch 154: | Train Loss: 0.00955 | Test Loss: 0.03102\n",
      "Epoch 155: | Train Loss: 0.00775 | Test Loss: 0.02706\n",
      "Epoch 156: | Train Loss: 0.00496 | Test Loss: 0.09263\n",
      "Epoch 157: | Train Loss: 0.00519 | Test Loss: 0.88751\n",
      "Epoch 158: | Train Loss: 0.00590 | Test Loss: 0.23211\n",
      "Epoch 159: | Train Loss: 0.00446 | Test Loss: 0.09483\n",
      "Epoch 160: | Train Loss: 0.00811 | Test Loss: 0.15328\n",
      "Epoch 161: | Train Loss: 0.01714 | Test Loss: 0.02274\n",
      "Epoch 162: | Train Loss: 0.00595 | Test Loss: 0.02830\n",
      "Epoch 163: | Train Loss: 0.00483 | Test Loss: 0.02436\n",
      "Epoch 164: | Train Loss: 0.00438 | Test Loss: 0.15236\n",
      "Epoch 165: | Train Loss: 0.00417 | Test Loss: 0.22321\n",
      "Epoch 166: | Train Loss: 0.00366 | Test Loss: 0.15360\n",
      "Epoch 167: | Train Loss: 0.00356 | Test Loss: 0.15589\n",
      "Epoch 168: | Train Loss: 0.00373 | Test Loss: 0.22720\n",
      "Epoch 169: | Train Loss: 0.00305 | Test Loss: 0.30784\n",
      "Epoch 170: | Train Loss: 0.00566 | Test Loss: 0.23321\n",
      "Epoch 171: | Train Loss: 0.00321 | Test Loss: 0.30183\n",
      "Epoch 172: | Train Loss: 0.00328 | Test Loss: 0.09844\n",
      "Epoch 173: | Train Loss: 0.00553 | Test Loss: 0.16317\n",
      "Epoch 174: | Train Loss: 0.00701 | Test Loss: 0.22104\n",
      "Epoch 175: | Train Loss: 0.00293 | Test Loss: 0.22244\n",
      "Epoch 176: | Train Loss: 0.00417 | Test Loss: 0.09396\n",
      "Epoch 177: | Train Loss: 0.00361 | Test Loss: 0.15237\n",
      "Epoch 178: | Train Loss: 0.00272 | Test Loss: 0.29717\n",
      "Epoch 179: | Train Loss: 0.01026 | Test Loss: 0.02438\n",
      "Epoch 180: | Train Loss: 0.00385 | Test Loss: 0.22069\n",
      "Epoch 181: | Train Loss: 0.03346 | Test Loss: 0.22165\n",
      "Epoch 182: | Train Loss: 0.00264 | Test Loss: 0.23084\n",
      "Epoch 183: | Train Loss: 0.00226 | Test Loss: 0.22364\n",
      "Epoch 184: | Train Loss: 0.00196 | Test Loss: 0.22383\n",
      "Epoch 185: | Train Loss: 0.00235 | Test Loss: 0.22567\n",
      "Epoch 186: | Train Loss: 0.03408 | Test Loss: 0.96278\n",
      "Epoch 187: | Train Loss: 0.15733 | Test Loss: 0.30504\n",
      "Epoch 188: | Train Loss: 0.06526 | Test Loss: 0.22507\n",
      "Epoch 189: | Train Loss: 0.03396 | Test Loss: 0.23351\n",
      "Epoch 190: | Train Loss: 0.04500 | Test Loss: 0.22216\n",
      "Epoch 191: | Train Loss: 0.06566 | Test Loss: 0.22203\n",
      "Epoch 192: | Train Loss: 0.05176 | Test Loss: 0.02437\n",
      "Epoch 193: | Train Loss: 0.05357 | Test Loss: 0.01960\n",
      "Epoch 194: | Train Loss: 0.09872 | Test Loss: 0.08041\n",
      "Epoch 195: | Train Loss: 0.06628 | Test Loss: 0.08432\n",
      "Epoch 196: | Train Loss: 0.06530 | Test Loss: 0.09188\n",
      "Epoch 197: | Train Loss: 0.06486 | Test Loss: 0.29303\n",
      "Epoch 198: | Train Loss: 0.06396 | Test Loss: 0.45116\n",
      "Epoch 199: | Train Loss: 0.06745 | Test Loss: 0.15877\n",
      "Epoch 200: | Train Loss: 0.02555 | Test Loss: 0.23176\n",
      "stats of l2reg of  0.001 are [0.99931 0.99404 0.00355 0.09229]\n",
      "running reg of 0.003\n",
      "Begin training.\n"
     ]
    },
    {
     "data": {
      "application/vnd.jupyter.widget-view+json": {
       "model_id": "19bce5d176b040168f496ea6c6c3ff71",
       "version_major": 2,
       "version_minor": 0
      },
      "text/plain": [
       "  0%|          | 0/200 [00:00<?, ?it/s]"
      ]
     },
     "metadata": {},
     "output_type": "display_data"
    },
    {
     "name": "stdout",
     "output_type": "stream",
     "text": [
      "Epoch 001: | Train Loss: 0.28917 | Test Loss: 0.34756\n",
      "Epoch 002: | Train Loss: 0.23236 | Test Loss: 0.26122\n",
      "Epoch 003: | Train Loss: 0.19837 | Test Loss: 0.17908\n",
      "Epoch 004: | Train Loss: 0.17520 | Test Loss: 0.17112\n",
      "Epoch 005: | Train Loss: 0.15027 | Test Loss: 0.19092\n",
      "Epoch 006: | Train Loss: 0.11493 | Test Loss: 0.17344\n",
      "Epoch 007: | Train Loss: 0.14005 | Test Loss: 0.17228\n",
      "Epoch 008: | Train Loss: 0.10679 | Test Loss: 0.16584\n",
      "Epoch 009: | Train Loss: 0.26237 | Test Loss: 0.33957\n",
      "Epoch 010: | Train Loss: 0.21599 | Test Loss: 0.24622\n",
      "Epoch 011: | Train Loss: 0.18603 | Test Loss: 0.16661\n",
      "Epoch 012: | Train Loss: 0.17006 | Test Loss: 0.16484\n",
      "Epoch 013: | Train Loss: 0.16775 | Test Loss: 1.97753\n",
      "Epoch 014: | Train Loss: 0.12277 | Test Loss: 0.17831\n",
      "Epoch 015: | Train Loss: 0.07765 | Test Loss: 0.16660\n",
      "Epoch 016: | Train Loss: 0.07599 | Test Loss: 0.16397\n",
      "Epoch 017: | Train Loss: 0.07448 | Test Loss: 0.16309\n",
      "Epoch 018: | Train Loss: 0.07572 | Test Loss: 0.17105\n",
      "Epoch 019: | Train Loss: 0.07349 | Test Loss: 0.16259\n",
      "Epoch 020: | Train Loss: 0.07292 | Test Loss: 0.16726\n",
      "Epoch 021: | Train Loss: 0.07358 | Test Loss: 0.16452\n",
      "Epoch 022: | Train Loss: 0.07141 | Test Loss: 0.16453\n",
      "Epoch 023: | Train Loss: 0.07216 | Test Loss: 0.16069\n",
      "Epoch 024: | Train Loss: 0.07070 | Test Loss: 0.16174\n",
      "Epoch 025: | Train Loss: 0.07228 | Test Loss: 0.15911\n",
      "Epoch 026: | Train Loss: 0.07540 | Test Loss: 0.17693\n",
      "Epoch 027: | Train Loss: 0.08558 | Test Loss: 0.16320\n",
      "Epoch 028: | Train Loss: 0.07321 | Test Loss: 0.16183\n",
      "Epoch 029: | Train Loss: 0.07021 | Test Loss: 0.16062\n",
      "Epoch 030: | Train Loss: 0.06994 | Test Loss: 0.16309\n",
      "Epoch 031: | Train Loss: 0.08069 | Test Loss: 0.16491\n",
      "Epoch 032: | Train Loss: 0.06980 | Test Loss: 0.16006\n",
      "Epoch 033: | Train Loss: 0.06868 | Test Loss: 0.24543\n",
      "Epoch 034: | Train Loss: 0.06821 | Test Loss: 0.24202\n",
      "Epoch 035: | Train Loss: 0.04439 | Test Loss: 0.17058\n",
      "Epoch 036: | Train Loss: 0.03918 | Test Loss: 0.08642\n",
      "Epoch 037: | Train Loss: 0.06771 | Test Loss: 0.08669\n",
      "Epoch 038: | Train Loss: 0.03829 | Test Loss: 0.16454\n",
      "Epoch 039: | Train Loss: 0.04325 | Test Loss: 0.13615\n",
      "Epoch 040: | Train Loss: 0.04105 | Test Loss: 0.09352\n",
      "Epoch 041: | Train Loss: 0.09771 | Test Loss: 0.17498\n",
      "Epoch 042: | Train Loss: 0.09302 | Test Loss: 0.16510\n",
      "Epoch 043: | Train Loss: 0.04926 | Test Loss: 0.19474\n",
      "Epoch 044: | Train Loss: 0.04564 | Test Loss: 0.31618\n",
      "Epoch 045: | Train Loss: 0.04328 | Test Loss: 0.16519\n",
      "Epoch 046: | Train Loss: 0.04110 | Test Loss: 0.09307\n",
      "Epoch 047: | Train Loss: 0.03796 | Test Loss: 0.10131\n",
      "Epoch 048: | Train Loss: 0.03706 | Test Loss: 0.24214\n",
      "Epoch 049: | Train Loss: 0.03875 | Test Loss: 0.23385\n",
      "Epoch 050: | Train Loss: 0.03592 | Test Loss: 0.09948\n",
      "Epoch 051: | Train Loss: 0.03510 | Test Loss: 0.09508\n",
      "Epoch 052: | Train Loss: 0.04647 | Test Loss: 0.10363\n",
      "Epoch 053: | Train Loss: 0.03976 | Test Loss: 0.07787\n",
      "Epoch 054: | Train Loss: 0.08612 | Test Loss: 0.02901\n",
      "Epoch 055: | Train Loss: 0.07152 | Test Loss: 0.09359\n",
      "Epoch 056: | Train Loss: 0.03708 | Test Loss: 0.09621\n",
      "Epoch 057: | Train Loss: 0.03624 | Test Loss: 0.18303\n",
      "Epoch 058: | Train Loss: 0.03845 | Test Loss: 0.10091\n",
      "Epoch 059: | Train Loss: 0.03606 | Test Loss: 0.10366\n",
      "Epoch 060: | Train Loss: 0.03518 | Test Loss: 0.18463\n",
      "Epoch 061: | Train Loss: 0.07369 | Test Loss: 0.24629\n",
      "Epoch 062: | Train Loss: 0.17531 | Test Loss: 0.04353\n",
      "Epoch 063: | Train Loss: 0.06411 | Test Loss: 0.19678\n",
      "Epoch 064: | Train Loss: 0.08141 | Test Loss: 0.09159\n",
      "Epoch 065: | Train Loss: 0.03957 | Test Loss: 0.15189\n",
      "Epoch 066: | Train Loss: 0.03955 | Test Loss: 0.09915\n",
      "Epoch 067: | Train Loss: 0.04474 | Test Loss: 0.09924\n",
      "Epoch 068: | Train Loss: 0.03816 | Test Loss: 0.17230\n",
      "Epoch 069: | Train Loss: 0.03925 | Test Loss: 0.09371\n",
      "Epoch 070: | Train Loss: 0.06595 | Test Loss: 0.10440\n",
      "Epoch 071: | Train Loss: 0.03751 | Test Loss: 0.22925\n",
      "Epoch 072: | Train Loss: 0.03713 | Test Loss: 0.23342\n",
      "Epoch 073: | Train Loss: 0.07812 | Test Loss: 3.65489\n",
      "Epoch 074: | Train Loss: 0.21215 | Test Loss: 0.09509\n",
      "Epoch 075: | Train Loss: 0.07138 | Test Loss: 0.09516\n",
      "Epoch 076: | Train Loss: 0.03840 | Test Loss: 0.23650\n",
      "Epoch 077: | Train Loss: 0.03702 | Test Loss: 0.04317\n",
      "Epoch 078: | Train Loss: 0.07008 | Test Loss: 0.32257\n",
      "Epoch 079: | Train Loss: 0.04865 | Test Loss: 0.16593\n",
      "Epoch 080: | Train Loss: 0.03930 | Test Loss: 0.16570\n",
      "Epoch 081: | Train Loss: 0.03812 | Test Loss: 0.29593\n",
      "Epoch 082: | Train Loss: 0.03913 | Test Loss: 0.29606\n",
      "Epoch 083: | Train Loss: 0.03683 | Test Loss: 0.29514\n",
      "Epoch 084: | Train Loss: 0.03645 | Test Loss: 0.29476\n",
      "Epoch 085: | Train Loss: 0.03576 | Test Loss: 0.16530\n",
      "Epoch 086: | Train Loss: 0.03563 | Test Loss: 0.16606\n",
      "Epoch 087: | Train Loss: 0.03586 | Test Loss: 0.16527\n",
      "Epoch 088: | Train Loss: 0.03587 | Test Loss: 0.11104\n",
      "Epoch 089: | Train Loss: 0.03833 | Test Loss: 0.29438\n",
      "Epoch 090: | Train Loss: 0.03460 | Test Loss: 0.29510\n",
      "Epoch 091: | Train Loss: 0.03524 | Test Loss: 0.29650\n",
      "Epoch 092: | Train Loss: 0.03472 | Test Loss: 0.10262\n",
      "Epoch 093: | Train Loss: 0.04101 | Test Loss: 0.10478\n",
      "Epoch 094: | Train Loss: 0.03593 | Test Loss: 0.10947\n",
      "Epoch 095: | Train Loss: 0.03666 | Test Loss: 0.10607\n",
      "Epoch 096: | Train Loss: 0.03437 | Test Loss: 0.29768\n",
      "Epoch 097: | Train Loss: 0.03403 | Test Loss: 0.29753\n",
      "Epoch 098: | Train Loss: 0.03870 | Test Loss: 0.29377\n",
      "Epoch 099: | Train Loss: 0.03443 | Test Loss: 0.10667\n",
      "Epoch 100: | Train Loss: 0.03505 | Test Loss: 0.23604\n",
      "Epoch 101: | Train Loss: 0.06442 | Test Loss: 0.30971\n",
      "Epoch 102: | Train Loss: 0.03542 | Test Loss: 0.29769\n",
      "Epoch 103: | Train Loss: 0.06895 | Test Loss: 0.30476\n",
      "Epoch 104: | Train Loss: 0.12615 | Test Loss: 0.52989\n",
      "Epoch 105: | Train Loss: 0.14507 | Test Loss: 0.23390\n",
      "Epoch 106: | Train Loss: 0.10185 | Test Loss: 0.23149\n",
      "Epoch 107: | Train Loss: 0.10727 | Test Loss: 0.22494\n",
      "Epoch 108: | Train Loss: 0.10658 | Test Loss: 0.17171\n",
      "Epoch 109: | Train Loss: 0.10082 | Test Loss: 0.16091\n",
      "Epoch 110: | Train Loss: 0.04238 | Test Loss: 0.17001\n",
      "Epoch 111: | Train Loss: 0.04291 | Test Loss: 0.16182\n",
      "Epoch 112: | Train Loss: 0.03765 | Test Loss: 0.16272\n",
      "Epoch 113: | Train Loss: 0.03661 | Test Loss: 0.15926\n",
      "Epoch 114: | Train Loss: 0.03724 | Test Loss: 0.16040\n",
      "Epoch 115: | Train Loss: 0.04154 | Test Loss: 0.16225\n",
      "Epoch 116: | Train Loss: 0.03862 | Test Loss: 0.16205\n",
      "Epoch 117: | Train Loss: 0.03675 | Test Loss: 0.29611\n",
      "Epoch 118: | Train Loss: 0.03698 | Test Loss: 0.09588\n",
      "Epoch 119: | Train Loss: 0.06682 | Test Loss: 0.09762\n",
      "Epoch 120: | Train Loss: 0.03503 | Test Loss: 0.16550\n",
      "Epoch 121: | Train Loss: 0.07539 | Test Loss: 0.19193\n",
      "Epoch 122: | Train Loss: 0.10471 | Test Loss: 0.16257\n",
      "Epoch 123: | Train Loss: 0.06638 | Test Loss: 0.19250\n",
      "Epoch 124: | Train Loss: 0.08222 | Test Loss: 0.16016\n",
      "Epoch 125: | Train Loss: 0.03820 | Test Loss: 0.16232\n",
      "Epoch 126: | Train Loss: 0.03699 | Test Loss: 0.16458\n",
      "Epoch 127: | Train Loss: 0.03656 | Test Loss: 0.36879\n",
      "Epoch 128: | Train Loss: 0.03573 | Test Loss: 0.30563\n",
      "Epoch 129: | Train Loss: 0.03505 | Test Loss: 0.30586\n",
      "Epoch 130: | Train Loss: 0.03532 | Test Loss: 0.16191\n",
      "Epoch 131: | Train Loss: 0.04387 | Test Loss: 0.17474\n",
      "Epoch 132: | Train Loss: 0.03584 | Test Loss: 0.16488\n",
      "Epoch 133: | Train Loss: 0.03454 | Test Loss: 0.16598\n",
      "Epoch 134: | Train Loss: 0.03534 | Test Loss: 0.16667\n",
      "Epoch 135: | Train Loss: 0.03493 | Test Loss: 0.24297\n",
      "Epoch 136: | Train Loss: 0.03513 | Test Loss: 0.16301\n",
      "Epoch 137: | Train Loss: 0.03868 | Test Loss: 0.37008\n",
      "Epoch 138: | Train Loss: 0.03497 | Test Loss: 0.30442\n",
      "Epoch 139: | Train Loss: 0.03757 | Test Loss: 0.16072\n",
      "Epoch 140: | Train Loss: 0.03514 | Test Loss: 0.16112\n",
      "Epoch 141: | Train Loss: 0.03462 | Test Loss: 0.23284\n",
      "Epoch 142: | Train Loss: 0.03462 | Test Loss: 0.38942\n",
      "Epoch 143: | Train Loss: 0.05043 | Test Loss: 0.16007\n",
      "Epoch 144: | Train Loss: 0.03442 | Test Loss: 0.36874\n",
      "Epoch 145: | Train Loss: 0.03482 | Test Loss: 0.24371\n",
      "Epoch 146: | Train Loss: 0.03371 | Test Loss: 0.30345\n",
      "Epoch 147: | Train Loss: 0.03543 | Test Loss: 0.09519\n",
      "Epoch 148: | Train Loss: 0.03773 | Test Loss: 0.16445\n",
      "Epoch 149: | Train Loss: 0.12745 | Test Loss: 0.10738\n",
      "Epoch 150: | Train Loss: 0.04029 | Test Loss: 0.22494\n",
      "Epoch 151: | Train Loss: 0.03867 | Test Loss: 0.22252\n",
      "Epoch 152: | Train Loss: 0.08588 | Test Loss: 0.16204\n"
     ]
    },
    {
     "name": "stdout",
     "output_type": "stream",
     "text": [
      "Epoch 153: | Train Loss: 0.10339 | Test Loss: 0.16726\n",
      "Epoch 154: | Train Loss: 0.07326 | Test Loss: 0.16589\n",
      "Epoch 155: | Train Loss: 0.04611 | Test Loss: 0.22854\n",
      "Epoch 156: | Train Loss: 0.04027 | Test Loss: 0.16361\n",
      "Epoch 157: | Train Loss: 0.06169 | Test Loss: 0.41256\n",
      "Epoch 158: | Train Loss: 0.06676 | Test Loss: 0.16884\n",
      "Epoch 159: | Train Loss: 0.04176 | Test Loss: 0.16738\n",
      "Epoch 160: | Train Loss: 0.04008 | Test Loss: 0.16702\n",
      "Epoch 161: | Train Loss: 0.03888 | Test Loss: 0.23011\n",
      "Epoch 162: | Train Loss: 0.05669 | Test Loss: 0.17171\n",
      "Epoch 163: | Train Loss: 0.03936 | Test Loss: 0.17178\n",
      "Epoch 164: | Train Loss: 0.03791 | Test Loss: 0.23433\n",
      "Epoch 165: | Train Loss: 0.03987 | Test Loss: 0.17188\n",
      "Epoch 166: | Train Loss: 0.03726 | Test Loss: 0.37999\n",
      "Epoch 167: | Train Loss: 0.07247 | Test Loss: 0.23531\n",
      "Epoch 168: | Train Loss: 0.09356 | Test Loss: 0.84804\n",
      "Epoch 169: | Train Loss: 0.07017 | Test Loss: 0.30539\n",
      "Epoch 170: | Train Loss: 0.03865 | Test Loss: 0.17513\n",
      "Epoch 171: | Train Loss: 0.03742 | Test Loss: 0.16883\n",
      "Epoch 172: | Train Loss: 0.03757 | Test Loss: 0.16718\n",
      "Epoch 173: | Train Loss: 0.03637 | Test Loss: 0.17085\n",
      "Epoch 174: | Train Loss: 0.03565 | Test Loss: 0.17069\n",
      "Epoch 175: | Train Loss: 0.03547 | Test Loss: 0.36360\n",
      "Epoch 176: | Train Loss: 0.03618 | Test Loss: 0.16834\n",
      "Epoch 177: | Train Loss: 0.03556 | Test Loss: 0.36385\n",
      "Epoch 178: | Train Loss: 0.03394 | Test Loss: 0.17023\n",
      "Epoch 179: | Train Loss: 0.03498 | Test Loss: 0.30454\n",
      "Epoch 180: | Train Loss: 0.03478 | Test Loss: 0.36544\n",
      "Epoch 181: | Train Loss: 0.03514 | Test Loss: 0.23920\n",
      "Epoch 182: | Train Loss: 0.03537 | Test Loss: 0.16269\n",
      "Epoch 183: | Train Loss: 0.04172 | Test Loss: 0.10029\n",
      "Epoch 184: | Train Loss: 0.05449 | Test Loss: 0.43929\n",
      "Epoch 185: | Train Loss: 0.04761 | Test Loss: 0.04109\n",
      "Epoch 186: | Train Loss: 0.03802 | Test Loss: 0.10355\n",
      "Epoch 187: | Train Loss: 0.03863 | Test Loss: 0.09887\n",
      "Epoch 188: | Train Loss: 0.03768 | Test Loss: 0.18280\n",
      "Epoch 189: | Train Loss: 0.03883 | Test Loss: 0.10305\n",
      "Epoch 190: | Train Loss: 0.03656 | Test Loss: 0.10347\n",
      "Epoch 191: | Train Loss: 0.03649 | Test Loss: 0.09900\n",
      "Epoch 192: | Train Loss: 0.03866 | Test Loss: 0.30157\n",
      "Epoch 193: | Train Loss: 0.03851 | Test Loss: 0.09819\n",
      "Epoch 194: | Train Loss: 0.03528 | Test Loss: 0.09979\n",
      "Epoch 195: | Train Loss: 0.03470 | Test Loss: 0.09132\n",
      "Epoch 196: | Train Loss: 0.03502 | Test Loss: 0.17582\n",
      "Epoch 197: | Train Loss: 0.03407 | Test Loss: 0.09126\n",
      "Epoch 198: | Train Loss: 0.03419 | Test Loss: 0.36827\n",
      "Epoch 199: | Train Loss: 0.05318 | Test Loss: 0.09880\n",
      "Epoch 200: | Train Loss: 0.03811 | Test Loss: 0.10380\n",
      "stats of l2reg of  0.003 are [0.99838 0.99567 0.01672 0.05731]\n",
      "running reg of 0.01\n",
      "Begin training.\n"
     ]
    },
    {
     "data": {
      "application/vnd.jupyter.widget-view+json": {
       "model_id": "f2262863583e4e3a9f5043356fe97108",
       "version_major": 2,
       "version_minor": 0
      },
      "text/plain": [
       "  0%|          | 0/200 [00:00<?, ?it/s]"
      ]
     },
     "metadata": {},
     "output_type": "display_data"
    },
    {
     "name": "stdout",
     "output_type": "stream",
     "text": [
      "Epoch 001: | Train Loss: 0.38697 | Test Loss: 0.25973\n",
      "Epoch 002: | Train Loss: 0.31720 | Test Loss: 0.19718\n",
      "Epoch 003: | Train Loss: 0.24015 | Test Loss: 0.18671\n",
      "Epoch 004: | Train Loss: 0.27842 | Test Loss: 0.18362\n",
      "Epoch 005: | Train Loss: 0.24980 | Test Loss: 0.19076\n",
      "Epoch 006: | Train Loss: 0.18580 | Test Loss: 0.25536\n",
      "Epoch 007: | Train Loss: 0.17506 | Test Loss: 0.17903\n",
      "Epoch 008: | Train Loss: 0.14483 | Test Loss: 0.41404\n",
      "Epoch 009: | Train Loss: 0.15100 | Test Loss: 0.18642\n",
      "Epoch 010: | Train Loss: 0.14964 | Test Loss: 0.17872\n",
      "Epoch 011: | Train Loss: 0.10983 | Test Loss: 0.11567\n",
      "Epoch 012: | Train Loss: 0.14618 | Test Loss: 0.25188\n",
      "Epoch 013: | Train Loss: 0.11794 | Test Loss: 0.10928\n",
      "Epoch 014: | Train Loss: 0.10041 | Test Loss: 0.10386\n",
      "Epoch 015: | Train Loss: 0.07838 | Test Loss: 0.16749\n",
      "Epoch 016: | Train Loss: 0.07530 | Test Loss: 0.24237\n",
      "Epoch 017: | Train Loss: 0.07455 | Test Loss: 0.16545\n",
      "Epoch 018: | Train Loss: 0.07811 | Test Loss: 0.16630\n",
      "Epoch 019: | Train Loss: 0.07680 | Test Loss: 0.09694\n",
      "Epoch 020: | Train Loss: 0.04394 | Test Loss: 0.10368\n",
      "Epoch 021: | Train Loss: 0.10660 | Test Loss: 0.09342\n",
      "Epoch 022: | Train Loss: 0.10923 | Test Loss: 0.59364\n",
      "Epoch 023: | Train Loss: 0.20695 | Test Loss: 0.32965\n",
      "Epoch 024: | Train Loss: 0.18188 | Test Loss: 0.26116\n",
      "Epoch 025: | Train Loss: 0.16315 | Test Loss: 0.18849\n",
      "Epoch 026: | Train Loss: 0.05385 | Test Loss: 0.17634\n",
      "Epoch 027: | Train Loss: 0.05330 | Test Loss: 0.17071\n",
      "Epoch 028: | Train Loss: 0.04730 | Test Loss: 0.16541\n",
      "Epoch 029: | Train Loss: 0.04363 | Test Loss: 0.16423\n",
      "Epoch 030: | Train Loss: 0.04126 | Test Loss: 0.16646\n",
      "Epoch 031: | Train Loss: 0.07332 | Test Loss: 0.16461\n",
      "Epoch 032: | Train Loss: 0.20900 | Test Loss: 0.19597\n",
      "Epoch 033: | Train Loss: 0.07379 | Test Loss: 0.19777\n",
      "Epoch 034: | Train Loss: 0.05294 | Test Loss: 0.17429\n",
      "Epoch 035: | Train Loss: 0.04667 | Test Loss: 0.11426\n",
      "Epoch 036: | Train Loss: 0.04273 | Test Loss: 0.17048\n",
      "Epoch 037: | Train Loss: 0.04144 | Test Loss: 0.17736\n",
      "Epoch 038: | Train Loss: 0.04142 | Test Loss: 0.18003\n",
      "Epoch 039: | Train Loss: 0.04017 | Test Loss: 0.11522\n",
      "Epoch 040: | Train Loss: 0.04101 | Test Loss: 0.31255\n",
      "Epoch 041: | Train Loss: 0.04117 | Test Loss: 0.10464\n",
      "Epoch 042: | Train Loss: 0.03949 | Test Loss: 0.17759\n",
      "Epoch 043: | Train Loss: 0.03908 | Test Loss: 0.09961\n",
      "Epoch 044: | Train Loss: 0.03906 | Test Loss: 0.10354\n",
      "Epoch 045: | Train Loss: 0.03853 | Test Loss: 0.19366\n",
      "Epoch 046: | Train Loss: 0.04770 | Test Loss: 0.15015\n",
      "Epoch 047: | Train Loss: 0.11493 | Test Loss: 0.10142\n",
      "Epoch 048: | Train Loss: 0.04101 | Test Loss: 0.10186\n",
      "Epoch 049: | Train Loss: 0.03913 | Test Loss: 0.09807\n",
      "Epoch 050: | Train Loss: 0.03839 | Test Loss: 0.31153\n",
      "Epoch 051: | Train Loss: 0.03925 | Test Loss: 0.12110\n",
      "Epoch 052: | Train Loss: 0.12350 | Test Loss: 0.17500\n",
      "Epoch 053: | Train Loss: 0.18954 | Test Loss: 0.17372\n",
      "Epoch 054: | Train Loss: 0.06221 | Test Loss: 0.17138\n",
      "Epoch 055: | Train Loss: 0.08180 | Test Loss: 0.10525\n",
      "Epoch 056: | Train Loss: 0.09833 | Test Loss: 0.09933\n",
      "Epoch 057: | Train Loss: 0.07711 | Test Loss: 0.09526\n",
      "Epoch 058: | Train Loss: 0.07140 | Test Loss: 0.10194\n",
      "Epoch 059: | Train Loss: 0.07439 | Test Loss: 0.10325\n",
      "Epoch 060: | Train Loss: 0.07178 | Test Loss: 0.23959\n",
      "Epoch 061: | Train Loss: 0.07473 | Test Loss: 0.10390\n",
      "Epoch 062: | Train Loss: 0.15607 | Test Loss: 0.19263\n",
      "Epoch 063: | Train Loss: 0.14497 | Test Loss: 0.09633\n",
      "Epoch 064: | Train Loss: 0.07635 | Test Loss: 0.09314\n",
      "Epoch 065: | Train Loss: 0.07284 | Test Loss: 0.09321\n",
      "Epoch 066: | Train Loss: 0.07179 | Test Loss: 0.09233\n",
      "Epoch 067: | Train Loss: 0.12824 | Test Loss: 0.04572\n",
      "Epoch 068: | Train Loss: 0.05282 | Test Loss: 0.04042\n",
      "Epoch 069: | Train Loss: 0.01722 | Test Loss: 0.02443\n",
      "Epoch 070: | Train Loss: 0.01113 | Test Loss: 0.02535\n",
      "Epoch 071: | Train Loss: 0.06292 | Test Loss: 0.10668\n",
      "Epoch 072: | Train Loss: 0.01503 | Test Loss: 0.02677\n",
      "Epoch 073: | Train Loss: 0.01315 | Test Loss: 0.09318\n",
      "Epoch 074: | Train Loss: 0.01003 | Test Loss: 0.09702\n",
      "Epoch 075: | Train Loss: 0.00966 | Test Loss: 0.09463\n",
      "Epoch 076: | Train Loss: 0.00860 | Test Loss: 0.09119\n",
      "Epoch 077: | Train Loss: 0.00822 | Test Loss: 0.09579\n",
      "Epoch 078: | Train Loss: 0.02164 | Test Loss: 0.04363\n",
      "Epoch 079: | Train Loss: 0.01597 | Test Loss: 0.01982\n",
      "Epoch 080: | Train Loss: 0.01523 | Test Loss: 0.09997\n",
      "Epoch 081: | Train Loss: 0.03297 | Test Loss: 0.86525\n",
      "Epoch 082: | Train Loss: 0.02411 | Test Loss: 0.04940\n",
      "Epoch 083: | Train Loss: 0.01017 | Test Loss: 0.10734\n",
      "Epoch 084: | Train Loss: 0.01871 | Test Loss: 0.04437\n",
      "Epoch 085: | Train Loss: 0.01873 | Test Loss: 0.02477\n",
      "Epoch 086: | Train Loss: 0.01053 | Test Loss: 0.25269\n",
      "Epoch 087: | Train Loss: 0.00943 | Test Loss: 0.18863\n",
      "Epoch 088: | Train Loss: 0.00831 | Test Loss: 0.17450\n",
      "Epoch 089: | Train Loss: 0.06004 | Test Loss: 0.10899\n",
      "Epoch 090: | Train Loss: 0.01011 | Test Loss: 0.11339\n",
      "Epoch 091: | Train Loss: 0.00753 | Test Loss: 0.31093\n",
      "Epoch 092: | Train Loss: 0.00797 | Test Loss: 0.17395\n",
      "Epoch 093: | Train Loss: 0.08587 | Test Loss: 0.05830\n",
      "Epoch 094: | Train Loss: 0.06531 | Test Loss: 0.02935\n",
      "Epoch 095: | Train Loss: 0.01401 | Test Loss: 0.02801\n",
      "Epoch 096: | Train Loss: 0.01153 | Test Loss: 0.03216\n",
      "Epoch 097: | Train Loss: 0.01030 | Test Loss: 0.03240\n",
      "Epoch 098: | Train Loss: 0.01034 | Test Loss: 0.03071\n",
      "Epoch 099: | Train Loss: 0.00897 | Test Loss: 0.02378\n",
      "Epoch 100: | Train Loss: 0.00778 | Test Loss: 0.11018\n",
      "Epoch 101: | Train Loss: 0.06324 | Test Loss: 0.18598\n",
      "Epoch 102: | Train Loss: 0.01684 | Test Loss: 0.09641\n",
      "Epoch 103: | Train Loss: 0.01083 | Test Loss: 0.02299\n",
      "Epoch 104: | Train Loss: 0.00918 | Test Loss: 0.09399\n",
      "Epoch 105: | Train Loss: 0.00818 | Test Loss: 0.02127\n",
      "Epoch 106: | Train Loss: 0.00740 | Test Loss: 0.04385\n",
      "Epoch 107: | Train Loss: 0.04179 | Test Loss: 0.09326\n",
      "Epoch 108: | Train Loss: 0.02710 | Test Loss: 0.02160\n",
      "Epoch 109: | Train Loss: 0.01201 | Test Loss: 0.02022\n",
      "Epoch 110: | Train Loss: 0.00966 | Test Loss: 0.09411\n",
      "Epoch 111: | Train Loss: 0.06363 | Test Loss: 0.02515\n",
      "Epoch 112: | Train Loss: 0.01149 | Test Loss: 0.02484\n",
      "Epoch 113: | Train Loss: 0.00961 | Test Loss: 0.09146\n",
      "Epoch 114: | Train Loss: 0.00871 | Test Loss: 0.09176\n",
      "Epoch 115: | Train Loss: 0.00787 | Test Loss: 0.24482\n",
      "Epoch 116: | Train Loss: 0.00807 | Test Loss: 0.02054\n",
      "Epoch 117: | Train Loss: 0.00689 | Test Loss: 0.16797\n",
      "Epoch 118: | Train Loss: 0.11559 | Test Loss: 0.18897\n",
      "Epoch 119: | Train Loss: 0.06165 | Test Loss: 0.01987\n",
      "Epoch 120: | Train Loss: 0.00926 | Test Loss: 0.02110\n",
      "Epoch 121: | Train Loss: 0.22544 | Test Loss: 0.02902\n",
      "Epoch 122: | Train Loss: 0.10970 | Test Loss: 0.02153\n",
      "Epoch 123: | Train Loss: 0.05350 | Test Loss: 0.02661\n",
      "Epoch 124: | Train Loss: 0.01086 | Test Loss: 0.02271\n",
      "Epoch 125: | Train Loss: 0.00868 | Test Loss: 0.15363\n",
      "Epoch 126: | Train Loss: 0.00775 | Test Loss: 0.15397\n",
      "Epoch 127: | Train Loss: 0.00716 | Test Loss: 0.15480\n",
      "Epoch 128: | Train Loss: 0.00758 | Test Loss: 0.02259\n",
      "Epoch 129: | Train Loss: 0.00847 | Test Loss: 0.15900\n",
      "Epoch 130: | Train Loss: 0.04584 | Test Loss: 0.17053\n",
      "Epoch 131: | Train Loss: 0.14742 | Test Loss: 0.04095\n",
      "Epoch 132: | Train Loss: 0.15295 | Test Loss: 0.31963\n",
      "Epoch 133: | Train Loss: 0.12829 | Test Loss: 0.17023\n",
      "Epoch 134: | Train Loss: 0.02103 | Test Loss: 0.16897\n",
      "Epoch 135: | Train Loss: 0.02068 | Test Loss: 0.04584\n",
      "Epoch 136: | Train Loss: 0.03777 | Test Loss: 0.02443\n",
      "Epoch 137: | Train Loss: 0.01324 | Test Loss: 0.02376\n",
      "Epoch 138: | Train Loss: 0.01143 | Test Loss: 0.02344\n",
      "Epoch 139: | Train Loss: 0.01022 | Test Loss: 0.02320\n",
      "Epoch 140: | Train Loss: 0.00924 | Test Loss: 0.09427\n",
      "Epoch 141: | Train Loss: 0.00830 | Test Loss: 0.23732\n",
      "Epoch 142: | Train Loss: 0.01490 | Test Loss: 0.10418\n",
      "Epoch 143: | Train Loss: 0.00974 | Test Loss: 0.02583\n",
      "Epoch 144: | Train Loss: 0.00809 | Test Loss: 0.15558\n",
      "Epoch 145: | Train Loss: 0.00727 | Test Loss: 0.15747\n",
      "Epoch 146: | Train Loss: 0.02169 | Test Loss: 0.03875\n",
      "Epoch 147: | Train Loss: 0.00845 | Test Loss: 0.17851\n",
      "Epoch 148: | Train Loss: 0.00981 | Test Loss: 0.10361\n",
      "Epoch 149: | Train Loss: 0.00811 | Test Loss: 0.15710\n",
      "Epoch 150: | Train Loss: 0.01873 | Test Loss: 0.07464\n",
      "Epoch 151: | Train Loss: 0.07241 | Test Loss: 0.11129\n",
      "Epoch 152: | Train Loss: 0.01002 | Test Loss: 0.23290\n"
     ]
    },
    {
     "name": "stdout",
     "output_type": "stream",
     "text": [
      "Epoch 153: | Train Loss: 0.00877 | Test Loss: 0.03070\n",
      "Epoch 154: | Train Loss: 0.03032 | Test Loss: 0.10702\n",
      "Epoch 155: | Train Loss: 0.01342 | Test Loss: 0.10520\n",
      "Epoch 156: | Train Loss: 0.00915 | Test Loss: 0.09604\n",
      "Epoch 157: | Train Loss: 0.03967 | Test Loss: 0.17337\n",
      "Epoch 158: | Train Loss: 0.03809 | Test Loss: 0.15920\n",
      "Epoch 159: | Train Loss: 0.00729 | Test Loss: 0.25404\n",
      "Epoch 160: | Train Loss: 0.03963 | Test Loss: 0.15583\n",
      "Epoch 161: | Train Loss: 0.03741 | Test Loss: 0.09418\n",
      "Epoch 162: | Train Loss: 0.06149 | Test Loss: 0.03346\n",
      "Epoch 163: | Train Loss: 0.01629 | Test Loss: 0.02771\n",
      "Epoch 164: | Train Loss: 0.01170 | Test Loss: 0.02518\n",
      "Epoch 165: | Train Loss: 0.00819 | Test Loss: 0.02192\n",
      "Epoch 166: | Train Loss: 0.00782 | Test Loss: 0.09501\n",
      "Epoch 167: | Train Loss: 0.00758 | Test Loss: 0.02192\n",
      "Epoch 168: | Train Loss: 0.00927 | Test Loss: 0.09426\n",
      "Epoch 169: | Train Loss: 0.00692 | Test Loss: 0.16211\n",
      "Epoch 170: | Train Loss: 0.01062 | Test Loss: 0.23857\n",
      "Epoch 171: | Train Loss: 0.00663 | Test Loss: 0.01785\n",
      "Epoch 172: | Train Loss: 0.00801 | Test Loss: 0.09423\n",
      "Epoch 173: | Train Loss: 0.01015 | Test Loss: 0.02082\n",
      "Epoch 174: | Train Loss: 0.01100 | Test Loss: 0.09305\n",
      "Epoch 175: | Train Loss: 0.10668 | Test Loss: 0.10812\n",
      "Epoch 176: | Train Loss: 0.00841 | Test Loss: 0.01705\n",
      "Epoch 177: | Train Loss: 0.01571 | Test Loss: 0.10605\n",
      "Epoch 178: | Train Loss: 0.07530 | Test Loss: 0.03926\n",
      "Epoch 179: | Train Loss: 0.01329 | Test Loss: 0.11132\n",
      "Epoch 180: | Train Loss: 0.00868 | Test Loss: 0.37704\n",
      "Epoch 181: | Train Loss: 0.00866 | Test Loss: 0.09225\n",
      "Epoch 182: | Train Loss: 0.00771 | Test Loss: 0.05181\n",
      "Epoch 183: | Train Loss: 0.07874 | Test Loss: 0.25758\n",
      "Epoch 184: | Train Loss: 0.01341 | Test Loss: 0.40141\n",
      "Epoch 185: | Train Loss: 0.21546 | Test Loss: 0.51263\n",
      "Epoch 186: | Train Loss: 0.11326 | Test Loss: 0.04380\n",
      "Epoch 187: | Train Loss: 0.11221 | Test Loss: 0.10079\n",
      "Epoch 188: | Train Loss: 0.10593 | Test Loss: 0.23977\n",
      "Epoch 189: | Train Loss: 0.08052 | Test Loss: 0.16900\n",
      "Epoch 190: | Train Loss: 0.13841 | Test Loss: 0.11214\n",
      "Epoch 191: | Train Loss: 0.01881 | Test Loss: 0.16974\n",
      "Epoch 192: | Train Loss: 0.01464 | Test Loss: 0.02265\n",
      "Epoch 193: | Train Loss: 0.01001 | Test Loss: 0.09342\n",
      "Epoch 194: | Train Loss: 0.00902 | Test Loss: 0.09436\n",
      "Epoch 195: | Train Loss: 0.00806 | Test Loss: 0.15586\n",
      "Epoch 196: | Train Loss: 0.03856 | Test Loss: 0.09298\n",
      "Epoch 197: | Train Loss: 0.10342 | Test Loss: 0.09774\n",
      "Epoch 198: | Train Loss: 0.02917 | Test Loss: 0.02702\n",
      "Epoch 199: | Train Loss: 0.01837 | Test Loss: 0.09459\n",
      "Epoch 200: | Train Loss: 0.01181 | Test Loss: 0.09424\n",
      "stats of l2reg of  0.01 are [0.99769 0.99621 0.01031 0.04775]\n",
      "running reg of 0.03\n",
      "Begin training.\n"
     ]
    },
    {
     "data": {
      "application/vnd.jupyter.widget-view+json": {
       "model_id": "0cb248a7a7cf4ff2a91467c5a648c2d4",
       "version_major": 2,
       "version_minor": 0
      },
      "text/plain": [
       "  0%|          | 0/200 [00:00<?, ?it/s]"
      ]
     },
     "metadata": {},
     "output_type": "display_data"
    },
    {
     "name": "stdout",
     "output_type": "stream",
     "text": [
      "Epoch 001: | Train Loss: 0.50208 | Test Loss: 0.22772\n",
      "Epoch 002: | Train Loss: 0.38567 | Test Loss: 0.22018\n",
      "Epoch 003: | Train Loss: 0.32196 | Test Loss: 0.27564\n",
      "Epoch 004: | Train Loss: 0.35685 | Test Loss: 0.23614\n",
      "Epoch 005: | Train Loss: 0.29868 | Test Loss: 0.26162\n",
      "Epoch 006: | Train Loss: 0.29487 | Test Loss: 0.24230\n",
      "Epoch 007: | Train Loss: 0.24799 | Test Loss: 0.20436\n",
      "Epoch 008: | Train Loss: 0.23394 | Test Loss: 0.19863\n",
      "Epoch 009: | Train Loss: 0.25946 | Test Loss: 0.19634\n",
      "Epoch 010: | Train Loss: 0.26857 | Test Loss: 0.18864\n",
      "Epoch 011: | Train Loss: 0.22847 | Test Loss: 0.19700\n",
      "Epoch 012: | Train Loss: 0.20773 | Test Loss: 0.19635\n",
      "Epoch 013: | Train Loss: 0.22087 | Test Loss: 0.19079\n",
      "Epoch 014: | Train Loss: 0.18329 | Test Loss: 0.25871\n",
      "Epoch 015: | Train Loss: 0.16624 | Test Loss: 0.19350\n",
      "Epoch 016: | Train Loss: 0.15216 | Test Loss: 0.19475\n",
      "Epoch 017: | Train Loss: 0.16510 | Test Loss: 0.19280\n",
      "Epoch 018: | Train Loss: 0.19382 | Test Loss: 0.18624\n",
      "Epoch 019: | Train Loss: 0.26244 | Test Loss: 0.19094\n",
      "Epoch 020: | Train Loss: 0.12861 | Test Loss: 0.18375\n",
      "Epoch 021: | Train Loss: 0.12571 | Test Loss: 0.18478\n",
      "Epoch 022: | Train Loss: 0.12519 | Test Loss: 0.12833\n",
      "Epoch 023: | Train Loss: 0.14250 | Test Loss: 0.18347\n",
      "Epoch 024: | Train Loss: 0.09202 | Test Loss: 0.12239\n",
      "Epoch 025: | Train Loss: 0.09515 | Test Loss: 0.25019\n",
      "Epoch 026: | Train Loss: 0.14295 | Test Loss: 0.19710\n",
      "Epoch 027: | Train Loss: 0.10441 | Test Loss: 0.17399\n",
      "Epoch 028: | Train Loss: 0.09011 | Test Loss: 0.17387\n",
      "Epoch 029: | Train Loss: 0.08824 | Test Loss: 0.11405\n",
      "Epoch 030: | Train Loss: 0.14905 | Test Loss: 0.12523\n",
      "Epoch 031: | Train Loss: 0.15760 | Test Loss: 0.19660\n",
      "Epoch 032: | Train Loss: 0.22063 | Test Loss: 0.24506\n",
      "Epoch 033: | Train Loss: 0.21175 | Test Loss: 0.20324\n",
      "Epoch 034: | Train Loss: 0.21123 | Test Loss: 0.12881\n",
      "Epoch 035: | Train Loss: 0.13695 | Test Loss: 0.18091\n",
      "Epoch 036: | Train Loss: 0.14808 | Test Loss: 0.16480\n",
      "Epoch 037: | Train Loss: 0.07178 | Test Loss: 0.17620\n",
      "Epoch 038: | Train Loss: 0.06401 | Test Loss: 0.17253\n",
      "Epoch 039: | Train Loss: 0.05310 | Test Loss: 0.10882\n",
      "Epoch 040: | Train Loss: 0.05294 | Test Loss: 0.11551\n",
      "Epoch 041: | Train Loss: 0.10891 | Test Loss: 0.11193\n",
      "Epoch 042: | Train Loss: 0.06643 | Test Loss: 0.16809\n",
      "Epoch 043: | Train Loss: 0.05312 | Test Loss: 0.10347\n",
      "Epoch 044: | Train Loss: 0.05840 | Test Loss: 0.10035\n",
      "Epoch 045: | Train Loss: 0.04792 | Test Loss: 0.09952\n",
      "Epoch 046: | Train Loss: 0.04795 | Test Loss: 0.10514\n",
      "Epoch 047: | Train Loss: 0.04905 | Test Loss: 0.09347\n",
      "Epoch 048: | Train Loss: 0.05171 | Test Loss: 0.09678\n",
      "Epoch 049: | Train Loss: 0.04803 | Test Loss: 0.09640\n",
      "Epoch 050: | Train Loss: 0.15621 | Test Loss: 0.17240\n",
      "Epoch 051: | Train Loss: 0.08750 | Test Loss: 0.17682\n",
      "Epoch 052: | Train Loss: 0.05462 | Test Loss: 0.11029\n",
      "Epoch 053: | Train Loss: 0.05076 | Test Loss: 0.09822\n",
      "Epoch 054: | Train Loss: 0.06894 | Test Loss: 0.10579\n",
      "Epoch 055: | Train Loss: 0.04923 | Test Loss: 0.09386\n",
      "Epoch 056: | Train Loss: 0.04724 | Test Loss: 0.09628\n",
      "Epoch 057: | Train Loss: 0.04848 | Test Loss: 0.10161\n",
      "Epoch 058: | Train Loss: 0.05286 | Test Loss: 0.10117\n",
      "Epoch 059: | Train Loss: 0.04557 | Test Loss: 0.10350\n",
      "Epoch 060: | Train Loss: 0.04663 | Test Loss: 0.10315\n",
      "Epoch 061: | Train Loss: 0.07030 | Test Loss: 0.09856\n",
      "Epoch 062: | Train Loss: 0.09092 | Test Loss: 0.11038\n",
      "Epoch 063: | Train Loss: 0.07797 | Test Loss: 0.09857\n",
      "Epoch 064: | Train Loss: 0.07673 | Test Loss: 0.09071\n",
      "Epoch 065: | Train Loss: 0.08455 | Test Loss: 0.22494\n",
      "Epoch 066: | Train Loss: 0.06489 | Test Loss: 0.10048\n",
      "Epoch 067: | Train Loss: 0.04640 | Test Loss: 0.10388\n",
      "Epoch 068: | Train Loss: 0.04778 | Test Loss: 0.09264\n",
      "Epoch 069: | Train Loss: 0.04595 | Test Loss: 0.09707\n",
      "Epoch 070: | Train Loss: 0.07038 | Test Loss: 0.11608\n",
      "Epoch 071: | Train Loss: 0.05334 | Test Loss: 0.09812\n",
      "Epoch 072: | Train Loss: 0.04853 | Test Loss: 0.09615\n",
      "Epoch 073: | Train Loss: 0.04488 | Test Loss: 0.09414\n",
      "Epoch 074: | Train Loss: 0.08262 | Test Loss: 0.09765\n",
      "Epoch 075: | Train Loss: 0.05867 | Test Loss: 0.16423\n",
      "Epoch 076: | Train Loss: 0.05561 | Test Loss: 0.10379\n",
      "Epoch 077: | Train Loss: 0.04616 | Test Loss: 0.09287\n",
      "Epoch 078: | Train Loss: 0.07895 | Test Loss: 0.14720\n",
      "Epoch 079: | Train Loss: 0.05457 | Test Loss: 0.09749\n",
      "Epoch 080: | Train Loss: 0.10566 | Test Loss: 0.18592\n",
      "Epoch 081: | Train Loss: 0.05783 | Test Loss: 0.16987\n",
      "Epoch 082: | Train Loss: 0.05118 | Test Loss: 0.10066\n",
      "Epoch 083: | Train Loss: 0.05058 | Test Loss: 0.10245\n",
      "Epoch 084: | Train Loss: 0.04715 | Test Loss: 0.10152\n",
      "Epoch 085: | Train Loss: 0.04531 | Test Loss: 0.09903\n",
      "Epoch 086: | Train Loss: 0.04581 | Test Loss: 0.09403\n",
      "Epoch 087: | Train Loss: 0.04533 | Test Loss: 0.15969\n",
      "Epoch 088: | Train Loss: 0.04721 | Test Loss: 0.06963\n",
      "Epoch 089: | Train Loss: 0.04850 | Test Loss: 0.09245\n",
      "Epoch 090: | Train Loss: 0.04370 | Test Loss: 0.09346\n",
      "Epoch 091: | Train Loss: 0.04541 | Test Loss: 0.09011\n",
      "Epoch 092: | Train Loss: 0.06965 | Test Loss: 0.12913\n",
      "Epoch 093: | Train Loss: 0.10254 | Test Loss: 0.20785\n",
      "Epoch 094: | Train Loss: 0.06878 | Test Loss: 0.17286\n",
      "Epoch 095: | Train Loss: 0.04700 | Test Loss: 0.16630\n",
      "Epoch 096: | Train Loss: 0.04585 | Test Loss: 0.16175\n",
      "Epoch 097: | Train Loss: 0.07825 | Test Loss: 0.12571\n",
      "Epoch 098: | Train Loss: 0.09663 | Test Loss: 0.18258\n",
      "Epoch 099: | Train Loss: 0.05310 | Test Loss: 0.10550\n",
      "Epoch 100: | Train Loss: 0.04561 | Test Loss: 0.10286\n",
      "Epoch 101: | Train Loss: 0.04500 | Test Loss: 0.10043\n",
      "Epoch 102: | Train Loss: 0.06200 | Test Loss: 0.14277\n",
      "Epoch 103: | Train Loss: 0.06294 | Test Loss: 0.10215\n",
      "Epoch 104: | Train Loss: 0.04629 | Test Loss: 0.09231\n",
      "Epoch 105: | Train Loss: 0.04518 | Test Loss: 0.10113\n",
      "Epoch 106: | Train Loss: 0.04451 | Test Loss: 0.10072\n",
      "Epoch 107: | Train Loss: 0.04506 | Test Loss: 0.10385\n",
      "Epoch 108: | Train Loss: 0.04460 | Test Loss: 0.09003\n",
      "Epoch 109: | Train Loss: 0.04464 | Test Loss: 0.09630\n",
      "Epoch 110: | Train Loss: 0.06317 | Test Loss: 0.17521\n",
      "Epoch 111: | Train Loss: 0.11734 | Test Loss: 0.09617\n",
      "Epoch 112: | Train Loss: 0.08147 | Test Loss: 0.09797\n",
      "Epoch 113: | Train Loss: 0.07592 | Test Loss: 0.09055\n",
      "Epoch 114: | Train Loss: 0.04719 | Test Loss: 0.09039\n",
      "Epoch 115: | Train Loss: 0.07422 | Test Loss: 0.09223\n",
      "Epoch 116: | Train Loss: 0.08822 | Test Loss: 0.03642\n",
      "Epoch 117: | Train Loss: 0.10204 | Test Loss: 0.14849\n",
      "Epoch 118: | Train Loss: 0.09384 | Test Loss: 0.10390\n",
      "Epoch 119: | Train Loss: 0.11442 | Test Loss: 0.10183\n",
      "Epoch 120: | Train Loss: 0.04662 | Test Loss: 0.09327\n",
      "Epoch 121: | Train Loss: 0.07724 | Test Loss: 0.09418\n",
      "Epoch 122: | Train Loss: 0.09553 | Test Loss: 0.09171\n",
      "Epoch 123: | Train Loss: 0.09569 | Test Loss: 0.09089\n",
      "Epoch 124: | Train Loss: 0.09797 | Test Loss: 0.10948\n",
      "Epoch 125: | Train Loss: 0.29282 | Test Loss: 0.32242\n",
      "Epoch 126: | Train Loss: 0.15196 | Test Loss: 0.13113\n",
      "Epoch 127: | Train Loss: 0.11652 | Test Loss: 0.11150\n",
      "Epoch 128: | Train Loss: 0.06400 | Test Loss: 0.10655\n",
      "Epoch 129: | Train Loss: 0.04840 | Test Loss: 0.09994\n",
      "Epoch 130: | Train Loss: 0.12650 | Test Loss: 0.19160\n",
      "Epoch 131: | Train Loss: 0.09639 | Test Loss: 0.12280\n",
      "Epoch 132: | Train Loss: 0.05301 | Test Loss: 0.10869\n",
      "Epoch 133: | Train Loss: 0.04775 | Test Loss: 0.17367\n",
      "Epoch 134: | Train Loss: 0.06805 | Test Loss: 0.28203\n",
      "Epoch 135: | Train Loss: 0.04718 | Test Loss: 0.16487\n",
      "Epoch 136: | Train Loss: 0.04330 | Test Loss: 0.10258\n",
      "Epoch 137: | Train Loss: 0.04402 | Test Loss: 0.09510\n",
      "Epoch 138: | Train Loss: 0.05195 | Test Loss: 0.10958\n",
      "Epoch 139: | Train Loss: 0.04908 | Test Loss: 0.09231\n",
      "Epoch 140: | Train Loss: 0.07273 | Test Loss: 0.11801\n",
      "Epoch 141: | Train Loss: 0.05364 | Test Loss: 0.10186\n",
      "Epoch 142: | Train Loss: 0.04744 | Test Loss: 0.09315\n",
      "Epoch 143: | Train Loss: 0.04316 | Test Loss: 0.09129\n",
      "Epoch 144: | Train Loss: 0.04729 | Test Loss: 0.09330\n",
      "Epoch 145: | Train Loss: 0.04326 | Test Loss: 0.09196\n",
      "Epoch 146: | Train Loss: 0.04356 | Test Loss: 0.09178\n",
      "Epoch 147: | Train Loss: 0.04765 | Test Loss: 0.09273\n",
      "Epoch 148: | Train Loss: 0.06244 | Test Loss: 0.19744\n",
      "Epoch 149: | Train Loss: 0.05136 | Test Loss: 0.09576\n",
      "Epoch 150: | Train Loss: 0.04898 | Test Loss: 0.09778\n",
      "Epoch 151: | Train Loss: 0.05096 | Test Loss: 0.19122\n",
      "Epoch 152: | Train Loss: 0.09310 | Test Loss: 0.09568\n"
     ]
    },
    {
     "name": "stdout",
     "output_type": "stream",
     "text": [
      "Epoch 153: | Train Loss: 0.04814 | Test Loss: 0.19714\n",
      "Epoch 154: | Train Loss: 0.04711 | Test Loss: 0.10181\n",
      "Epoch 155: | Train Loss: 0.10965 | Test Loss: 0.10696\n",
      "Epoch 156: | Train Loss: 0.04934 | Test Loss: 0.09201\n",
      "Epoch 157: | Train Loss: 0.04444 | Test Loss: 0.09773\n",
      "Epoch 158: | Train Loss: 0.04279 | Test Loss: 0.09028\n",
      "Epoch 159: | Train Loss: 0.06368 | Test Loss: 0.09026\n",
      "Epoch 160: | Train Loss: 0.04250 | Test Loss: 0.08944\n",
      "Epoch 161: | Train Loss: 0.18528 | Test Loss: 0.27901\n",
      "Epoch 162: | Train Loss: 0.07768 | Test Loss: 0.12008\n",
      "Epoch 163: | Train Loss: 0.06010 | Test Loss: 0.10595\n",
      "Epoch 164: | Train Loss: 0.05077 | Test Loss: 0.09855\n",
      "Epoch 165: | Train Loss: 0.05481 | Test Loss: 0.09738\n",
      "Epoch 166: | Train Loss: 0.04463 | Test Loss: 0.10231\n",
      "Epoch 167: | Train Loss: 0.04327 | Test Loss: 0.10132\n",
      "Epoch 168: | Train Loss: 0.04273 | Test Loss: 0.09445\n",
      "Epoch 169: | Train Loss: 0.04816 | Test Loss: 0.11420\n",
      "Epoch 170: | Train Loss: 0.04825 | Test Loss: 0.09323\n",
      "Epoch 171: | Train Loss: 0.04507 | Test Loss: 0.09011\n",
      "Epoch 172: | Train Loss: 0.04700 | Test Loss: 0.09167\n",
      "Epoch 173: | Train Loss: 0.04870 | Test Loss: 0.09086\n",
      "Epoch 174: | Train Loss: 0.04558 | Test Loss: 0.08971\n",
      "Epoch 175: | Train Loss: 0.07259 | Test Loss: 0.08888\n",
      "Epoch 176: | Train Loss: 0.08259 | Test Loss: 0.16284\n",
      "Epoch 177: | Train Loss: 0.16843 | Test Loss: 0.24191\n",
      "Epoch 178: | Train Loss: 0.07322 | Test Loss: 0.18153\n",
      "Epoch 179: | Train Loss: 0.08155 | Test Loss: 0.16540\n",
      "Epoch 180: | Train Loss: 0.13759 | Test Loss: 0.16201\n",
      "Epoch 181: | Train Loss: 0.14096 | Test Loss: 0.17501\n",
      "Epoch 182: | Train Loss: 0.10543 | Test Loss: 0.17485\n",
      "Epoch 183: | Train Loss: 0.06120 | Test Loss: 0.10399\n",
      "Epoch 184: | Train Loss: 0.04944 | Test Loss: 0.16611\n",
      "Epoch 185: | Train Loss: 0.04600 | Test Loss: 0.09996\n",
      "Epoch 186: | Train Loss: 0.04509 | Test Loss: 0.11037\n",
      "Epoch 187: | Train Loss: 0.04609 | Test Loss: 0.09725\n",
      "Epoch 188: | Train Loss: 0.06181 | Test Loss: 0.17956\n",
      "Epoch 189: | Train Loss: 0.12317 | Test Loss: 0.12756\n",
      "Epoch 190: | Train Loss: 0.05460 | Test Loss: 0.10770\n",
      "Epoch 191: | Train Loss: 0.04735 | Test Loss: 0.10325\n",
      "Epoch 192: | Train Loss: 0.06320 | Test Loss: 0.10654\n",
      "Epoch 193: | Train Loss: 0.04953 | Test Loss: 0.09783\n",
      "Epoch 194: | Train Loss: 0.04655 | Test Loss: 0.09197\n",
      "Epoch 195: | Train Loss: 0.04456 | Test Loss: 0.09031\n",
      "Epoch 196: | Train Loss: 0.04592 | Test Loss: 0.09140\n",
      "Epoch 197: | Train Loss: 0.06400 | Test Loss: 0.06032\n",
      "Epoch 198: | Train Loss: 0.05078 | Test Loss: 0.09233\n",
      "Epoch 199: | Train Loss: 0.04546 | Test Loss: 0.09063\n",
      "Epoch 200: | Train Loss: 0.04385 | Test Loss: 0.08994\n",
      "stats of l2reg of  0.03 are [0.99815 0.99567 0.02302 0.04345]\n",
      "running reg of 0.1\n",
      "Begin training.\n"
     ]
    },
    {
     "data": {
      "application/vnd.jupyter.widget-view+json": {
       "model_id": "72eb1703eef244ee9c193db6c1171342",
       "version_major": 2,
       "version_minor": 0
      },
      "text/plain": [
       "  0%|          | 0/200 [00:00<?, ?it/s]"
      ]
     },
     "metadata": {},
     "output_type": "display_data"
    },
    {
     "name": "stdout",
     "output_type": "stream",
     "text": [
      "Epoch 001: | Train Loss: 0.62747 | Test Loss: 0.45897\n",
      "Epoch 002: | Train Loss: 0.38385 | Test Loss: 0.52400\n",
      "Epoch 003: | Train Loss: 0.34119 | Test Loss: 0.43031\n",
      "Epoch 004: | Train Loss: 0.25252 | Test Loss: 0.28517\n",
      "Epoch 005: | Train Loss: 0.23765 | Test Loss: 0.33763\n",
      "Epoch 006: | Train Loss: 0.21365 | Test Loss: 0.26875\n",
      "Epoch 007: | Train Loss: 0.24759 | Test Loss: 0.27099\n",
      "Epoch 008: | Train Loss: 0.23443 | Test Loss: 0.26912\n",
      "Epoch 009: | Train Loss: 0.18569 | Test Loss: 0.28670\n",
      "Epoch 010: | Train Loss: 0.22101 | Test Loss: 0.28798\n",
      "Epoch 011: | Train Loss: 0.19681 | Test Loss: 0.26033\n",
      "Epoch 012: | Train Loss: 0.20039 | Test Loss: 0.22632\n",
      "Epoch 013: | Train Loss: 0.19533 | Test Loss: 0.14727\n",
      "Epoch 014: | Train Loss: 0.17210 | Test Loss: 0.25373\n",
      "Epoch 015: | Train Loss: 0.25071 | Test Loss: 0.28048\n",
      "Epoch 016: | Train Loss: 0.20432 | Test Loss: 0.26740\n",
      "Epoch 017: | Train Loss: 0.18886 | Test Loss: 0.27490\n",
      "Epoch 018: | Train Loss: 0.21968 | Test Loss: 0.26797\n",
      "Epoch 019: | Train Loss: 0.23454 | Test Loss: 0.25252\n",
      "Epoch 020: | Train Loss: 0.18545 | Test Loss: 0.22782\n",
      "Epoch 021: | Train Loss: 0.29716 | Test Loss: 0.26617\n",
      "Epoch 022: | Train Loss: 0.24083 | Test Loss: 0.23589\n",
      "Epoch 023: | Train Loss: 0.16509 | Test Loss: 0.25414\n",
      "Epoch 024: | Train Loss: 0.22489 | Test Loss: 0.33922\n",
      "Epoch 025: | Train Loss: 0.20000 | Test Loss: 0.26100\n",
      "Epoch 026: | Train Loss: 0.18525 | Test Loss: 0.26123\n",
      "Epoch 027: | Train Loss: 0.16701 | Test Loss: 0.25059\n",
      "Epoch 028: | Train Loss: 0.13690 | Test Loss: 0.19083\n",
      "Epoch 029: | Train Loss: 0.16391 | Test Loss: 0.18697\n",
      "Epoch 030: | Train Loss: 0.20936 | Test Loss: 0.25736\n",
      "Epoch 031: | Train Loss: 0.17406 | Test Loss: 0.25429\n",
      "Epoch 032: | Train Loss: 0.15640 | Test Loss: 0.28040\n",
      "Epoch 033: | Train Loss: 0.12109 | Test Loss: 0.20219\n",
      "Epoch 034: | Train Loss: 0.13691 | Test Loss: 0.17684\n",
      "Epoch 035: | Train Loss: 0.11241 | Test Loss: 0.33328\n",
      "Epoch 036: | Train Loss: 0.14827 | Test Loss: 0.19606\n",
      "Epoch 037: | Train Loss: 0.10338 | Test Loss: 0.18095\n",
      "Epoch 038: | Train Loss: 0.10059 | Test Loss: 0.18065\n",
      "Epoch 039: | Train Loss: 0.13672 | Test Loss: 0.15224\n",
      "Epoch 040: | Train Loss: 0.11693 | Test Loss: 0.26658\n",
      "Epoch 041: | Train Loss: 0.11036 | Test Loss: 0.19823\n",
      "Epoch 042: | Train Loss: 0.11287 | Test Loss: 0.35621\n",
      "Epoch 043: | Train Loss: 0.11446 | Test Loss: 0.18388\n",
      "Epoch 044: | Train Loss: 0.10555 | Test Loss: 0.18020\n",
      "Epoch 045: | Train Loss: 0.09936 | Test Loss: 0.12368\n",
      "Epoch 046: | Train Loss: 0.10052 | Test Loss: 0.12856\n",
      "Epoch 047: | Train Loss: 0.15381 | Test Loss: 0.19559\n",
      "Epoch 048: | Train Loss: 0.10753 | Test Loss: 0.18968\n",
      "Epoch 049: | Train Loss: 0.10375 | Test Loss: 0.13152\n",
      "Epoch 050: | Train Loss: 0.13322 | Test Loss: 0.25157\n",
      "Epoch 051: | Train Loss: 0.11294 | Test Loss: 0.17874\n",
      "Epoch 052: | Train Loss: 0.12941 | Test Loss: 0.18041\n",
      "Epoch 053: | Train Loss: 0.12725 | Test Loss: 0.11635\n",
      "Epoch 054: | Train Loss: 0.16451 | Test Loss: 0.13807\n",
      "Epoch 055: | Train Loss: 0.18926 | Test Loss: 0.11681\n",
      "Epoch 056: | Train Loss: 0.16442 | Test Loss: 0.97713\n",
      "Epoch 057: | Train Loss: 0.21601 | Test Loss: 0.25548\n",
      "Epoch 058: | Train Loss: 0.16715 | Test Loss: 0.18862\n",
      "Epoch 059: | Train Loss: 0.10586 | Test Loss: 0.18700\n",
      "Epoch 060: | Train Loss: 0.10066 | Test Loss: 0.19114\n",
      "Epoch 061: | Train Loss: 0.16162 | Test Loss: 0.19170\n",
      "Epoch 062: | Train Loss: 0.11434 | Test Loss: 0.18670\n",
      "Epoch 063: | Train Loss: 0.10798 | Test Loss: 0.18750\n",
      "Epoch 064: | Train Loss: 0.14462 | Test Loss: 0.21214\n",
      "Epoch 065: | Train Loss: 0.13453 | Test Loss: 0.18104\n",
      "Epoch 066: | Train Loss: 0.13134 | Test Loss: 0.11919\n",
      "Epoch 067: | Train Loss: 0.20387 | Test Loss: 0.18406\n",
      "Epoch 068: | Train Loss: 0.13265 | Test Loss: 0.18139\n",
      "Epoch 069: | Train Loss: 0.10576 | Test Loss: 0.14014\n",
      "Epoch 070: | Train Loss: 0.10083 | Test Loss: 0.18319\n",
      "Epoch 071: | Train Loss: 0.10283 | Test Loss: 0.12317\n",
      "Epoch 072: | Train Loss: 0.10381 | Test Loss: 0.17046\n",
      "Epoch 073: | Train Loss: 0.13079 | Test Loss: 0.25134\n",
      "Epoch 074: | Train Loss: 0.10494 | Test Loss: 0.17691\n",
      "Epoch 075: | Train Loss: 0.10866 | Test Loss: 0.17497\n",
      "Epoch 076: | Train Loss: 0.09711 | Test Loss: 0.17489\n",
      "Epoch 077: | Train Loss: 0.09853 | Test Loss: 0.17551\n",
      "Epoch 078: | Train Loss: 0.09642 | Test Loss: 0.11490\n",
      "Epoch 079: | Train Loss: 0.10033 | Test Loss: 0.13871\n",
      "Epoch 080: | Train Loss: 0.11343 | Test Loss: 0.14218\n",
      "Epoch 081: | Train Loss: 0.11018 | Test Loss: 0.12384\n",
      "Epoch 082: | Train Loss: 0.15088 | Test Loss: 0.18561\n",
      "Epoch 083: | Train Loss: 0.13183 | Test Loss: 0.17620\n",
      "Epoch 084: | Train Loss: 0.09836 | Test Loss: 0.17492\n",
      "Epoch 085: | Train Loss: 0.09747 | Test Loss: 0.17556\n",
      "Epoch 086: | Train Loss: 0.09748 | Test Loss: 0.11569\n",
      "Epoch 087: | Train Loss: 0.10085 | Test Loss: 0.11631\n",
      "Epoch 088: | Train Loss: 0.09669 | Test Loss: 0.11164\n",
      "Epoch 089: | Train Loss: 0.14883 | Test Loss: 0.11922\n",
      "Epoch 090: | Train Loss: 0.10445 | Test Loss: 0.17677\n",
      "Epoch 091: | Train Loss: 0.13711 | Test Loss: 0.18386\n",
      "Epoch 092: | Train Loss: 0.13263 | Test Loss: 0.11976\n",
      "Epoch 093: | Train Loss: 0.11931 | Test Loss: 0.12512\n",
      "Epoch 094: | Train Loss: 0.10517 | Test Loss: 0.12740\n",
      "Epoch 095: | Train Loss: 0.10254 | Test Loss: 0.12377\n",
      "Epoch 096: | Train Loss: 0.14687 | Test Loss: 0.30627\n",
      "Epoch 097: | Train Loss: 0.12218 | Test Loss: 0.18794\n",
      "Epoch 098: | Train Loss: 0.10132 | Test Loss: 0.17640\n",
      "Epoch 099: | Train Loss: 0.09737 | Test Loss: 0.17463\n",
      "Epoch 100: | Train Loss: 0.12560 | Test Loss: 0.11633\n",
      "Epoch 101: | Train Loss: 0.17606 | Test Loss: 0.31164\n",
      "Epoch 102: | Train Loss: 0.12995 | Test Loss: 0.13056\n",
      "Epoch 103: | Train Loss: 0.11023 | Test Loss: 0.12536\n",
      "Epoch 104: | Train Loss: 0.09809 | Test Loss: 0.11829\n",
      "Epoch 105: | Train Loss: 0.10283 | Test Loss: 0.17586\n",
      "Epoch 106: | Train Loss: 0.14624 | Test Loss: 0.14373\n",
      "Epoch 107: | Train Loss: 0.12522 | Test Loss: 0.18140\n",
      "Epoch 108: | Train Loss: 0.09825 | Test Loss: 0.17371\n",
      "Epoch 109: | Train Loss: 0.09927 | Test Loss: 0.11779\n",
      "Epoch 110: | Train Loss: 0.14904 | Test Loss: 0.16299\n",
      "Epoch 111: | Train Loss: 0.13305 | Test Loss: 0.14043\n",
      "Epoch 112: | Train Loss: 0.12725 | Test Loss: 0.11647\n",
      "Epoch 113: | Train Loss: 0.14247 | Test Loss: 0.16027\n",
      "Epoch 114: | Train Loss: 0.10156 | Test Loss: 0.12081\n",
      "Epoch 115: | Train Loss: 0.09703 | Test Loss: 0.11659\n",
      "Epoch 116: | Train Loss: 0.09674 | Test Loss: 0.11811\n",
      "Epoch 117: | Train Loss: 0.14935 | Test Loss: 0.12889\n",
      "Epoch 118: | Train Loss: 0.13232 | Test Loss: 0.21743\n",
      "Epoch 119: | Train Loss: 0.10534 | Test Loss: 0.17291\n",
      "Epoch 120: | Train Loss: 0.09780 | Test Loss: 0.12336\n",
      "Epoch 121: | Train Loss: 0.10496 | Test Loss: 0.11404\n",
      "Epoch 122: | Train Loss: 0.13668 | Test Loss: 0.17862\n",
      "Epoch 123: | Train Loss: 0.14030 | Test Loss: 0.12164\n",
      "Epoch 124: | Train Loss: 0.09769 | Test Loss: 0.11637\n",
      "Epoch 125: | Train Loss: 0.09633 | Test Loss: 0.11508\n",
      "Epoch 126: | Train Loss: 0.09793 | Test Loss: 0.13394\n",
      "Epoch 127: | Train Loss: 0.10211 | Test Loss: 0.12459\n",
      "Epoch 128: | Train Loss: 0.09730 | Test Loss: 0.11620\n",
      "Epoch 129: | Train Loss: 0.09672 | Test Loss: 0.11448\n",
      "Epoch 130: | Train Loss: 0.11628 | Test Loss: 0.11608\n",
      "Epoch 131: | Train Loss: 0.12047 | Test Loss: 0.19200\n",
      "Epoch 132: | Train Loss: 0.10512 | Test Loss: 0.15347\n",
      "Epoch 133: | Train Loss: 0.10926 | Test Loss: 0.12147\n",
      "Epoch 134: | Train Loss: 0.14225 | Test Loss: 0.21182\n",
      "Epoch 135: | Train Loss: 0.12858 | Test Loss: 0.11675\n",
      "Epoch 136: | Train Loss: 0.11255 | Test Loss: 0.39396\n",
      "Epoch 137: | Train Loss: 0.10196 | Test Loss: 0.18340\n",
      "Epoch 138: | Train Loss: 0.09968 | Test Loss: 0.12059\n",
      "Epoch 139: | Train Loss: 0.14490 | Test Loss: 0.13226\n",
      "Epoch 140: | Train Loss: 0.11010 | Test Loss: 0.12493\n",
      "Epoch 141: | Train Loss: 0.12131 | Test Loss: 0.17327\n",
      "Epoch 142: | Train Loss: 0.09971 | Test Loss: 0.18337\n",
      "Epoch 143: | Train Loss: 0.09746 | Test Loss: 0.11068\n",
      "Epoch 144: | Train Loss: 0.22894 | Test Loss: 0.18510\n",
      "Epoch 145: | Train Loss: 0.14025 | Test Loss: 0.18069\n",
      "Epoch 146: | Train Loss: 0.13281 | Test Loss: 0.18749\n",
      "Epoch 147: | Train Loss: 0.13333 | Test Loss: 0.18216\n",
      "Epoch 148: | Train Loss: 0.13325 | Test Loss: 0.11939\n",
      "Epoch 149: | Train Loss: 0.12704 | Test Loss: 0.11501\n",
      "Epoch 150: | Train Loss: 0.13175 | Test Loss: 0.12654\n",
      "Epoch 151: | Train Loss: 0.12688 | Test Loss: 0.11711\n",
      "Epoch 152: | Train Loss: 0.14390 | Test Loss: 0.14901\n"
     ]
    },
    {
     "name": "stdout",
     "output_type": "stream",
     "text": [
      "Epoch 153: | Train Loss: 0.14059 | Test Loss: 0.13123\n",
      "Epoch 154: | Train Loss: 0.14036 | Test Loss: 0.13229\n",
      "Epoch 155: | Train Loss: 0.12720 | Test Loss: 0.11973\n",
      "Epoch 156: | Train Loss: 0.12343 | Test Loss: 0.24774\n",
      "Epoch 157: | Train Loss: 0.12625 | Test Loss: 0.18801\n",
      "Epoch 158: | Train Loss: 0.09680 | Test Loss: 0.12007\n",
      "Epoch 159: | Train Loss: 0.10175 | Test Loss: 0.11007\n",
      "Epoch 160: | Train Loss: 0.09664 | Test Loss: 0.11429\n",
      "Epoch 161: | Train Loss: 0.13310 | Test Loss: 0.11339\n",
      "Epoch 162: | Train Loss: 0.10122 | Test Loss: 0.11031\n",
      "Epoch 163: | Train Loss: 0.10180 | Test Loss: 0.11550\n",
      "Epoch 164: | Train Loss: 0.09739 | Test Loss: 0.11143\n",
      "Epoch 165: | Train Loss: 0.09542 | Test Loss: 0.11122\n",
      "Epoch 166: | Train Loss: 0.09532 | Test Loss: 0.11109\n",
      "Epoch 167: | Train Loss: 0.09927 | Test Loss: 0.11483\n",
      "Epoch 168: | Train Loss: 0.15592 | Test Loss: 0.11316\n",
      "Epoch 169: | Train Loss: 0.15952 | Test Loss: 0.12989\n",
      "Epoch 170: | Train Loss: 0.15609 | Test Loss: 0.11682\n",
      "Epoch 171: | Train Loss: 0.16741 | Test Loss: 0.14223\n",
      "Epoch 172: | Train Loss: 0.14645 | Test Loss: 0.17250\n",
      "Epoch 173: | Train Loss: 0.12765 | Test Loss: 0.18013\n",
      "Epoch 174: | Train Loss: 0.18814 | Test Loss: 0.10811\n",
      "Epoch 175: | Train Loss: 0.18438 | Test Loss: 0.17931\n",
      "Epoch 176: | Train Loss: 0.12985 | Test Loss: 0.11665\n",
      "Epoch 177: | Train Loss: 0.10463 | Test Loss: 0.12533\n",
      "Epoch 178: | Train Loss: 0.12056 | Test Loss: 0.11762\n",
      "Epoch 179: | Train Loss: 0.09877 | Test Loss: 0.11509\n",
      "Epoch 180: | Train Loss: 0.12733 | Test Loss: 0.11696\n",
      "Epoch 181: | Train Loss: 0.08121 | Test Loss: 0.11931\n",
      "Epoch 182: | Train Loss: 0.10573 | Test Loss: 0.12719\n",
      "Epoch 183: | Train Loss: 0.10836 | Test Loss: 0.69528\n",
      "Epoch 184: | Train Loss: 0.10293 | Test Loss: 0.12264\n",
      "Epoch 185: | Train Loss: 0.18258 | Test Loss: 0.26416\n",
      "Epoch 186: | Train Loss: 0.16170 | Test Loss: 0.26827\n",
      "Epoch 187: | Train Loss: 0.11262 | Test Loss: 0.18046\n",
      "Epoch 188: | Train Loss: 0.11497 | Test Loss: 0.17594\n",
      "Epoch 189: | Train Loss: 0.09808 | Test Loss: 0.11715\n",
      "Epoch 190: | Train Loss: 0.12266 | Test Loss: 0.18640\n",
      "Epoch 191: | Train Loss: 0.13564 | Test Loss: 0.16581\n",
      "Epoch 192: | Train Loss: 0.07874 | Test Loss: 0.12563\n",
      "Epoch 193: | Train Loss: 0.09878 | Test Loss: 0.17032\n",
      "Epoch 194: | Train Loss: 0.08834 | Test Loss: 0.15618\n",
      "Epoch 195: | Train Loss: 0.06889 | Test Loss: 0.12026\n",
      "Epoch 196: | Train Loss: 0.06672 | Test Loss: 0.11922\n",
      "Epoch 197: | Train Loss: 0.06546 | Test Loss: 0.11672\n",
      "Epoch 198: | Train Loss: 0.06702 | Test Loss: 0.14348\n",
      "Epoch 199: | Train Loss: 0.06910 | Test Loss: 0.11398\n",
      "Epoch 200: | Train Loss: 0.14560 | Test Loss: 0.18396\n",
      "stats of l2reg of  0.1 are [0.99285 0.99351 0.06162 0.09098]\n",
      "running reg of 0.3\n",
      "Begin training.\n"
     ]
    },
    {
     "data": {
      "application/vnd.jupyter.widget-view+json": {
       "model_id": "5d96eca584854a06a7cc9d33018d9af9",
       "version_major": 2,
       "version_minor": 0
      },
      "text/plain": [
       "  0%|          | 0/200 [00:00<?, ?it/s]"
      ]
     },
     "metadata": {},
     "output_type": "display_data"
    },
    {
     "name": "stdout",
     "output_type": "stream",
     "text": [
      "Epoch 001: | Train Loss: 0.45730 | Test Loss: 0.16666\n",
      "Epoch 002: | Train Loss: 0.32455 | Test Loss: 0.16903\n",
      "Epoch 003: | Train Loss: 0.31439 | Test Loss: 0.30271\n",
      "Epoch 004: | Train Loss: 0.32351 | Test Loss: 0.16656\n",
      "Epoch 005: | Train Loss: 0.30550 | Test Loss: 0.16087\n",
      "Epoch 006: | Train Loss: 0.27120 | Test Loss: 0.18183\n",
      "Epoch 007: | Train Loss: 0.27367 | Test Loss: 0.17179\n",
      "Epoch 008: | Train Loss: 0.33744 | Test Loss: 0.23112\n",
      "Epoch 009: | Train Loss: 0.27998 | Test Loss: 0.17626\n",
      "Epoch 010: | Train Loss: 0.27771 | Test Loss: 0.17437\n",
      "Epoch 011: | Train Loss: 0.34378 | Test Loss: 0.17906\n",
      "Epoch 012: | Train Loss: 0.25838 | Test Loss: 0.17269\n",
      "Epoch 013: | Train Loss: 0.24220 | Test Loss: 0.18202\n",
      "Epoch 014: | Train Loss: 0.26870 | Test Loss: 0.15668\n",
      "Epoch 015: | Train Loss: 0.30024 | Test Loss: 0.18114\n",
      "Epoch 016: | Train Loss: 0.28063 | Test Loss: 0.17275\n",
      "Epoch 017: | Train Loss: 0.25637 | Test Loss: 0.16629\n",
      "Epoch 018: | Train Loss: 0.25866 | Test Loss: 0.18680\n",
      "Epoch 019: | Train Loss: 0.33035 | Test Loss: 0.16744\n",
      "Epoch 020: | Train Loss: 0.34081 | Test Loss: 0.17836\n",
      "Epoch 021: | Train Loss: 0.43668 | Test Loss: 0.20790\n",
      "Epoch 022: | Train Loss: 0.20132 | Test Loss: 0.17171\n",
      "Epoch 023: | Train Loss: 0.21164 | Test Loss: 0.18469\n",
      "Epoch 024: | Train Loss: 0.19765 | Test Loss: 0.20955\n",
      "Epoch 025: | Train Loss: 0.18858 | Test Loss: 0.16569\n",
      "Epoch 026: | Train Loss: 0.21287 | Test Loss: 0.18335\n",
      "Epoch 027: | Train Loss: 0.27270 | Test Loss: 0.16708\n",
      "Epoch 028: | Train Loss: 0.29632 | Test Loss: 0.16063\n",
      "Epoch 029: | Train Loss: 0.23413 | Test Loss: 0.16167\n",
      "Epoch 030: | Train Loss: 0.24727 | Test Loss: 0.17899\n",
      "Epoch 031: | Train Loss: 0.29445 | Test Loss: 0.16423\n",
      "Epoch 032: | Train Loss: 0.24928 | Test Loss: 0.25532\n",
      "Epoch 033: | Train Loss: 0.23052 | Test Loss: 0.16747\n",
      "Epoch 034: | Train Loss: 0.28468 | Test Loss: 0.16843\n",
      "Epoch 035: | Train Loss: 0.27069 | Test Loss: 0.17627\n",
      "Epoch 036: | Train Loss: 0.29749 | Test Loss: 0.16023\n",
      "Epoch 037: | Train Loss: 0.25121 | Test Loss: 0.16807\n",
      "Epoch 038: | Train Loss: 0.26616 | Test Loss: 0.16200\n",
      "Epoch 039: | Train Loss: 0.27332 | Test Loss: 0.16119\n",
      "Epoch 040: | Train Loss: 0.29004 | Test Loss: 0.17536\n",
      "Epoch 041: | Train Loss: 0.27596 | Test Loss: 0.20472\n",
      "Epoch 042: | Train Loss: 0.29750 | Test Loss: 0.16232\n",
      "Epoch 043: | Train Loss: 0.26949 | Test Loss: 0.18398\n",
      "Epoch 044: | Train Loss: 0.26579 | Test Loss: 0.20569\n",
      "Epoch 045: | Train Loss: 0.25143 | Test Loss: 0.25188\n",
      "Epoch 046: | Train Loss: 0.23834 | Test Loss: 0.17513\n",
      "Epoch 047: | Train Loss: 0.26004 | Test Loss: 0.17079\n",
      "Epoch 048: | Train Loss: 0.27899 | Test Loss: 0.17684\n",
      "Epoch 049: | Train Loss: 0.27006 | Test Loss: 0.15930\n",
      "Epoch 050: | Train Loss: 0.27103 | Test Loss: 0.17011\n",
      "Epoch 051: | Train Loss: 0.29128 | Test Loss: 0.17376\n",
      "Epoch 052: | Train Loss: 0.27453 | Test Loss: 0.16080\n",
      "Epoch 053: | Train Loss: 0.26466 | Test Loss: 0.15970\n",
      "Epoch 054: | Train Loss: 0.25247 | Test Loss: 0.16623\n",
      "Epoch 055: | Train Loss: 0.24071 | Test Loss: 0.22297\n",
      "Epoch 056: | Train Loss: 0.27555 | Test Loss: 0.19354\n",
      "Epoch 057: | Train Loss: 0.23978 | Test Loss: 0.16360\n",
      "Epoch 058: | Train Loss: 0.26386 | Test Loss: 0.16552\n",
      "Epoch 059: | Train Loss: 0.26562 | Test Loss: 0.16119\n",
      "Epoch 060: | Train Loss: 0.25234 | Test Loss: 0.15950\n",
      "Epoch 061: | Train Loss: 0.26471 | Test Loss: 0.16032\n",
      "Epoch 062: | Train Loss: 0.23292 | Test Loss: 0.16526\n",
      "Epoch 063: | Train Loss: 0.25075 | Test Loss: 0.17051\n",
      "Epoch 064: | Train Loss: 0.26512 | Test Loss: 0.15820\n",
      "Epoch 065: | Train Loss: 0.27070 | Test Loss: 0.17201\n",
      "Epoch 066: | Train Loss: 0.26609 | Test Loss: 0.16243\n",
      "Epoch 067: | Train Loss: 0.25976 | Test Loss: 0.16698\n",
      "Epoch 068: | Train Loss: 0.28197 | Test Loss: 0.19254\n",
      "Epoch 069: | Train Loss: 0.23030 | Test Loss: 0.17176\n",
      "Epoch 070: | Train Loss: 0.18233 | Test Loss: 0.16519\n",
      "Epoch 071: | Train Loss: 0.26549 | Test Loss: 0.17093\n",
      "Epoch 072: | Train Loss: 0.26517 | Test Loss: 0.15910\n",
      "Epoch 073: | Train Loss: 0.21849 | Test Loss: 0.16751\n",
      "Epoch 074: | Train Loss: 0.26796 | Test Loss: 0.16167\n",
      "Epoch 075: | Train Loss: 0.26282 | Test Loss: 0.15913\n",
      "Epoch 076: | Train Loss: 0.26207 | Test Loss: 0.16890\n",
      "Epoch 077: | Train Loss: 0.26555 | Test Loss: 0.15642\n",
      "Epoch 078: | Train Loss: 0.26560 | Test Loss: 0.15901\n",
      "Epoch 079: | Train Loss: 0.26443 | Test Loss: 0.16330\n",
      "Epoch 080: | Train Loss: 0.27141 | Test Loss: 0.16866\n",
      "Epoch 081: | Train Loss: 0.27007 | Test Loss: 0.18111\n",
      "Epoch 082: | Train Loss: 0.26791 | Test Loss: 0.16733\n",
      "Epoch 083: | Train Loss: 0.24887 | Test Loss: 0.15996\n",
      "Epoch 084: | Train Loss: 0.27155 | Test Loss: 0.17090\n",
      "Epoch 085: | Train Loss: 0.24954 | Test Loss: 0.15931\n",
      "Epoch 086: | Train Loss: 0.28236 | Test Loss: 0.15925\n",
      "Epoch 087: | Train Loss: 0.26535 | Test Loss: 0.16245\n",
      "Epoch 088: | Train Loss: 0.26449 | Test Loss: 0.16590\n",
      "Epoch 089: | Train Loss: 0.26256 | Test Loss: 0.15954\n",
      "Epoch 090: | Train Loss: 0.26596 | Test Loss: 0.17459\n",
      "Epoch 091: | Train Loss: 0.26272 | Test Loss: 0.16999\n",
      "Epoch 092: | Train Loss: 0.23497 | Test Loss: 0.19239\n",
      "Epoch 093: | Train Loss: 0.25407 | Test Loss: 0.16171\n",
      "Epoch 094: | Train Loss: 0.23871 | Test Loss: 0.21714\n",
      "Epoch 095: | Train Loss: 0.23081 | Test Loss: 0.17340\n",
      "Epoch 096: | Train Loss: 0.23321 | Test Loss: 0.16301\n",
      "Epoch 097: | Train Loss: 0.29336 | Test Loss: 0.17773\n",
      "Epoch 098: | Train Loss: 0.26558 | Test Loss: 0.15743\n",
      "Epoch 099: | Train Loss: 0.22061 | Test Loss: 0.16016\n",
      "Epoch 100: | Train Loss: 0.22802 | Test Loss: 0.18041\n",
      "Epoch 101: | Train Loss: 0.24569 | Test Loss: 0.18059\n",
      "Epoch 102: | Train Loss: 0.24004 | Test Loss: 0.19470\n",
      "Epoch 103: | Train Loss: 0.20995 | Test Loss: 0.17396\n",
      "Epoch 104: | Train Loss: 0.18678 | Test Loss: 0.18318\n",
      "Epoch 105: | Train Loss: 0.22655 | Test Loss: 0.18749\n",
      "Epoch 106: | Train Loss: 0.17483 | Test Loss: 0.17135\n",
      "Epoch 107: | Train Loss: 0.21021 | Test Loss: 0.16362\n",
      "Epoch 108: | Train Loss: 0.24571 | Test Loss: 0.17671\n",
      "Epoch 109: | Train Loss: 0.26675 | Test Loss: 0.16832\n",
      "Epoch 110: | Train Loss: 0.26340 | Test Loss: 0.16212\n",
      "Epoch 111: | Train Loss: 0.26265 | Test Loss: 0.16010\n",
      "Epoch 112: | Train Loss: 0.25992 | Test Loss: 0.16333\n",
      "Epoch 113: | Train Loss: 0.26530 | Test Loss: 0.16873\n",
      "Epoch 114: | Train Loss: 0.26341 | Test Loss: 0.17162\n",
      "Epoch 115: | Train Loss: 0.27498 | Test Loss: 0.16154\n",
      "Epoch 116: | Train Loss: 0.21340 | Test Loss: 0.15879\n",
      "Epoch 117: | Train Loss: 0.25985 | Test Loss: 0.15928\n",
      "Epoch 118: | Train Loss: 0.21242 | Test Loss: 0.18509\n",
      "Epoch 119: | Train Loss: 0.21513 | Test Loss: 0.22778\n",
      "Epoch 120: | Train Loss: 0.23808 | Test Loss: 0.16384\n",
      "Epoch 121: | Train Loss: 0.20126 | Test Loss: 0.16574\n",
      "Epoch 122: | Train Loss: 0.24195 | Test Loss: 0.16530\n",
      "Epoch 123: | Train Loss: 0.21191 | Test Loss: 0.16720\n",
      "Epoch 124: | Train Loss: 0.23056 | Test Loss: 0.17150\n",
      "Epoch 125: | Train Loss: 0.23173 | Test Loss: 0.18536\n",
      "Epoch 126: | Train Loss: 0.18132 | Test Loss: 0.17761\n",
      "Epoch 127: | Train Loss: 0.18596 | Test Loss: 0.16644\n",
      "Epoch 128: | Train Loss: 0.23876 | Test Loss: 0.16688\n",
      "Epoch 129: | Train Loss: 0.24547 | Test Loss: 0.24629\n",
      "Epoch 130: | Train Loss: 0.25462 | Test Loss: 0.17553\n",
      "Epoch 131: | Train Loss: 0.21420 | Test Loss: 0.18881\n",
      "Epoch 132: | Train Loss: 0.17980 | Test Loss: 0.16865\n",
      "Epoch 133: | Train Loss: 0.20204 | Test Loss: 0.16871\n",
      "Epoch 134: | Train Loss: 0.18999 | Test Loss: 0.16521\n",
      "Epoch 135: | Train Loss: 0.18495 | Test Loss: 0.16993\n",
      "Epoch 136: | Train Loss: 0.18194 | Test Loss: 0.16507\n",
      "Epoch 137: | Train Loss: 0.18828 | Test Loss: 0.17098\n",
      "Epoch 138: | Train Loss: 0.21362 | Test Loss: 0.17062\n",
      "Epoch 139: | Train Loss: 0.18237 | Test Loss: 0.19941\n",
      "Epoch 140: | Train Loss: 0.22654 | Test Loss: 0.17312\n",
      "Epoch 141: | Train Loss: 0.17996 | Test Loss: 0.16939\n",
      "Epoch 142: | Train Loss: 0.18370 | Test Loss: 0.17914\n",
      "Epoch 143: | Train Loss: 0.18153 | Test Loss: 0.19584\n",
      "Epoch 144: | Train Loss: 0.18715 | Test Loss: 0.17219\n",
      "Epoch 145: | Train Loss: 0.20535 | Test Loss: 0.17335\n",
      "Epoch 146: | Train Loss: 0.18639 | Test Loss: 0.16967\n",
      "Epoch 147: | Train Loss: 0.23179 | Test Loss: 0.16798\n",
      "Epoch 148: | Train Loss: 0.23936 | Test Loss: 0.19967\n",
      "Epoch 149: | Train Loss: 0.23501 | Test Loss: 0.17069\n",
      "Epoch 150: | Train Loss: 0.20851 | Test Loss: 0.17068\n",
      "Epoch 151: | Train Loss: 0.21256 | Test Loss: 0.19158\n",
      "Epoch 152: | Train Loss: 0.19386 | Test Loss: 0.16284\n"
     ]
    },
    {
     "name": "stdout",
     "output_type": "stream",
     "text": [
      "Epoch 153: | Train Loss: 0.23592 | Test Loss: 0.26244\n",
      "Epoch 154: | Train Loss: 0.18406 | Test Loss: 0.17354\n",
      "Epoch 155: | Train Loss: 0.18466 | Test Loss: 0.16735\n",
      "Epoch 156: | Train Loss: 0.17447 | Test Loss: 0.16738\n",
      "Epoch 157: | Train Loss: 0.19874 | Test Loss: 0.17377\n",
      "Epoch 158: | Train Loss: 0.18939 | Test Loss: 0.17514\n",
      "Epoch 159: | Train Loss: 0.17759 | Test Loss: 0.17242\n",
      "Epoch 160: | Train Loss: 0.17850 | Test Loss: 0.17217\n",
      "Epoch 161: | Train Loss: 0.18385 | Test Loss: 0.18590\n",
      "Epoch 162: | Train Loss: 0.17841 | Test Loss: 0.19190\n",
      "Epoch 163: | Train Loss: 0.17807 | Test Loss: 0.17160\n",
      "Epoch 164: | Train Loss: 0.17750 | Test Loss: 0.23898\n",
      "Epoch 165: | Train Loss: 0.15018 | Test Loss: 0.18907\n",
      "Epoch 166: | Train Loss: 0.15573 | Test Loss: 0.21250\n",
      "Epoch 167: | Train Loss: 0.15427 | Test Loss: 0.17785\n",
      "Epoch 168: | Train Loss: 0.14996 | Test Loss: 0.18705\n",
      "Epoch 169: | Train Loss: 0.14878 | Test Loss: 0.17258\n",
      "Epoch 170: | Train Loss: 0.17537 | Test Loss: 0.17851\n",
      "Epoch 171: | Train Loss: 0.16271 | Test Loss: 0.23317\n",
      "Epoch 172: | Train Loss: 0.17925 | Test Loss: 0.17407\n",
      "Epoch 173: | Train Loss: 0.15286 | Test Loss: 0.17343\n",
      "Epoch 174: | Train Loss: 0.15043 | Test Loss: 0.23466\n",
      "Epoch 175: | Train Loss: 0.14734 | Test Loss: 0.17344\n",
      "Epoch 176: | Train Loss: 0.19841 | Test Loss: 0.23018\n",
      "Epoch 177: | Train Loss: 0.15225 | Test Loss: 0.17660\n",
      "Epoch 178: | Train Loss: 0.15498 | Test Loss: 0.16913\n",
      "Epoch 179: | Train Loss: 0.17132 | Test Loss: 0.18325\n",
      "Epoch 180: | Train Loss: 0.15056 | Test Loss: 0.16690\n",
      "Epoch 181: | Train Loss: 0.16981 | Test Loss: 0.16910\n",
      "Epoch 182: | Train Loss: 0.17333 | Test Loss: 0.18028\n",
      "Epoch 183: | Train Loss: 0.18191 | Test Loss: 0.16562\n",
      "Epoch 184: | Train Loss: 0.23167 | Test Loss: 0.16541\n",
      "Epoch 185: | Train Loss: 0.20131 | Test Loss: 0.15956\n",
      "Epoch 186: | Train Loss: 0.23189 | Test Loss: 0.16051\n",
      "Epoch 187: | Train Loss: 0.26333 | Test Loss: 0.16951\n",
      "Epoch 188: | Train Loss: 0.23237 | Test Loss: 0.16412\n",
      "Epoch 189: | Train Loss: 0.24112 | Test Loss: 0.16834\n",
      "Epoch 190: | Train Loss: 0.24224 | Test Loss: 0.21197\n",
      "Epoch 191: | Train Loss: 0.24425 | Test Loss: 0.16879\n",
      "Epoch 192: | Train Loss: 0.18305 | Test Loss: 0.16437\n",
      "Epoch 193: | Train Loss: 0.24461 | Test Loss: 0.16598\n",
      "Epoch 194: | Train Loss: 0.18736 | Test Loss: 0.23835\n",
      "Epoch 195: | Train Loss: 0.15514 | Test Loss: 0.20383\n",
      "Epoch 196: | Train Loss: 0.18744 | Test Loss: 0.18304\n",
      "Epoch 197: | Train Loss: 0.16547 | Test Loss: 0.16507\n",
      "Epoch 198: | Train Loss: 0.16123 | Test Loss: 0.18051\n",
      "Epoch 199: | Train Loss: 0.15124 | Test Loss: 0.17307\n",
      "Epoch 200: | Train Loss: 0.18237 | Test Loss: 0.17064\n",
      "stats of l2reg of  0.3 are [0.99056 0.98868 0.10708 0.12414]\n",
      "running reg of 1\n",
      "Begin training.\n"
     ]
    },
    {
     "data": {
      "application/vnd.jupyter.widget-view+json": {
       "model_id": "9d495ac193a34d9b8c732136a687c802",
       "version_major": 2,
       "version_minor": 0
      },
      "text/plain": [
       "  0%|          | 0/200 [00:00<?, ?it/s]"
      ]
     },
     "metadata": {},
     "output_type": "display_data"
    },
    {
     "name": "stdout",
     "output_type": "stream",
     "text": [
      "Epoch 001: | Train Loss: 0.38200 | Test Loss: 0.24153\n",
      "Epoch 002: | Train Loss: 0.36166 | Test Loss: 0.27820\n",
      "Epoch 003: | Train Loss: 0.33768 | Test Loss: 0.27503\n",
      "Epoch 004: | Train Loss: 0.35658 | Test Loss: 0.27973\n",
      "Epoch 005: | Train Loss: 0.33890 | Test Loss: 0.27950\n",
      "Epoch 006: | Train Loss: 0.39397 | Test Loss: 0.23057\n",
      "Epoch 007: | Train Loss: 0.34197 | Test Loss: 0.28895\n",
      "Epoch 008: | Train Loss: 0.31286 | Test Loss: 0.28998\n",
      "Epoch 009: | Train Loss: 0.35584 | Test Loss: 0.34920\n",
      "Epoch 010: | Train Loss: 0.39299 | Test Loss: 0.30142\n",
      "Epoch 011: | Train Loss: 0.32705 | Test Loss: 0.23608\n",
      "Epoch 012: | Train Loss: 0.37290 | Test Loss: 0.33191\n",
      "Epoch 013: | Train Loss: 0.36082 | Test Loss: 0.31182\n",
      "Epoch 014: | Train Loss: 0.34921 | Test Loss: 0.23005\n",
      "Epoch 015: | Train Loss: 0.35523 | Test Loss: 0.24051\n",
      "Epoch 016: | Train Loss: 0.34352 | Test Loss: 0.26702\n",
      "Epoch 017: | Train Loss: 0.35183 | Test Loss: 0.25236\n",
      "Epoch 018: | Train Loss: 0.32242 | Test Loss: 0.31833\n",
      "Epoch 019: | Train Loss: 0.34823 | Test Loss: 0.29590\n",
      "Epoch 020: | Train Loss: 0.31759 | Test Loss: 0.29829\n",
      "Epoch 021: | Train Loss: 0.37317 | Test Loss: 0.27743\n",
      "Epoch 022: | Train Loss: 0.33922 | Test Loss: 0.28760\n",
      "Epoch 023: | Train Loss: 0.32645 | Test Loss: 0.28605\n",
      "Epoch 024: | Train Loss: 0.34456 | Test Loss: 0.30142\n",
      "Epoch 025: | Train Loss: 0.35147 | Test Loss: 0.28472\n",
      "Epoch 026: | Train Loss: 0.36783 | Test Loss: 0.28114\n",
      "Epoch 027: | Train Loss: 0.36351 | Test Loss: 0.29024\n",
      "Epoch 028: | Train Loss: 0.36506 | Test Loss: 0.27762\n",
      "Epoch 029: | Train Loss: 0.33369 | Test Loss: 0.28015\n",
      "Epoch 030: | Train Loss: 0.32972 | Test Loss: 0.34096\n",
      "Epoch 031: | Train Loss: 0.38616 | Test Loss: 0.22582\n",
      "Epoch 032: | Train Loss: 0.33051 | Test Loss: 0.29393\n",
      "Epoch 033: | Train Loss: 0.33889 | Test Loss: 0.29492\n",
      "Epoch 034: | Train Loss: 0.37245 | Test Loss: 0.27926\n",
      "Epoch 035: | Train Loss: 0.36462 | Test Loss: 0.27839\n",
      "Epoch 036: | Train Loss: 0.36152 | Test Loss: 0.27211\n",
      "Epoch 037: | Train Loss: 0.36598 | Test Loss: 0.28784\n",
      "Epoch 038: | Train Loss: 0.36116 | Test Loss: 0.27688\n",
      "Epoch 039: | Train Loss: 0.34322 | Test Loss: 0.28908\n",
      "Epoch 040: | Train Loss: 0.34613 | Test Loss: 0.27809\n",
      "Epoch 041: | Train Loss: 0.31887 | Test Loss: 0.29615\n",
      "Epoch 042: | Train Loss: 0.28426 | Test Loss: 0.27700\n",
      "Epoch 043: | Train Loss: 0.35870 | Test Loss: 0.27370\n",
      "Epoch 044: | Train Loss: 0.36065 | Test Loss: 0.28875\n",
      "Epoch 045: | Train Loss: 0.36050 | Test Loss: 0.28777\n",
      "Epoch 046: | Train Loss: 0.34591 | Test Loss: 0.26505\n",
      "Epoch 047: | Train Loss: 0.34858 | Test Loss: 0.28457\n",
      "Epoch 048: | Train Loss: 0.32023 | Test Loss: 0.29359\n",
      "Epoch 049: | Train Loss: 0.32247 | Test Loss: 0.28644\n",
      "Epoch 050: | Train Loss: 0.31704 | Test Loss: 0.28933\n",
      "Epoch 051: | Train Loss: 0.30527 | Test Loss: 0.28634\n",
      "Epoch 052: | Train Loss: 0.31520 | Test Loss: 0.28866\n",
      "Epoch 053: | Train Loss: 0.30933 | Test Loss: 0.28064\n",
      "Epoch 054: | Train Loss: 0.30961 | Test Loss: 0.26605\n",
      "Epoch 055: | Train Loss: 0.30113 | Test Loss: 0.30301\n",
      "Epoch 056: | Train Loss: 0.28924 | Test Loss: 0.29862\n",
      "Epoch 057: | Train Loss: 0.31508 | Test Loss: 0.29838\n",
      "Epoch 058: | Train Loss: 0.31611 | Test Loss: 0.29053\n",
      "Epoch 059: | Train Loss: 0.30891 | Test Loss: 0.30018\n",
      "Epoch 060: | Train Loss: 0.32518 | Test Loss: 0.30982\n",
      "Epoch 061: | Train Loss: 0.30528 | Test Loss: 0.30212\n",
      "Epoch 062: | Train Loss: 0.30407 | Test Loss: 0.28788\n",
      "Epoch 063: | Train Loss: 0.31951 | Test Loss: 0.29644\n",
      "Epoch 064: | Train Loss: 0.30286 | Test Loss: 0.28313\n",
      "Epoch 065: | Train Loss: 0.30322 | Test Loss: 0.28295\n",
      "Epoch 066: | Train Loss: 0.29953 | Test Loss: 0.37380\n",
      "Epoch 067: | Train Loss: 0.29825 | Test Loss: 0.29732\n",
      "Epoch 068: | Train Loss: 0.31405 | Test Loss: 0.29663\n",
      "Epoch 069: | Train Loss: 0.31211 | Test Loss: 0.28273\n",
      "Epoch 070: | Train Loss: 0.30328 | Test Loss: 0.28368\n",
      "Epoch 071: | Train Loss: 0.33288 | Test Loss: 0.27773\n",
      "Epoch 072: | Train Loss: 0.30589 | Test Loss: 0.29754\n",
      "Epoch 073: | Train Loss: 0.30131 | Test Loss: 0.28256\n",
      "Epoch 074: | Train Loss: 0.31048 | Test Loss: 0.27835\n",
      "Epoch 075: | Train Loss: 0.30223 | Test Loss: 0.28306\n",
      "Epoch 076: | Train Loss: 0.30930 | Test Loss: 0.27967\n",
      "Epoch 077: | Train Loss: 0.30251 | Test Loss: 0.28449\n",
      "Epoch 078: | Train Loss: 0.28611 | Test Loss: 0.29252\n",
      "Epoch 079: | Train Loss: 0.28411 | Test Loss: 0.28712\n",
      "Epoch 080: | Train Loss: 0.30354 | Test Loss: 0.28332\n",
      "Epoch 081: | Train Loss: 0.30627 | Test Loss: 0.28130\n",
      "Epoch 082: | Train Loss: 0.30941 | Test Loss: 0.27333\n",
      "Epoch 083: | Train Loss: 0.30934 | Test Loss: 0.29056\n",
      "Epoch 084: | Train Loss: 0.30602 | Test Loss: 0.27973\n",
      "Epoch 085: | Train Loss: 0.30002 | Test Loss: 0.27836\n",
      "Epoch 086: | Train Loss: 0.30465 | Test Loss: 0.28722\n",
      "Epoch 087: | Train Loss: 0.33239 | Test Loss: 0.27979\n",
      "Epoch 088: | Train Loss: 0.36067 | Test Loss: 0.26954\n",
      "Epoch 089: | Train Loss: 0.35424 | Test Loss: 0.27316\n",
      "Epoch 090: | Train Loss: 0.35250 | Test Loss: 0.27435\n",
      "Epoch 091: | Train Loss: 0.35809 | Test Loss: 0.27271\n",
      "Epoch 092: | Train Loss: 0.35936 | Test Loss: 0.26995\n",
      "Epoch 093: | Train Loss: 0.36474 | Test Loss: 0.27625\n",
      "Epoch 094: | Train Loss: 0.35677 | Test Loss: 0.27635\n",
      "Epoch 095: | Train Loss: 0.36338 | Test Loss: 0.25256\n",
      "Epoch 096: | Train Loss: 0.30187 | Test Loss: 0.28906\n",
      "Epoch 097: | Train Loss: 0.30817 | Test Loss: 0.23467\n",
      "Epoch 098: | Train Loss: 0.36246 | Test Loss: 0.27979\n",
      "Epoch 099: | Train Loss: 0.36721 | Test Loss: 0.28001\n",
      "Epoch 100: | Train Loss: 0.35714 | Test Loss: 0.27384\n",
      "Epoch 101: | Train Loss: 0.33858 | Test Loss: 0.27655\n",
      "Epoch 102: | Train Loss: 0.30578 | Test Loss: 0.29307\n",
      "Epoch 103: | Train Loss: 0.31082 | Test Loss: 0.29637\n",
      "Epoch 104: | Train Loss: 0.30957 | Test Loss: 0.28332\n",
      "Epoch 105: | Train Loss: 0.29278 | Test Loss: 0.28603\n",
      "Epoch 106: | Train Loss: 0.30564 | Test Loss: 0.29387\n",
      "Epoch 107: | Train Loss: 0.30915 | Test Loss: 0.28171\n",
      "Epoch 108: | Train Loss: 0.27900 | Test Loss: 0.28810\n",
      "Epoch 109: | Train Loss: 0.30712 | Test Loss: 0.28857\n",
      "Epoch 110: | Train Loss: 0.30133 | Test Loss: 0.28367\n",
      "Epoch 111: | Train Loss: 0.30947 | Test Loss: 0.28867\n",
      "Epoch 112: | Train Loss: 0.28377 | Test Loss: 0.28152\n",
      "Epoch 113: | Train Loss: 0.33115 | Test Loss: 0.27969\n",
      "Epoch 114: | Train Loss: 0.31401 | Test Loss: 0.28714\n",
      "Epoch 115: | Train Loss: 0.29034 | Test Loss: 0.30520\n",
      "Epoch 116: | Train Loss: 0.28069 | Test Loss: 0.28836\n",
      "Epoch 117: | Train Loss: 0.31410 | Test Loss: 0.28538\n",
      "Epoch 118: | Train Loss: 0.30291 | Test Loss: 0.28439\n",
      "Epoch 119: | Train Loss: 0.31296 | Test Loss: 0.29439\n",
      "Epoch 120: | Train Loss: 0.34719 | Test Loss: 0.27760\n",
      "Epoch 121: | Train Loss: 0.30295 | Test Loss: 0.28299\n",
      "Epoch 122: | Train Loss: 0.29881 | Test Loss: 0.27546\n",
      "Epoch 123: | Train Loss: 0.31259 | Test Loss: 0.28819\n",
      "Epoch 124: | Train Loss: 0.31144 | Test Loss: 0.28057\n",
      "Epoch 125: | Train Loss: 0.30794 | Test Loss: 0.28636\n",
      "Epoch 126: | Train Loss: 0.30433 | Test Loss: 0.28593\n",
      "Epoch 127: | Train Loss: 0.30314 | Test Loss: 0.27867\n",
      "Epoch 128: | Train Loss: 0.33786 | Test Loss: 0.28290\n",
      "Epoch 129: | Train Loss: 0.30443 | Test Loss: 0.28141\n",
      "Epoch 130: | Train Loss: 0.30213 | Test Loss: 0.27842\n",
      "Epoch 131: | Train Loss: 0.34240 | Test Loss: 0.28275\n",
      "Epoch 132: | Train Loss: 0.30334 | Test Loss: 0.28142\n",
      "Epoch 133: | Train Loss: 0.27217 | Test Loss: 0.29326\n",
      "Epoch 134: | Train Loss: 0.31159 | Test Loss: 0.28409\n",
      "Epoch 135: | Train Loss: 0.28071 | Test Loss: 0.29825\n",
      "Epoch 136: | Train Loss: 0.28897 | Test Loss: 0.29017\n",
      "Epoch 137: | Train Loss: 0.30991 | Test Loss: 0.28361\n",
      "Epoch 138: | Train Loss: 0.28882 | Test Loss: 0.29192\n",
      "Epoch 139: | Train Loss: 0.30706 | Test Loss: 0.28699\n",
      "Epoch 140: | Train Loss: 0.30449 | Test Loss: 0.28169\n",
      "Epoch 141: | Train Loss: 0.27758 | Test Loss: 0.25994\n",
      "Epoch 142: | Train Loss: 0.29787 | Test Loss: 0.30080\n",
      "Epoch 143: | Train Loss: 0.30894 | Test Loss: 0.24106\n",
      "Epoch 144: | Train Loss: 0.33527 | Test Loss: 0.30842\n",
      "Epoch 145: | Train Loss: 0.30405 | Test Loss: 0.28227\n",
      "Epoch 146: | Train Loss: 0.33122 | Test Loss: 0.28734\n",
      "Epoch 147: | Train Loss: 0.30100 | Test Loss: 0.29784\n",
      "Epoch 148: | Train Loss: 0.30070 | Test Loss: 0.28057\n",
      "Epoch 149: | Train Loss: 0.29738 | Test Loss: 0.30058\n",
      "Epoch 150: | Train Loss: 0.28532 | Test Loss: 0.28803\n",
      "Epoch 151: | Train Loss: 0.30835 | Test Loss: 0.29301\n",
      "Epoch 152: | Train Loss: 0.30124 | Test Loss: 0.28860\n"
     ]
    },
    {
     "name": "stdout",
     "output_type": "stream",
     "text": [
      "Epoch 153: | Train Loss: 0.31077 | Test Loss: 0.31676\n",
      "Epoch 154: | Train Loss: 0.30319 | Test Loss: 0.29182\n",
      "Epoch 155: | Train Loss: 0.31364 | Test Loss: 0.32274\n",
      "Epoch 156: | Train Loss: 0.30265 | Test Loss: 0.29026\n",
      "Epoch 157: | Train Loss: 0.30337 | Test Loss: 0.29307\n",
      "Epoch 158: | Train Loss: 0.28187 | Test Loss: 0.28325\n",
      "Epoch 159: | Train Loss: 0.33907 | Test Loss: 0.28958\n",
      "Epoch 160: | Train Loss: 0.34497 | Test Loss: 0.28542\n",
      "Epoch 161: | Train Loss: 0.31160 | Test Loss: 0.28422\n",
      "Epoch 162: | Train Loss: 0.30284 | Test Loss: 0.27806\n",
      "Epoch 163: | Train Loss: 0.28235 | Test Loss: 0.28449\n",
      "Epoch 164: | Train Loss: 0.30646 | Test Loss: 0.28701\n",
      "Epoch 165: | Train Loss: 0.30031 | Test Loss: 0.28309\n",
      "Epoch 166: | Train Loss: 0.28590 | Test Loss: 0.29301\n",
      "Epoch 167: | Train Loss: 0.27915 | Test Loss: 0.28016\n",
      "Epoch 168: | Train Loss: 0.27863 | Test Loss: 0.28386\n",
      "Epoch 169: | Train Loss: 0.28946 | Test Loss: 0.29509\n",
      "Epoch 170: | Train Loss: 0.27907 | Test Loss: 0.28506\n",
      "Epoch 171: | Train Loss: 0.28484 | Test Loss: 0.29056\n",
      "Epoch 172: | Train Loss: 0.28203 | Test Loss: 0.30140\n",
      "Epoch 173: | Train Loss: 0.28139 | Test Loss: 0.37707\n",
      "Epoch 174: | Train Loss: 0.28219 | Test Loss: 0.29609\n",
      "Epoch 175: | Train Loss: 0.27361 | Test Loss: 0.29033\n",
      "Epoch 176: | Train Loss: 0.28053 | Test Loss: 0.30489\n",
      "Epoch 177: | Train Loss: 0.28294 | Test Loss: 0.31282\n",
      "Epoch 178: | Train Loss: 0.28119 | Test Loss: 0.28392\n",
      "Epoch 179: | Train Loss: 0.25615 | Test Loss: 0.28652\n",
      "Epoch 180: | Train Loss: 0.27567 | Test Loss: 0.28649\n",
      "Epoch 181: | Train Loss: 0.28967 | Test Loss: 0.27676\n",
      "Epoch 182: | Train Loss: 0.28313 | Test Loss: 0.29020\n",
      "Epoch 183: | Train Loss: 0.29360 | Test Loss: 0.28977\n",
      "Epoch 184: | Train Loss: 0.27736 | Test Loss: 0.28921\n",
      "Epoch 185: | Train Loss: 0.27964 | Test Loss: 0.28821\n",
      "Epoch 186: | Train Loss: 0.27693 | Test Loss: 0.29192\n",
      "Epoch 187: | Train Loss: 0.28138 | Test Loss: 0.28759\n",
      "Epoch 188: | Train Loss: 0.33026 | Test Loss: 0.28695\n",
      "Epoch 189: | Train Loss: 0.32933 | Test Loss: 0.27756\n",
      "Epoch 190: | Train Loss: 0.35951 | Test Loss: 0.27789\n",
      "Epoch 191: | Train Loss: 0.31760 | Test Loss: 0.28265\n",
      "Epoch 192: | Train Loss: 0.34632 | Test Loss: 0.28655\n",
      "Epoch 193: | Train Loss: 0.31476 | Test Loss: 0.29578\n",
      "Epoch 194: | Train Loss: 0.30660 | Test Loss: 0.27689\n",
      "Epoch 195: | Train Loss: 0.33644 | Test Loss: 0.29639\n",
      "Epoch 196: | Train Loss: 0.30306 | Test Loss: 0.28896\n",
      "Epoch 197: | Train Loss: 0.30963 | Test Loss: 0.28703\n",
      "Epoch 198: | Train Loss: 0.30789 | Test Loss: 0.29609\n",
      "Epoch 199: | Train Loss: 0.27149 | Test Loss: 0.29446\n",
      "Epoch 200: | Train Loss: 0.28336 | Test Loss: 0.29026\n",
      "stats of l2reg of  1 are [0.98859 0.98501 0.23568 0.24377]\n",
      "full stats are [[1.0000e-05 9.9977e-01 9.9675e-01 9.0000e-04 4.9820e-02]\n",
      " [3.0000e-05 9.9954e-01 9.9567e-01 1.1170e-02 9.6630e-02]\n",
      " [1.0000e-04 9.9954e-01 9.9568e-01 1.1220e-02 1.2068e-01]\n",
      " [3.0000e-04 9.9954e-01 9.9513e-01 1.0600e-03 8.2720e-02]\n",
      " [1.0000e-03 9.9931e-01 9.9404e-01 3.5500e-03 9.2290e-02]\n",
      " [3.0000e-03 9.9838e-01 9.9567e-01 1.6720e-02 5.7310e-02]\n",
      " [1.0000e-02 9.9769e-01 9.9621e-01 1.0310e-02 4.7750e-02]\n",
      " [3.0000e-02 9.9815e-01 9.9567e-01 2.3020e-02 4.3450e-02]\n",
      " [1.0000e-01 9.9285e-01 9.9351e-01 6.1620e-02 9.0980e-02]\n",
      " [3.0000e-01 9.9056e-01 9.8868e-01 1.0708e-01 1.2414e-01]\n",
      " [1.0000e+00 9.8859e-01 9.8501e-01 2.3568e-01 2.4377e-01]]\n"
     ]
    }
   ],
   "source": [
    "regs=[0.00001,0.00003,0.0001,0.0003,0.001,0.003,0.01,0.03,0.1,0.3,1]\n",
    "per_stats=run_loop_torch(BinaryClassification3,train_loader,test_loader,train_loader_pred,target_train,target_test,200,64,0.001,regs,num_features=121)\n",
    "np.savetxt(\"per_reg1_b_200.txt\",per_stats)\n",
    "per_stats=np.loadtxt(\"per_reg1_b_200.txt\")"
   ]
  },
  {
   "cell_type": "markdown",
   "id": "7ae119b1",
   "metadata": {},
   "source": [
    "Now also adding regularization to xgboost."
   ]
  },
  {
   "cell_type": "code",
   "execution_count": 65,
   "id": "8f1d68c6",
   "metadata": {},
   "outputs": [],
   "source": [
    "def loop_xgboost(feature_train,target_train,feature_test,target_test,regs):\n",
    "    stats=np.zeros((5,len(regs)))\n",
    "    for i in range(len(regs)):\n",
    "        print(f\"doing l2 regularization {regs[i]}\")\n",
    "        xc1=XGBClassifier(max_depth=6,reg_lambda=regs[i]).fit(feature_train,target_train)\n",
    "        train_pred=xc1.predict(feature_train)\n",
    "        test_pred=xc1.predict(feature_test)\n",
    "        train_pred_prob=xc1.predict_proba(feature_train)\n",
    "        test_pred_prob=xc1.predict_proba(feature_test)\n",
    "        stats[0,i]=regs[i]\n",
    "        stats[1,i]=f1_score(target_train,train_pred)\n",
    "        stats[2,i]=f1_score(target_test,test_pred)       \n",
    "        stats[3,i]=log_loss(target_train,train_pred_prob)\n",
    "        stats[4,i]=log_loss(target_test,test_pred_prob)\n",
    "    return stats"
   ]
  },
  {
   "cell_type": "code",
   "execution_count": 66,
   "id": "db8defbf",
   "metadata": {},
   "outputs": [
    {
     "name": "stdout",
     "output_type": "stream",
     "text": [
      "doing l2 regularization 0.0001\n",
      "doing l2 regularization 0.0003\n",
      "doing l2 regularization 0.001\n",
      "doing l2 regularization 0.003\n",
      "doing l2 regularization 0.01\n",
      "doing l2 regularization 0.03\n",
      "doing l2 regularization 0.1\n",
      "doing l2 regularization 0.3\n",
      "doing l2 regularization 1\n",
      "doing l2 regularization 3\n",
      "doing l2 regularization 10\n",
      "doing l2 regularization 30\n",
      "doing l2 regularization 100\n",
      "doing l2 regularization 300\n",
      "doing l2 regularization 1000\n",
      "doing l2 regularization 3000\n",
      "doing l2 regularization 10000\n",
      "[[1.00000000e-04 1.00000000e+00 9.90795885e-01 1.00315850e-03\n",
      "  3.72404647e-02]\n",
      " [3.00000000e-04 1.00000000e+00 9.91332611e-01 1.00244172e-03\n",
      "  3.73916093e-02]\n",
      " [1.00000000e-03 1.00000000e+00 9.90785908e-01 9.91064802e-04\n",
      "  3.90330402e-02]\n",
      " [3.00000000e-03 1.00000000e+00 9.90795885e-01 9.85390018e-04\n",
      "  3.77963615e-02]\n",
      " [1.00000000e-02 1.00000000e+00 9.90238612e-01 1.00090189e-03\n",
      "  3.98444034e-02]\n",
      " [3.00000000e-02 1.00000000e+00 9.89701897e-01 1.00643886e-03\n",
      "  3.84467444e-02]\n",
      " [1.00000000e-01 1.00000000e+00 9.91332611e-01 1.00754377e-03\n",
      "  3.38478642e-02]\n",
      " [3.00000000e-01 1.00000000e+00 9.89177489e-01 1.07828982e-03\n",
      "  3.75738794e-02]\n",
      " [1.00000000e+00 1.00000000e+00 9.93506494e-01 1.24079530e-03\n",
      "  3.24396110e-02]\n",
      " [3.00000000e+00 1.00000000e+00 9.92432432e-01 1.67381153e-03\n",
      "  2.98487103e-02]\n",
      " [1.00000000e+01 1.00000000e+00 9.93506494e-01 3.08122153e-03\n",
      "  3.23473836e-02]\n",
      " [3.00000000e+01 1.00000000e+00 9.90795885e-01 6.94378312e-03\n",
      "  3.64841178e-02]\n",
      " [1.00000000e+02 9.97236297e-01 9.89165764e-01 1.84736707e-02\n",
      "  4.80505342e-02]\n",
      " [3.00000000e+02 9.96777164e-01 9.88642509e-01 4.00260186e-02\n",
      "  6.77910648e-02]\n",
      " [1.00000000e+03 9.94940202e-01 9.83836207e-01 8.71862053e-02\n",
      "  1.13032502e-01]\n",
      " [3.00000000e+03 9.93106618e-01 9.77419355e-01 1.80198007e-01\n",
      "  2.02321588e-01]\n",
      " [1.00000000e+04 9.79573101e-01 9.64818763e-01 3.43417740e-01\n",
      "  3.59000804e-01]]\n"
     ]
    }
   ],
   "source": [
    "regs=[0.0001,0.0003,0.001,0.003,0.01,0.03,0.1,0.3,1,3,10,30,100,300,1000,3000,10000]\n",
    "stats_xgb=loop_xgboost(feature_train,target_train,feature_test,target_test,regs)\n",
    "print(stats_xgb.T)"
   ]
  },
  {
   "cell_type": "markdown",
   "id": "84884132",
   "metadata": {},
   "source": [
    "Now also adding logistic regression with l2 regularization. "
   ]
  },
  {
   "cell_type": "code",
   "execution_count": 67,
   "id": "d9eddeca",
   "metadata": {},
   "outputs": [],
   "source": [
    "def loop_logistic(feature_train,target_train,feature_test,target_test,regs):\n",
    "    stats=np.zeros((5,len(regs)))\n",
    "    for i in range(len(regs)):\n",
    "        print(f\"doing l2 regularization {regs[i]}\")\n",
    "        xc1=LogisticRegression(max_iter=6000,penalty='l2',C=regs[i]).fit(feature_train,target_train)\n",
    "        train_pred=xc1.predict(feature_train)\n",
    "        test_pred=xc1.predict(feature_test)\n",
    "        train_pred_prob=xc1.predict_proba(feature_train)\n",
    "        test_pred_prob=xc1.predict_proba(feature_test)\n",
    "        stats[0,i]=regs[i]\n",
    "        stats[1,i]=f1_score(target_train,train_pred)\n",
    "        stats[2,i]=f1_score(target_test,test_pred)       \n",
    "        stats[3,i]=log_loss(target_train,train_pred_prob)\n",
    "        stats[4,i]=log_loss(target_test,test_pred_prob)\n",
    "    return stats"
   ]
  },
  {
   "cell_type": "code",
   "execution_count": 68,
   "id": "f7955a76",
   "metadata": {},
   "outputs": [
    {
     "name": "stdout",
     "output_type": "stream",
     "text": [
      "doing l2 regularization 1e-06\n",
      "doing l2 regularization 3e-06\n",
      "doing l2 regularization 1e-05\n",
      "doing l2 regularization 3e-05\n",
      "doing l2 regularization 0.0001\n",
      "doing l2 regularization 0.0003\n",
      "doing l2 regularization 0.001\n",
      "doing l2 regularization 0.003\n",
      "doing l2 regularization 0.01\n",
      "doing l2 regularization 0.03\n",
      "doing l2 regularization 0.1\n",
      "doing l2 regularization 0.3\n",
      "doing l2 regularization 1\n",
      "doing l2 regularization 3\n",
      "doing l2 regularization 10\n",
      "doing l2 regularization 30\n",
      "doing l2 regularization 100\n",
      "[[0.0000e+00 9.7192e-01 9.7095e-01 1.1951e-01 1.2437e-01]\n",
      " [0.0000e+00 9.8046e-01 9.7920e-01 8.5800e-02 8.9880e-02]\n",
      " [1.0000e-05 9.8606e-01 9.8551e-01 6.1680e-02 6.7430e-02]\n",
      " [3.0000e-05 9.8946e-01 9.8815e-01 4.7140e-02 5.6080e-02]\n",
      " [1.0000e-04 9.9196e-01 9.9190e-01 3.4780e-02 4.4810e-02]\n",
      " [3.0000e-04 9.9333e-01 9.9298e-01 2.4790e-02 3.6100e-02]\n",
      " [1.0000e-03 9.9585e-01 9.9298e-01 1.6690e-02 5.3550e-02]\n",
      " [3.0000e-03 9.9746e-01 9.9298e-01 1.1570e-02 7.4250e-02]\n",
      " [1.0000e-02 9.9862e-01 9.9351e-01 7.6200e-03 8.6430e-02]\n",
      " [3.0000e-02 9.9931e-01 9.9351e-01 4.9600e-03 9.6680e-02]\n",
      " [1.0000e-01 1.0000e+00 9.9298e-01 2.7100e-03 1.1918e-01]\n",
      " [3.0000e-01 1.0000e+00 9.9298e-01 1.3800e-03 1.3218e-01]\n",
      " [1.0000e+00 1.0000e+00 9.9298e-01 5.9000e-04 1.4846e-01]\n",
      " [3.0000e+00 1.0000e+00 9.9298e-01 2.6000e-04 1.5924e-01]\n",
      " [1.0000e+01 1.0000e+00 9.9243e-01 1.0000e-04 1.7181e-01]\n",
      " [3.0000e+01 1.0000e+00 9.9243e-01 4.0000e-05 1.8446e-01]\n",
      " [1.0000e+02 1.0000e+00 9.9243e-01 1.0000e-05 1.9400e-01]]\n"
     ]
    }
   ],
   "source": [
    "regs=[0.000001,0.000003,0.00001,0.00003,0.0001,0.0003,0.001,0.003,0.01,0.03,0.1,0.3,1,3,10,30,100]\n",
    "stats_log=loop_logistic(feature_train,target_train,feature_test,target_test,regs)\n",
    "print(np.round(stats_log.T,5))"
   ]
  },
  {
   "cell_type": "code",
   "execution_count": 69,
   "id": "042ce1e0",
   "metadata": {},
   "outputs": [
    {
     "name": "stdout",
     "output_type": "stream",
     "text": [
      "not regularized\n",
      "Logistic train 1.0\n",
      "Logistic test 0.99081\n",
      "xgboost train 1.0\n",
      "xgboost test 0.99351\n",
      "perceptron train 1.0\n",
      "perceptron test 0.99621\n",
      "conv2d train 1.0\n",
      "conv2d test 0.99729\n",
      "best regularized\n",
      "perceptron train 0.99977\n",
      "perceptron test 0.99675\n",
      "conv2d train 0.99769\n",
      "conv2d test 0.99729\n",
      "xgboost train 1.0\n",
      "xgboost test 0.99351\n",
      "logistic train 1.0\n",
      "logistic test 0.99351\n"
     ]
    },
    {
     "data": {
      "image/png": "[encoded data removed]",
      "text/plain": [
       "<Figure size 640x480 with 1 Axes>"
      ]
     },
     "metadata": {},
     "output_type": "display_data"
    }
   ],
   "source": [
    "plt.plot(conv2d_stats[0],conv2d_stats[1],label='conv2D train')\n",
    "plt.plot(conv2d_stats[0],conv2d_stats[2],label='conv2D test')\n",
    "plt.plot(per_stats[0],per_stats[1],label='perceptron train')\n",
    "plt.plot(per_stats[0],per_stats[2],label='perceptron test')\n",
    "plt.plot(stats_xgb[0],stats_xgb[1],label='xgboost train')\n",
    "plt.plot(stats_xgb[0],stats_xgb[2],label='xgboost test')\n",
    "plt.plot(stats_log[0],stats_log[1],label='logistic train')\n",
    "plt.plot(stats_log[0],stats_log[2],label='logistic test')\n",
    "plt.legend(loc=\"best\")\n",
    "#plt.title('Loss vs Epochs')\n",
    "plt.xlabel('l2 regularization')\n",
    "plt.ylabel('F1 score')\n",
    "#plt.ylim(0,0.7)\n",
    "plt.xscale(\"log\")\n",
    "print(\"not regularized\")\n",
    "print(f\"Logistic train {np.round(f1_score(target_train,l_train_pred),5)}\")\n",
    "print(f\"Logistic test {np.round(f1_score(target_test,l_test_pred),5)}\")\n",
    "print(f\"xgboost train {np.round(f1_score(target_train,train_pred),5)}\")\n",
    "print(f\"xgboost test {np.round(f1_score(target_test,test_pred),5)}\")\n",
    "print(f\"perceptron train {np.round(f1_score(target_train,np.round(m_train)),5)}\")\n",
    "print(f\"perceptron test {np.round(f1_score(target_test,np.round(m_test)),5)}\")\n",
    "print(f\"conv2d train {np.round(f1_score(target_train,np.round(c_train)),5)}\")\n",
    "print(f\"conv2d test {np.round(f1_score(target_test,np.round(c_test)),5)}\")\n",
    "print(\"best regularized\")\n",
    "print(f\"perceptron train {np.round(np.max(per_stats[1]),5)}\")\n",
    "print(f\"perceptron test {np.round(np.max(per_stats[2]),5)}\")\n",
    "print(f\"conv2d train {np.round(np.max(conv2d_stats[1]),5)}\")\n",
    "print(f\"conv2d test {np.round(np.max(conv2d_stats[2]),5)}\")\n",
    "print(f\"xgboost train {np.round(np.max(stats_xgb[1]),5)}\")\n",
    "print(f\"xgboost test {np.round(np.max(stats_xgb[2]),5)}\")\n",
    "print(f\"logistic train {np.round(np.max(stats_log[1]),5)}\")\n",
    "print(f\"logistic test {np.round(np.max(stats_log[2]),5)}\")"
   ]
  },
  {
   "cell_type": "markdown",
   "id": "6304d0b3",
   "metadata": {},
   "source": [
    "Is improved now in test for all besides xgboost. Best is convolutional network, then perceptron, then on the same level logistic and xgboost. There are so few wrong, that it can be partlz chnace. Log loss depends less on few, thus I also look on them. "
   ]
  },
  {
   "cell_type": "code",
   "execution_count": 70,
   "id": "5f41a8dc",
   "metadata": {},
   "outputs": [
    {
     "name": "stdout",
     "output_type": "stream",
     "text": [
      "not regularized\n",
      "Logistic train 0.0\n",
      "Logistic test 0.39888\n",
      "xgboost train 0.00124\n",
      "xgboost test 0.03244\n",
      "perceptron train 0.00064\n",
      "perceptron test 0.03759\n",
      "conv2d train 0.0\n",
      "conv2d test 0.06244\n",
      "best regularized\n",
      "perceptron train 0.0009\n",
      "perceptron test 0.04345\n",
      "conv2d train 0.01237\n",
      "conv2d test 0.02621\n",
      "xgboost train 0.00099\n",
      "xgboost test 0.02985\n",
      "logistic train 1e-05\n",
      "logistic test 0.0361\n"
     ]
    },
    {
     "data": {
      "image/png": "[encoded data removed]",
      "text/plain": [
       "<Figure size 640x480 with 1 Axes>"
      ]
     },
     "metadata": {},
     "output_type": "display_data"
    }
   ],
   "source": [
    "plt.plot(conv2d_stats[0],conv2d_stats[3],label='conv2D train')\n",
    "plt.plot(conv2d_stats[0],conv2d_stats[4],label='conv2D test')\n",
    "plt.plot(per_stats[0],per_stats[3],label='perceptron train')\n",
    "plt.plot(per_stats[0],per_stats[4],label='perceptron test')\n",
    "plt.plot(stats_xgb[0],stats_xgb[3],label='xgboost train')\n",
    "plt.plot(stats_xgb[0],stats_xgb[4],label='xgboost test')\n",
    "plt.plot(stats_log[0],stats_log[3],label='logistic train')\n",
    "plt.plot(stats_log[0],stats_log[4],label='logistic test')\n",
    "plt.legend(loc=\"best\")\n",
    "#plt.title('Loss vs Epochs')\n",
    "plt.xlabel('l2 regularization')\n",
    "plt.ylabel('log loss')\n",
    "#plt.ylim(0,0.7)\n",
    "plt.xscale(\"log\")\n",
    "print(\"not regularized\")\n",
    "print(f\"Logistic train {np.round(log_loss(target_train,l_train_pred_prob),5)}\")\n",
    "print(f\"Logistic test {np.round(log_loss(target_test,l_test_pred_prob),5)}\")\n",
    "print(f\"xgboost train {np.round(log_loss(target_train,train_pred_prob),5)}\")\n",
    "print(f\"xgboost test {np.round(log_loss(target_test,test_pred_prob),5)}\")\n",
    "print(f\"perceptron train {np.round(log_loss(target_train,(m_train)),5)}\")\n",
    "print(f\"perceptron test {np.round(log_loss(target_test,(m_test)),5)}\")\n",
    "print(f\"conv2d train {np.round(log_loss(target_train,(c_train)),5)}\")\n",
    "print(f\"conv2d test {np.round(log_loss(target_test,(c_test)),5)}\")\n",
    "print(\"best regularized\")\n",
    "print(f\"perceptron train {np.round(np.min(per_stats[3]),5)}\")\n",
    "print(f\"perceptron test {np.round(np.min(per_stats[4]),5)}\")\n",
    "print(f\"conv2d train {np.round(np.min(conv2d_stats[3]),5)}\")\n",
    "print(f\"conv2d test {np.round(np.min(conv2d_stats[4]),5)}\")\n",
    "print(f\"xgboost train {np.round(np.min(stats_xgb[3]),5)}\")\n",
    "print(f\"xgboost test {np.round(np.min(stats_xgb[4]),5)}\")\n",
    "print(f\"logistic train {np.round(np.min(stats_log[3]),5)}\")\n",
    "print(f\"logistic test {np.round(np.min(stats_log[4]),5)}\")"
   ]
  },
  {
   "cell_type": "markdown",
   "id": "bec2080d",
   "metadata": {},
   "source": [
    "Similar but not identical. Best in convoltional network, then xgboost, then logistic then perceptron, all are rather similar.\n",
    "\n",
    "As the step I run the best of all four algorithm. I decide to use log loss as to find the best one. \n",
    "\n",
    "\n",
    "First printing the value, also for checking that it is not an isolated minimum. I ignore the minimum at low regularization of convolutional, since it seems unplausible."
   ]
  },
  {
   "cell_type": "code",
   "execution_count": 74,
   "id": "0e8505aa",
   "metadata": {},
   "outputs": [
    {
     "name": "stdout",
     "output_type": "stream",
     "text": [
      "best regularization of conv 2d is 0.03\n",
      "best regularization of perceptron is 0.03\n",
      "best regularization of xgboost is 3.0\n",
      "best regularization of logistic is 0.0003\n"
     ]
    }
   ],
   "source": [
    "best_reg_conv=conv2d_stats[0,int(np.argmin(conv2d_stats[4,2:])+2)]\n",
    "print(f\"best regularization of conv 2d is {best_reg_conv}\")\n",
    "best_reg_per=per_stats[0,(np.argmin(per_stats[4]))]\n",
    "print(f\"best regularization of perceptron is {best_reg_per}\")\n",
    "best_reg_xgb=stats_xgb[0,(np.argmin(stats_xgb[4]))]\n",
    "print(f\"best regularization of xgboost is {best_reg_xgb}\")\n",
    "best_reg_log=stats_log[0,(np.argmin(stats_log[4]))]\n",
    "print(f\"best regularization of logistic is {best_reg_log}\")"
   ]
  },
  {
   "cell_type": "code",
   "execution_count": 75,
   "id": "addf0f33",
   "metadata": {},
   "outputs": [],
   "source": [
    "xc2=XGBClassifier(max_depth=6,reg_lambda=3.0).fit(feature_train,target_train)\n",
    "x2_train_pred_prob=xc2.predict_proba(feature_train)\n",
    "x2_test_pred_prob=xc2.predict_proba(feature_test)"
   ]
  },
  {
   "cell_type": "code",
   "execution_count": 76,
   "id": "fbfc438f",
   "metadata": {},
   "outputs": [],
   "source": [
    "lc2=LogisticRegression(penalty='l2',C=0.0003,max_iter=3000).fit(feature_train,target_train)\n",
    "l2_train_pred_prob=lc2.predict_proba(feature_train)\n",
    "l2_test_pred_prob=lc2.predict_proba(feature_test)"
   ]
  },
  {
   "cell_type": "code",
   "execution_count": 79,
   "id": "22fc22c7",
   "metadata": {},
   "outputs": [
    {
     "name": "stdout",
     "output_type": "stream",
     "text": [
      "Begin training.\n"
     ]
    },
    {
     "data": {
      "application/vnd.jupyter.widget-view+json": {
       "model_id": "1de756a63bab45b59dada92e6fd6883d",
       "version_major": 2,
       "version_minor": 0
      },
      "text/plain": [
       "  0%|          | 0/200 [00:00<?, ?it/s]"
      ]
     },
     "metadata": {},
     "output_type": "display_data"
    },
    {
     "name": "stdout",
     "output_type": "stream",
     "text": [
      "Epoch 001: | Train Loss: 0.49923 | Test Loss: 0.27995\n",
      "Epoch 002: | Train Loss: 0.38243 | Test Loss: 0.19857\n",
      "Epoch 003: | Train Loss: 0.33111 | Test Loss: 0.26404\n",
      "Epoch 004: | Train Loss: 0.29114 | Test Loss: 0.25334\n",
      "Epoch 005: | Train Loss: 0.29210 | Test Loss: 0.24956\n",
      "Epoch 006: | Train Loss: 0.29814 | Test Loss: 0.32864\n",
      "Epoch 007: | Train Loss: 0.21999 | Test Loss: 0.25003\n",
      "Epoch 008: | Train Loss: 0.27612 | Test Loss: 0.17838\n",
      "Epoch 009: | Train Loss: 0.27294 | Test Loss: 0.18212\n",
      "Epoch 010: | Train Loss: 0.27355 | Test Loss: 0.18284\n",
      "Epoch 011: | Train Loss: 0.27347 | Test Loss: 0.17774\n",
      "Epoch 012: | Train Loss: 0.27351 | Test Loss: 0.26558\n",
      "Epoch 013: | Train Loss: 0.29730 | Test Loss: 0.32505\n",
      "Epoch 014: | Train Loss: 0.24611 | Test Loss: 0.35446\n",
      "Epoch 015: | Train Loss: 0.17171 | Test Loss: 0.41527\n",
      "Epoch 016: | Train Loss: 0.20388 | Test Loss: 0.24010\n",
      "Epoch 017: | Train Loss: 0.19047 | Test Loss: 0.25675\n",
      "Epoch 018: | Train Loss: 0.21710 | Test Loss: 0.14920\n",
      "Epoch 019: | Train Loss: 0.14778 | Test Loss: 0.25100\n",
      "Epoch 020: | Train Loss: 0.13619 | Test Loss: 0.18919\n",
      "Epoch 021: | Train Loss: 0.11968 | Test Loss: 0.12456\n",
      "Epoch 022: | Train Loss: 0.12072 | Test Loss: 0.26209\n",
      "Epoch 023: | Train Loss: 0.14734 | Test Loss: 0.11520\n",
      "Epoch 024: | Train Loss: 0.17443 | Test Loss: 0.10924\n",
      "Epoch 025: | Train Loss: 0.21264 | Test Loss: 0.17305\n",
      "Epoch 026: | Train Loss: 0.26850 | Test Loss: 0.23130\n",
      "Epoch 027: | Train Loss: 0.15892 | Test Loss: 0.31969\n",
      "Epoch 028: | Train Loss: 0.08638 | Test Loss: 0.17512\n",
      "Epoch 029: | Train Loss: 0.11277 | Test Loss: 0.18278\n",
      "Epoch 030: | Train Loss: 0.07028 | Test Loss: 0.17065\n",
      "Epoch 031: | Train Loss: 0.05352 | Test Loss: 0.11912\n",
      "Epoch 032: | Train Loss: 0.05098 | Test Loss: 0.16468\n",
      "Epoch 033: | Train Loss: 0.05041 | Test Loss: 0.10052\n",
      "Epoch 034: | Train Loss: 0.07840 | Test Loss: 0.09382\n",
      "Epoch 035: | Train Loss: 0.07786 | Test Loss: 0.18581\n",
      "Epoch 036: | Train Loss: 0.07771 | Test Loss: 0.09633\n",
      "Epoch 037: | Train Loss: 0.05630 | Test Loss: 0.10020\n",
      "Epoch 038: | Train Loss: 0.06582 | Test Loss: 0.11460\n",
      "Epoch 039: | Train Loss: 0.04886 | Test Loss: 0.13979\n",
      "Epoch 040: | Train Loss: 0.04686 | Test Loss: 0.09397\n",
      "Epoch 041: | Train Loss: 0.04700 | Test Loss: 0.09077\n",
      "Epoch 042: | Train Loss: 0.04531 | Test Loss: 0.09770\n",
      "Epoch 043: | Train Loss: 0.24309 | Test Loss: 0.16844\n",
      "Epoch 044: | Train Loss: 0.11406 | Test Loss: 0.10093\n",
      "Epoch 045: | Train Loss: 0.10989 | Test Loss: 0.10326\n",
      "Epoch 046: | Train Loss: 0.10463 | Test Loss: 0.10500\n",
      "Epoch 047: | Train Loss: 0.17907 | Test Loss: 0.13473\n",
      "Epoch 048: | Train Loss: 0.09151 | Test Loss: 0.10694\n",
      "Epoch 049: | Train Loss: 0.08164 | Test Loss: 0.11262\n",
      "Epoch 050: | Train Loss: 0.05670 | Test Loss: 0.09640\n",
      "Epoch 051: | Train Loss: 0.04792 | Test Loss: 0.09839\n",
      "Epoch 052: | Train Loss: 0.04570 | Test Loss: 0.26148\n",
      "Epoch 053: | Train Loss: 0.06120 | Test Loss: 0.09062\n",
      "Epoch 054: | Train Loss: 0.04538 | Test Loss: 0.09078\n",
      "Epoch 055: | Train Loss: 0.04446 | Test Loss: 0.08985\n",
      "Epoch 056: | Train Loss: 0.04382 | Test Loss: 0.08898\n",
      "Epoch 057: | Train Loss: 0.04760 | Test Loss: 0.16391\n",
      "Epoch 058: | Train Loss: 0.05089 | Test Loss: 0.09215\n",
      "Epoch 059: | Train Loss: 0.04479 | Test Loss: 0.16462\n",
      "Epoch 060: | Train Loss: 0.04475 | Test Loss: 0.10303\n",
      "Epoch 061: | Train Loss: 0.17324 | Test Loss: 0.04646\n",
      "Epoch 062: | Train Loss: 0.12613 | Test Loss: 0.09767\n",
      "Epoch 063: | Train Loss: 0.12780 | Test Loss: 0.18791\n",
      "Epoch 064: | Train Loss: 0.06022 | Test Loss: 0.12014\n",
      "Epoch 065: | Train Loss: 0.07836 | Test Loss: 0.19044\n",
      "Epoch 066: | Train Loss: 0.04717 | Test Loss: 0.09660\n",
      "Epoch 067: | Train Loss: 0.07347 | Test Loss: 0.09067\n",
      "Epoch 068: | Train Loss: 0.07611 | Test Loss: 0.11659\n",
      "Epoch 069: | Train Loss: 0.07606 | Test Loss: 0.08926\n",
      "Epoch 070: | Train Loss: 0.07596 | Test Loss: 0.09232\n",
      "Epoch 071: | Train Loss: 0.08181 | Test Loss: 0.10344\n",
      "Epoch 072: | Train Loss: 0.09009 | Test Loss: 0.10210\n",
      "Epoch 073: | Train Loss: 0.08005 | Test Loss: 0.08101\n",
      "Epoch 074: | Train Loss: 0.08133 | Test Loss: 0.09853\n",
      "Epoch 075: | Train Loss: 0.12248 | Test Loss: 0.09510\n",
      "Epoch 076: | Train Loss: 0.05877 | Test Loss: 0.09316\n",
      "Epoch 077: | Train Loss: 0.04652 | Test Loss: 0.09172\n",
      "Epoch 078: | Train Loss: 0.04649 | Test Loss: 0.09740\n",
      "Epoch 079: | Train Loss: 0.04895 | Test Loss: 0.08995\n",
      "Epoch 080: | Train Loss: 0.04347 | Test Loss: 0.09115\n",
      "Epoch 081: | Train Loss: 0.18579 | Test Loss: 0.10772\n",
      "Epoch 082: | Train Loss: 0.06465 | Test Loss: 0.10230\n",
      "Epoch 083: | Train Loss: 0.04803 | Test Loss: 0.09647\n",
      "Epoch 084: | Train Loss: 0.04598 | Test Loss: 0.10595\n",
      "Epoch 085: | Train Loss: 0.04749 | Test Loss: 0.08938\n",
      "Epoch 086: | Train Loss: 0.04534 | Test Loss: 0.09582\n",
      "Epoch 087: | Train Loss: 0.04401 | Test Loss: 0.09073\n",
      "Epoch 088: | Train Loss: 0.05616 | Test Loss: 0.12845\n",
      "Epoch 089: | Train Loss: 0.04986 | Test Loss: 0.09165\n",
      "Epoch 090: | Train Loss: 0.08145 | Test Loss: 0.09039\n",
      "Epoch 091: | Train Loss: 0.04320 | Test Loss: 0.09004\n",
      "Epoch 092: | Train Loss: 0.04365 | Test Loss: 0.09302\n",
      "Epoch 093: | Train Loss: 0.07483 | Test Loss: 0.08981\n",
      "Epoch 094: | Train Loss: 0.07434 | Test Loss: 0.02526\n",
      "Epoch 095: | Train Loss: 0.08502 | Test Loss: 0.02316\n",
      "Epoch 096: | Train Loss: 0.10937 | Test Loss: 0.13357\n",
      "Epoch 097: | Train Loss: 0.09680 | Test Loss: 0.04510\n",
      "Epoch 098: | Train Loss: 0.11266 | Test Loss: 0.17324\n",
      "Epoch 099: | Train Loss: 0.08437 | Test Loss: 0.16532\n",
      "Epoch 100: | Train Loss: 0.08782 | Test Loss: 0.16624\n",
      "Epoch 101: | Train Loss: 0.10762 | Test Loss: 0.09584\n",
      "Epoch 102: | Train Loss: 0.07536 | Test Loss: 0.10018\n",
      "Epoch 103: | Train Loss: 0.10264 | Test Loss: 0.16680\n",
      "Epoch 104: | Train Loss: 0.08630 | Test Loss: 0.09847\n",
      "Epoch 105: | Train Loss: 0.07668 | Test Loss: 0.09381\n",
      "Epoch 106: | Train Loss: 0.09427 | Test Loss: 0.17452\n",
      "Epoch 107: | Train Loss: 0.05720 | Test Loss: 0.09419\n",
      "Epoch 108: | Train Loss: 0.04526 | Test Loss: 0.08982\n",
      "Epoch 109: | Train Loss: 0.04707 | Test Loss: 0.09025\n",
      "Epoch 110: | Train Loss: 0.04435 | Test Loss: 0.08892\n",
      "Epoch 111: | Train Loss: 0.07606 | Test Loss: 0.09961\n",
      "Epoch 112: | Train Loss: 0.04662 | Test Loss: 0.08912\n",
      "Epoch 113: | Train Loss: 0.07607 | Test Loss: 0.08847\n",
      "Epoch 114: | Train Loss: 0.18027 | Test Loss: 0.05519\n",
      "Epoch 115: | Train Loss: 0.05791 | Test Loss: 0.09296\n",
      "Epoch 116: | Train Loss: 0.04940 | Test Loss: 0.09560\n",
      "Epoch 117: | Train Loss: 0.04793 | Test Loss: 0.09184\n",
      "Epoch 118: | Train Loss: 0.04449 | Test Loss: 0.09207\n",
      "Epoch 119: | Train Loss: 0.04397 | Test Loss: 0.09423\n",
      "Epoch 120: | Train Loss: 0.04508 | Test Loss: 0.09255\n",
      "Epoch 121: | Train Loss: 0.04480 | Test Loss: 0.09127\n",
      "Epoch 122: | Train Loss: 0.06421 | Test Loss: 0.12020\n",
      "Epoch 123: | Train Loss: 0.06113 | Test Loss: 0.15994\n",
      "Epoch 124: | Train Loss: 0.08922 | Test Loss: 0.10637\n",
      "Epoch 125: | Train Loss: 0.04507 | Test Loss: 0.26848\n",
      "Epoch 126: | Train Loss: 0.04476 | Test Loss: 0.10037\n",
      "Epoch 127: | Train Loss: 0.07978 | Test Loss: 0.20438\n",
      "Epoch 128: | Train Loss: 0.07237 | Test Loss: 0.16253\n",
      "Epoch 129: | Train Loss: 0.04737 | Test Loss: 0.09643\n",
      "Epoch 130: | Train Loss: 0.04359 | Test Loss: 0.08910\n",
      "Epoch 131: | Train Loss: 0.04222 | Test Loss: 0.09340\n",
      "Epoch 132: | Train Loss: 0.04694 | Test Loss: 0.09439\n",
      "Epoch 133: | Train Loss: 0.04393 | Test Loss: 0.08837\n",
      "Epoch 134: | Train Loss: 0.04813 | Test Loss: 0.09598\n",
      "Epoch 135: | Train Loss: 0.04469 | Test Loss: 0.23569\n",
      "Epoch 136: | Train Loss: 0.06459 | Test Loss: 0.09153\n",
      "Epoch 137: | Train Loss: 0.04552 | Test Loss: 0.08901\n",
      "Epoch 138: | Train Loss: 0.04471 | Test Loss: 0.08866\n",
      "Epoch 139: | Train Loss: 0.04367 | Test Loss: 0.09714\n",
      "Epoch 140: | Train Loss: 0.04482 | Test Loss: 0.08809\n",
      "Epoch 141: | Train Loss: 0.11480 | Test Loss: 0.17045\n",
      "Epoch 142: | Train Loss: 0.05897 | Test Loss: 0.09234\n",
      "Epoch 143: | Train Loss: 0.06199 | Test Loss: 0.09865\n",
      "Epoch 144: | Train Loss: 0.05073 | Test Loss: 0.09064\n",
      "Epoch 145: | Train Loss: 0.04699 | Test Loss: 0.09136\n",
      "Epoch 146: | Train Loss: 0.04577 | Test Loss: 0.09074\n",
      "Epoch 147: | Train Loss: 0.04351 | Test Loss: 0.09073\n",
      "Epoch 148: | Train Loss: 0.12643 | Test Loss: 0.09735\n",
      "Epoch 149: | Train Loss: 0.12631 | Test Loss: 0.09745\n",
      "Epoch 150: | Train Loss: 0.04825 | Test Loss: 0.08819\n",
      "Epoch 151: | Train Loss: 0.04515 | Test Loss: 0.08800\n",
      "Epoch 152: | Train Loss: 0.04399 | Test Loss: 0.08673\n"
     ]
    },
    {
     "name": "stdout",
     "output_type": "stream",
     "text": [
      "Epoch 153: | Train Loss: 0.04268 | Test Loss: 0.08719\n",
      "Epoch 154: | Train Loss: 0.11841 | Test Loss: 0.09140\n",
      "Epoch 155: | Train Loss: 0.06411 | Test Loss: 0.09088\n",
      "Epoch 156: | Train Loss: 0.04390 | Test Loss: 0.09046\n",
      "Epoch 157: | Train Loss: 0.04364 | Test Loss: 0.08855\n",
      "Epoch 158: | Train Loss: 0.04447 | Test Loss: 0.08800\n",
      "Epoch 159: | Train Loss: 0.04570 | Test Loss: 0.09014\n",
      "Epoch 160: | Train Loss: 0.04889 | Test Loss: 0.08111\n",
      "Epoch 161: | Train Loss: 0.05141 | Test Loss: 0.09125\n",
      "Epoch 162: | Train Loss: 0.04452 | Test Loss: 0.23448\n",
      "Epoch 163: | Train Loss: 0.14475 | Test Loss: 0.39044\n",
      "Epoch 164: | Train Loss: 0.08854 | Test Loss: 0.16698\n",
      "Epoch 165: | Train Loss: 0.06439 | Test Loss: 0.16530\n",
      "Epoch 166: | Train Loss: 0.05144 | Test Loss: 0.09913\n",
      "Epoch 167: | Train Loss: 0.04446 | Test Loss: 0.09548\n",
      "Epoch 168: | Train Loss: 0.04626 | Test Loss: 0.09010\n",
      "Epoch 169: | Train Loss: 0.04472 | Test Loss: 0.08819\n",
      "Epoch 170: | Train Loss: 0.04293 | Test Loss: 0.08854\n",
      "Epoch 171: | Train Loss: 0.04905 | Test Loss: 0.51771\n",
      "Epoch 172: | Train Loss: 0.06721 | Test Loss: 0.09139\n",
      "Epoch 173: | Train Loss: 0.07456 | Test Loss: 0.08820\n",
      "Epoch 174: | Train Loss: 0.10573 | Test Loss: 0.17312\n",
      "Epoch 175: | Train Loss: 0.04956 | Test Loss: 0.09190\n",
      "Epoch 176: | Train Loss: 0.04535 | Test Loss: 0.08931\n",
      "Epoch 177: | Train Loss: 0.04824 | Test Loss: 0.02815\n",
      "Epoch 178: | Train Loss: 0.06027 | Test Loss: 0.09816\n",
      "Epoch 179: | Train Loss: 0.04533 | Test Loss: 0.16629\n",
      "Epoch 180: | Train Loss: 0.04514 | Test Loss: 0.09094\n",
      "Epoch 181: | Train Loss: 0.04315 | Test Loss: 0.09247\n",
      "Epoch 182: | Train Loss: 0.04282 | Test Loss: 0.09178\n",
      "Epoch 183: | Train Loss: 0.04333 | Test Loss: 0.18139\n",
      "Epoch 184: | Train Loss: 0.04674 | Test Loss: 0.09148\n",
      "Epoch 185: | Train Loss: 0.10314 | Test Loss: 0.09297\n",
      "Epoch 186: | Train Loss: 0.08860 | Test Loss: 0.09358\n",
      "Epoch 187: | Train Loss: 0.06852 | Test Loss: 0.54676\n",
      "Epoch 188: | Train Loss: 0.08258 | Test Loss: 0.09597\n",
      "Epoch 189: | Train Loss: 0.07557 | Test Loss: 0.02197\n",
      "Epoch 190: | Train Loss: 0.07562 | Test Loss: 0.09361\n",
      "Epoch 191: | Train Loss: 0.07342 | Test Loss: 0.09168\n",
      "Epoch 192: | Train Loss: 0.05950 | Test Loss: 0.11507\n",
      "Epoch 193: | Train Loss: 0.10840 | Test Loss: 0.02458\n",
      "Epoch 194: | Train Loss: 0.07395 | Test Loss: 0.09453\n",
      "Epoch 195: | Train Loss: 0.10422 | Test Loss: 0.09351\n",
      "Epoch 196: | Train Loss: 0.10345 | Test Loss: 0.02938\n",
      "Epoch 197: | Train Loss: 0.07742 | Test Loss: 0.09244\n",
      "Epoch 198: | Train Loss: 0.07953 | Test Loss: 0.09370\n",
      "Epoch 199: | Train Loss: 0.14279 | Test Loss: 0.33664\n",
      "Epoch 200: | Train Loss: 0.22932 | Test Loss: 0.04570\n"
     ]
    }
   ],
   "source": [
    "num_features=121\n",
    "keep_prob=1\n",
    "modelp =BinaryClassification3(num_features)            \n",
    "modelp.to(device)\n",
    "loss_stats_test3 = {\n",
    "        'train': [], 'test': []\n",
    "        }\n",
    "torch_fit(modelp,train_loader,test_loader,200,64,0.001,loss_stats_test3,l2reg=0.03)\n",
    "p2_test_pred=pred_torch(modelp,test_loader)\n",
    "p2_train_pred=pred_torch(modelp,train_loader_pred)"
   ]
  },
  {
   "cell_type": "code",
   "execution_count": 80,
   "id": "42f1b641",
   "metadata": {},
   "outputs": [
    {
     "name": "stdout",
     "output_type": "stream",
     "text": [
      "Begin training.\n"
     ]
    },
    {
     "name": "stderr",
     "output_type": "stream",
     "text": [
      "/tmp/ipykernel_4316/3977962575.py:23: UserWarning: nn.init.xavier_uniform is now deprecated in favor of nn.init.xavier_uniform_.\n",
      "  torch.nn.init.xavier_uniform(self.fc1.weight)\n"
     ]
    },
    {
     "data": {
      "application/vnd.jupyter.widget-view+json": {
       "model_id": "d8c5fc0e7625400081491ead16949e8e",
       "version_major": 2,
       "version_minor": 0
      },
      "text/plain": [
       "  0%|          | 0/200 [00:00<?, ?it/s]"
      ]
     },
     "metadata": {},
     "output_type": "display_data"
    },
    {
     "name": "stdout",
     "output_type": "stream",
     "text": [
      "Epoch 001: | Train Loss: 33.74343 | Test Loss: 34.37500\n",
      "Epoch 002: | Train Loss: 33.91192 | Test Loss: 34.37501\n",
      "Epoch 003: | Train Loss: 34.01097 | Test Loss: 34.37503\n",
      "Epoch 004: | Train Loss: 16.11593 | Test Loss: 0.39845\n",
      "Epoch 005: | Train Loss: 0.71862 | Test Loss: 0.19004\n",
      "Epoch 006: | Train Loss: 0.88837 | Test Loss: 0.08141\n",
      "Epoch 007: | Train Loss: 0.21111 | Test Loss: 0.04801\n",
      "Epoch 008: | Train Loss: 0.16481 | Test Loss: 0.26538\n",
      "Epoch 009: | Train Loss: 0.19472 | Test Loss: 0.18710\n",
      "Epoch 010: | Train Loss: 0.08023 | Test Loss: 0.03007\n",
      "Epoch 011: | Train Loss: 0.17758 | Test Loss: 0.18834\n",
      "Epoch 012: | Train Loss: 0.10838 | Test Loss: 0.17263\n",
      "Epoch 013: | Train Loss: 0.09778 | Test Loss: 0.17499\n",
      "Epoch 014: | Train Loss: 0.08066 | Test Loss: 0.06798\n",
      "Epoch 015: | Train Loss: 0.10691 | Test Loss: 0.02782\n",
      "Epoch 016: | Train Loss: 0.07909 | Test Loss: 0.03410\n",
      "Epoch 017: | Train Loss: 0.05249 | Test Loss: 0.10901\n",
      "Epoch 018: | Train Loss: 0.07974 | Test Loss: 0.02593\n",
      "Epoch 019: | Train Loss: 0.10254 | Test Loss: 0.39648\n",
      "Epoch 020: | Train Loss: 0.09006 | Test Loss: 0.03032\n",
      "Epoch 021: | Train Loss: 0.04088 | Test Loss: 0.02970\n",
      "Epoch 022: | Train Loss: 0.01725 | Test Loss: 0.02883\n",
      "Epoch 023: | Train Loss: 0.02034 | Test Loss: 0.02819\n",
      "Epoch 024: | Train Loss: 0.02641 | Test Loss: 0.02788\n",
      "Epoch 025: | Train Loss: 0.04753 | Test Loss: 0.02627\n",
      "Epoch 026: | Train Loss: 0.04829 | Test Loss: 0.17521\n",
      "Epoch 027: | Train Loss: 0.04660 | Test Loss: 0.02748\n",
      "Epoch 028: | Train Loss: 0.10182 | Test Loss: 0.02665\n",
      "Epoch 029: | Train Loss: 0.07864 | Test Loss: 0.02285\n",
      "Epoch 030: | Train Loss: 0.07714 | Test Loss: 0.10001\n",
      "Epoch 031: | Train Loss: 0.07761 | Test Loss: 0.24572\n",
      "Epoch 032: | Train Loss: 0.10258 | Test Loss: 0.06447\n",
      "Epoch 033: | Train Loss: 0.02936 | Test Loss: 0.02492\n",
      "Epoch 034: | Train Loss: 0.02983 | Test Loss: 0.09612\n",
      "Epoch 035: | Train Loss: 0.09808 | Test Loss: 0.30519\n",
      "Epoch 036: | Train Loss: 0.14795 | Test Loss: 0.03106\n",
      "Epoch 037: | Train Loss: 0.02170 | Test Loss: 0.02604\n",
      "Epoch 038: | Train Loss: 0.02562 | Test Loss: 0.02534\n",
      "Epoch 039: | Train Loss: 0.01712 | Test Loss: 0.02713\n",
      "Epoch 040: | Train Loss: 0.01586 | Test Loss: 0.02644\n",
      "Epoch 041: | Train Loss: 0.01583 | Test Loss: 0.02804\n",
      "Epoch 042: | Train Loss: 0.06574 | Test Loss: 0.10812\n",
      "Epoch 043: | Train Loss: 0.21059 | Test Loss: 0.02738\n",
      "Epoch 044: | Train Loss: 0.01825 | Test Loss: 0.02477\n",
      "Epoch 045: | Train Loss: 0.05226 | Test Loss: 0.02792\n",
      "Epoch 046: | Train Loss: 0.02694 | Test Loss: 0.02514\n",
      "Epoch 047: | Train Loss: 0.01756 | Test Loss: 0.09268\n",
      "Epoch 048: | Train Loss: 0.01608 | Test Loss: 0.02152\n",
      "Epoch 049: | Train Loss: 0.01576 | Test Loss: 0.02178\n",
      "Epoch 050: | Train Loss: 0.01611 | Test Loss: 0.02270\n",
      "Epoch 051: | Train Loss: 0.01841 | Test Loss: 0.12105\n",
      "Epoch 052: | Train Loss: 0.02245 | Test Loss: 0.06597\n",
      "Epoch 053: | Train Loss: 0.10333 | Test Loss: 0.10565\n",
      "Epoch 054: | Train Loss: 0.03337 | Test Loss: 0.02504\n",
      "Epoch 055: | Train Loss: 0.01656 | Test Loss: 0.02457\n",
      "Epoch 056: | Train Loss: 0.01739 | Test Loss: 0.02826\n",
      "Epoch 057: | Train Loss: 0.01604 | Test Loss: 0.02328\n",
      "Epoch 058: | Train Loss: 0.01545 | Test Loss: 0.02345\n",
      "Epoch 059: | Train Loss: 0.04230 | Test Loss: 0.02308\n",
      "Epoch 060: | Train Loss: 0.05783 | Test Loss: 0.02068\n",
      "Epoch 061: | Train Loss: 0.01899 | Test Loss: 0.01953\n",
      "Epoch 062: | Train Loss: 0.01745 | Test Loss: 0.02230\n",
      "Epoch 063: | Train Loss: 0.01519 | Test Loss: 0.02037\n",
      "Epoch 064: | Train Loss: 0.01516 | Test Loss: 0.09296\n",
      "Epoch 065: | Train Loss: 0.01946 | Test Loss: 0.09083\n",
      "Epoch 066: | Train Loss: 0.04687 | Test Loss: 0.16366\n",
      "Epoch 067: | Train Loss: 0.02628 | Test Loss: 0.02117\n",
      "Epoch 068: | Train Loss: 0.04885 | Test Loss: 0.09189\n",
      "Epoch 069: | Train Loss: 0.04598 | Test Loss: 0.10123\n",
      "Epoch 070: | Train Loss: 0.01756 | Test Loss: 0.09151\n",
      "Epoch 071: | Train Loss: 0.02779 | Test Loss: 0.09108\n",
      "Epoch 072: | Train Loss: 0.02486 | Test Loss: 0.02209\n",
      "Epoch 073: | Train Loss: 0.02384 | Test Loss: 0.18822\n",
      "Epoch 074: | Train Loss: 0.05015 | Test Loss: 0.09081\n",
      "Epoch 075: | Train Loss: 0.01682 | Test Loss: 0.10222\n",
      "Epoch 076: | Train Loss: 0.01679 | Test Loss: 0.16420\n",
      "Epoch 077: | Train Loss: 0.01550 | Test Loss: 0.16279\n",
      "Epoch 078: | Train Loss: 0.01981 | Test Loss: 0.16154\n",
      "Epoch 079: | Train Loss: 0.11917 | Test Loss: 0.09917\n",
      "Epoch 080: | Train Loss: 0.03148 | Test Loss: 0.03654\n",
      "Epoch 081: | Train Loss: 0.04364 | Test Loss: 0.03153\n",
      "Epoch 082: | Train Loss: 0.01746 | Test Loss: 0.01967\n",
      "Epoch 083: | Train Loss: 0.01819 | Test Loss: 0.03142\n",
      "Epoch 084: | Train Loss: 0.01896 | Test Loss: 0.16245\n",
      "Epoch 085: | Train Loss: 0.01520 | Test Loss: 0.09438\n",
      "Epoch 086: | Train Loss: 0.01631 | Test Loss: 0.09182\n",
      "Epoch 087: | Train Loss: 0.01717 | Test Loss: 0.16159\n",
      "Epoch 088: | Train Loss: 0.02271 | Test Loss: 0.02981\n",
      "Epoch 089: | Train Loss: 0.01896 | Test Loss: 0.09162\n",
      "Epoch 090: | Train Loss: 0.01799 | Test Loss: 0.08920\n",
      "Epoch 091: | Train Loss: 0.01646 | Test Loss: 0.16094\n",
      "Epoch 092: | Train Loss: 0.01693 | Test Loss: 0.02673\n",
      "Epoch 093: | Train Loss: 0.01601 | Test Loss: 0.01902\n",
      "Epoch 094: | Train Loss: 0.04887 | Test Loss: 0.15892\n",
      "Epoch 095: | Train Loss: 0.03971 | Test Loss: 0.02714\n",
      "Epoch 096: | Train Loss: 0.01954 | Test Loss: 0.01975\n",
      "Epoch 097: | Train Loss: 0.04879 | Test Loss: 0.16271\n",
      "Epoch 098: | Train Loss: 0.01798 | Test Loss: 0.03364\n",
      "Epoch 099: | Train Loss: 0.04615 | Test Loss: 0.09739\n",
      "Epoch 100: | Train Loss: 0.06122 | Test Loss: 0.17608\n",
      "Epoch 101: | Train Loss: 0.02800 | Test Loss: 0.02098\n",
      "Epoch 102: | Train Loss: 0.01850 | Test Loss: 0.01820\n",
      "Epoch 103: | Train Loss: 0.17472 | Test Loss: 0.06590\n",
      "Epoch 104: | Train Loss: 0.06383 | Test Loss: 0.09617\n",
      "Epoch 105: | Train Loss: 0.05308 | Test Loss: 0.02349\n",
      "Epoch 106: | Train Loss: 0.04941 | Test Loss: 0.02309\n",
      "Epoch 107: | Train Loss: 0.04940 | Test Loss: 0.09374\n",
      "Epoch 108: | Train Loss: 0.04835 | Test Loss: 0.09343\n",
      "Epoch 109: | Train Loss: 0.05582 | Test Loss: 0.02663\n",
      "Epoch 110: | Train Loss: 0.01916 | Test Loss: 0.09156\n",
      "Epoch 111: | Train Loss: 0.01729 | Test Loss: 0.09100\n",
      "Epoch 112: | Train Loss: 0.01703 | Test Loss: 0.09080\n",
      "Epoch 113: | Train Loss: 0.01803 | Test Loss: 0.09073\n",
      "Epoch 114: | Train Loss: 0.01643 | Test Loss: 0.09051\n",
      "Epoch 115: | Train Loss: 0.01896 | Test Loss: 0.09689\n",
      "Epoch 116: | Train Loss: 0.01743 | Test Loss: 0.09013\n",
      "Epoch 117: | Train Loss: 0.01679 | Test Loss: 0.09046\n",
      "Epoch 118: | Train Loss: 0.02246 | Test Loss: 0.06151\n",
      "Epoch 119: | Train Loss: 0.01820 | Test Loss: 0.02275\n",
      "Epoch 120: | Train Loss: 0.01765 | Test Loss: 0.08981\n",
      "Epoch 121: | Train Loss: 0.03496 | Test Loss: 0.09238\n",
      "Epoch 122: | Train Loss: 0.02411 | Test Loss: 0.01894\n",
      "Epoch 123: | Train Loss: 0.01683 | Test Loss: 0.16044\n",
      "Epoch 124: | Train Loss: 0.01813 | Test Loss: 0.16020\n",
      "Epoch 125: | Train Loss: 0.01623 | Test Loss: 0.16048\n",
      "Epoch 126: | Train Loss: 0.15233 | Test Loss: 0.03845\n",
      "Epoch 127: | Train Loss: 0.03266 | Test Loss: 0.02447\n",
      "Epoch 128: | Train Loss: 0.04309 | Test Loss: 0.02165\n",
      "Epoch 129: | Train Loss: 0.02196 | Test Loss: 0.02012\n",
      "Epoch 130: | Train Loss: 0.01692 | Test Loss: 0.02014\n",
      "Epoch 131: | Train Loss: 0.01625 | Test Loss: 0.02864\n",
      "Epoch 132: | Train Loss: 0.01684 | Test Loss: 0.02217\n",
      "Epoch 133: | Train Loss: 0.01666 | Test Loss: 0.09125\n",
      "Epoch 134: | Train Loss: 0.01604 | Test Loss: 0.08985\n",
      "Epoch 135: | Train Loss: 0.01641 | Test Loss: 0.16200\n",
      "Epoch 136: | Train Loss: 0.01786 | Test Loss: 0.16097\n",
      "Epoch 137: | Train Loss: 0.01725 | Test Loss: 0.16104\n",
      "Epoch 138: | Train Loss: 0.01640 | Test Loss: 0.02852\n",
      "Epoch 139: | Train Loss: 0.01731 | Test Loss: 0.16159\n",
      "Epoch 140: | Train Loss: 0.02408 | Test Loss: 0.16158\n",
      "Epoch 141: | Train Loss: 0.05042 | Test Loss: 0.08976\n",
      "Epoch 142: | Train Loss: 0.01696 | Test Loss: 0.03242\n",
      "Epoch 143: | Train Loss: 0.01633 | Test Loss: 0.09188\n",
      "Epoch 144: | Train Loss: 0.06901 | Test Loss: 0.02749\n",
      "Epoch 145: | Train Loss: 0.01883 | Test Loss: 0.08835\n",
      "Epoch 146: | Train Loss: 0.01626 | Test Loss: 0.23308\n",
      "Epoch 147: | Train Loss: 0.08087 | Test Loss: 0.35994\n",
      "Epoch 148: | Train Loss: 0.03360 | Test Loss: 0.08984\n",
      "Epoch 149: | Train Loss: 0.01700 | Test Loss: 0.02790\n",
      "Epoch 150: | Train Loss: 0.01725 | Test Loss: 0.08892\n",
      "Epoch 151: | Train Loss: 0.01587 | Test Loss: 0.15976\n",
      "Epoch 152: | Train Loss: 0.01845 | Test Loss: 0.15930\n"
     ]
    },
    {
     "name": "stdout",
     "output_type": "stream",
     "text": [
      "Epoch 153: | Train Loss: 0.03663 | Test Loss: 0.01820\n",
      "Epoch 154: | Train Loss: 0.01688 | Test Loss: 0.02232\n",
      "Epoch 155: | Train Loss: 0.02189 | Test Loss: 0.08856\n",
      "Epoch 156: | Train Loss: 0.01695 | Test Loss: 0.15953\n",
      "Epoch 157: | Train Loss: 0.01559 | Test Loss: 0.16005\n",
      "Epoch 158: | Train Loss: 0.01558 | Test Loss: 0.15861\n",
      "Epoch 159: | Train Loss: 0.01677 | Test Loss: 0.09402\n",
      "Epoch 160: | Train Loss: 0.01960 | Test Loss: 0.15912\n",
      "Epoch 161: | Train Loss: 0.01729 | Test Loss: 0.08860\n",
      "Epoch 162: | Train Loss: 0.01743 | Test Loss: 0.16105\n",
      "Epoch 163: | Train Loss: 0.01562 | Test Loss: 0.23252\n",
      "Epoch 164: | Train Loss: 0.01695 | Test Loss: 0.15811\n",
      "Epoch 165: | Train Loss: 0.01588 | Test Loss: 0.09177\n",
      "Epoch 166: | Train Loss: 0.01655 | Test Loss: 0.22978\n",
      "Epoch 167: | Train Loss: 0.13458 | Test Loss: 0.03908\n",
      "Epoch 168: | Train Loss: 0.02371 | Test Loss: 0.03121\n",
      "Epoch 169: | Train Loss: 0.01856 | Test Loss: 0.02530\n",
      "Epoch 170: | Train Loss: 0.01739 | Test Loss: 0.09572\n",
      "Epoch 171: | Train Loss: 0.01656 | Test Loss: 0.09208\n",
      "Epoch 172: | Train Loss: 0.02004 | Test Loss: 0.16118\n",
      "Epoch 173: | Train Loss: 0.02364 | Test Loss: 0.09030\n",
      "Epoch 174: | Train Loss: 0.02120 | Test Loss: 0.16300\n",
      "Epoch 175: | Train Loss: 0.01696 | Test Loss: 0.09189\n",
      "Epoch 176: | Train Loss: 0.01647 | Test Loss: 0.16060\n",
      "Epoch 177: | Train Loss: 0.01713 | Test Loss: 0.23766\n",
      "Epoch 178: | Train Loss: 0.02343 | Test Loss: 0.14440\n",
      "Epoch 179: | Train Loss: 0.02800 | Test Loss: 0.09525\n",
      "Epoch 180: | Train Loss: 0.01680 | Test Loss: 0.16006\n",
      "Epoch 181: | Train Loss: 0.01654 | Test Loss: 0.15946\n",
      "Epoch 182: | Train Loss: 0.06815 | Test Loss: 0.24211\n",
      "Epoch 183: | Train Loss: 0.05574 | Test Loss: 0.02885\n",
      "Epoch 184: | Train Loss: 0.05180 | Test Loss: 0.01787\n",
      "Epoch 185: | Train Loss: 0.01755 | Test Loss: 0.01969\n",
      "Epoch 186: | Train Loss: 0.01562 | Test Loss: 0.16963\n",
      "Epoch 187: | Train Loss: 0.01897 | Test Loss: 0.08892\n",
      "Epoch 188: | Train Loss: 0.01639 | Test Loss: 0.15979\n",
      "Epoch 189: | Train Loss: 0.01682 | Test Loss: 0.08941\n",
      "Epoch 190: | Train Loss: 0.01541 | Test Loss: 0.02172\n",
      "Epoch 191: | Train Loss: 0.02153 | Test Loss: 0.08923\n",
      "Epoch 192: | Train Loss: 0.02293 | Test Loss: 0.02452\n",
      "Epoch 193: | Train Loss: 0.01625 | Test Loss: 0.02636\n",
      "Epoch 194: | Train Loss: 0.01639 | Test Loss: 0.16486\n",
      "Epoch 195: | Train Loss: 0.09500 | Test Loss: 0.11541\n",
      "Epoch 196: | Train Loss: 0.04095 | Test Loss: 0.16831\n",
      "Epoch 197: | Train Loss: 0.02303 | Test Loss: 0.09152\n",
      "Epoch 198: | Train Loss: 0.01801 | Test Loss: 0.17686\n",
      "Epoch 199: | Train Loss: 0.01964 | Test Loss: 0.09217\n",
      "Epoch 200: | Train Loss: 0.01770 | Test Loss: 0.16138\n"
     ]
    }
   ],
   "source": [
    "#slower than perceptron but not much \n",
    "keep_prob=1\n",
    "modelc =CNNBinary3()            \n",
    "modelc.to(device)\n",
    "loss_stats_test_c = {\n",
    "        'train': [], 'test': []\n",
    "        }\n",
    "torch_fit(modelc,train_im_loader,test_im_loader,200,64,0.001,loss_stats_test_c,l2reg=0.03)\n",
    "c2_test_pred=pred_torch(modelc,test_im_loader)\n",
    "c2_train_pred=pred_torch(modelc,train_im_loader_pred)"
   ]
  },
  {
   "cell_type": "markdown",
   "id": "a3e29e82",
   "metadata": {},
   "source": [
    "Looking on wrong classifications concentrating on the ones which are clealy wrong. "
   ]
  },
  {
   "cell_type": "code",
   "execution_count": 130,
   "id": "14c62354",
   "metadata": {},
   "outputs": [
    {
     "name": "stdout",
     "output_type": "stream",
     "text": [
      "case 22 class is GALAXY with p [0.305 0.028 0.133 0.101]\n",
      "Mag(model)-Mag(star)=-0.234\n",
      "redshift is 0.4016\n",
      "case 52 class is GALAXY with p [0.81  0.036 0.434 0.621]\n",
      "Mag(model)-Mag(star)=-0.373\n",
      "redshift is 0.8663\n",
      "case 239 class is GALAXY with p [0.296 0.224 0.127 0.276]\n",
      "Mag(model)-Mag(star)=-0.312\n",
      "redshift is 0.1316\n",
      "case 1091 class is STAR with p [0.279 0.999 0.539 0.917]\n",
      "Mag(model)-Mag(star)=-0.038\n",
      "velocity is 90.0\n",
      "case 1092 class is GALAXY with p [0.006 0.277 0.007 0.948]\n",
      "Mag(model)-Mag(star)=-0.294\n",
      "redshift is 0.1381\n",
      "case 1125 class is GALAXY with p [0.709 0.289 0.287 0.661]\n",
      "Mag(model)-Mag(star)=-0.441\n",
      "redshift is 0.2353\n",
      "case 1131 class is STAR with p [1.    0.624 0.986 0.951]\n",
      "Mag(model)-Mag(star)=-0.001\n",
      "velocity is -26.0\n",
      "case 1151 class is STAR with p [0.012 0.767 0.944 0.459]\n",
      "Mag(model)-Mag(star)=-0.03\n",
      "velocity is 70.0\n",
      "case 1289 class is GALAXY with p [0.044 0.052 0.03  0.043]\n",
      "Mag(model)-Mag(star)=-0.21\n",
      "redshift is 0.5941\n",
      "9\n",
      "count    3092.000000\n",
      "mean       -1.374348\n",
      "std         0.633466\n",
      "min        -6.088180\n",
      "25%        -1.676228\n",
      "50%        -1.268105\n",
      "75%        -0.932505\n",
      "max        -0.176110\n",
      "dtype: float64\n"
     ]
    }
   ],
   "source": [
    "c=0\n",
    "for i in range(len(x2_test_pred_prob)):\n",
    "    avg=(x2_test_pred_prob[i,1]+c2_test_pred[i]+p2_test_pred[i]+l2_test_pred_prob[i,1])/4\n",
    "    p=np.array([l2_test_pred_prob[i,1],x2_test_pred_prob[i,1],p2_test_pred[i],c2_test_pred[i]])\n",
    "    if abs(avg-target_test[i])>0.5:\n",
    "        print(f\"case {i} class is {df_test['class'].iat[i]} with p {np.round(p,3)}\")\n",
    "        print(f\"Mag(model)-Mag(star)={np.round(df_test.modelMag_r.iat[i]-df_test.psfMag_r.iat[i],3)}\")\n",
    "        if df_test['class'].iat[i]=='GALAXY':\n",
    "            print(f\"redshift is {np.round(df_test.redshift.iat[i],4)}\")\n",
    "        else:\n",
    "            print(f\"velocity is {np.round(df_test.redshift.iat[i]*299792)}\")\n",
    "        c+=1\n",
    "print(c)        \n",
    "diff2=df2[df2['class']=='GALAXY'].modelMag_r-df2[df2['class']=='GALAXY'].psfMag_r\n",
    "print(diff2.describe())"
   ]
  },
  {
   "cell_type": "markdown",
   "id": "33fc8746",
   "metadata": {},
   "source": [
    "Looking on properties of table, I have not yet found something obvious which hints that classifications are faulty. The galaxies included here are more compact than most, that is expected that the galaxies with the problems are the smaller ones, but that is true for both wrong classifications in the labels and by the algorithms. They are not obvious outliers, see plot below. Likely the sample is too small to be able to distinguish the options. "
   ]
  },
  {
   "cell_type": "code",
   "execution_count": 136,
   "id": "b1defe39",
   "metadata": {},
   "outputs": [
    {
     "data": {
      "text/plain": [
       "(0.1, -1.0)"
      ]
     },
     "execution_count": 136,
     "metadata": {},
     "output_type": "execute_result"
    },
    {
     "data": {
      "image/png": "[encoded data removed]",
      "text/plain": [
       "<Figure size 640x480 with 1 Axes>"
      ]
     },
     "metadata": {},
     "output_type": "display_data"
    }
   ],
   "source": [
    "plt.plot(df2['modelMag_r'][df2['class']=='STAR']-df2['psfMag_r'][df2['class']=='STAR'],df2['modelMag_r'][df2['class']=='STAR'],'o',ms=0.5,color='green',label='stars')\n",
    "plt.plot(df2['modelMag_r'][df2['class']=='GALAXY']-df2['psfMag_r'][df2['class']=='GALAXY'],df2['modelMag_r'][df2['class']=='GALAXY'],'o',ms=2,color='red',label='galaxies') \n",
    "plt.legend(loc=\"best\")\n",
    "plt.xlabel(\"r (psf)- r(model)\")\n",
    "plt.ylabel(\"r (model)\")\n",
    "plt.ylim(24,14)\n",
    "plt.xlim(0.1,-1)\n",
    "#plt.yscale(\"log\")"
   ]
  },
  {
   "cell_type": "markdown",
   "id": "df5464da",
   "metadata": {},
   "source": [
    "Below I plot the images of the objects with classfications problems. "
   ]
  },
  {
   "cell_type": "code",
   "execution_count": 87,
   "id": "3df0ea35",
   "metadata": {},
   "outputs": [
    {
     "data": {
      "text/plain": [
       "<matplotlib.image.AxesImage at 0x7f396ea93280>"
      ]
     },
     "execution_count": 87,
     "metadata": {},
     "output_type": "execute_result"
    },
    {
     "data": {
      "image/png": "[encoded data removed]",
      "text/plain": [
       "<Figure size 640x480 with 1 Axes>"
      ]
     },
     "metadata": {},
     "output_type": "display_data"
    }
   ],
   "source": [
    "#all methods agree \n",
    "plt.axis('off')\n",
    "plt.title(\"galaxy classified as star\")\n",
    "plt.imshow(-image_test[22,0,:,:].T,cmap=cm.gray, interpolation='nearest')"
   ]
  },
  {
   "cell_type": "code",
   "execution_count": 96,
   "id": "a75fd7a1",
   "metadata": {},
   "outputs": [
    {
     "data": {
      "text/plain": [
       "<matplotlib.image.AxesImage at 0x7f396594d160>"
      ]
     },
     "execution_count": 96,
     "metadata": {},
     "output_type": "execute_result"
    },
    {
     "data": {
      "image/png": "[encoded data removed]",
      "text/plain": [
       "<Figure size 640x480 with 1 Axes>"
      ]
     },
     "metadata": {},
     "output_type": "display_data"
    }
   ],
   "source": [
    "#logistic and convolutional are different\n",
    "plt.axis('off')\n",
    "plt.title(\"galaxy more classified as star\")\n",
    "plt.imshow(-image_test[52,0,:,:].T,cmap=cm.gray, interpolation='nearest')"
   ]
  },
  {
   "cell_type": "code",
   "execution_count": 90,
   "id": "47659626",
   "metadata": {},
   "outputs": [
    {
     "data": {
      "text/plain": [
       "<matplotlib.image.AxesImage at 0x7f3965a05070>"
      ]
     },
     "execution_count": 90,
     "metadata": {},
     "output_type": "execute_result"
    },
    {
     "data": {
      "image/png": "[encoded data removed]",
      "text/plain": [
       "<Figure size 640x480 with 1 Axes>"
      ]
     },
     "metadata": {},
     "output_type": "display_data"
    }
   ],
   "source": [
    "#all methods agree \n",
    "plt.axis('off')\n",
    "plt.title(\"galaxy classified as star\")\n",
    "plt.imshow(-image_test[239,0,:,:].T,cmap=cm.gray, interpolation='nearest')"
   ]
  },
  {
   "cell_type": "code",
   "execution_count": 92,
   "id": "5821e39f",
   "metadata": {},
   "outputs": [
    {
     "data": {
      "text/plain": [
       "<matplotlib.image.AxesImage at 0x7f39659ac550>"
      ]
     },
     "execution_count": 92,
     "metadata": {},
     "output_type": "execute_result"
    },
    {
     "data": {
      "image/png": "[encoded data removed]",
      "text/plain": [
       "<Figure size 640x480 with 1 Axes>"
      ]
     },
     "metadata": {},
     "output_type": "display_data"
    }
   ],
   "source": [
    "#logistic is different from other methods\n",
    "plt.axis('off')\n",
    "plt.title(\"star mostly classified as galaxy\")\n",
    "plt.imshow(-image_test[1091,0,:,:].T,cmap=cm.gray, interpolation='nearest')"
   ]
  },
  {
   "cell_type": "code",
   "execution_count": 93,
   "id": "5a13635e",
   "metadata": {},
   "outputs": [
    {
     "data": {
      "text/plain": [
       "<matplotlib.image.AxesImage at 0x7f39659cdbb0>"
      ]
     },
     "execution_count": 93,
     "metadata": {},
     "output_type": "execute_result"
    },
    {
     "data": {
      "image/png": "[encoded data removed]",
      "text/plain": [
       "<Figure size 640x480 with 1 Axes>"
      ]
     },
     "metadata": {},
     "output_type": "display_data"
    }
   ],
   "source": [
    "#convoltional is different from other methods\n",
    "plt.axis('off')\n",
    "plt.title(\"galaxy mostly classified as star\")\n",
    "plt.imshow(-image_test[1092,0,:,:].T,cmap=cm.gray, interpolation='nearest')"
   ]
  },
  {
   "cell_type": "code",
   "execution_count": 97,
   "id": "f12cdb66",
   "metadata": {},
   "outputs": [
    {
     "data": {
      "text/plain": [
       "<matplotlib.image.AxesImage at 0x7f396590c4c0>"
      ]
     },
     "execution_count": 97,
     "metadata": {},
     "output_type": "execute_result"
    },
    {
     "data": {
      "image/png": "[encoded data removed]",
      "text/plain": [
       "<Figure size 640x480 with 1 Axes>"
      ]
     },
     "metadata": {},
     "output_type": "display_data"
    }
   ],
   "source": [
    "#logistic and convoltional disagree\n",
    "plt.axis('off')\n",
    "plt.title(\"galaxy more classified as stars\")\n",
    "plt.imshow(-image_test[1125,0,:,:].T,cmap=cm.gray, interpolation='nearest')"
   ]
  },
  {
   "cell_type": "code",
   "execution_count": 88,
   "id": "1e1ee228",
   "metadata": {},
   "outputs": [
    {
     "data": {
      "text/plain": [
       "<matplotlib.image.AxesImage at 0x7f396f37edc0>"
      ]
     },
     "execution_count": 88,
     "metadata": {},
     "output_type": "execute_result"
    },
    {
     "data": {
      "image/png": "[encoded data removed]",
      "text/plain": [
       "<Figure size 640x480 with 1 Axes>"
      ]
     },
     "metadata": {},
     "output_type": "display_data"
    }
   ],
   "source": [
    "plt.axis('off')\n",
    "plt.title(\"star classified as galaxy\")\n",
    "plt.imshow(-image_test[1131,0,:,:].T,cmap=cm.gray, interpolation='nearest')"
   ]
  },
  {
   "cell_type": "code",
   "execution_count": 98,
   "id": "47a52651",
   "metadata": {},
   "outputs": [
    {
     "data": {
      "text/plain": [
       "<matplotlib.image.AxesImage at 0x7f39658c5b80>"
      ]
     },
     "execution_count": 98,
     "metadata": {},
     "output_type": "execute_result"
    },
    {
     "data": {
      "image/png": "[encoded data removed]",
      "text/plain": [
       "<Figure size 640x480 with 1 Axes>"
      ]
     },
     "metadata": {},
     "output_type": "display_data"
    }
   ],
   "source": [
    "#logistic and convoltional disagree\n",
    "plt.axis('off')\n",
    "plt.title(\"galaxy more classified as star\")\n",
    "plt.imshow(-image_test[1151,0,:,:].T,cmap=cm.gray, interpolation='nearest')"
   ]
  },
  {
   "cell_type": "code",
   "execution_count": 85,
   "id": "d9a853c5",
   "metadata": {},
   "outputs": [
    {
     "data": {
      "text/plain": [
       "<matplotlib.image.AxesImage at 0x7f39662a9b80>"
      ]
     },
     "execution_count": 85,
     "metadata": {},
     "output_type": "execute_result"
    },
    {
     "data": {
      "image/png": "[encoded data removed]",
      "text/plain": [
       "<Figure size 640x480 with 1 Axes>"
      ]
     },
     "metadata": {},
     "output_type": "display_data"
    }
   ],
   "source": [
    "plt.axis('off')\n",
    "plt.title(\"galaxy classified as star\")\n",
    "plt.imshow(-image_test[1289,0,:,:].T,cmap=cm.gray, interpolation='nearest')"
   ]
  },
  {
   "cell_type": "markdown",
   "id": "41745f3c",
   "metadata": {},
   "source": [
    "The one above look rather normal compact, there few if at all obvious galaxies to the eye.\n",
    "All of those look rather round per eye and when there are differences it is in the level of concentration. The human eye is not particularly good in finding that. Thus looking on the images does not help. Algorothm are better. \n",
    "\n",
    "The sample is possible too small to find the reason. I could also look on shape based parameters like moments later but also for that sample is likely too small currently. "
   ]
  }
 ],
 "metadata": {
  "kernelspec": {
   "display_name": "Python 3 (ipykernel)",
   "language": "python",
   "name": "python3"
  },
  "language_info": {
   "codemirror_mode": {
    "name": "ipython",
    "version": 3
   },
   "file_extension": ".py",
   "mimetype": "text/x-python",
   "name": "python",
   "nbconvert_exporter": "python",
   "pygments_lexer": "ipython3",
   "version": "3.8.15"
  }
 },
 "nbformat": 4,
 "nbformat_minor": 5
}
